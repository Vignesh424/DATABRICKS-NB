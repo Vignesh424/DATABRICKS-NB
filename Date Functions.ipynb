{
 "cells": [
  {
   "cell_type": "code",
   "execution_count": 0,
   "metadata": {
    "application/vnd.databricks.v1+cell": {
     "cellMetadata": {
      "byteLimit": 2048000,
      "rowLimit": 10000
     },
     "inputWidgets": {},
     "nuid": "3643013a-19e5-4ae6-8d22-605bca2d5dc0",
     "showTitle": false,
     "tableResultSettingsMap": {},
     "title": ""
    }
   },
   "outputs": [],
   "source": [
    "from pyspark.sql import functions as f\n",
    "from pyspark.sql import SparkSession\n",
    "from pyspark.sql.functions import * \n",
    "import pyspark"
   ]
  },
  {
   "cell_type": "code",
   "execution_count": 0,
   "metadata": {
    "application/vnd.databricks.v1+cell": {
     "cellMetadata": {
      "byteLimit": 2048000,
      "rowLimit": 10000
     },
     "inputWidgets": {},
     "nuid": "418b15f4-0a4d-491d-913c-e33b6abbae3d",
     "showTitle": false,
     "tableResultSettingsMap": {},
     "title": ""
    }
   },
   "outputs": [
    {
     "output_type": "stream",
     "name": "stdout",
     "output_type": "stream",
     "text": [
      "+---+------------+\n| id|current_date|\n+---+------------+\n|  1|  2025-04-20|\n+---+------------+\n\n"
     ]
    }
   ],
   "source": [
    "spark = SparkSession.builder.appName(\"example\").getOrCreate()\n",
    "# Create a DataFrame with the current date\n",
    "df = spark.createDataFrame([(1,)], [\"id\"]).withColumn(\"current_date\", current_date())\n",
    "df.show()"
   ]
  },
  {
   "cell_type": "code",
   "execution_count": 0,
   "metadata": {
    "application/vnd.databricks.v1+cell": {
     "cellMetadata": {
      "byteLimit": 2048000,
      "rowLimit": 10000
     },
     "inputWidgets": {},
     "nuid": "33721ffc-210c-4d74-aff9-fb6b7f3430dd",
     "showTitle": false,
     "tableResultSettingsMap": {},
     "title": ""
    }
   },
   "outputs": [
    {
     "output_type": "stream",
     "name": "stdout",
     "output_type": "stream",
     "text": [
      "+---+------------+----+\n| id|current_date|Year|\n+---+------------+----+\n|  1|  2025-04-20|2025|\n+---+------------+----+\n\n"
     ]
    }
   ],
   "source": [
    "#Get the Year of the Current Date\n",
    "s1 = df.withColumn('Year', year(df['current_date'])).show()"
   ]
  },
  {
   "cell_type": "code",
   "execution_count": 0,
   "metadata": {
    "application/vnd.databricks.v1+cell": {
     "cellMetadata": {
      "byteLimit": 2048000,
      "rowLimit": 10000
     },
     "inputWidgets": {},
     "nuid": "57f14e2d-6f40-4e5b-ab57-49b4d8b8fc2d",
     "showTitle": false,
     "tableResultSettingsMap": {},
     "title": ""
    }
   },
   "outputs": [
    {
     "output_type": "stream",
     "name": "stdout",
     "output_type": "stream",
     "text": [
      "+---+------------+----------+\n| id|current_date|    5 Days|\n+---+------------+----------+\n|  1|  2025-04-20|2025-04-25|\n+---+------------+----------+\n\n"
     ]
    }
   ],
   "source": [
    "#What will be five days from today\n",
    "s2 = df.withColumn('5 Days', date_add(df['current_date'],5)).show()"
   ]
  },
  {
   "cell_type": "code",
   "execution_count": 0,
   "metadata": {
    "application/vnd.databricks.v1+cell": {
     "cellMetadata": {
      "byteLimit": 2048000,
      "rowLimit": 10000
     },
     "inputWidgets": {},
     "nuid": "ceca2249-5c28-4a2f-8409-a05c047b4a3a",
     "showTitle": false,
     "tableResultSettingsMap": {},
     "title": ""
    }
   },
   "outputs": [
    {
     "output_type": "stream",
     "name": "stdout",
     "output_type": "stream",
     "text": [
      "+---+------------+-------------+\n| id|current_date|5 days before|\n+---+------------+-------------+\n|  1|  2025-04-20|   2025-04-15|\n+---+------------+-------------+\n\n"
     ]
    }
   ],
   "source": [
    "#What was the date 5 days before\n",
    "s3 = df.withColumn('5 days before', date_sub(df['current_date'],5)).show()"
   ]
  },
  {
   "cell_type": "code",
   "execution_count": 0,
   "metadata": {
    "application/vnd.databricks.v1+cell": {
     "cellMetadata": {
      "byteLimit": 2048000,
      "rowLimit": 10000
     },
     "inputWidgets": {},
     "nuid": "e8158ac7-1498-4dca-ae95-518539452e2d",
     "showTitle": false,
     "tableResultSettingsMap": {},
     "title": ""
    }
   },
   "outputs": [
    {
     "output_type": "stream",
     "name": "stdout",
     "output_type": "stream",
     "text": [
      "+---+------------+----------+\n| id|current_date| First Day|\n+---+------------+----------+\n|  1|  2025-04-20|2025-04-01|\n+---+------------+----------+\n\n"
     ]
    }
   ],
   "source": [
    "#1 day of the current date\n",
    "s4 = df.withColumn('First Day',trunc(df['current_date'],format('month'))).show()"
   ]
  },
  {
   "cell_type": "code",
   "execution_count": 0,
   "metadata": {
    "application/vnd.databricks.v1+cell": {
     "cellMetadata": {
      "byteLimit": 2048000,
      "rowLimit": 10000
     },
     "inputWidgets": {},
     "nuid": "a2b6ccd4-1df4-4252-858b-cbc73d561c6b",
     "showTitle": false,
     "tableResultSettingsMap": {},
     "title": ""
    }
   },
   "outputs": [
    {
     "output_type": "stream",
     "name": "stdout",
     "output_type": "stream",
     "text": [
      "+---+------------+----------+\n| id|current_date|  3 Months|\n+---+------------+----------+\n|  1|  2025-04-20|2025-07-20|\n+---+------------+----------+\n\n"
     ]
    }
   ],
   "source": [
    "#What is the date 3 months from today\n",
    "s5 = df.withColumn('3 Months', add_months(df['current_date'],3)).show()"
   ]
  },
  {
   "cell_type": "code",
   "execution_count": 0,
   "metadata": {
    "application/vnd.databricks.v1+cell": {
     "cellMetadata": {
      "byteLimit": 2048000,
      "rowLimit": 10000
     },
     "inputWidgets": {},
     "nuid": "671a0466-ff8c-40ef-83c3-773047c9411a",
     "showTitle": false,
     "tableResultSettingsMap": {},
     "title": ""
    }
   },
   "outputs": [
    {
     "output_type": "stream",
     "name": "stdout",
     "output_type": "stream",
     "text": [
      "+---+------------+---------------+\n| id|current_date|1 year 6 Months|\n+---+------------+---------------+\n|  1|  2025-04-20|     2025-10-20|\n+---+------------+---------------+\n\n"
     ]
    }
   ],
   "source": [
    "#If you move ahead 1 year and then subtract 6 months from today’s date, where do you land?\n",
    "\n",
    "s6 = df.withColumn('1 year 6 Months', \n",
    "                   add_months(add_months(df['current_date'],12),-6)).show()\n",
    "\n"
   ]
  },
  {
   "cell_type": "code",
   "execution_count": 0,
   "metadata": {
    "application/vnd.databricks.v1+cell": {
     "cellMetadata": {
      "byteLimit": 2048000,
      "rowLimit": 10000
     },
     "inputWidgets": {},
     "nuid": "8f3cb617-4804-4205-9195-fd6bc99fde89",
     "showTitle": false,
     "tableResultSettingsMap": {},
     "title": ""
    }
   },
   "outputs": [
    {
     "output_type": "stream",
     "name": "stdout",
     "output_type": "stream",
     "text": [
      "+---+------------+----------+\n| id|current_date|  100 days|\n+---+------------+----------+\n|  1|  2025-04-20|2025-07-29|\n+---+------------+----------+\n\n"
     ]
    }
   ],
   "source": [
    "#Find the date 100 days after today.\n",
    "s7 = df.withColumn('100 days',date_add(df['current_date'],100)).show()"
   ]
  },
  {
   "cell_type": "markdown",
   "metadata": {
    "application/vnd.databricks.v1+cell": {
     "cellMetadata": {},
     "inputWidgets": {},
     "nuid": "b22f7a38-53d0-4fcc-9126-e477674190c0",
     "showTitle": false,
     "tableResultSettingsMap": {},
     "title": ""
    }
   },
   "source": [
    "**Day 2**"
   ]
  },
  {
   "cell_type": "code",
   "execution_count": 0,
   "metadata": {
    "application/vnd.databricks.v1+cell": {
     "cellMetadata": {
      "byteLimit": 2048000,
      "rowLimit": 10000
     },
     "inputWidgets": {},
     "nuid": "77a11ea5-2e9c-4487-a6ce-883bc3fd532b",
     "showTitle": false,
     "tableResultSettingsMap": {},
     "title": ""
    }
   },
   "outputs": [
    {
     "output_type": "stream",
     "name": "stdout",
     "output_type": "stream",
     "text": [
      "+---+------------+----------+\n| id|current_date|  Next Day|\n+---+------------+----------+\n|  1|  2025-04-20|2025-04-21|\n+---+------------+----------+\n\n"
     ]
    }
   ],
   "source": [
    "#What is the next day after the current date?\n",
    "s1 = df.withColumn('Next Day', date_add(df['current_date'],1)).show()\n"
   ]
  },
  {
   "cell_type": "code",
   "execution_count": 0,
   "metadata": {
    "application/vnd.databricks.v1+cell": {
     "cellMetadata": {
      "byteLimit": 2048000,
      "rowLimit": 10000
     },
     "inputWidgets": {},
     "nuid": "a763bf55-888f-46f2-8a98-d2dfb28eec05",
     "showTitle": false,
     "tableResultSettingsMap": {},
     "title": ""
    }
   },
   "outputs": [
    {
     "output_type": "stream",
     "name": "stdout",
     "output_type": "stream",
     "text": [
      "+---+------------+------------+\n| id|current_date|Previous Day|\n+---+------------+------------+\n|  1|  2025-04-20|  2025-04-19|\n+---+------------+------------+\n\n"
     ]
    }
   ],
   "source": [
    "#What is the previous day before the current date?\n",
    "s2 = df.withColumn('Previous Day', date_sub(df['current_date'],1)).show()"
   ]
  },
  {
   "cell_type": "code",
   "execution_count": 0,
   "metadata": {
    "application/vnd.databricks.v1+cell": {
     "cellMetadata": {
      "byteLimit": 2048000,
      "rowLimit": 10000
     },
     "inputWidgets": {},
     "nuid": "67046950-6660-4cdd-9a93-1685df2d9b16",
     "showTitle": false,
     "tableResultSettingsMap": {},
     "title": ""
    }
   },
   "outputs": [
    {
     "output_type": "stream",
     "name": "stdout",
     "output_type": "stream",
     "text": [
      "+---+------------+-------------+\n| id|current_date|10 days after|\n+---+------------+-------------+\n|  1|  2025-04-20|   2025-04-30|\n+---+------------+-------------+\n\n"
     ]
    }
   ],
   "source": [
    "#What will be 10 days after current date\n",
    "s3 = df.withColumn('10 days after', date_add(df['current_date'],10)).show()"
   ]
  },
  {
   "cell_type": "code",
   "execution_count": 0,
   "metadata": {
    "application/vnd.databricks.v1+cell": {
     "cellMetadata": {
      "byteLimit": 2048000,
      "rowLimit": 10000
     },
     "inputWidgets": {},
     "nuid": "f3c146ac-8457-4a72-89a2-fe95e1d05778",
     "showTitle": false,
     "tableResultSettingsMap": {},
     "title": ""
    }
   },
   "outputs": [
    {
     "output_type": "stream",
     "name": "stdout",
     "output_type": "stream",
     "text": [
      "Column<'datediff(last_day(current_date), current_date)'>\n"
     ]
    }
   ],
   "source": [
    "#How many days are left until the end of the month?\n",
    "s41 = df['current_date']\n",
    "s42 = last_day(df['current_date'])\n",
    "s4 = datediff(s42,s41)\n",
    "print(s4)\n"
   ]
  },
  {
   "cell_type": "code",
   "execution_count": 0,
   "metadata": {
    "application/vnd.databricks.v1+cell": {
     "cellMetadata": {
      "byteLimit": 2048000,
      "rowLimit": 10000
     },
     "inputWidgets": {},
     "nuid": "5409447b-5c65-4994-b83c-a9573456b07f",
     "showTitle": false,
     "tableResultSettingsMap": {},
     "title": ""
    }
   },
   "outputs": [
    {
     "output_type": "stream",
     "name": "stdout",
     "output_type": "stream",
     "text": [
      "+---+------------+--------------+\n| id|current_date|15 days before|\n+---+------------+--------------+\n|  1|  2025-04-20|    2025-04-05|\n+---+------------+--------------+\n\n"
     ]
    }
   ],
   "source": [
    "#15 Days before current Date\n",
    "s5 = df.withColumn('15 days before',date_sub(df['current_date'],15)).show()"
   ]
  },
  {
   "cell_type": "code",
   "execution_count": 0,
   "metadata": {
    "application/vnd.databricks.v1+cell": {
     "cellMetadata": {
      "byteLimit": 2048000,
      "rowLimit": 10000
     },
     "inputWidgets": {},
     "nuid": "784fdd1f-b54c-420c-b7bc-a0d49ae62abf",
     "showTitle": false,
     "tableResultSettingsMap": {},
     "title": ""
    }
   },
   "outputs": [
    {
     "output_type": "stream",
     "name": "stdout",
     "output_type": "stream",
     "text": [
      "+---+------------+--------------+\n| id|current_date|6 months after|\n+---+------------+--------------+\n|  1|  2025-04-20|    2025-10-20|\n+---+------------+--------------+\n\n"
     ]
    }
   ],
   "source": [
    "#If today is the current date, what date will it be 6 months from now?\n",
    "s6 = df.withColumn('6 months after', add_months(df['current_date'],6)).show()"
   ]
  },
  {
   "cell_type": "code",
   "execution_count": 0,
   "metadata": {
    "application/vnd.databricks.v1+cell": {
     "cellMetadata": {
      "byteLimit": 2048000,
      "rowLimit": 10000
     },
     "inputWidgets": {},
     "nuid": "b84947df-2c26-462a-84bc-d3297f065850",
     "showTitle": false,
     "tableResultSettingsMap": {},
     "title": ""
    }
   },
   "outputs": [
    {
     "output_type": "stream",
     "name": "stdout",
     "output_type": "stream",
     "text": [
      "+---+------------+--------------+\n| id|current_date|50 days before|\n+---+------------+--------------+\n|  1|  2025-04-20|    2025-03-01|\n+---+------------+--------------+\n\n"
     ]
    }
   ],
   "source": [
    "#If I subtract 50 from current date, what is the date\n",
    "s7 = df.withColumn('50 days before', date_sub(df['current_date'],50)).show()"
   ]
  },
  {
   "cell_type": "code",
   "execution_count": 0,
   "metadata": {
    "application/vnd.databricks.v1+cell": {
     "cellMetadata": {
      "byteLimit": 2048000,
      "rowLimit": 10000
     },
     "inputWidgets": {},
     "nuid": "ab7cec40-00fd-4d7d-86a7-ba6b9368c7f9",
     "showTitle": false,
     "tableResultSettingsMap": {},
     "title": ""
    }
   },
   "outputs": [
    {
     "output_type": "stream",
     "name": "stdout",
     "output_type": "stream",
     "text": [
      "+---+------------+----------+\n| id|current_date|   2 Years|\n+---+------------+----------+\n|  1|  2025-04-20|2027-04-20|\n+---+------------+----------+\n\n"
     ]
    }
   ],
   "source": [
    "#What will be 2 years after current date\n",
    "s8 =df.withColumn('2 Years',add_months(df['current_date'],24)).show()"
   ]
  },
  {
   "cell_type": "code",
   "execution_count": 0,
   "metadata": {
    "application/vnd.databricks.v1+cell": {
     "cellMetadata": {},
     "inputWidgets": {},
     "nuid": "198148d5-2d3d-491d-b3a1-3239da4de0cc",
     "showTitle": false,
     "tableResultSettingsMap": {},
     "title": ""
    }
   },
   "outputs": [],
   "source": []
  }
 ],
 "metadata": {
  "application/vnd.databricks.v1+notebook": {
   "computePreferences": null,
   "dashboards": [],
   "environmentMetadata": {
    "base_environment": "",
    "environment_version": "1"
   },
   "inputWidgetPreferences": null,
   "language": "python",
   "notebookMetadata": {
    "pythonIndentUnit": 4
   },
   "notebookName": "Date Functions",
   "widgets": {}
  }
 },
 "nbformat": 4,
 "nbformat_minor": 0
}