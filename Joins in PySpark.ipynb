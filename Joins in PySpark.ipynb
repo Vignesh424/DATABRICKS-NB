{
 "cells": [
  {
   "cell_type": "code",
   "execution_count": 0,
   "metadata": {
    "application/vnd.databricks.v1+cell": {
     "cellMetadata": {
      "byteLimit": 2048000,
      "rowLimit": 10000
     },
     "inputWidgets": {},
     "nuid": "a5070fb5-403d-49a5-945e-791d2eb06f15",
     "showTitle": false,
     "tableResultSettingsMap": {},
     "title": ""
    }
   },
   "outputs": [
    {
     "output_type": "display_data",
     "data": {
      "text/html": [
       "<style scoped>\n",
       "  .table-result-container {\n",
       "    max-height: 300px;\n",
       "    overflow: auto;\n",
       "  }\n",
       "  table, th, td {\n",
       "    border: 1px solid black;\n",
       "    border-collapse: collapse;\n",
       "  }\n",
       "  th, td {\n",
       "    padding: 5px;\n",
       "  }\n",
       "  th {\n",
       "    text-align: left;\n",
       "  }\n",
       "</style><div class='table-result-container'><table class='table-result'><thead style='background-color: white'><tr><th>employee_ID</th><th>employee_Name</th><th>department_ID</th></tr></thead><tbody><tr><td>E1</td><td>Ramesh</td><td>D1</td></tr><tr><td>E2</td><td>Sanjay</td><td>D2</td></tr><tr><td>E3</td><td>Fatima</td><td>D1</td></tr></tbody></table></div>"
      ]
     },
     "metadata": {
      "application/vnd.databricks.v1+output": {
       "addedWidgets": {},
       "aggData": [],
       "aggError": "",
       "aggOverflow": false,
       "aggSchema": [],
       "aggSeriesLimitReached": false,
       "aggType": "",
       "arguments": {},
       "columnCustomDisplayInfos": {},
       "data": [
        [
         "E1",
         "Ramesh",
         "D1"
        ],
        [
         "E2",
         "Sanjay",
         "D2"
        ],
        [
         "E3",
         "Fatima",
         "D1"
        ]
       ],
       "datasetInfos": [],
       "dbfsResultPath": null,
       "isJsonSchema": true,
       "metadata": {},
       "overflow": false,
       "plotOptions": {
        "customPlotOptions": {},
        "displayType": "table",
        "pivotAggregation": null,
        "pivotColumns": null,
        "xColumns": null,
        "yColumns": null
       },
       "removedWidgets": [],
       "schema": [
        {
         "metadata": "{}",
         "name": "employee_ID",
         "type": "\"string\""
        },
        {
         "metadata": "{}",
         "name": "employee_Name",
         "type": "\"string\""
        },
        {
         "metadata": "{}",
         "name": "department_ID",
         "type": "\"string\""
        }
       ],
       "type": "table"
      }
     },
     "output_type": "display_data"
    }
   ],
   "source": [
    "from pyspark.sql import *\n",
    "import pyspark\n",
    "\n",
    "spark = SparkSession.builder.appName('Joins').getOrCreate()\n",
    "\n",
    "data = (['E1','Ramesh','D1'],['E2','Sanjay', 'D2'],['E3','Fatima','D1'])\n",
    "schema = ['employee_ID', 'employee_Name', 'department_ID']\n",
    "emp_df = spark.createDataFrame(data, schema)\n",
    "display(emp_df)"
   ]
  },
  {
   "cell_type": "code",
   "execution_count": 0,
   "metadata": {
    "application/vnd.databricks.v1+cell": {
     "cellMetadata": {
      "byteLimit": 2048000,
      "rowLimit": 10000
     },
     "inputWidgets": {},
     "nuid": "791a0502-f541-4541-8e89-599d40442f07",
     "showTitle": false,
     "tableResultSettingsMap": {},
     "title": ""
    }
   },
   "outputs": [
    {
     "output_type": "display_data",
     "data": {
      "text/html": [
       "<style scoped>\n",
       "  .table-result-container {\n",
       "    max-height: 300px;\n",
       "    overflow: auto;\n",
       "  }\n",
       "  table, th, td {\n",
       "    border: 1px solid black;\n",
       "    border-collapse: collapse;\n",
       "  }\n",
       "  th, td {\n",
       "    padding: 5px;\n",
       "  }\n",
       "  th {\n",
       "    text-align: left;\n",
       "  }\n",
       "</style><div class='table-result-container'><table class='table-result'><thead style='background-color: white'><tr><th>department_ID</th><th>department_Name</th></tr></thead><tbody><tr><td>D1</td><td>Sales</td></tr><tr><td>D2</td><td>HR</td></tr></tbody></table></div>"
      ]
     },
     "metadata": {
      "application/vnd.databricks.v1+output": {
       "addedWidgets": {},
       "aggData": [],
       "aggError": "",
       "aggOverflow": false,
       "aggSchema": [],
       "aggSeriesLimitReached": false,
       "aggType": "",
       "arguments": {},
       "columnCustomDisplayInfos": {},
       "data": [
        [
         "D1",
         "Sales"
        ],
        [
         "D2",
         "HR"
        ]
       ],
       "datasetInfos": [],
       "dbfsResultPath": null,
       "isJsonSchema": true,
       "metadata": {},
       "overflow": false,
       "plotOptions": {
        "customPlotOptions": {},
        "displayType": "table",
        "pivotAggregation": null,
        "pivotColumns": null,
        "xColumns": null,
        "yColumns": null
       },
       "removedWidgets": [],
       "schema": [
        {
         "metadata": "{}",
         "name": "department_ID",
         "type": "\"string\""
        },
        {
         "metadata": "{}",
         "name": "department_Name",
         "type": "\"string\""
        }
       ],
       "type": "table"
      }
     },
     "output_type": "display_data"
    }
   ],
   "source": [
    "data2 = (['D1','Sales'],['D2','HR'])\n",
    "schema = ['department_ID', 'department_Name']\n",
    "dept_df = spark.createDataFrame(data2, schema)\n",
    "display(dept_df)"
   ]
  },
  {
   "cell_type": "code",
   "execution_count": 0,
   "metadata": {
    "application/vnd.databricks.v1+cell": {
     "cellMetadata": {
      "byteLimit": 2048000,
      "rowLimit": 10000
     },
     "inputWidgets": {},
     "nuid": "a4312272-8449-4eab-b788-62f91f2aa5c4",
     "showTitle": false,
     "tableResultSettingsMap": {},
     "title": ""
    }
   },
   "outputs": [
    {
     "output_type": "stream",
     "name": "stdout",
     "output_type": "stream",
     "text": [
      "+-----------+-------------+-------------+-------------+---------------+\n|employee_ID|employee_Name|department_ID|department_ID|department_Name|\n+-----------+-------------+-------------+-------------+---------------+\n|         E1|       Ramesh|           D1|           D1|          Sales|\n|         E3|       Fatima|           D1|           D1|          Sales|\n|         E2|       Sanjay|           D2|           D2|             HR|\n+-----------+-------------+-------------+-------------+---------------+\n\n"
     ]
    }
   ],
   "source": [
    "#Inner Join\n",
    "emp_df.join(dept_df, emp_df.department_ID == dept_df.department_ID, \"inner\").show()\n"
   ]
  },
  {
   "cell_type": "code",
   "execution_count": 0,
   "metadata": {
    "application/vnd.databricks.v1+cell": {
     "cellMetadata": {
      "byteLimit": 2048000,
      "rowLimit": 10000
     },
     "inputWidgets": {},
     "nuid": "74943621-903b-4386-9164-a2403d3bf1fb",
     "showTitle": false,
     "tableResultSettingsMap": {},
     "title": ""
    }
   },
   "outputs": [
    {
     "output_type": "stream",
     "name": "stdout",
     "output_type": "stream",
     "text": [
      "+-----------+-------------+-------------+-------------+---------------+\n|employee_ID|employee_Name|department_ID|department_ID|department_Name|\n+-----------+-------------+-------------+-------------+---------------+\n|         E1|       Ramesh|           D1|           D1|          Sales|\n|         E2|       Sanjay|           D2|           D2|             HR|\n|         E3|       Fatima|           D1|           D1|          Sales|\n+-----------+-------------+-------------+-------------+---------------+\n\n"
     ]
    }
   ],
   "source": [
    "#Left Join\n",
    "emp_df.join(dept_df, emp_df.department_ID == dept_df.department_ID, \"left\").show()\n"
   ]
  },
  {
   "cell_type": "code",
   "execution_count": 0,
   "metadata": {
    "application/vnd.databricks.v1+cell": {
     "cellMetadata": {
      "byteLimit": 2048000,
      "rowLimit": 10000
     },
     "inputWidgets": {},
     "nuid": "e874e59e-b4c0-475b-a8ad-ce0c8ad85100",
     "showTitle": false,
     "tableResultSettingsMap": {},
     "title": ""
    }
   },
   "outputs": [
    {
     "output_type": "stream",
     "name": "stdout",
     "output_type": "stream",
     "text": [
      "+-----------+-------------+-------------+-------------+---------------+\n|employee_ID|employee_Name|department_ID|department_ID|department_Name|\n+-----------+-------------+-------------+-------------+---------------+\n|         E3|       Fatima|           D1|           D1|          Sales|\n|         E1|       Ramesh|           D1|           D1|          Sales|\n|         E2|       Sanjay|           D2|           D2|             HR|\n+-----------+-------------+-------------+-------------+---------------+\n\n"
     ]
    }
   ],
   "source": [
    "#Right Join\n",
    "emp_df.join(dept_df, emp_df.department_ID == dept_df.department_ID, \"right\").show()\n"
   ]
  },
  {
   "cell_type": "code",
   "execution_count": 0,
   "metadata": {
    "application/vnd.databricks.v1+cell": {
     "cellMetadata": {
      "byteLimit": 2048000,
      "rowLimit": 10000
     },
     "inputWidgets": {},
     "nuid": "ee78ebf6-d1da-44a4-bbd2-a0770ca7dbe8",
     "showTitle": false,
     "tableResultSettingsMap": {},
     "title": ""
    }
   },
   "outputs": [
    {
     "output_type": "stream",
     "name": "stdout",
     "output_type": "stream",
     "text": [
      "+-----------+-------------+-------------+-------------+---------------+\n|employee_ID|employee_Name|department_ID|department_ID|department_Name|\n+-----------+-------------+-------------+-------------+---------------+\n|         E1|       Ramesh|           D1|           D1|          Sales|\n|         E3|       Fatima|           D1|           D1|          Sales|\n|         E2|       Sanjay|           D2|           D2|             HR|\n+-----------+-------------+-------------+-------------+---------------+\n\n"
     ]
    }
   ],
   "source": [
    "#Outer Join\n",
    "emp_df.join(dept_df, emp_df.department_ID == dept_df.department_ID, \"outer\").show()\n"
   ]
  },
  {
   "cell_type": "code",
   "execution_count": 0,
   "metadata": {
    "application/vnd.databricks.v1+cell": {
     "cellMetadata": {
      "byteLimit": 2048000,
      "rowLimit": 10000
     },
     "inputWidgets": {},
     "nuid": "e9a64112-1fb7-4960-aa65-320bfed5b7fb",
     "showTitle": false,
     "tableResultSettingsMap": {},
     "title": ""
    }
   },
   "outputs": [
    {
     "output_type": "stream",
     "name": "stdout",
     "output_type": "stream",
     "text": [
      "+-----------+-------------+-------------+-------------+---------------+\n|employee_ID|employee_Name|department_ID|department_ID|department_Name|\n+-----------+-------------+-------------+-------------+---------------+\n|         E1|       Ramesh|           D1|           D1|          Sales|\n|         E2|       Sanjay|           D2|           D2|             HR|\n|         E3|       Fatima|           D1|           D1|          Sales|\n+-----------+-------------+-------------+-------------+---------------+\n\n"
     ]
    }
   ],
   "source": [
    "#Left Outer Join\n",
    "emp_df.join(dept_df, emp_df.department_ID == dept_df.department_ID, \"leftouter\").show()\n"
   ]
  },
  {
   "cell_type": "code",
   "execution_count": 0,
   "metadata": {
    "application/vnd.databricks.v1+cell": {
     "cellMetadata": {
      "byteLimit": 2048000,
      "rowLimit": 10000
     },
     "inputWidgets": {},
     "nuid": "a1ebc443-4581-45b0-b83a-351b4a5bbb0e",
     "showTitle": false,
     "tableResultSettingsMap": {},
     "title": ""
    }
   },
   "outputs": [
    {
     "output_type": "stream",
     "name": "stdout",
     "output_type": "stream",
     "text": [
      "+-----------+-------------+-------------+-------------+---------------+\n|employee_ID|employee_Name|department_ID|department_ID|department_Name|\n+-----------+-------------+-------------+-------------+---------------+\n|         E3|       Fatima|           D1|           D1|          Sales|\n|         E1|       Ramesh|           D1|           D1|          Sales|\n|         E2|       Sanjay|           D2|           D2|             HR|\n+-----------+-------------+-------------+-------------+---------------+\n\n"
     ]
    }
   ],
   "source": [
    "#Right Outer Join\n",
    "emp_df.join(dept_df, emp_df.department_ID == dept_df.department_ID, \"rightouter\").show()\n"
   ]
  },
  {
   "cell_type": "code",
   "execution_count": 0,
   "metadata": {
    "application/vnd.databricks.v1+cell": {
     "cellMetadata": {
      "byteLimit": 2048000,
      "rowLimit": 10000
     },
     "inputWidgets": {},
     "nuid": "bcc056c0-ce0a-4756-951f-a906727ed565",
     "showTitle": false,
     "tableResultSettingsMap": {},
     "title": ""
    }
   },
   "outputs": [
    {
     "output_type": "stream",
     "name": "stdout",
     "output_type": "stream",
     "text": [
      "+-----------+-------------+-------------+-------------+---------------+\n|employee_ID|employee_Name|department_ID|department_ID|department_Name|\n+-----------+-------------+-------------+-------------+---------------+\n|         E1|       Ramesh|           D1|           D1|          Sales|\n|         E3|       Fatima|           D1|           D1|          Sales|\n|         E2|       Sanjay|           D2|           D2|             HR|\n+-----------+-------------+-------------+-------------+---------------+\n\n"
     ]
    }
   ],
   "source": [
    "#Full Outer Join\n",
    "emp_df.join(dept_df, emp_df.department_ID == dept_df.department_ID, \"fullouter\").show()\n"
   ]
  },
  {
   "cell_type": "code",
   "execution_count": 0,
   "metadata": {
    "application/vnd.databricks.v1+cell": {
     "cellMetadata": {
      "byteLimit": 2048000,
      "rowLimit": 10000
     },
     "inputWidgets": {},
     "nuid": "8914956f-e1b0-483b-8acf-51b1db604187",
     "showTitle": false,
     "tableResultSettingsMap": {},
     "title": ""
    }
   },
   "outputs": [
    {
     "output_type": "stream",
     "name": "stdout",
     "output_type": "stream",
     "text": [
      "+-----------+-------------+-------------+\n|employee_ID|employee_Name|department_ID|\n+-----------+-------------+-------------+\n+-----------+-------------+-------------+\n\n"
     ]
    }
   ],
   "source": [
    "#Left Anti Join\n",
    "emp_df.join(dept_df, emp_df.department_ID == dept_df.department_ID, \"leftanti\").show()\n"
   ]
  },
  {
   "cell_type": "code",
   "execution_count": 0,
   "metadata": {
    "application/vnd.databricks.v1+cell": {
     "cellMetadata": {
      "byteLimit": 2048000,
      "rowLimit": 10000
     },
     "inputWidgets": {},
     "nuid": "79a73dc7-9b2b-4e23-8911-fe4f1501e330",
     "showTitle": false,
     "tableResultSettingsMap": {},
     "title": ""
    }
   },
   "outputs": [
    {
     "output_type": "stream",
     "name": "stdout",
     "output_type": "stream",
     "text": [
      "+-----------+-------------+-------------+\n|employee_ID|employee_Name|department_ID|\n+-----------+-------------+-------------+\n|         E1|       Ramesh|           D1|\n|         E3|       Fatima|           D1|\n|         E2|       Sanjay|           D2|\n+-----------+-------------+-------------+\n\n"
     ]
    }
   ],
   "source": [
    "#Left Semi\n",
    "emp_df.join(dept_df, emp_df.department_ID == dept_df.department_ID, \"leftsemi\").show()\n"
   ]
  },
  {
   "cell_type": "code",
   "execution_count": 0,
   "metadata": {
    "application/vnd.databricks.v1+cell": {
     "cellMetadata": {},
     "inputWidgets": {},
     "nuid": "adce0c19-9683-48c1-aec7-ff8f80c41870",
     "showTitle": false,
     "tableResultSettingsMap": {},
     "title": ""
    }
   },
   "outputs": [],
   "source": []
  }
 ],
 "metadata": {
  "application/vnd.databricks.v1+notebook": {
   "computePreferences": null,
   "dashboards": [],
   "environmentMetadata": {
    "base_environment": "",
    "environment_version": "1"
   },
   "inputWidgetPreferences": null,
   "language": "python",
   "notebookMetadata": {
    "pythonIndentUnit": 4
   },
   "notebookName": "Joins in PySpark",
   "widgets": {}
  }
 },
 "nbformat": 4,
 "nbformat_minor": 0
}