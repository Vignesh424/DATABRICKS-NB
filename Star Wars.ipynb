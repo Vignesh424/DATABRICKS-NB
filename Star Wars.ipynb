{
 "cells": [
  {
   "cell_type": "markdown",
   "metadata": {
    "application/vnd.databricks.v1+cell": {
     "cellMetadata": {
      "byteLimit": 2048000,
      "rowLimit": 10000
     },
     "inputWidgets": {},
     "nuid": "96816ed7-b08a-4ca3-abb9-f99880c3535d",
     "showTitle": false,
     "tableResultSettingsMap": {},
     "title": ""
    }
   },
   "source": [
    "\n",
    "## Overview\n",
    "\n",
    "This notebook will show you how to create and query a table or DataFrame that you uploaded to DBFS. [DBFS](https://docs.databricks.com/user-guide/dbfs-databricks-file-system.html) is a Databricks File System that allows you to store data for querying inside of Databricks. This notebook assumes that you have a file already inside of DBFS that you would like to read from.\n",
    "\n",
    "This notebook is written in **Python** so the default cell type is Python. However, you can use different languages by using the `%LANGUAGE` syntax. Python, Scala, SQL, and R are all supported."
   ]
  },
  {
   "cell_type": "code",
   "execution_count": 0,
   "metadata": {
    "application/vnd.databricks.v1+cell": {
     "cellMetadata": {
      "byteLimit": 2048000,
      "rowLimit": 10000
     },
     "inputWidgets": {},
     "nuid": "6482be4c-f067-47c9-b0ac-35c938b94601",
     "showTitle": false,
     "tableResultSettingsMap": {},
     "title": ""
    }
   },
   "outputs": [
    {
     "output_type": "display_data",
     "data": {
      "text/html": [
       "<style scoped>\n",
       "  .table-result-container {\n",
       "    max-height: 300px;\n",
       "    overflow: auto;\n",
       "  }\n",
       "  table, th, td {\n",
       "    border: 1px solid black;\n",
       "    border-collapse: collapse;\n",
       "  }\n",
       "  th, td {\n",
       "    padding: 5px;\n",
       "  }\n",
       "  th {\n",
       "    text-align: left;\n",
       "  }\n",
       "</style><div class='table-result-container'><table class='table-result'><thead style='background-color: white'><tr><th>name</th><th>height</th><th>mass</th><th>hair_color</th><th>skin_color</th><th>eye_color</th><th>birth_year</th><th>sex</th><th>gender</th><th>homeworld</th><th>species</th><th>films</th><th>vehicles</th><th>starships</th></tr></thead><tbody><tr><td>Luke Skywalker</td><td>172</td><td>77</td><td>blond</td><td>fair</td><td>blue</td><td>19</td><td>male</td><td>masculine</td><td>Tatooine</td><td>Human</td><td>A New Hope, The Empire Strikes Back, Return of the Jedi, Revenge of the Sith, The Force Awakens</td><td>Snowspeeder, Imperial Speeder Bike</td><td>X-wing, Imperial shuttle</td></tr><tr><td>C-3PO</td><td>167</td><td>75</td><td>NA</td><td>gold</td><td>yellow</td><td>112</td><td>none</td><td>masculine</td><td>Tatooine</td><td>Droid</td><td>A New Hope, The Empire Strikes Back, Return of the Jedi, The Phantom Menace, Attack of the Clones, Revenge of the Sith</td><td>null</td><td>null</td></tr><tr><td>R2-D2</td><td>96</td><td>32</td><td>NA</td><td>white, blue</td><td>red</td><td>33</td><td>none</td><td>masculine</td><td>Naboo</td><td>Droid</td><td>A New Hope, The Empire Strikes Back, Return of the Jedi, The Phantom Menace, Attack of the Clones, Revenge of the Sith, The Force Awakens</td><td>null</td><td>null</td></tr><tr><td>Darth Vader</td><td>202</td><td>136</td><td>none</td><td>white</td><td>yellow</td><td>41.9</td><td>male</td><td>masculine</td><td>Tatooine</td><td>Human</td><td>A New Hope, The Empire Strikes Back, Return of the Jedi, Revenge of the Sith</td><td>null</td><td>TIE Advanced x1</td></tr><tr><td>Leia Organa</td><td>150</td><td>49</td><td>brown</td><td>light</td><td>brown</td><td>19</td><td>female</td><td>feminine</td><td>Alderaan</td><td>Human</td><td>A New Hope, The Empire Strikes Back, Return of the Jedi, Revenge of the Sith, The Force Awakens</td><td>Imperial Speeder Bike</td><td>null</td></tr><tr><td>Owen Lars</td><td>178</td><td>120</td><td>brown, grey</td><td>light</td><td>blue</td><td>52</td><td>male</td><td>masculine</td><td>Tatooine</td><td>Human</td><td>A New Hope, Attack of the Clones, Revenge of the Sith</td><td>null</td><td>null</td></tr><tr><td>Beru Whitesun Lars</td><td>165</td><td>75</td><td>brown</td><td>light</td><td>blue</td><td>47</td><td>female</td><td>feminine</td><td>Tatooine</td><td>Human</td><td>A New Hope, Attack of the Clones, Revenge of the Sith</td><td>null</td><td>null</td></tr><tr><td>R5-D4</td><td>97</td><td>32</td><td>NA</td><td>white, red</td><td>red</td><td>NA</td><td>none</td><td>masculine</td><td>Tatooine</td><td>Droid</td><td>A New Hope</td><td>null</td><td>null</td></tr><tr><td>Biggs Darklighter</td><td>183</td><td>84</td><td>black</td><td>light</td><td>brown</td><td>24</td><td>male</td><td>masculine</td><td>Tatooine</td><td>Human</td><td>A New Hope</td><td>null</td><td>X-wing</td></tr><tr><td>Obi-Wan Kenobi</td><td>182</td><td>77</td><td>auburn, white</td><td>fair</td><td>blue-gray</td><td>57</td><td>male</td><td>masculine</td><td>Stewjon</td><td>Human</td><td>A New Hope, The Empire Strikes Back, Return of the Jedi, The Phantom Menace, Attack of the Clones, Revenge of the Sith</td><td>Tribubble bongo</td><td>Jedi starfighter, Trade Federation cruiser, Naboo star skiff, Jedi Interceptor, Belbullab-22 starfighter</td></tr><tr><td>Anakin Skywalker</td><td>188</td><td>84</td><td>blond</td><td>fair</td><td>blue</td><td>41.9</td><td>male</td><td>masculine</td><td>Tatooine</td><td>Human</td><td>The Phantom Menace, Attack of the Clones, Revenge of the Sith</td><td>Zephyr-G swoop bike, XJ-6 airspeeder</td><td>Naboo fighter, Trade Federation cruiser, Jedi Interceptor</td></tr><tr><td>Wilhuff Tarkin</td><td>180</td><td>NA</td><td>auburn, grey</td><td>fair</td><td>blue</td><td>64</td><td>male</td><td>masculine</td><td>Eriadu</td><td>Human</td><td>A New Hope, Revenge of the Sith</td><td>null</td><td>null</td></tr><tr><td>Chewbacca</td><td>228</td><td>112</td><td>brown</td><td>unknown</td><td>blue</td><td>200</td><td>male</td><td>masculine</td><td>Kashyyyk</td><td>Wookiee</td><td>A New Hope, The Empire Strikes Back, Return of the Jedi, Revenge of the Sith, The Force Awakens</td><td>AT-ST</td><td>Millennium Falcon, Imperial shuttle</td></tr><tr><td>Han Solo</td><td>180</td><td>80</td><td>brown</td><td>fair</td><td>brown</td><td>29</td><td>male</td><td>masculine</td><td>Corellia</td><td>Human</td><td>A New Hope, The Empire Strikes Back, Return of the Jedi, The Force Awakens</td><td>null</td><td>Millennium Falcon, Imperial shuttle</td></tr><tr><td>Greedo</td><td>173</td><td>74</td><td>NA</td><td>green</td><td>black</td><td>44</td><td>male</td><td>masculine</td><td>Rodia</td><td>Rodian</td><td>A New Hope</td><td>null</td><td>null</td></tr><tr><td>Jabba Desilijic Tiure</td><td>175</td><td>1358</td><td>NA</td><td>green-tan, brown</td><td>orange</td><td>600</td><td>hermaphroditic</td><td>masculine</td><td>Nal Hutta</td><td>Hutt</td><td>A New Hope, Return of the Jedi, The Phantom Menace</td><td>null</td><td>null</td></tr><tr><td>Wedge Antilles</td><td>170</td><td>77</td><td>brown</td><td>fair</td><td>hazel</td><td>21</td><td>male</td><td>masculine</td><td>Corellia</td><td>Human</td><td>A New Hope, The Empire Strikes Back, Return of the Jedi</td><td>Snowspeeder</td><td>X-wing</td></tr><tr><td>Jek Tono Porkins</td><td>180</td><td>110</td><td>brown</td><td>fair</td><td>blue</td><td>NA</td><td>NA</td><td>NA</td><td>Bestine IV</td><td>NA</td><td>A New Hope</td><td>null</td><td>X-wing</td></tr><tr><td>Yoda</td><td>66</td><td>17</td><td>white</td><td>green</td><td>brown</td><td>896</td><td>male</td><td>masculine</td><td>NA</td><td>Yoda's species</td><td>The Empire Strikes Back, Return of the Jedi, The Phantom Menace, Attack of the Clones, Revenge of the Sith</td><td>null</td><td>null</td></tr><tr><td>Palpatine</td><td>170</td><td>75</td><td>grey</td><td>pale</td><td>yellow</td><td>82</td><td>male</td><td>masculine</td><td>Naboo</td><td>Human</td><td>The Empire Strikes Back, Return of the Jedi, The Phantom Menace, Attack of the Clones, Revenge of the Sith</td><td>null</td><td>null</td></tr><tr><td>Boba Fett</td><td>183</td><td>78.2</td><td>black</td><td>fair</td><td>brown</td><td>31.5</td><td>male</td><td>masculine</td><td>Kamino</td><td>Human</td><td>The Empire Strikes Back, Return of the Jedi, Attack of the Clones</td><td>null</td><td>Slave 1</td></tr><tr><td>IG-88</td><td>200</td><td>140</td><td>none</td><td>metal</td><td>red</td><td>15</td><td>none</td><td>masculine</td><td>NA</td><td>Droid</td><td>The Empire Strikes Back</td><td>null</td><td>null</td></tr><tr><td>Bossk</td><td>190</td><td>113</td><td>none</td><td>green</td><td>red</td><td>53</td><td>male</td><td>masculine</td><td>Trandosha</td><td>Trandoshan</td><td>The Empire Strikes Back</td><td>null</td><td>null</td></tr><tr><td>Lando Calrissian</td><td>177</td><td>79</td><td>black</td><td>dark</td><td>brown</td><td>31</td><td>male</td><td>masculine</td><td>Socorro</td><td>Human</td><td>The Empire Strikes Back, Return of the Jedi</td><td>null</td><td>Millennium Falcon</td></tr><tr><td>Lobot</td><td>175</td><td>79</td><td>none</td><td>light</td><td>blue</td><td>37</td><td>male</td><td>masculine</td><td>Bespin</td><td>Human</td><td>The Empire Strikes Back</td><td>null</td><td>null</td></tr><tr><td>Ackbar</td><td>180</td><td>83</td><td>none</td><td>brown mottle</td><td>orange</td><td>41</td><td>male</td><td>masculine</td><td>Mon Cala</td><td>Mon Calamari</td><td>Return of the Jedi, The Force Awakens</td><td>null</td><td>null</td></tr><tr><td>Mon Mothma</td><td>150</td><td>NA</td><td>auburn</td><td>fair</td><td>blue</td><td>48</td><td>female</td><td>feminine</td><td>Chandrila</td><td>Human</td><td>Return of the Jedi</td><td>null</td><td>null</td></tr><tr><td>Arvel Crynyd</td><td>NA</td><td>NA</td><td>brown</td><td>fair</td><td>brown</td><td>NA</td><td>male</td><td>masculine</td><td>NA</td><td>Human</td><td>Return of the Jedi</td><td>null</td><td>A-wing</td></tr><tr><td>Wicket Systri Warrick</td><td>88</td><td>20</td><td>brown</td><td>brown</td><td>brown</td><td>8</td><td>male</td><td>masculine</td><td>Endor</td><td>Ewok</td><td>Return of the Jedi</td><td>null</td><td>null</td></tr><tr><td>Nien Nunb</td><td>160</td><td>68</td><td>none</td><td>grey</td><td>black</td><td>NA</td><td>male</td><td>masculine</td><td>Sullust</td><td>Sullustan</td><td>Return of the Jedi</td><td>null</td><td>Millennium Falcon</td></tr><tr><td>Qui-Gon Jinn</td><td>193</td><td>89</td><td>brown</td><td>fair</td><td>blue</td><td>92</td><td>male</td><td>masculine</td><td>NA</td><td>Human</td><td>The Phantom Menace</td><td>Tribubble bongo</td><td>null</td></tr><tr><td>Nute Gunray</td><td>191</td><td>90</td><td>none</td><td>mottled green</td><td>red</td><td>NA</td><td>male</td><td>masculine</td><td>Cato Neimoidia</td><td>Neimodian</td><td>The Phantom Menace, Attack of the Clones, Revenge of the Sith</td><td>null</td><td>null</td></tr><tr><td>Finis Valorum</td><td>170</td><td>NA</td><td>blond</td><td>fair</td><td>blue</td><td>91</td><td>male</td><td>masculine</td><td>Coruscant</td><td>Human</td><td>The Phantom Menace</td><td>null</td><td>null</td></tr><tr><td>Padmé Amidala</td><td>185</td><td>45</td><td>brown</td><td>light</td><td>brown</td><td>46</td><td>female</td><td>feminine</td><td>Naboo</td><td>Human</td><td>The Phantom Menace, Attack of the Clones, Revenge of the Sith</td><td>null</td><td>Naboo fighter, H-type Nubian yacht, Naboo star skiff</td></tr><tr><td>Jar Jar Binks</td><td>196</td><td>66</td><td>none</td><td>orange</td><td>orange</td><td>52</td><td>male</td><td>masculine</td><td>Naboo</td><td>Gungan</td><td>The Phantom Menace, Attack of the Clones</td><td>null</td><td>null</td></tr><tr><td>Roos Tarpals</td><td>224</td><td>82</td><td>none</td><td>grey</td><td>orange</td><td>NA</td><td>male</td><td>masculine</td><td>Naboo</td><td>Gungan</td><td>The Phantom Menace</td><td>null</td><td>null</td></tr><tr><td>Rugor Nass</td><td>206</td><td>NA</td><td>none</td><td>green</td><td>orange</td><td>NA</td><td>male</td><td>masculine</td><td>Naboo</td><td>Gungan</td><td>The Phantom Menace</td><td>null</td><td>null</td></tr><tr><td>Ric Olié</td><td>183</td><td>NA</td><td>brown</td><td>fair</td><td>blue</td><td>NA</td><td>male</td><td>masculine</td><td>Naboo</td><td>Human</td><td>The Phantom Menace</td><td>null</td><td>Naboo Royal Starship</td></tr><tr><td>Watto</td><td>137</td><td>NA</td><td>black</td><td>blue, grey</td><td>yellow</td><td>NA</td><td>male</td><td>masculine</td><td>Toydaria</td><td>Toydarian</td><td>The Phantom Menace, Attack of the Clones</td><td>null</td><td>null</td></tr><tr><td>Sebulba</td><td>112</td><td>40</td><td>none</td><td>grey, red</td><td>orange</td><td>NA</td><td>male</td><td>masculine</td><td>Malastare</td><td>Dug</td><td>The Phantom Menace</td><td>null</td><td>null</td></tr><tr><td>Quarsh Panaka</td><td>183</td><td>NA</td><td>black</td><td>dark</td><td>brown</td><td>62</td><td>male</td><td>masculine</td><td>Naboo</td><td>Human</td><td>The Phantom Menace</td><td>null</td><td>null</td></tr><tr><td>Shmi Skywalker</td><td>163</td><td>NA</td><td>black</td><td>fair</td><td>brown</td><td>72</td><td>female</td><td>feminine</td><td>Tatooine</td><td>Human</td><td>The Phantom Menace, Attack of the Clones</td><td>null</td><td>null</td></tr><tr><td>Darth Maul</td><td>175</td><td>80</td><td>none</td><td>red</td><td>yellow</td><td>54</td><td>male</td><td>masculine</td><td>Dathomir</td><td>Zabrak</td><td>The Phantom Menace</td><td>Sith speeder</td><td>Scimitar</td></tr><tr><td>Bib Fortuna</td><td>180</td><td>NA</td><td>none</td><td>pale</td><td>pink</td><td>NA</td><td>male</td><td>masculine</td><td>Ryloth</td><td>Twi'lek</td><td>Return of the Jedi</td><td>null</td><td>null</td></tr><tr><td>Ayla Secura</td><td>178</td><td>55</td><td>none</td><td>blue</td><td>hazel</td><td>48</td><td>female</td><td>feminine</td><td>Ryloth</td><td>Twi'lek</td><td>The Phantom Menace, Attack of the Clones, Revenge of the Sith</td><td>null</td><td>null</td></tr><tr><td>Ratts Tyerel</td><td>79</td><td>15</td><td>none</td><td>grey, blue</td><td>unknown</td><td>NA</td><td>male</td><td>masculine</td><td>Aleen Minor</td><td>Aleena</td><td>The Phantom Menace</td><td>null</td><td>null</td></tr><tr><td>Dud Bolt</td><td>94</td><td>45</td><td>none</td><td>blue, grey</td><td>yellow</td><td>NA</td><td>male</td><td>masculine</td><td>Vulpter</td><td>Vulptereen</td><td>The Phantom Menace</td><td>null</td><td>null</td></tr><tr><td>Gasgano</td><td>122</td><td>NA</td><td>none</td><td>white, blue</td><td>black</td><td>NA</td><td>male</td><td>masculine</td><td>Troiken</td><td>Xexto</td><td>The Phantom Menace</td><td>null</td><td>null</td></tr><tr><td>Ben Quadinaros</td><td>163</td><td>65</td><td>none</td><td>grey, green, yellow</td><td>orange</td><td>NA</td><td>male</td><td>masculine</td><td>Tund</td><td>Toong</td><td>The Phantom Menace</td><td>null</td><td>null</td></tr><tr><td>Mace Windu</td><td>188</td><td>84</td><td>none</td><td>dark</td><td>brown</td><td>72</td><td>male</td><td>masculine</td><td>Haruun Kal</td><td>Human</td><td>The Phantom Menace, Attack of the Clones, Revenge of the Sith</td><td>null</td><td>null</td></tr><tr><td>Ki-Adi-Mundi</td><td>198</td><td>82</td><td>white</td><td>pale</td><td>yellow</td><td>92</td><td>male</td><td>masculine</td><td>Cerea</td><td>Cerean</td><td>The Phantom Menace, Attack of the Clones, Revenge of the Sith</td><td>null</td><td>null</td></tr><tr><td>Kit Fisto</td><td>196</td><td>87</td><td>none</td><td>green</td><td>black</td><td>NA</td><td>male</td><td>masculine</td><td>Glee Anselm</td><td>Nautolan</td><td>The Phantom Menace, Attack of the Clones, Revenge of the Sith</td><td>null</td><td>null</td></tr><tr><td>Eeth Koth</td><td>171</td><td>NA</td><td>black</td><td>brown</td><td>brown</td><td>NA</td><td>male</td><td>masculine</td><td>Iridonia</td><td>Zabrak</td><td>The Phantom Menace, Revenge of the Sith</td><td>null</td><td>null</td></tr><tr><td>Adi Gallia</td><td>184</td><td>50</td><td>none</td><td>dark</td><td>blue</td><td>NA</td><td>female</td><td>feminine</td><td>Coruscant</td><td>Tholothian</td><td>The Phantom Menace, Revenge of the Sith</td><td>null</td><td>null</td></tr><tr><td>Saesee Tiin</td><td>188</td><td>NA</td><td>none</td><td>pale</td><td>orange</td><td>NA</td><td>male</td><td>masculine</td><td>Iktotch</td><td>Iktotchi</td><td>The Phantom Menace, Revenge of the Sith</td><td>null</td><td>null</td></tr><tr><td>Yarael Poof</td><td>264</td><td>NA</td><td>none</td><td>white</td><td>yellow</td><td>NA</td><td>male</td><td>masculine</td><td>Quermia</td><td>Quermian</td><td>The Phantom Menace</td><td>null</td><td>null</td></tr><tr><td>Plo Koon</td><td>188</td><td>80</td><td>none</td><td>orange</td><td>black</td><td>22</td><td>male</td><td>masculine</td><td>Dorin</td><td>Kel Dor</td><td>The Phantom Menace, Attack of the Clones, Revenge of the Sith</td><td>null</td><td>Jedi starfighter</td></tr><tr><td>Mas Amedda</td><td>196</td><td>NA</td><td>none</td><td>blue</td><td>blue</td><td>NA</td><td>male</td><td>masculine</td><td>Champala</td><td>Chagrian</td><td>The Phantom Menace, Attack of the Clones</td><td>null</td><td>null</td></tr><tr><td>Gregar Typho</td><td>185</td><td>85</td><td>black</td><td>dark</td><td>brown</td><td>NA</td><td>NA</td><td>NA</td><td>Naboo</td><td>NA</td><td>Attack of the Clones</td><td>null</td><td>Naboo fighter</td></tr><tr><td>Cordé</td><td>157</td><td>NA</td><td>brown</td><td>light</td><td>brown</td><td>NA</td><td>NA</td><td>NA</td><td>Naboo</td><td>NA</td><td>Attack of the Clones</td><td>null</td><td>null</td></tr><tr><td>Cliegg Lars</td><td>183</td><td>NA</td><td>brown</td><td>fair</td><td>blue</td><td>82</td><td>male</td><td>masculine</td><td>Tatooine</td><td>Human</td><td>Attack of the Clones</td><td>null</td><td>null</td></tr><tr><td>Poggle the Lesser</td><td>183</td><td>80</td><td>none</td><td>green</td><td>yellow</td><td>NA</td><td>male</td><td>masculine</td><td>Geonosis</td><td>Geonosian</td><td>Attack of the Clones, Revenge of the Sith</td><td>null</td><td>null</td></tr><tr><td>Luminara Unduli</td><td>170</td><td>56.2</td><td>black</td><td>yellow</td><td>blue</td><td>58</td><td>female</td><td>feminine</td><td>Mirial</td><td>Mirialan</td><td>Attack of the Clones, Revenge of the Sith</td><td>null</td><td>null</td></tr><tr><td>Barriss Offee</td><td>166</td><td>50</td><td>black</td><td>yellow</td><td>blue</td><td>40</td><td>female</td><td>feminine</td><td>Mirial</td><td>Mirialan</td><td>Attack of the Clones</td><td>null</td><td>null</td></tr><tr><td>Dormé</td><td>165</td><td>NA</td><td>brown</td><td>light</td><td>brown</td><td>NA</td><td>female</td><td>feminine</td><td>Naboo</td><td>Human</td><td>Attack of the Clones</td><td>null</td><td>null</td></tr><tr><td>Dooku</td><td>193</td><td>80</td><td>white</td><td>fair</td><td>brown</td><td>102</td><td>male</td><td>masculine</td><td>Serenno</td><td>Human</td><td>Attack of the Clones, Revenge of the Sith</td><td>Flitknot speeder</td><td>null</td></tr><tr><td>Bail Prestor Organa</td><td>191</td><td>NA</td><td>black</td><td>tan</td><td>brown</td><td>67</td><td>male</td><td>masculine</td><td>Alderaan</td><td>Human</td><td>Attack of the Clones, Revenge of the Sith</td><td>null</td><td>null</td></tr><tr><td>Jango Fett</td><td>183</td><td>79</td><td>black</td><td>tan</td><td>brown</td><td>66</td><td>male</td><td>masculine</td><td>Concord Dawn</td><td>Human</td><td>Attack of the Clones</td><td>null</td><td>null</td></tr><tr><td>Zam Wesell</td><td>168</td><td>55</td><td>blonde</td><td>fair, green, yellow</td><td>yellow</td><td>NA</td><td>female</td><td>feminine</td><td>Zolan</td><td>Clawdite</td><td>Attack of the Clones</td><td>Koro-2 Exodrive airspeeder</td><td>null</td></tr><tr><td>Dexter Jettster</td><td>198</td><td>102</td><td>none</td><td>brown</td><td>yellow</td><td>NA</td><td>male</td><td>masculine</td><td>Ojom</td><td>Besalisk</td><td>Attack of the Clones</td><td>null</td><td>null</td></tr><tr><td>Lama Su</td><td>229</td><td>88</td><td>none</td><td>grey</td><td>black</td><td>NA</td><td>male</td><td>masculine</td><td>Kamino</td><td>Kaminoan</td><td>Attack of the Clones</td><td>null</td><td>null</td></tr><tr><td>Taun We</td><td>213</td><td>NA</td><td>none</td><td>grey</td><td>black</td><td>NA</td><td>female</td><td>feminine</td><td>Kamino</td><td>Kaminoan</td><td>Attack of the Clones</td><td>null</td><td>null</td></tr><tr><td>Jocasta Nu</td><td>167</td><td>NA</td><td>white</td><td>fair</td><td>blue</td><td>NA</td><td>female</td><td>feminine</td><td>Coruscant</td><td>Human</td><td>Attack of the Clones</td><td>null</td><td>null</td></tr><tr><td>R4-P17</td><td>96</td><td>NA</td><td>none</td><td>silver, red</td><td>red, blue</td><td>NA</td><td>none</td><td>feminine</td><td>NA</td><td>Droid</td><td>Attack of the Clones, Revenge of the Sith</td><td>null</td><td>null</td></tr><tr><td>Wat Tambor</td><td>193</td><td>48</td><td>none</td><td>green, grey</td><td>unknown</td><td>NA</td><td>male</td><td>masculine</td><td>Skako</td><td>Skakoan</td><td>Attack of the Clones</td><td>null</td><td>null</td></tr><tr><td>San Hill</td><td>191</td><td>NA</td><td>none</td><td>grey</td><td>gold</td><td>NA</td><td>male</td><td>masculine</td><td>Muunilinst</td><td>Muun</td><td>Attack of the Clones</td><td>null</td><td>null</td></tr><tr><td>Shaak Ti</td><td>178</td><td>57</td><td>none</td><td>red, blue, white</td><td>black</td><td>NA</td><td>female</td><td>feminine</td><td>Shili</td><td>Togruta</td><td>Attack of the Clones, Revenge of the Sith</td><td>null</td><td>null</td></tr><tr><td>Grievous</td><td>216</td><td>159</td><td>none</td><td>brown, white</td><td>green, yellow</td><td>NA</td><td>male</td><td>masculine</td><td>Kalee</td><td>Kaleesh</td><td>Revenge of the Sith</td><td>Tsmeu-6 personal wheel bike</td><td>Belbullab-22 starfighter</td></tr><tr><td>Tarfful</td><td>234</td><td>136</td><td>brown</td><td>brown</td><td>blue</td><td>NA</td><td>male</td><td>masculine</td><td>Kashyyyk</td><td>Wookiee</td><td>Revenge of the Sith</td><td>null</td><td>null</td></tr><tr><td>Raymus Antilles</td><td>188</td><td>79</td><td>brown</td><td>light</td><td>brown</td><td>NA</td><td>male</td><td>masculine</td><td>Alderaan</td><td>Human</td><td>A New Hope, Revenge of the Sith</td><td>null</td><td>null</td></tr><tr><td>Sly Moore</td><td>178</td><td>48</td><td>none</td><td>pale</td><td>white</td><td>NA</td><td>NA</td><td>NA</td><td>Umbara</td><td>NA</td><td>Attack of the Clones, Revenge of the Sith</td><td>null</td><td>null</td></tr><tr><td>Tion Medon</td><td>206</td><td>80</td><td>none</td><td>grey</td><td>black</td><td>NA</td><td>male</td><td>masculine</td><td>Utapau</td><td>Pau'an</td><td>Revenge of the Sith</td><td>null</td><td>null</td></tr><tr><td>Finn</td><td>NA</td><td>NA</td><td>black</td><td>dark</td><td>dark</td><td>NA</td><td>male</td><td>masculine</td><td>NA</td><td>Human</td><td>The Force Awakens</td><td>null</td><td>null</td></tr><tr><td>Rey</td><td>NA</td><td>NA</td><td>brown</td><td>light</td><td>hazel</td><td>NA</td><td>female</td><td>feminine</td><td>NA</td><td>Human</td><td>The Force Awakens</td><td>null</td><td>null</td></tr><tr><td>Poe Dameron</td><td>NA</td><td>NA</td><td>brown</td><td>light</td><td>brown</td><td>NA</td><td>male</td><td>masculine</td><td>NA</td><td>Human</td><td>The Force Awakens</td><td>null</td><td>X-wing</td></tr><tr><td>BB8</td><td>NA</td><td>NA</td><td>none</td><td>none</td><td>black</td><td>NA</td><td>none</td><td>masculine</td><td>NA</td><td>Droid</td><td>The Force Awakens</td><td>null</td><td>null</td></tr><tr><td>Captain Phasma</td><td>NA</td><td>NA</td><td>none</td><td>none</td><td>unknown</td><td>NA</td><td>female</td><td>feminine</td><td>NA</td><td>Human</td><td>The Force Awakens</td><td>null</td><td>null</td></tr></tbody></table></div>"
      ]
     },
     "metadata": {
      "application/vnd.databricks.v1+output": {
       "addedWidgets": {},
       "aggData": [],
       "aggError": "",
       "aggOverflow": false,
       "aggSchema": [],
       "aggSeriesLimitReached": false,
       "aggType": "",
       "arguments": {},
       "columnCustomDisplayInfos": {},
       "data": [
        [
         "Luke Skywalker",
         "172",
         "77",
         "blond",
         "fair",
         "blue",
         "19",
         "male",
         "masculine",
         "Tatooine",
         "Human",
         "A New Hope, The Empire Strikes Back, Return of the Jedi, Revenge of the Sith, The Force Awakens",
         "Snowspeeder, Imperial Speeder Bike",
         "X-wing, Imperial shuttle"
        ],
        [
         "C-3PO",
         "167",
         "75",
         "NA",
         "gold",
         "yellow",
         "112",
         "none",
         "masculine",
         "Tatooine",
         "Droid",
         "A New Hope, The Empire Strikes Back, Return of the Jedi, The Phantom Menace, Attack of the Clones, Revenge of the Sith",
         null,
         null
        ],
        [
         "R2-D2",
         "96",
         "32",
         "NA",
         "white, blue",
         "red",
         "33",
         "none",
         "masculine",
         "Naboo",
         "Droid",
         "A New Hope, The Empire Strikes Back, Return of the Jedi, The Phantom Menace, Attack of the Clones, Revenge of the Sith, The Force Awakens",
         null,
         null
        ],
        [
         "Darth Vader",
         "202",
         "136",
         "none",
         "white",
         "yellow",
         "41.9",
         "male",
         "masculine",
         "Tatooine",
         "Human",
         "A New Hope, The Empire Strikes Back, Return of the Jedi, Revenge of the Sith",
         null,
         "TIE Advanced x1"
        ],
        [
         "Leia Organa",
         "150",
         "49",
         "brown",
         "light",
         "brown",
         "19",
         "female",
         "feminine",
         "Alderaan",
         "Human",
         "A New Hope, The Empire Strikes Back, Return of the Jedi, Revenge of the Sith, The Force Awakens",
         "Imperial Speeder Bike",
         null
        ],
        [
         "Owen Lars",
         "178",
         "120",
         "brown, grey",
         "light",
         "blue",
         "52",
         "male",
         "masculine",
         "Tatooine",
         "Human",
         "A New Hope, Attack of the Clones, Revenge of the Sith",
         null,
         null
        ],
        [
         "Beru Whitesun Lars",
         "165",
         "75",
         "brown",
         "light",
         "blue",
         "47",
         "female",
         "feminine",
         "Tatooine",
         "Human",
         "A New Hope, Attack of the Clones, Revenge of the Sith",
         null,
         null
        ],
        [
         "R5-D4",
         "97",
         "32",
         "NA",
         "white, red",
         "red",
         "NA",
         "none",
         "masculine",
         "Tatooine",
         "Droid",
         "A New Hope",
         null,
         null
        ],
        [
         "Biggs Darklighter",
         "183",
         "84",
         "black",
         "light",
         "brown",
         "24",
         "male",
         "masculine",
         "Tatooine",
         "Human",
         "A New Hope",
         null,
         "X-wing"
        ],
        [
         "Obi-Wan Kenobi",
         "182",
         "77",
         "auburn, white",
         "fair",
         "blue-gray",
         "57",
         "male",
         "masculine",
         "Stewjon",
         "Human",
         "A New Hope, The Empire Strikes Back, Return of the Jedi, The Phantom Menace, Attack of the Clones, Revenge of the Sith",
         "Tribubble bongo",
         "Jedi starfighter, Trade Federation cruiser, Naboo star skiff, Jedi Interceptor, Belbullab-22 starfighter"
        ],
        [
         "Anakin Skywalker",
         "188",
         "84",
         "blond",
         "fair",
         "blue",
         "41.9",
         "male",
         "masculine",
         "Tatooine",
         "Human",
         "The Phantom Menace, Attack of the Clones, Revenge of the Sith",
         "Zephyr-G swoop bike, XJ-6 airspeeder",
         "Naboo fighter, Trade Federation cruiser, Jedi Interceptor"
        ],
        [
         "Wilhuff Tarkin",
         "180",
         "NA",
         "auburn, grey",
         "fair",
         "blue",
         "64",
         "male",
         "masculine",
         "Eriadu",
         "Human",
         "A New Hope, Revenge of the Sith",
         null,
         null
        ],
        [
         "Chewbacca",
         "228",
         "112",
         "brown",
         "unknown",
         "blue",
         "200",
         "male",
         "masculine",
         "Kashyyyk",
         "Wookiee",
         "A New Hope, The Empire Strikes Back, Return of the Jedi, Revenge of the Sith, The Force Awakens",
         "AT-ST",
         "Millennium Falcon, Imperial shuttle"
        ],
        [
         "Han Solo",
         "180",
         "80",
         "brown",
         "fair",
         "brown",
         "29",
         "male",
         "masculine",
         "Corellia",
         "Human",
         "A New Hope, The Empire Strikes Back, Return of the Jedi, The Force Awakens",
         null,
         "Millennium Falcon, Imperial shuttle"
        ],
        [
         "Greedo",
         "173",
         "74",
         "NA",
         "green",
         "black",
         "44",
         "male",
         "masculine",
         "Rodia",
         "Rodian",
         "A New Hope",
         null,
         null
        ],
        [
         "Jabba Desilijic Tiure",
         "175",
         "1358",
         "NA",
         "green-tan, brown",
         "orange",
         "600",
         "hermaphroditic",
         "masculine",
         "Nal Hutta",
         "Hutt",
         "A New Hope, Return of the Jedi, The Phantom Menace",
         null,
         null
        ],
        [
         "Wedge Antilles",
         "170",
         "77",
         "brown",
         "fair",
         "hazel",
         "21",
         "male",
         "masculine",
         "Corellia",
         "Human",
         "A New Hope, The Empire Strikes Back, Return of the Jedi",
         "Snowspeeder",
         "X-wing"
        ],
        [
         "Jek Tono Porkins",
         "180",
         "110",
         "brown",
         "fair",
         "blue",
         "NA",
         "NA",
         "NA",
         "Bestine IV",
         "NA",
         "A New Hope",
         null,
         "X-wing"
        ],
        [
         "Yoda",
         "66",
         "17",
         "white",
         "green",
         "brown",
         "896",
         "male",
         "masculine",
         "NA",
         "Yoda's species",
         "The Empire Strikes Back, Return of the Jedi, The Phantom Menace, Attack of the Clones, Revenge of the Sith",
         null,
         null
        ],
        [
         "Palpatine",
         "170",
         "75",
         "grey",
         "pale",
         "yellow",
         "82",
         "male",
         "masculine",
         "Naboo",
         "Human",
         "The Empire Strikes Back, Return of the Jedi, The Phantom Menace, Attack of the Clones, Revenge of the Sith",
         null,
         null
        ],
        [
         "Boba Fett",
         "183",
         "78.2",
         "black",
         "fair",
         "brown",
         "31.5",
         "male",
         "masculine",
         "Kamino",
         "Human",
         "The Empire Strikes Back, Return of the Jedi, Attack of the Clones",
         null,
         "Slave 1"
        ],
        [
         "IG-88",
         "200",
         "140",
         "none",
         "metal",
         "red",
         "15",
         "none",
         "masculine",
         "NA",
         "Droid",
         "The Empire Strikes Back",
         null,
         null
        ],
        [
         "Bossk",
         "190",
         "113",
         "none",
         "green",
         "red",
         "53",
         "male",
         "masculine",
         "Trandosha",
         "Trandoshan",
         "The Empire Strikes Back",
         null,
         null
        ],
        [
         "Lando Calrissian",
         "177",
         "79",
         "black",
         "dark",
         "brown",
         "31",
         "male",
         "masculine",
         "Socorro",
         "Human",
         "The Empire Strikes Back, Return of the Jedi",
         null,
         "Millennium Falcon"
        ],
        [
         "Lobot",
         "175",
         "79",
         "none",
         "light",
         "blue",
         "37",
         "male",
         "masculine",
         "Bespin",
         "Human",
         "The Empire Strikes Back",
         null,
         null
        ],
        [
         "Ackbar",
         "180",
         "83",
         "none",
         "brown mottle",
         "orange",
         "41",
         "male",
         "masculine",
         "Mon Cala",
         "Mon Calamari",
         "Return of the Jedi, The Force Awakens",
         null,
         null
        ],
        [
         "Mon Mothma",
         "150",
         "NA",
         "auburn",
         "fair",
         "blue",
         "48",
         "female",
         "feminine",
         "Chandrila",
         "Human",
         "Return of the Jedi",
         null,
         null
        ],
        [
         "Arvel Crynyd",
         "NA",
         "NA",
         "brown",
         "fair",
         "brown",
         "NA",
         "male",
         "masculine",
         "NA",
         "Human",
         "Return of the Jedi",
         null,
         "A-wing"
        ],
        [
         "Wicket Systri Warrick",
         "88",
         "20",
         "brown",
         "brown",
         "brown",
         "8",
         "male",
         "masculine",
         "Endor",
         "Ewok",
         "Return of the Jedi",
         null,
         null
        ],
        [
         "Nien Nunb",
         "160",
         "68",
         "none",
         "grey",
         "black",
         "NA",
         "male",
         "masculine",
         "Sullust",
         "Sullustan",
         "Return of the Jedi",
         null,
         "Millennium Falcon"
        ],
        [
         "Qui-Gon Jinn",
         "193",
         "89",
         "brown",
         "fair",
         "blue",
         "92",
         "male",
         "masculine",
         "NA",
         "Human",
         "The Phantom Menace",
         "Tribubble bongo",
         null
        ],
        [
         "Nute Gunray",
         "191",
         "90",
         "none",
         "mottled green",
         "red",
         "NA",
         "male",
         "masculine",
         "Cato Neimoidia",
         "Neimodian",
         "The Phantom Menace, Attack of the Clones, Revenge of the Sith",
         null,
         null
        ],
        [
         "Finis Valorum",
         "170",
         "NA",
         "blond",
         "fair",
         "blue",
         "91",
         "male",
         "masculine",
         "Coruscant",
         "Human",
         "The Phantom Menace",
         null,
         null
        ],
        [
         "Padmé Amidala",
         "185",
         "45",
         "brown",
         "light",
         "brown",
         "46",
         "female",
         "feminine",
         "Naboo",
         "Human",
         "The Phantom Menace, Attack of the Clones, Revenge of the Sith",
         null,
         "Naboo fighter, H-type Nubian yacht, Naboo star skiff"
        ],
        [
         "Jar Jar Binks",
         "196",
         "66",
         "none",
         "orange",
         "orange",
         "52",
         "male",
         "masculine",
         "Naboo",
         "Gungan",
         "The Phantom Menace, Attack of the Clones",
         null,
         null
        ],
        [
         "Roos Tarpals",
         "224",
         "82",
         "none",
         "grey",
         "orange",
         "NA",
         "male",
         "masculine",
         "Naboo",
         "Gungan",
         "The Phantom Menace",
         null,
         null
        ],
        [
         "Rugor Nass",
         "206",
         "NA",
         "none",
         "green",
         "orange",
         "NA",
         "male",
         "masculine",
         "Naboo",
         "Gungan",
         "The Phantom Menace",
         null,
         null
        ],
        [
         "Ric Olié",
         "183",
         "NA",
         "brown",
         "fair",
         "blue",
         "NA",
         "male",
         "masculine",
         "Naboo",
         "Human",
         "The Phantom Menace",
         null,
         "Naboo Royal Starship"
        ],
        [
         "Watto",
         "137",
         "NA",
         "black",
         "blue, grey",
         "yellow",
         "NA",
         "male",
         "masculine",
         "Toydaria",
         "Toydarian",
         "The Phantom Menace, Attack of the Clones",
         null,
         null
        ],
        [
         "Sebulba",
         "112",
         "40",
         "none",
         "grey, red",
         "orange",
         "NA",
         "male",
         "masculine",
         "Malastare",
         "Dug",
         "The Phantom Menace",
         null,
         null
        ],
        [
         "Quarsh Panaka",
         "183",
         "NA",
         "black",
         "dark",
         "brown",
         "62",
         "male",
         "masculine",
         "Naboo",
         "Human",
         "The Phantom Menace",
         null,
         null
        ],
        [
         "Shmi Skywalker",
         "163",
         "NA",
         "black",
         "fair",
         "brown",
         "72",
         "female",
         "feminine",
         "Tatooine",
         "Human",
         "The Phantom Menace, Attack of the Clones",
         null,
         null
        ],
        [
         "Darth Maul",
         "175",
         "80",
         "none",
         "red",
         "yellow",
         "54",
         "male",
         "masculine",
         "Dathomir",
         "Zabrak",
         "The Phantom Menace",
         "Sith speeder",
         "Scimitar"
        ],
        [
         "Bib Fortuna",
         "180",
         "NA",
         "none",
         "pale",
         "pink",
         "NA",
         "male",
         "masculine",
         "Ryloth",
         "Twi'lek",
         "Return of the Jedi",
         null,
         null
        ],
        [
         "Ayla Secura",
         "178",
         "55",
         "none",
         "blue",
         "hazel",
         "48",
         "female",
         "feminine",
         "Ryloth",
         "Twi'lek",
         "The Phantom Menace, Attack of the Clones, Revenge of the Sith",
         null,
         null
        ],
        [
         "Ratts Tyerel",
         "79",
         "15",
         "none",
         "grey, blue",
         "unknown",
         "NA",
         "male",
         "masculine",
         "Aleen Minor",
         "Aleena",
         "The Phantom Menace",
         null,
         null
        ],
        [
         "Dud Bolt",
         "94",
         "45",
         "none",
         "blue, grey",
         "yellow",
         "NA",
         "male",
         "masculine",
         "Vulpter",
         "Vulptereen",
         "The Phantom Menace",
         null,
         null
        ],
        [
         "Gasgano",
         "122",
         "NA",
         "none",
         "white, blue",
         "black",
         "NA",
         "male",
         "masculine",
         "Troiken",
         "Xexto",
         "The Phantom Menace",
         null,
         null
        ],
        [
         "Ben Quadinaros",
         "163",
         "65",
         "none",
         "grey, green, yellow",
         "orange",
         "NA",
         "male",
         "masculine",
         "Tund",
         "Toong",
         "The Phantom Menace",
         null,
         null
        ],
        [
         "Mace Windu",
         "188",
         "84",
         "none",
         "dark",
         "brown",
         "72",
         "male",
         "masculine",
         "Haruun Kal",
         "Human",
         "The Phantom Menace, Attack of the Clones, Revenge of the Sith",
         null,
         null
        ],
        [
         "Ki-Adi-Mundi",
         "198",
         "82",
         "white",
         "pale",
         "yellow",
         "92",
         "male",
         "masculine",
         "Cerea",
         "Cerean",
         "The Phantom Menace, Attack of the Clones, Revenge of the Sith",
         null,
         null
        ],
        [
         "Kit Fisto",
         "196",
         "87",
         "none",
         "green",
         "black",
         "NA",
         "male",
         "masculine",
         "Glee Anselm",
         "Nautolan",
         "The Phantom Menace, Attack of the Clones, Revenge of the Sith",
         null,
         null
        ],
        [
         "Eeth Koth",
         "171",
         "NA",
         "black",
         "brown",
         "brown",
         "NA",
         "male",
         "masculine",
         "Iridonia",
         "Zabrak",
         "The Phantom Menace, Revenge of the Sith",
         null,
         null
        ],
        [
         "Adi Gallia",
         "184",
         "50",
         "none",
         "dark",
         "blue",
         "NA",
         "female",
         "feminine",
         "Coruscant",
         "Tholothian",
         "The Phantom Menace, Revenge of the Sith",
         null,
         null
        ],
        [
         "Saesee Tiin",
         "188",
         "NA",
         "none",
         "pale",
         "orange",
         "NA",
         "male",
         "masculine",
         "Iktotch",
         "Iktotchi",
         "The Phantom Menace, Revenge of the Sith",
         null,
         null
        ],
        [
         "Yarael Poof",
         "264",
         "NA",
         "none",
         "white",
         "yellow",
         "NA",
         "male",
         "masculine",
         "Quermia",
         "Quermian",
         "The Phantom Menace",
         null,
         null
        ],
        [
         "Plo Koon",
         "188",
         "80",
         "none",
         "orange",
         "black",
         "22",
         "male",
         "masculine",
         "Dorin",
         "Kel Dor",
         "The Phantom Menace, Attack of the Clones, Revenge of the Sith",
         null,
         "Jedi starfighter"
        ],
        [
         "Mas Amedda",
         "196",
         "NA",
         "none",
         "blue",
         "blue",
         "NA",
         "male",
         "masculine",
         "Champala",
         "Chagrian",
         "The Phantom Menace, Attack of the Clones",
         null,
         null
        ],
        [
         "Gregar Typho",
         "185",
         "85",
         "black",
         "dark",
         "brown",
         "NA",
         "NA",
         "NA",
         "Naboo",
         "NA",
         "Attack of the Clones",
         null,
         "Naboo fighter"
        ],
        [
         "Cordé",
         "157",
         "NA",
         "brown",
         "light",
         "brown",
         "NA",
         "NA",
         "NA",
         "Naboo",
         "NA",
         "Attack of the Clones",
         null,
         null
        ],
        [
         "Cliegg Lars",
         "183",
         "NA",
         "brown",
         "fair",
         "blue",
         "82",
         "male",
         "masculine",
         "Tatooine",
         "Human",
         "Attack of the Clones",
         null,
         null
        ],
        [
         "Poggle the Lesser",
         "183",
         "80",
         "none",
         "green",
         "yellow",
         "NA",
         "male",
         "masculine",
         "Geonosis",
         "Geonosian",
         "Attack of the Clones, Revenge of the Sith",
         null,
         null
        ],
        [
         "Luminara Unduli",
         "170",
         "56.2",
         "black",
         "yellow",
         "blue",
         "58",
         "female",
         "feminine",
         "Mirial",
         "Mirialan",
         "Attack of the Clones, Revenge of the Sith",
         null,
         null
        ],
        [
         "Barriss Offee",
         "166",
         "50",
         "black",
         "yellow",
         "blue",
         "40",
         "female",
         "feminine",
         "Mirial",
         "Mirialan",
         "Attack of the Clones",
         null,
         null
        ],
        [
         "Dormé",
         "165",
         "NA",
         "brown",
         "light",
         "brown",
         "NA",
         "female",
         "feminine",
         "Naboo",
         "Human",
         "Attack of the Clones",
         null,
         null
        ],
        [
         "Dooku",
         "193",
         "80",
         "white",
         "fair",
         "brown",
         "102",
         "male",
         "masculine",
         "Serenno",
         "Human",
         "Attack of the Clones, Revenge of the Sith",
         "Flitknot speeder",
         null
        ],
        [
         "Bail Prestor Organa",
         "191",
         "NA",
         "black",
         "tan",
         "brown",
         "67",
         "male",
         "masculine",
         "Alderaan",
         "Human",
         "Attack of the Clones, Revenge of the Sith",
         null,
         null
        ],
        [
         "Jango Fett",
         "183",
         "79",
         "black",
         "tan",
         "brown",
         "66",
         "male",
         "masculine",
         "Concord Dawn",
         "Human",
         "Attack of the Clones",
         null,
         null
        ],
        [
         "Zam Wesell",
         "168",
         "55",
         "blonde",
         "fair, green, yellow",
         "yellow",
         "NA",
         "female",
         "feminine",
         "Zolan",
         "Clawdite",
         "Attack of the Clones",
         "Koro-2 Exodrive airspeeder",
         null
        ],
        [
         "Dexter Jettster",
         "198",
         "102",
         "none",
         "brown",
         "yellow",
         "NA",
         "male",
         "masculine",
         "Ojom",
         "Besalisk",
         "Attack of the Clones",
         null,
         null
        ],
        [
         "Lama Su",
         "229",
         "88",
         "none",
         "grey",
         "black",
         "NA",
         "male",
         "masculine",
         "Kamino",
         "Kaminoan",
         "Attack of the Clones",
         null,
         null
        ],
        [
         "Taun We",
         "213",
         "NA",
         "none",
         "grey",
         "black",
         "NA",
         "female",
         "feminine",
         "Kamino",
         "Kaminoan",
         "Attack of the Clones",
         null,
         null
        ],
        [
         "Jocasta Nu",
         "167",
         "NA",
         "white",
         "fair",
         "blue",
         "NA",
         "female",
         "feminine",
         "Coruscant",
         "Human",
         "Attack of the Clones",
         null,
         null
        ],
        [
         "R4-P17",
         "96",
         "NA",
         "none",
         "silver, red",
         "red, blue",
         "NA",
         "none",
         "feminine",
         "NA",
         "Droid",
         "Attack of the Clones, Revenge of the Sith",
         null,
         null
        ],
        [
         "Wat Tambor",
         "193",
         "48",
         "none",
         "green, grey",
         "unknown",
         "NA",
         "male",
         "masculine",
         "Skako",
         "Skakoan",
         "Attack of the Clones",
         null,
         null
        ],
        [
         "San Hill",
         "191",
         "NA",
         "none",
         "grey",
         "gold",
         "NA",
         "male",
         "masculine",
         "Muunilinst",
         "Muun",
         "Attack of the Clones",
         null,
         null
        ],
        [
         "Shaak Ti",
         "178",
         "57",
         "none",
         "red, blue, white",
         "black",
         "NA",
         "female",
         "feminine",
         "Shili",
         "Togruta",
         "Attack of the Clones, Revenge of the Sith",
         null,
         null
        ],
        [
         "Grievous",
         "216",
         "159",
         "none",
         "brown, white",
         "green, yellow",
         "NA",
         "male",
         "masculine",
         "Kalee",
         "Kaleesh",
         "Revenge of the Sith",
         "Tsmeu-6 personal wheel bike",
         "Belbullab-22 starfighter"
        ],
        [
         "Tarfful",
         "234",
         "136",
         "brown",
         "brown",
         "blue",
         "NA",
         "male",
         "masculine",
         "Kashyyyk",
         "Wookiee",
         "Revenge of the Sith",
         null,
         null
        ],
        [
         "Raymus Antilles",
         "188",
         "79",
         "brown",
         "light",
         "brown",
         "NA",
         "male",
         "masculine",
         "Alderaan",
         "Human",
         "A New Hope, Revenge of the Sith",
         null,
         null
        ],
        [
         "Sly Moore",
         "178",
         "48",
         "none",
         "pale",
         "white",
         "NA",
         "NA",
         "NA",
         "Umbara",
         "NA",
         "Attack of the Clones, Revenge of the Sith",
         null,
         null
        ],
        [
         "Tion Medon",
         "206",
         "80",
         "none",
         "grey",
         "black",
         "NA",
         "male",
         "masculine",
         "Utapau",
         "Pau'an",
         "Revenge of the Sith",
         null,
         null
        ],
        [
         "Finn",
         "NA",
         "NA",
         "black",
         "dark",
         "dark",
         "NA",
         "male",
         "masculine",
         "NA",
         "Human",
         "The Force Awakens",
         null,
         null
        ],
        [
         "Rey",
         "NA",
         "NA",
         "brown",
         "light",
         "hazel",
         "NA",
         "female",
         "feminine",
         "NA",
         "Human",
         "The Force Awakens",
         null,
         null
        ],
        [
         "Poe Dameron",
         "NA",
         "NA",
         "brown",
         "light",
         "brown",
         "NA",
         "male",
         "masculine",
         "NA",
         "Human",
         "The Force Awakens",
         null,
         "X-wing"
        ],
        [
         "BB8",
         "NA",
         "NA",
         "none",
         "none",
         "black",
         "NA",
         "none",
         "masculine",
         "NA",
         "Droid",
         "The Force Awakens",
         null,
         null
        ],
        [
         "Captain Phasma",
         "NA",
         "NA",
         "none",
         "none",
         "unknown",
         "NA",
         "female",
         "feminine",
         "NA",
         "Human",
         "The Force Awakens",
         null,
         null
        ]
       ],
       "datasetInfos": [],
       "dbfsResultPath": null,
       "isJsonSchema": true,
       "metadata": {},
       "overflow": false,
       "plotOptions": {
        "customPlotOptions": {},
        "displayType": "table",
        "pivotAggregation": null,
        "pivotColumns": null,
        "xColumns": null,
        "yColumns": null
       },
       "removedWidgets": [],
       "schema": [
        {
         "metadata": "{}",
         "name": "name",
         "type": "\"string\""
        },
        {
         "metadata": "{}",
         "name": "height",
         "type": "\"string\""
        },
        {
         "metadata": "{}",
         "name": "mass",
         "type": "\"string\""
        },
        {
         "metadata": "{}",
         "name": "hair_color",
         "type": "\"string\""
        },
        {
         "metadata": "{}",
         "name": "skin_color",
         "type": "\"string\""
        },
        {
         "metadata": "{}",
         "name": "eye_color",
         "type": "\"string\""
        },
        {
         "metadata": "{}",
         "name": "birth_year",
         "type": "\"string\""
        },
        {
         "metadata": "{}",
         "name": "sex",
         "type": "\"string\""
        },
        {
         "metadata": "{}",
         "name": "gender",
         "type": "\"string\""
        },
        {
         "metadata": "{}",
         "name": "homeworld",
         "type": "\"string\""
        },
        {
         "metadata": "{}",
         "name": "species",
         "type": "\"string\""
        },
        {
         "metadata": "{}",
         "name": "films",
         "type": "\"string\""
        },
        {
         "metadata": "{}",
         "name": "vehicles",
         "type": "\"string\""
        },
        {
         "metadata": "{}",
         "name": "starships",
         "type": "\"string\""
        }
       ],
       "type": "table"
      }
     },
     "output_type": "display_data"
    }
   ],
   "source": [
    "# File location and type\n",
    "file_location = \"/FileStore/tables/starwars.csv\"\n",
    "file_type = \"csv\"\n",
    "\n",
    "# CSV options\n",
    "infer_schema = \"true\"\n",
    "first_row_is_header = \"true\"\n",
    "delimiter = \",\"\n",
    "\n",
    "# The applied options are for CSV files. For other file types, these will be ignored.\n",
    "df = spark.read.format(file_type) \\\n",
    "  .option(\"inferSchema\", infer_schema) \\\n",
    "  .option(\"header\", first_row_is_header) \\\n",
    "  .option(\"sep\", delimiter) \\\n",
    "  .load(file_location)\n",
    "\n",
    "display(df)"
   ]
  },
  {
   "cell_type": "code",
   "execution_count": 0,
   "metadata": {
    "application/vnd.databricks.v1+cell": {
     "cellMetadata": {
      "byteLimit": 2048000,
      "rowLimit": 10000
     },
     "inputWidgets": {},
     "nuid": "d271abf9-ffc0-46f7-91df-e53022f86466",
     "showTitle": false,
     "tableResultSettingsMap": {},
     "title": ""
    }
   },
   "outputs": [
    {
     "output_type": "display_data",
     "data": {
      "text/html": [
       "<style scoped>\n",
       "  .table-result-container {\n",
       "    max-height: 300px;\n",
       "    overflow: auto;\n",
       "  }\n",
       "  table, th, td {\n",
       "    border: 1px solid black;\n",
       "    border-collapse: collapse;\n",
       "  }\n",
       "  th, td {\n",
       "    padding: 5px;\n",
       "  }\n",
       "  th {\n",
       "    text-align: left;\n",
       "  }\n",
       "</style><div class='table-result-container'><table class='table-result'><thead style='background-color: white'><tr><th>name</th><th>height</th><th>mass</th><th>hair_color</th><th>skin_color</th><th>eye_color</th><th>birth_year</th><th>sex</th><th>gender</th><th>homeworld</th><th>species</th><th>films</th><th>vehicles</th><th>starships</th></tr></thead><tbody><tr><td>Luke Skywalker</td><td>172</td><td>77</td><td>blond</td><td>fair</td><td>blue</td><td>19</td><td>male</td><td>masculine</td><td>Tatooine</td><td>Human</td><td>A New Hope, The Empire Strikes Back, Return of the Jedi, Revenge of the Sith, The Force Awakens</td><td>Snowspeeder, Imperial Speeder Bike</td><td>X-wing, Imperial shuttle</td></tr><tr><td>C-3PO</td><td>167</td><td>75</td><td>NA</td><td>gold</td><td>yellow</td><td>112</td><td>none</td><td>masculine</td><td>Tatooine</td><td>Droid</td><td>A New Hope, The Empire Strikes Back, Return of the Jedi, The Phantom Menace, Attack of the Clones, Revenge of the Sith</td><td>null</td><td>null</td></tr><tr><td>R2-D2</td><td>96</td><td>32</td><td>NA</td><td>white, blue</td><td>red</td><td>33</td><td>none</td><td>masculine</td><td>Naboo</td><td>Droid</td><td>A New Hope, The Empire Strikes Back, Return of the Jedi, The Phantom Menace, Attack of the Clones, Revenge of the Sith, The Force Awakens</td><td>null</td><td>null</td></tr><tr><td>Darth Vader</td><td>202</td><td>136</td><td>none</td><td>white</td><td>yellow</td><td>null</td><td>male</td><td>masculine</td><td>Tatooine</td><td>Human</td><td>A New Hope, The Empire Strikes Back, Return of the Jedi, Revenge of the Sith</td><td>null</td><td>TIE Advanced x1</td></tr><tr><td>Leia Organa</td><td>150</td><td>49</td><td>brown</td><td>light</td><td>brown</td><td>19</td><td>female</td><td>feminine</td><td>Alderaan</td><td>Human</td><td>A New Hope, The Empire Strikes Back, Return of the Jedi, Revenge of the Sith, The Force Awakens</td><td>Imperial Speeder Bike</td><td>null</td></tr><tr><td>Owen Lars</td><td>178</td><td>120</td><td>brown, grey</td><td>light</td><td>blue</td><td>52</td><td>male</td><td>masculine</td><td>Tatooine</td><td>Human</td><td>A New Hope, Attack of the Clones, Revenge of the Sith</td><td>null</td><td>null</td></tr><tr><td>Beru Whitesun Lars</td><td>165</td><td>75</td><td>brown</td><td>light</td><td>blue</td><td>47</td><td>female</td><td>feminine</td><td>Tatooine</td><td>Human</td><td>A New Hope, Attack of the Clones, Revenge of the Sith</td><td>null</td><td>null</td></tr><tr><td>R5-D4</td><td>97</td><td>32</td><td>NA</td><td>white, red</td><td>red</td><td>null</td><td>none</td><td>masculine</td><td>Tatooine</td><td>Droid</td><td>A New Hope</td><td>null</td><td>null</td></tr><tr><td>Biggs Darklighter</td><td>183</td><td>84</td><td>black</td><td>light</td><td>brown</td><td>24</td><td>male</td><td>masculine</td><td>Tatooine</td><td>Human</td><td>A New Hope</td><td>null</td><td>X-wing</td></tr><tr><td>Obi-Wan Kenobi</td><td>182</td><td>77</td><td>auburn, white</td><td>fair</td><td>blue-gray</td><td>57</td><td>male</td><td>masculine</td><td>Stewjon</td><td>Human</td><td>A New Hope, The Empire Strikes Back, Return of the Jedi, The Phantom Menace, Attack of the Clones, Revenge of the Sith</td><td>Tribubble bongo</td><td>Jedi starfighter, Trade Federation cruiser, Naboo star skiff, Jedi Interceptor, Belbullab-22 starfighter</td></tr><tr><td>Anakin Skywalker</td><td>188</td><td>84</td><td>blond</td><td>fair</td><td>blue</td><td>null</td><td>male</td><td>masculine</td><td>Tatooine</td><td>Human</td><td>The Phantom Menace, Attack of the Clones, Revenge of the Sith</td><td>Zephyr-G swoop bike, XJ-6 airspeeder</td><td>Naboo fighter, Trade Federation cruiser, Jedi Interceptor</td></tr><tr><td>Wilhuff Tarkin</td><td>180</td><td>null</td><td>auburn, grey</td><td>fair</td><td>blue</td><td>64</td><td>male</td><td>masculine</td><td>Eriadu</td><td>Human</td><td>A New Hope, Revenge of the Sith</td><td>null</td><td>null</td></tr><tr><td>Chewbacca</td><td>228</td><td>112</td><td>brown</td><td>unknown</td><td>blue</td><td>200</td><td>male</td><td>masculine</td><td>Kashyyyk</td><td>Wookiee</td><td>A New Hope, The Empire Strikes Back, Return of the Jedi, Revenge of the Sith, The Force Awakens</td><td>AT-ST</td><td>Millennium Falcon, Imperial shuttle</td></tr><tr><td>Han Solo</td><td>180</td><td>80</td><td>brown</td><td>fair</td><td>brown</td><td>29</td><td>male</td><td>masculine</td><td>Corellia</td><td>Human</td><td>A New Hope, The Empire Strikes Back, Return of the Jedi, The Force Awakens</td><td>null</td><td>Millennium Falcon, Imperial shuttle</td></tr><tr><td>Greedo</td><td>173</td><td>74</td><td>NA</td><td>green</td><td>black</td><td>44</td><td>male</td><td>masculine</td><td>Rodia</td><td>Rodian</td><td>A New Hope</td><td>null</td><td>null</td></tr><tr><td>Jabba Desilijic Tiure</td><td>175</td><td>1358</td><td>NA</td><td>green-tan, brown</td><td>orange</td><td>600</td><td>hermaphroditic</td><td>masculine</td><td>Nal Hutta</td><td>Hutt</td><td>A New Hope, Return of the Jedi, The Phantom Menace</td><td>null</td><td>null</td></tr><tr><td>Wedge Antilles</td><td>170</td><td>77</td><td>brown</td><td>fair</td><td>hazel</td><td>21</td><td>male</td><td>masculine</td><td>Corellia</td><td>Human</td><td>A New Hope, The Empire Strikes Back, Return of the Jedi</td><td>Snowspeeder</td><td>X-wing</td></tr><tr><td>Jek Tono Porkins</td><td>180</td><td>110</td><td>brown</td><td>fair</td><td>blue</td><td>null</td><td>NA</td><td>NA</td><td>Bestine IV</td><td>NA</td><td>A New Hope</td><td>null</td><td>X-wing</td></tr><tr><td>Yoda</td><td>66</td><td>17</td><td>white</td><td>green</td><td>brown</td><td>896</td><td>male</td><td>masculine</td><td>NA</td><td>Yoda's species</td><td>The Empire Strikes Back, Return of the Jedi, The Phantom Menace, Attack of the Clones, Revenge of the Sith</td><td>null</td><td>null</td></tr><tr><td>Palpatine</td><td>170</td><td>75</td><td>grey</td><td>pale</td><td>yellow</td><td>82</td><td>male</td><td>masculine</td><td>Naboo</td><td>Human</td><td>The Empire Strikes Back, Return of the Jedi, The Phantom Menace, Attack of the Clones, Revenge of the Sith</td><td>null</td><td>null</td></tr><tr><td>Boba Fett</td><td>183</td><td>null</td><td>black</td><td>fair</td><td>brown</td><td>null</td><td>male</td><td>masculine</td><td>Kamino</td><td>Human</td><td>The Empire Strikes Back, Return of the Jedi, Attack of the Clones</td><td>null</td><td>Slave 1</td></tr><tr><td>IG-88</td><td>200</td><td>140</td><td>none</td><td>metal</td><td>red</td><td>15</td><td>none</td><td>masculine</td><td>NA</td><td>Droid</td><td>The Empire Strikes Back</td><td>null</td><td>null</td></tr><tr><td>Bossk</td><td>190</td><td>113</td><td>none</td><td>green</td><td>red</td><td>53</td><td>male</td><td>masculine</td><td>Trandosha</td><td>Trandoshan</td><td>The Empire Strikes Back</td><td>null</td><td>null</td></tr><tr><td>Lando Calrissian</td><td>177</td><td>79</td><td>black</td><td>dark</td><td>brown</td><td>31</td><td>male</td><td>masculine</td><td>Socorro</td><td>Human</td><td>The Empire Strikes Back, Return of the Jedi</td><td>null</td><td>Millennium Falcon</td></tr><tr><td>Lobot</td><td>175</td><td>79</td><td>none</td><td>light</td><td>blue</td><td>37</td><td>male</td><td>masculine</td><td>Bespin</td><td>Human</td><td>The Empire Strikes Back</td><td>null</td><td>null</td></tr><tr><td>Ackbar</td><td>180</td><td>83</td><td>none</td><td>brown mottle</td><td>orange</td><td>41</td><td>male</td><td>masculine</td><td>Mon Cala</td><td>Mon Calamari</td><td>Return of the Jedi, The Force Awakens</td><td>null</td><td>null</td></tr><tr><td>Mon Mothma</td><td>150</td><td>null</td><td>auburn</td><td>fair</td><td>blue</td><td>48</td><td>female</td><td>feminine</td><td>Chandrila</td><td>Human</td><td>Return of the Jedi</td><td>null</td><td>null</td></tr><tr><td>Arvel Crynyd</td><td>null</td><td>null</td><td>brown</td><td>fair</td><td>brown</td><td>null</td><td>male</td><td>masculine</td><td>NA</td><td>Human</td><td>Return of the Jedi</td><td>null</td><td>A-wing</td></tr><tr><td>Wicket Systri Warrick</td><td>88</td><td>20</td><td>brown</td><td>brown</td><td>brown</td><td>8</td><td>male</td><td>masculine</td><td>Endor</td><td>Ewok</td><td>Return of the Jedi</td><td>null</td><td>null</td></tr><tr><td>Nien Nunb</td><td>160</td><td>68</td><td>none</td><td>grey</td><td>black</td><td>null</td><td>male</td><td>masculine</td><td>Sullust</td><td>Sullustan</td><td>Return of the Jedi</td><td>null</td><td>Millennium Falcon</td></tr><tr><td>Qui-Gon Jinn</td><td>193</td><td>89</td><td>brown</td><td>fair</td><td>blue</td><td>92</td><td>male</td><td>masculine</td><td>NA</td><td>Human</td><td>The Phantom Menace</td><td>Tribubble bongo</td><td>null</td></tr><tr><td>Nute Gunray</td><td>191</td><td>90</td><td>none</td><td>mottled green</td><td>red</td><td>null</td><td>male</td><td>masculine</td><td>Cato Neimoidia</td><td>Neimodian</td><td>The Phantom Menace, Attack of the Clones, Revenge of the Sith</td><td>null</td><td>null</td></tr><tr><td>Finis Valorum</td><td>170</td><td>null</td><td>blond</td><td>fair</td><td>blue</td><td>91</td><td>male</td><td>masculine</td><td>Coruscant</td><td>Human</td><td>The Phantom Menace</td><td>null</td><td>null</td></tr><tr><td>Padmé Amidala</td><td>185</td><td>45</td><td>brown</td><td>light</td><td>brown</td><td>46</td><td>female</td><td>feminine</td><td>Naboo</td><td>Human</td><td>The Phantom Menace, Attack of the Clones, Revenge of the Sith</td><td>null</td><td>Naboo fighter, H-type Nubian yacht, Naboo star skiff</td></tr><tr><td>Jar Jar Binks</td><td>196</td><td>66</td><td>none</td><td>orange</td><td>orange</td><td>52</td><td>male</td><td>masculine</td><td>Naboo</td><td>Gungan</td><td>The Phantom Menace, Attack of the Clones</td><td>null</td><td>null</td></tr><tr><td>Roos Tarpals</td><td>224</td><td>82</td><td>none</td><td>grey</td><td>orange</td><td>null</td><td>male</td><td>masculine</td><td>Naboo</td><td>Gungan</td><td>The Phantom Menace</td><td>null</td><td>null</td></tr><tr><td>Rugor Nass</td><td>206</td><td>null</td><td>none</td><td>green</td><td>orange</td><td>null</td><td>male</td><td>masculine</td><td>Naboo</td><td>Gungan</td><td>The Phantom Menace</td><td>null</td><td>null</td></tr><tr><td>Ric Olié</td><td>183</td><td>null</td><td>brown</td><td>fair</td><td>blue</td><td>null</td><td>male</td><td>masculine</td><td>Naboo</td><td>Human</td><td>The Phantom Menace</td><td>null</td><td>Naboo Royal Starship</td></tr><tr><td>Watto</td><td>137</td><td>null</td><td>black</td><td>blue, grey</td><td>yellow</td><td>null</td><td>male</td><td>masculine</td><td>Toydaria</td><td>Toydarian</td><td>The Phantom Menace, Attack of the Clones</td><td>null</td><td>null</td></tr><tr><td>Sebulba</td><td>112</td><td>40</td><td>none</td><td>grey, red</td><td>orange</td><td>null</td><td>male</td><td>masculine</td><td>Malastare</td><td>Dug</td><td>The Phantom Menace</td><td>null</td><td>null</td></tr><tr><td>Quarsh Panaka</td><td>183</td><td>null</td><td>black</td><td>dark</td><td>brown</td><td>62</td><td>male</td><td>masculine</td><td>Naboo</td><td>Human</td><td>The Phantom Menace</td><td>null</td><td>null</td></tr><tr><td>Shmi Skywalker</td><td>163</td><td>null</td><td>black</td><td>fair</td><td>brown</td><td>72</td><td>female</td><td>feminine</td><td>Tatooine</td><td>Human</td><td>The Phantom Menace, Attack of the Clones</td><td>null</td><td>null</td></tr><tr><td>Darth Maul</td><td>175</td><td>80</td><td>none</td><td>red</td><td>yellow</td><td>54</td><td>male</td><td>masculine</td><td>Dathomir</td><td>Zabrak</td><td>The Phantom Menace</td><td>Sith speeder</td><td>Scimitar</td></tr><tr><td>Bib Fortuna</td><td>180</td><td>null</td><td>none</td><td>pale</td><td>pink</td><td>null</td><td>male</td><td>masculine</td><td>Ryloth</td><td>Twi'lek</td><td>Return of the Jedi</td><td>null</td><td>null</td></tr><tr><td>Ayla Secura</td><td>178</td><td>55</td><td>none</td><td>blue</td><td>hazel</td><td>48</td><td>female</td><td>feminine</td><td>Ryloth</td><td>Twi'lek</td><td>The Phantom Menace, Attack of the Clones, Revenge of the Sith</td><td>null</td><td>null</td></tr><tr><td>Ratts Tyerel</td><td>79</td><td>15</td><td>none</td><td>grey, blue</td><td>unknown</td><td>null</td><td>male</td><td>masculine</td><td>Aleen Minor</td><td>Aleena</td><td>The Phantom Menace</td><td>null</td><td>null</td></tr><tr><td>Dud Bolt</td><td>94</td><td>45</td><td>none</td><td>blue, grey</td><td>yellow</td><td>null</td><td>male</td><td>masculine</td><td>Vulpter</td><td>Vulptereen</td><td>The Phantom Menace</td><td>null</td><td>null</td></tr><tr><td>Gasgano</td><td>122</td><td>null</td><td>none</td><td>white, blue</td><td>black</td><td>null</td><td>male</td><td>masculine</td><td>Troiken</td><td>Xexto</td><td>The Phantom Menace</td><td>null</td><td>null</td></tr><tr><td>Ben Quadinaros</td><td>163</td><td>65</td><td>none</td><td>grey, green, yellow</td><td>orange</td><td>null</td><td>male</td><td>masculine</td><td>Tund</td><td>Toong</td><td>The Phantom Menace</td><td>null</td><td>null</td></tr><tr><td>Mace Windu</td><td>188</td><td>84</td><td>none</td><td>dark</td><td>brown</td><td>72</td><td>male</td><td>masculine</td><td>Haruun Kal</td><td>Human</td><td>The Phantom Menace, Attack of the Clones, Revenge of the Sith</td><td>null</td><td>null</td></tr><tr><td>Ki-Adi-Mundi</td><td>198</td><td>82</td><td>white</td><td>pale</td><td>yellow</td><td>92</td><td>male</td><td>masculine</td><td>Cerea</td><td>Cerean</td><td>The Phantom Menace, Attack of the Clones, Revenge of the Sith</td><td>null</td><td>null</td></tr><tr><td>Kit Fisto</td><td>196</td><td>87</td><td>none</td><td>green</td><td>black</td><td>null</td><td>male</td><td>masculine</td><td>Glee Anselm</td><td>Nautolan</td><td>The Phantom Menace, Attack of the Clones, Revenge of the Sith</td><td>null</td><td>null</td></tr><tr><td>Eeth Koth</td><td>171</td><td>null</td><td>black</td><td>brown</td><td>brown</td><td>null</td><td>male</td><td>masculine</td><td>Iridonia</td><td>Zabrak</td><td>The Phantom Menace, Revenge of the Sith</td><td>null</td><td>null</td></tr><tr><td>Adi Gallia</td><td>184</td><td>50</td><td>none</td><td>dark</td><td>blue</td><td>null</td><td>female</td><td>feminine</td><td>Coruscant</td><td>Tholothian</td><td>The Phantom Menace, Revenge of the Sith</td><td>null</td><td>null</td></tr><tr><td>Saesee Tiin</td><td>188</td><td>null</td><td>none</td><td>pale</td><td>orange</td><td>null</td><td>male</td><td>masculine</td><td>Iktotch</td><td>Iktotchi</td><td>The Phantom Menace, Revenge of the Sith</td><td>null</td><td>null</td></tr><tr><td>Yarael Poof</td><td>264</td><td>null</td><td>none</td><td>white</td><td>yellow</td><td>null</td><td>male</td><td>masculine</td><td>Quermia</td><td>Quermian</td><td>The Phantom Menace</td><td>null</td><td>null</td></tr><tr><td>Plo Koon</td><td>188</td><td>80</td><td>none</td><td>orange</td><td>black</td><td>22</td><td>male</td><td>masculine</td><td>Dorin</td><td>Kel Dor</td><td>The Phantom Menace, Attack of the Clones, Revenge of the Sith</td><td>null</td><td>Jedi starfighter</td></tr><tr><td>Mas Amedda</td><td>196</td><td>null</td><td>none</td><td>blue</td><td>blue</td><td>null</td><td>male</td><td>masculine</td><td>Champala</td><td>Chagrian</td><td>The Phantom Menace, Attack of the Clones</td><td>null</td><td>null</td></tr><tr><td>Gregar Typho</td><td>185</td><td>85</td><td>black</td><td>dark</td><td>brown</td><td>null</td><td>NA</td><td>NA</td><td>Naboo</td><td>NA</td><td>Attack of the Clones</td><td>null</td><td>Naboo fighter</td></tr><tr><td>Cordé</td><td>157</td><td>null</td><td>brown</td><td>light</td><td>brown</td><td>null</td><td>NA</td><td>NA</td><td>Naboo</td><td>NA</td><td>Attack of the Clones</td><td>null</td><td>null</td></tr><tr><td>Cliegg Lars</td><td>183</td><td>null</td><td>brown</td><td>fair</td><td>blue</td><td>82</td><td>male</td><td>masculine</td><td>Tatooine</td><td>Human</td><td>Attack of the Clones</td><td>null</td><td>null</td></tr><tr><td>Poggle the Lesser</td><td>183</td><td>80</td><td>none</td><td>green</td><td>yellow</td><td>null</td><td>male</td><td>masculine</td><td>Geonosis</td><td>Geonosian</td><td>Attack of the Clones, Revenge of the Sith</td><td>null</td><td>null</td></tr><tr><td>Luminara Unduli</td><td>170</td><td>null</td><td>black</td><td>yellow</td><td>blue</td><td>58</td><td>female</td><td>feminine</td><td>Mirial</td><td>Mirialan</td><td>Attack of the Clones, Revenge of the Sith</td><td>null</td><td>null</td></tr><tr><td>Barriss Offee</td><td>166</td><td>50</td><td>black</td><td>yellow</td><td>blue</td><td>40</td><td>female</td><td>feminine</td><td>Mirial</td><td>Mirialan</td><td>Attack of the Clones</td><td>null</td><td>null</td></tr><tr><td>Dormé</td><td>165</td><td>null</td><td>brown</td><td>light</td><td>brown</td><td>null</td><td>female</td><td>feminine</td><td>Naboo</td><td>Human</td><td>Attack of the Clones</td><td>null</td><td>null</td></tr><tr><td>Dooku</td><td>193</td><td>80</td><td>white</td><td>fair</td><td>brown</td><td>102</td><td>male</td><td>masculine</td><td>Serenno</td><td>Human</td><td>Attack of the Clones, Revenge of the Sith</td><td>Flitknot speeder</td><td>null</td></tr><tr><td>Bail Prestor Organa</td><td>191</td><td>null</td><td>black</td><td>tan</td><td>brown</td><td>67</td><td>male</td><td>masculine</td><td>Alderaan</td><td>Human</td><td>Attack of the Clones, Revenge of the Sith</td><td>null</td><td>null</td></tr><tr><td>Jango Fett</td><td>183</td><td>79</td><td>black</td><td>tan</td><td>brown</td><td>66</td><td>male</td><td>masculine</td><td>Concord Dawn</td><td>Human</td><td>Attack of the Clones</td><td>null</td><td>null</td></tr><tr><td>Zam Wesell</td><td>168</td><td>55</td><td>blonde</td><td>fair, green, yellow</td><td>yellow</td><td>null</td><td>female</td><td>feminine</td><td>Zolan</td><td>Clawdite</td><td>Attack of the Clones</td><td>Koro-2 Exodrive airspeeder</td><td>null</td></tr><tr><td>Dexter Jettster</td><td>198</td><td>102</td><td>none</td><td>brown</td><td>yellow</td><td>null</td><td>male</td><td>masculine</td><td>Ojom</td><td>Besalisk</td><td>Attack of the Clones</td><td>null</td><td>null</td></tr><tr><td>Lama Su</td><td>229</td><td>88</td><td>none</td><td>grey</td><td>black</td><td>null</td><td>male</td><td>masculine</td><td>Kamino</td><td>Kaminoan</td><td>Attack of the Clones</td><td>null</td><td>null</td></tr><tr><td>Taun We</td><td>213</td><td>null</td><td>none</td><td>grey</td><td>black</td><td>null</td><td>female</td><td>feminine</td><td>Kamino</td><td>Kaminoan</td><td>Attack of the Clones</td><td>null</td><td>null</td></tr><tr><td>Jocasta Nu</td><td>167</td><td>null</td><td>white</td><td>fair</td><td>blue</td><td>null</td><td>female</td><td>feminine</td><td>Coruscant</td><td>Human</td><td>Attack of the Clones</td><td>null</td><td>null</td></tr><tr><td>R4-P17</td><td>96</td><td>null</td><td>none</td><td>silver, red</td><td>red, blue</td><td>null</td><td>none</td><td>feminine</td><td>NA</td><td>Droid</td><td>Attack of the Clones, Revenge of the Sith</td><td>null</td><td>null</td></tr><tr><td>Wat Tambor</td><td>193</td><td>48</td><td>none</td><td>green, grey</td><td>unknown</td><td>null</td><td>male</td><td>masculine</td><td>Skako</td><td>Skakoan</td><td>Attack of the Clones</td><td>null</td><td>null</td></tr><tr><td>San Hill</td><td>191</td><td>null</td><td>none</td><td>grey</td><td>gold</td><td>null</td><td>male</td><td>masculine</td><td>Muunilinst</td><td>Muun</td><td>Attack of the Clones</td><td>null</td><td>null</td></tr><tr><td>Shaak Ti</td><td>178</td><td>57</td><td>none</td><td>red, blue, white</td><td>black</td><td>null</td><td>female</td><td>feminine</td><td>Shili</td><td>Togruta</td><td>Attack of the Clones, Revenge of the Sith</td><td>null</td><td>null</td></tr><tr><td>Grievous</td><td>216</td><td>159</td><td>none</td><td>brown, white</td><td>green, yellow</td><td>null</td><td>male</td><td>masculine</td><td>Kalee</td><td>Kaleesh</td><td>Revenge of the Sith</td><td>Tsmeu-6 personal wheel bike</td><td>Belbullab-22 starfighter</td></tr><tr><td>Tarfful</td><td>234</td><td>136</td><td>brown</td><td>brown</td><td>blue</td><td>null</td><td>male</td><td>masculine</td><td>Kashyyyk</td><td>Wookiee</td><td>Revenge of the Sith</td><td>null</td><td>null</td></tr><tr><td>Raymus Antilles</td><td>188</td><td>79</td><td>brown</td><td>light</td><td>brown</td><td>null</td><td>male</td><td>masculine</td><td>Alderaan</td><td>Human</td><td>A New Hope, Revenge of the Sith</td><td>null</td><td>null</td></tr><tr><td>Sly Moore</td><td>178</td><td>48</td><td>none</td><td>pale</td><td>white</td><td>null</td><td>NA</td><td>NA</td><td>Umbara</td><td>NA</td><td>Attack of the Clones, Revenge of the Sith</td><td>null</td><td>null</td></tr><tr><td>Tion Medon</td><td>206</td><td>80</td><td>none</td><td>grey</td><td>black</td><td>null</td><td>male</td><td>masculine</td><td>Utapau</td><td>Pau'an</td><td>Revenge of the Sith</td><td>null</td><td>null</td></tr><tr><td>Finn</td><td>null</td><td>null</td><td>black</td><td>dark</td><td>dark</td><td>null</td><td>male</td><td>masculine</td><td>NA</td><td>Human</td><td>The Force Awakens</td><td>null</td><td>null</td></tr><tr><td>Rey</td><td>null</td><td>null</td><td>brown</td><td>light</td><td>hazel</td><td>null</td><td>female</td><td>feminine</td><td>NA</td><td>Human</td><td>The Force Awakens</td><td>null</td><td>null</td></tr><tr><td>Poe Dameron</td><td>null</td><td>null</td><td>brown</td><td>light</td><td>brown</td><td>null</td><td>male</td><td>masculine</td><td>NA</td><td>Human</td><td>The Force Awakens</td><td>null</td><td>X-wing</td></tr><tr><td>BB8</td><td>null</td><td>null</td><td>none</td><td>none</td><td>black</td><td>null</td><td>none</td><td>masculine</td><td>NA</td><td>Droid</td><td>The Force Awakens</td><td>null</td><td>null</td></tr><tr><td>Captain Phasma</td><td>null</td><td>null</td><td>none</td><td>none</td><td>unknown</td><td>null</td><td>female</td><td>feminine</td><td>NA</td><td>Human</td><td>The Force Awakens</td><td>null</td><td>null</td></tr></tbody></table></div>"
      ]
     },
     "metadata": {
      "application/vnd.databricks.v1+output": {
       "addedWidgets": {},
       "aggData": [],
       "aggError": "",
       "aggOverflow": false,
       "aggSchema": [],
       "aggSeriesLimitReached": false,
       "aggType": "",
       "arguments": {},
       "columnCustomDisplayInfos": {},
       "data": [
        [
         "Luke Skywalker",
         172,
         77,
         "blond",
         "fair",
         "blue",
         19,
         "male",
         "masculine",
         "Tatooine",
         "Human",
         "A New Hope, The Empire Strikes Back, Return of the Jedi, Revenge of the Sith, The Force Awakens",
         "Snowspeeder, Imperial Speeder Bike",
         "X-wing, Imperial shuttle"
        ],
        [
         "C-3PO",
         167,
         75,
         "NA",
         "gold",
         "yellow",
         112,
         "none",
         "masculine",
         "Tatooine",
         "Droid",
         "A New Hope, The Empire Strikes Back, Return of the Jedi, The Phantom Menace, Attack of the Clones, Revenge of the Sith",
         null,
         null
        ],
        [
         "R2-D2",
         96,
         32,
         "NA",
         "white, blue",
         "red",
         33,
         "none",
         "masculine",
         "Naboo",
         "Droid",
         "A New Hope, The Empire Strikes Back, Return of the Jedi, The Phantom Menace, Attack of the Clones, Revenge of the Sith, The Force Awakens",
         null,
         null
        ],
        [
         "Darth Vader",
         202,
         136,
         "none",
         "white",
         "yellow",
         null,
         "male",
         "masculine",
         "Tatooine",
         "Human",
         "A New Hope, The Empire Strikes Back, Return of the Jedi, Revenge of the Sith",
         null,
         "TIE Advanced x1"
        ],
        [
         "Leia Organa",
         150,
         49,
         "brown",
         "light",
         "brown",
         19,
         "female",
         "feminine",
         "Alderaan",
         "Human",
         "A New Hope, The Empire Strikes Back, Return of the Jedi, Revenge of the Sith, The Force Awakens",
         "Imperial Speeder Bike",
         null
        ],
        [
         "Owen Lars",
         178,
         120,
         "brown, grey",
         "light",
         "blue",
         52,
         "male",
         "masculine",
         "Tatooine",
         "Human",
         "A New Hope, Attack of the Clones, Revenge of the Sith",
         null,
         null
        ],
        [
         "Beru Whitesun Lars",
         165,
         75,
         "brown",
         "light",
         "blue",
         47,
         "female",
         "feminine",
         "Tatooine",
         "Human",
         "A New Hope, Attack of the Clones, Revenge of the Sith",
         null,
         null
        ],
        [
         "R5-D4",
         97,
         32,
         "NA",
         "white, red",
         "red",
         null,
         "none",
         "masculine",
         "Tatooine",
         "Droid",
         "A New Hope",
         null,
         null
        ],
        [
         "Biggs Darklighter",
         183,
         84,
         "black",
         "light",
         "brown",
         24,
         "male",
         "masculine",
         "Tatooine",
         "Human",
         "A New Hope",
         null,
         "X-wing"
        ],
        [
         "Obi-Wan Kenobi",
         182,
         77,
         "auburn, white",
         "fair",
         "blue-gray",
         57,
         "male",
         "masculine",
         "Stewjon",
         "Human",
         "A New Hope, The Empire Strikes Back, Return of the Jedi, The Phantom Menace, Attack of the Clones, Revenge of the Sith",
         "Tribubble bongo",
         "Jedi starfighter, Trade Federation cruiser, Naboo star skiff, Jedi Interceptor, Belbullab-22 starfighter"
        ],
        [
         "Anakin Skywalker",
         188,
         84,
         "blond",
         "fair",
         "blue",
         null,
         "male",
         "masculine",
         "Tatooine",
         "Human",
         "The Phantom Menace, Attack of the Clones, Revenge of the Sith",
         "Zephyr-G swoop bike, XJ-6 airspeeder",
         "Naboo fighter, Trade Federation cruiser, Jedi Interceptor"
        ],
        [
         "Wilhuff Tarkin",
         180,
         null,
         "auburn, grey",
         "fair",
         "blue",
         64,
         "male",
         "masculine",
         "Eriadu",
         "Human",
         "A New Hope, Revenge of the Sith",
         null,
         null
        ],
        [
         "Chewbacca",
         228,
         112,
         "brown",
         "unknown",
         "blue",
         200,
         "male",
         "masculine",
         "Kashyyyk",
         "Wookiee",
         "A New Hope, The Empire Strikes Back, Return of the Jedi, Revenge of the Sith, The Force Awakens",
         "AT-ST",
         "Millennium Falcon, Imperial shuttle"
        ],
        [
         "Han Solo",
         180,
         80,
         "brown",
         "fair",
         "brown",
         29,
         "male",
         "masculine",
         "Corellia",
         "Human",
         "A New Hope, The Empire Strikes Back, Return of the Jedi, The Force Awakens",
         null,
         "Millennium Falcon, Imperial shuttle"
        ],
        [
         "Greedo",
         173,
         74,
         "NA",
         "green",
         "black",
         44,
         "male",
         "masculine",
         "Rodia",
         "Rodian",
         "A New Hope",
         null,
         null
        ],
        [
         "Jabba Desilijic Tiure",
         175,
         1358,
         "NA",
         "green-tan, brown",
         "orange",
         600,
         "hermaphroditic",
         "masculine",
         "Nal Hutta",
         "Hutt",
         "A New Hope, Return of the Jedi, The Phantom Menace",
         null,
         null
        ],
        [
         "Wedge Antilles",
         170,
         77,
         "brown",
         "fair",
         "hazel",
         21,
         "male",
         "masculine",
         "Corellia",
         "Human",
         "A New Hope, The Empire Strikes Back, Return of the Jedi",
         "Snowspeeder",
         "X-wing"
        ],
        [
         "Jek Tono Porkins",
         180,
         110,
         "brown",
         "fair",
         "blue",
         null,
         "NA",
         "NA",
         "Bestine IV",
         "NA",
         "A New Hope",
         null,
         "X-wing"
        ],
        [
         "Yoda",
         66,
         17,
         "white",
         "green",
         "brown",
         896,
         "male",
         "masculine",
         "NA",
         "Yoda's species",
         "The Empire Strikes Back, Return of the Jedi, The Phantom Menace, Attack of the Clones, Revenge of the Sith",
         null,
         null
        ],
        [
         "Palpatine",
         170,
         75,
         "grey",
         "pale",
         "yellow",
         82,
         "male",
         "masculine",
         "Naboo",
         "Human",
         "The Empire Strikes Back, Return of the Jedi, The Phantom Menace, Attack of the Clones, Revenge of the Sith",
         null,
         null
        ],
        [
         "Boba Fett",
         183,
         null,
         "black",
         "fair",
         "brown",
         null,
         "male",
         "masculine",
         "Kamino",
         "Human",
         "The Empire Strikes Back, Return of the Jedi, Attack of the Clones",
         null,
         "Slave 1"
        ],
        [
         "IG-88",
         200,
         140,
         "none",
         "metal",
         "red",
         15,
         "none",
         "masculine",
         "NA",
         "Droid",
         "The Empire Strikes Back",
         null,
         null
        ],
        [
         "Bossk",
         190,
         113,
         "none",
         "green",
         "red",
         53,
         "male",
         "masculine",
         "Trandosha",
         "Trandoshan",
         "The Empire Strikes Back",
         null,
         null
        ],
        [
         "Lando Calrissian",
         177,
         79,
         "black",
         "dark",
         "brown",
         31,
         "male",
         "masculine",
         "Socorro",
         "Human",
         "The Empire Strikes Back, Return of the Jedi",
         null,
         "Millennium Falcon"
        ],
        [
         "Lobot",
         175,
         79,
         "none",
         "light",
         "blue",
         37,
         "male",
         "masculine",
         "Bespin",
         "Human",
         "The Empire Strikes Back",
         null,
         null
        ],
        [
         "Ackbar",
         180,
         83,
         "none",
         "brown mottle",
         "orange",
         41,
         "male",
         "masculine",
         "Mon Cala",
         "Mon Calamari",
         "Return of the Jedi, The Force Awakens",
         null,
         null
        ],
        [
         "Mon Mothma",
         150,
         null,
         "auburn",
         "fair",
         "blue",
         48,
         "female",
         "feminine",
         "Chandrila",
         "Human",
         "Return of the Jedi",
         null,
         null
        ],
        [
         "Arvel Crynyd",
         null,
         null,
         "brown",
         "fair",
         "brown",
         null,
         "male",
         "masculine",
         "NA",
         "Human",
         "Return of the Jedi",
         null,
         "A-wing"
        ],
        [
         "Wicket Systri Warrick",
         88,
         20,
         "brown",
         "brown",
         "brown",
         8,
         "male",
         "masculine",
         "Endor",
         "Ewok",
         "Return of the Jedi",
         null,
         null
        ],
        [
         "Nien Nunb",
         160,
         68,
         "none",
         "grey",
         "black",
         null,
         "male",
         "masculine",
         "Sullust",
         "Sullustan",
         "Return of the Jedi",
         null,
         "Millennium Falcon"
        ],
        [
         "Qui-Gon Jinn",
         193,
         89,
         "brown",
         "fair",
         "blue",
         92,
         "male",
         "masculine",
         "NA",
         "Human",
         "The Phantom Menace",
         "Tribubble bongo",
         null
        ],
        [
         "Nute Gunray",
         191,
         90,
         "none",
         "mottled green",
         "red",
         null,
         "male",
         "masculine",
         "Cato Neimoidia",
         "Neimodian",
         "The Phantom Menace, Attack of the Clones, Revenge of the Sith",
         null,
         null
        ],
        [
         "Finis Valorum",
         170,
         null,
         "blond",
         "fair",
         "blue",
         91,
         "male",
         "masculine",
         "Coruscant",
         "Human",
         "The Phantom Menace",
         null,
         null
        ],
        [
         "Padmé Amidala",
         185,
         45,
         "brown",
         "light",
         "brown",
         46,
         "female",
         "feminine",
         "Naboo",
         "Human",
         "The Phantom Menace, Attack of the Clones, Revenge of the Sith",
         null,
         "Naboo fighter, H-type Nubian yacht, Naboo star skiff"
        ],
        [
         "Jar Jar Binks",
         196,
         66,
         "none",
         "orange",
         "orange",
         52,
         "male",
         "masculine",
         "Naboo",
         "Gungan",
         "The Phantom Menace, Attack of the Clones",
         null,
         null
        ],
        [
         "Roos Tarpals",
         224,
         82,
         "none",
         "grey",
         "orange",
         null,
         "male",
         "masculine",
         "Naboo",
         "Gungan",
         "The Phantom Menace",
         null,
         null
        ],
        [
         "Rugor Nass",
         206,
         null,
         "none",
         "green",
         "orange",
         null,
         "male",
         "masculine",
         "Naboo",
         "Gungan",
         "The Phantom Menace",
         null,
         null
        ],
        [
         "Ric Olié",
         183,
         null,
         "brown",
         "fair",
         "blue",
         null,
         "male",
         "masculine",
         "Naboo",
         "Human",
         "The Phantom Menace",
         null,
         "Naboo Royal Starship"
        ],
        [
         "Watto",
         137,
         null,
         "black",
         "blue, grey",
         "yellow",
         null,
         "male",
         "masculine",
         "Toydaria",
         "Toydarian",
         "The Phantom Menace, Attack of the Clones",
         null,
         null
        ],
        [
         "Sebulba",
         112,
         40,
         "none",
         "grey, red",
         "orange",
         null,
         "male",
         "masculine",
         "Malastare",
         "Dug",
         "The Phantom Menace",
         null,
         null
        ],
        [
         "Quarsh Panaka",
         183,
         null,
         "black",
         "dark",
         "brown",
         62,
         "male",
         "masculine",
         "Naboo",
         "Human",
         "The Phantom Menace",
         null,
         null
        ],
        [
         "Shmi Skywalker",
         163,
         null,
         "black",
         "fair",
         "brown",
         72,
         "female",
         "feminine",
         "Tatooine",
         "Human",
         "The Phantom Menace, Attack of the Clones",
         null,
         null
        ],
        [
         "Darth Maul",
         175,
         80,
         "none",
         "red",
         "yellow",
         54,
         "male",
         "masculine",
         "Dathomir",
         "Zabrak",
         "The Phantom Menace",
         "Sith speeder",
         "Scimitar"
        ],
        [
         "Bib Fortuna",
         180,
         null,
         "none",
         "pale",
         "pink",
         null,
         "male",
         "masculine",
         "Ryloth",
         "Twi'lek",
         "Return of the Jedi",
         null,
         null
        ],
        [
         "Ayla Secura",
         178,
         55,
         "none",
         "blue",
         "hazel",
         48,
         "female",
         "feminine",
         "Ryloth",
         "Twi'lek",
         "The Phantom Menace, Attack of the Clones, Revenge of the Sith",
         null,
         null
        ],
        [
         "Ratts Tyerel",
         79,
         15,
         "none",
         "grey, blue",
         "unknown",
         null,
         "male",
         "masculine",
         "Aleen Minor",
         "Aleena",
         "The Phantom Menace",
         null,
         null
        ],
        [
         "Dud Bolt",
         94,
         45,
         "none",
         "blue, grey",
         "yellow",
         null,
         "male",
         "masculine",
         "Vulpter",
         "Vulptereen",
         "The Phantom Menace",
         null,
         null
        ],
        [
         "Gasgano",
         122,
         null,
         "none",
         "white, blue",
         "black",
         null,
         "male",
         "masculine",
         "Troiken",
         "Xexto",
         "The Phantom Menace",
         null,
         null
        ],
        [
         "Ben Quadinaros",
         163,
         65,
         "none",
         "grey, green, yellow",
         "orange",
         null,
         "male",
         "masculine",
         "Tund",
         "Toong",
         "The Phantom Menace",
         null,
         null
        ],
        [
         "Mace Windu",
         188,
         84,
         "none",
         "dark",
         "brown",
         72,
         "male",
         "masculine",
         "Haruun Kal",
         "Human",
         "The Phantom Menace, Attack of the Clones, Revenge of the Sith",
         null,
         null
        ],
        [
         "Ki-Adi-Mundi",
         198,
         82,
         "white",
         "pale",
         "yellow",
         92,
         "male",
         "masculine",
         "Cerea",
         "Cerean",
         "The Phantom Menace, Attack of the Clones, Revenge of the Sith",
         null,
         null
        ],
        [
         "Kit Fisto",
         196,
         87,
         "none",
         "green",
         "black",
         null,
         "male",
         "masculine",
         "Glee Anselm",
         "Nautolan",
         "The Phantom Menace, Attack of the Clones, Revenge of the Sith",
         null,
         null
        ],
        [
         "Eeth Koth",
         171,
         null,
         "black",
         "brown",
         "brown",
         null,
         "male",
         "masculine",
         "Iridonia",
         "Zabrak",
         "The Phantom Menace, Revenge of the Sith",
         null,
         null
        ],
        [
         "Adi Gallia",
         184,
         50,
         "none",
         "dark",
         "blue",
         null,
         "female",
         "feminine",
         "Coruscant",
         "Tholothian",
         "The Phantom Menace, Revenge of the Sith",
         null,
         null
        ],
        [
         "Saesee Tiin",
         188,
         null,
         "none",
         "pale",
         "orange",
         null,
         "male",
         "masculine",
         "Iktotch",
         "Iktotchi",
         "The Phantom Menace, Revenge of the Sith",
         null,
         null
        ],
        [
         "Yarael Poof",
         264,
         null,
         "none",
         "white",
         "yellow",
         null,
         "male",
         "masculine",
         "Quermia",
         "Quermian",
         "The Phantom Menace",
         null,
         null
        ],
        [
         "Plo Koon",
         188,
         80,
         "none",
         "orange",
         "black",
         22,
         "male",
         "masculine",
         "Dorin",
         "Kel Dor",
         "The Phantom Menace, Attack of the Clones, Revenge of the Sith",
         null,
         "Jedi starfighter"
        ],
        [
         "Mas Amedda",
         196,
         null,
         "none",
         "blue",
         "blue",
         null,
         "male",
         "masculine",
         "Champala",
         "Chagrian",
         "The Phantom Menace, Attack of the Clones",
         null,
         null
        ],
        [
         "Gregar Typho",
         185,
         85,
         "black",
         "dark",
         "brown",
         null,
         "NA",
         "NA",
         "Naboo",
         "NA",
         "Attack of the Clones",
         null,
         "Naboo fighter"
        ],
        [
         "Cordé",
         157,
         null,
         "brown",
         "light",
         "brown",
         null,
         "NA",
         "NA",
         "Naboo",
         "NA",
         "Attack of the Clones",
         null,
         null
        ],
        [
         "Cliegg Lars",
         183,
         null,
         "brown",
         "fair",
         "blue",
         82,
         "male",
         "masculine",
         "Tatooine",
         "Human",
         "Attack of the Clones",
         null,
         null
        ],
        [
         "Poggle the Lesser",
         183,
         80,
         "none",
         "green",
         "yellow",
         null,
         "male",
         "masculine",
         "Geonosis",
         "Geonosian",
         "Attack of the Clones, Revenge of the Sith",
         null,
         null
        ],
        [
         "Luminara Unduli",
         170,
         null,
         "black",
         "yellow",
         "blue",
         58,
         "female",
         "feminine",
         "Mirial",
         "Mirialan",
         "Attack of the Clones, Revenge of the Sith",
         null,
         null
        ],
        [
         "Barriss Offee",
         166,
         50,
         "black",
         "yellow",
         "blue",
         40,
         "female",
         "feminine",
         "Mirial",
         "Mirialan",
         "Attack of the Clones",
         null,
         null
        ],
        [
         "Dormé",
         165,
         null,
         "brown",
         "light",
         "brown",
         null,
         "female",
         "feminine",
         "Naboo",
         "Human",
         "Attack of the Clones",
         null,
         null
        ],
        [
         "Dooku",
         193,
         80,
         "white",
         "fair",
         "brown",
         102,
         "male",
         "masculine",
         "Serenno",
         "Human",
         "Attack of the Clones, Revenge of the Sith",
         "Flitknot speeder",
         null
        ],
        [
         "Bail Prestor Organa",
         191,
         null,
         "black",
         "tan",
         "brown",
         67,
         "male",
         "masculine",
         "Alderaan",
         "Human",
         "Attack of the Clones, Revenge of the Sith",
         null,
         null
        ],
        [
         "Jango Fett",
         183,
         79,
         "black",
         "tan",
         "brown",
         66,
         "male",
         "masculine",
         "Concord Dawn",
         "Human",
         "Attack of the Clones",
         null,
         null
        ],
        [
         "Zam Wesell",
         168,
         55,
         "blonde",
         "fair, green, yellow",
         "yellow",
         null,
         "female",
         "feminine",
         "Zolan",
         "Clawdite",
         "Attack of the Clones",
         "Koro-2 Exodrive airspeeder",
         null
        ],
        [
         "Dexter Jettster",
         198,
         102,
         "none",
         "brown",
         "yellow",
         null,
         "male",
         "masculine",
         "Ojom",
         "Besalisk",
         "Attack of the Clones",
         null,
         null
        ],
        [
         "Lama Su",
         229,
         88,
         "none",
         "grey",
         "black",
         null,
         "male",
         "masculine",
         "Kamino",
         "Kaminoan",
         "Attack of the Clones",
         null,
         null
        ],
        [
         "Taun We",
         213,
         null,
         "none",
         "grey",
         "black",
         null,
         "female",
         "feminine",
         "Kamino",
         "Kaminoan",
         "Attack of the Clones",
         null,
         null
        ],
        [
         "Jocasta Nu",
         167,
         null,
         "white",
         "fair",
         "blue",
         null,
         "female",
         "feminine",
         "Coruscant",
         "Human",
         "Attack of the Clones",
         null,
         null
        ],
        [
         "R4-P17",
         96,
         null,
         "none",
         "silver, red",
         "red, blue",
         null,
         "none",
         "feminine",
         "NA",
         "Droid",
         "Attack of the Clones, Revenge of the Sith",
         null,
         null
        ],
        [
         "Wat Tambor",
         193,
         48,
         "none",
         "green, grey",
         "unknown",
         null,
         "male",
         "masculine",
         "Skako",
         "Skakoan",
         "Attack of the Clones",
         null,
         null
        ],
        [
         "San Hill",
         191,
         null,
         "none",
         "grey",
         "gold",
         null,
         "male",
         "masculine",
         "Muunilinst",
         "Muun",
         "Attack of the Clones",
         null,
         null
        ],
        [
         "Shaak Ti",
         178,
         57,
         "none",
         "red, blue, white",
         "black",
         null,
         "female",
         "feminine",
         "Shili",
         "Togruta",
         "Attack of the Clones, Revenge of the Sith",
         null,
         null
        ],
        [
         "Grievous",
         216,
         159,
         "none",
         "brown, white",
         "green, yellow",
         null,
         "male",
         "masculine",
         "Kalee",
         "Kaleesh",
         "Revenge of the Sith",
         "Tsmeu-6 personal wheel bike",
         "Belbullab-22 starfighter"
        ],
        [
         "Tarfful",
         234,
         136,
         "brown",
         "brown",
         "blue",
         null,
         "male",
         "masculine",
         "Kashyyyk",
         "Wookiee",
         "Revenge of the Sith",
         null,
         null
        ],
        [
         "Raymus Antilles",
         188,
         79,
         "brown",
         "light",
         "brown",
         null,
         "male",
         "masculine",
         "Alderaan",
         "Human",
         "A New Hope, Revenge of the Sith",
         null,
         null
        ],
        [
         "Sly Moore",
         178,
         48,
         "none",
         "pale",
         "white",
         null,
         "NA",
         "NA",
         "Umbara",
         "NA",
         "Attack of the Clones, Revenge of the Sith",
         null,
         null
        ],
        [
         "Tion Medon",
         206,
         80,
         "none",
         "grey",
         "black",
         null,
         "male",
         "masculine",
         "Utapau",
         "Pau'an",
         "Revenge of the Sith",
         null,
         null
        ],
        [
         "Finn",
         null,
         null,
         "black",
         "dark",
         "dark",
         null,
         "male",
         "masculine",
         "NA",
         "Human",
         "The Force Awakens",
         null,
         null
        ],
        [
         "Rey",
         null,
         null,
         "brown",
         "light",
         "hazel",
         null,
         "female",
         "feminine",
         "NA",
         "Human",
         "The Force Awakens",
         null,
         null
        ],
        [
         "Poe Dameron",
         null,
         null,
         "brown",
         "light",
         "brown",
         null,
         "male",
         "masculine",
         "NA",
         "Human",
         "The Force Awakens",
         null,
         "X-wing"
        ],
        [
         "BB8",
         null,
         null,
         "none",
         "none",
         "black",
         null,
         "none",
         "masculine",
         "NA",
         "Droid",
         "The Force Awakens",
         null,
         null
        ],
        [
         "Captain Phasma",
         null,
         null,
         "none",
         "none",
         "unknown",
         null,
         "female",
         "feminine",
         "NA",
         "Human",
         "The Force Awakens",
         null,
         null
        ]
       ],
       "datasetInfos": [],
       "dbfsResultPath": null,
       "isJsonSchema": true,
       "metadata": {},
       "overflow": false,
       "plotOptions": {
        "customPlotOptions": {},
        "displayType": "table",
        "pivotAggregation": null,
        "pivotColumns": null,
        "xColumns": null,
        "yColumns": null
       },
       "removedWidgets": [],
       "schema": [
        {
         "metadata": "{}",
         "name": "name",
         "type": "\"string\""
        },
        {
         "metadata": "{}",
         "name": "height",
         "type": "\"integer\""
        },
        {
         "metadata": "{}",
         "name": "mass",
         "type": "\"integer\""
        },
        {
         "metadata": "{}",
         "name": "hair_color",
         "type": "\"string\""
        },
        {
         "metadata": "{}",
         "name": "skin_color",
         "type": "\"string\""
        },
        {
         "metadata": "{}",
         "name": "eye_color",
         "type": "\"string\""
        },
        {
         "metadata": "{}",
         "name": "birth_year",
         "type": "\"integer\""
        },
        {
         "metadata": "{}",
         "name": "sex",
         "type": "\"string\""
        },
        {
         "metadata": "{}",
         "name": "gender",
         "type": "\"string\""
        },
        {
         "metadata": "{}",
         "name": "homeworld",
         "type": "\"string\""
        },
        {
         "metadata": "{}",
         "name": "species",
         "type": "\"string\""
        },
        {
         "metadata": "{}",
         "name": "films",
         "type": "\"string\""
        },
        {
         "metadata": "{}",
         "name": "vehicles",
         "type": "\"string\""
        },
        {
         "metadata": "{}",
         "name": "starships",
         "type": "\"string\""
        }
       ],
       "type": "table"
      }
     },
     "output_type": "display_data"
    }
   ],
   "source": [
    "from pyspark.sql.types import StructType, StructField, IntegerType, StringType\n",
    "\n",
    "schema = StructType([\n",
    "    StructField(\"name\", StringType(), True),\n",
    "    StructField(\"height\", IntegerType(), True),\n",
    "    StructField(\"mass\", IntegerType(), True),\n",
    "    StructField(\"hair_color\", StringType(), True),\n",
    "    StructField(\"skin_color\", StringType(), True),\n",
    "    StructField(\"eye_color\", StringType(), True),\n",
    "    StructField(\"birth_year\", IntegerType(), True),\n",
    "    StructField(\"sex\", StringType(), True),\n",
    "    StructField(\"gender\", StringType(), True),\n",
    "    StructField(\"homeworld\", StringType(), True),\n",
    "    StructField(\"species\", StringType(), True),\n",
    "    StructField(\"films\", StringType(), True),\n",
    "    StructField(\"vehicles\", StringType(), True),\n",
    "    StructField(\"starships\", StringType(), True)\n",
    "])\n",
    "\n",
    "df = spark.read.csv(\"/FileStore/tables/starwars.csv\", header=True, schema=schema)\n",
    "display(df)"
   ]
  },
  {
   "cell_type": "code",
   "execution_count": 0,
   "metadata": {
    "application/vnd.databricks.v1+cell": {
     "cellMetadata": {
      "byteLimit": 2048000,
      "rowLimit": 10000
     },
     "inputWidgets": {},
     "nuid": "bd82bb99-1479-4d5c-be10-8c36df0f1d44",
     "showTitle": false,
     "tableResultSettingsMap": {},
     "title": ""
    }
   },
   "outputs": [],
   "source": [
    "# Create a view or table\n",
    "\n",
    "temp_table_name = \"starwars_csv\"\n",
    "\n",
    "df.createOrReplaceTempView(temp_table_name)"
   ]
  },
  {
   "cell_type": "code",
   "execution_count": 0,
   "metadata": {
    "application/vnd.databricks.v1+cell": {
     "cellMetadata": {
      "byteLimit": 2048000,
      "implicitDf": true,
      "rowLimit": 10000
     },
     "inputWidgets": {},
     "nuid": "b5f66379-6f7f-42ec-8e82-d0e0926a1721",
     "showTitle": false,
     "tableResultSettingsMap": {},
     "title": ""
    }
   },
   "outputs": [
    {
     "output_type": "display_data",
     "data": {
      "text/html": [
       "<style scoped>\n",
       "  .table-result-container {\n",
       "    max-height: 300px;\n",
       "    overflow: auto;\n",
       "  }\n",
       "  table, th, td {\n",
       "    border: 1px solid black;\n",
       "    border-collapse: collapse;\n",
       "  }\n",
       "  th, td {\n",
       "    padding: 5px;\n",
       "  }\n",
       "  th {\n",
       "    text-align: left;\n",
       "  }\n",
       "</style><div class='table-result-container'><table class='table-result'><thead style='background-color: white'><tr><th>name</th><th>height</th><th>mass</th><th>hair_color</th><th>skin_color</th><th>eye_color</th><th>birth_year</th><th>sex</th><th>gender</th><th>homeworld</th><th>species</th><th>films</th><th>vehicles</th><th>starships</th></tr></thead><tbody><tr><td>Luke Skywalker</td><td>172</td><td>77</td><td>blond</td><td>fair</td><td>blue</td><td>19</td><td>male</td><td>masculine</td><td>Tatooine</td><td>Human</td><td>A New Hope, The Empire Strikes Back, Return of the Jedi, Revenge of the Sith, The Force Awakens</td><td>Snowspeeder, Imperial Speeder Bike</td><td>X-wing, Imperial shuttle</td></tr><tr><td>C-3PO</td><td>167</td><td>75</td><td>NA</td><td>gold</td><td>yellow</td><td>112</td><td>none</td><td>masculine</td><td>Tatooine</td><td>Droid</td><td>A New Hope, The Empire Strikes Back, Return of the Jedi, The Phantom Menace, Attack of the Clones, Revenge of the Sith</td><td>null</td><td>null</td></tr><tr><td>R2-D2</td><td>96</td><td>32</td><td>NA</td><td>white, blue</td><td>red</td><td>33</td><td>none</td><td>masculine</td><td>Naboo</td><td>Droid</td><td>A New Hope, The Empire Strikes Back, Return of the Jedi, The Phantom Menace, Attack of the Clones, Revenge of the Sith, The Force Awakens</td><td>null</td><td>null</td></tr><tr><td>Darth Vader</td><td>202</td><td>136</td><td>none</td><td>white</td><td>yellow</td><td>null</td><td>male</td><td>masculine</td><td>Tatooine</td><td>Human</td><td>A New Hope, The Empire Strikes Back, Return of the Jedi, Revenge of the Sith</td><td>null</td><td>TIE Advanced x1</td></tr><tr><td>Leia Organa</td><td>150</td><td>49</td><td>brown</td><td>light</td><td>brown</td><td>19</td><td>female</td><td>feminine</td><td>Alderaan</td><td>Human</td><td>A New Hope, The Empire Strikes Back, Return of the Jedi, Revenge of the Sith, The Force Awakens</td><td>Imperial Speeder Bike</td><td>null</td></tr><tr><td>Owen Lars</td><td>178</td><td>120</td><td>brown, grey</td><td>light</td><td>blue</td><td>52</td><td>male</td><td>masculine</td><td>Tatooine</td><td>Human</td><td>A New Hope, Attack of the Clones, Revenge of the Sith</td><td>null</td><td>null</td></tr><tr><td>Beru Whitesun Lars</td><td>165</td><td>75</td><td>brown</td><td>light</td><td>blue</td><td>47</td><td>female</td><td>feminine</td><td>Tatooine</td><td>Human</td><td>A New Hope, Attack of the Clones, Revenge of the Sith</td><td>null</td><td>null</td></tr><tr><td>R5-D4</td><td>97</td><td>32</td><td>NA</td><td>white, red</td><td>red</td><td>null</td><td>none</td><td>masculine</td><td>Tatooine</td><td>Droid</td><td>A New Hope</td><td>null</td><td>null</td></tr><tr><td>Biggs Darklighter</td><td>183</td><td>84</td><td>black</td><td>light</td><td>brown</td><td>24</td><td>male</td><td>masculine</td><td>Tatooine</td><td>Human</td><td>A New Hope</td><td>null</td><td>X-wing</td></tr><tr><td>Obi-Wan Kenobi</td><td>182</td><td>77</td><td>auburn, white</td><td>fair</td><td>blue-gray</td><td>57</td><td>male</td><td>masculine</td><td>Stewjon</td><td>Human</td><td>A New Hope, The Empire Strikes Back, Return of the Jedi, The Phantom Menace, Attack of the Clones, Revenge of the Sith</td><td>Tribubble bongo</td><td>Jedi starfighter, Trade Federation cruiser, Naboo star skiff, Jedi Interceptor, Belbullab-22 starfighter</td></tr><tr><td>Anakin Skywalker</td><td>188</td><td>84</td><td>blond</td><td>fair</td><td>blue</td><td>null</td><td>male</td><td>masculine</td><td>Tatooine</td><td>Human</td><td>The Phantom Menace, Attack of the Clones, Revenge of the Sith</td><td>Zephyr-G swoop bike, XJ-6 airspeeder</td><td>Naboo fighter, Trade Federation cruiser, Jedi Interceptor</td></tr><tr><td>Wilhuff Tarkin</td><td>180</td><td>null</td><td>auburn, grey</td><td>fair</td><td>blue</td><td>64</td><td>male</td><td>masculine</td><td>Eriadu</td><td>Human</td><td>A New Hope, Revenge of the Sith</td><td>null</td><td>null</td></tr><tr><td>Chewbacca</td><td>228</td><td>112</td><td>brown</td><td>unknown</td><td>blue</td><td>200</td><td>male</td><td>masculine</td><td>Kashyyyk</td><td>Wookiee</td><td>A New Hope, The Empire Strikes Back, Return of the Jedi, Revenge of the Sith, The Force Awakens</td><td>AT-ST</td><td>Millennium Falcon, Imperial shuttle</td></tr><tr><td>Han Solo</td><td>180</td><td>80</td><td>brown</td><td>fair</td><td>brown</td><td>29</td><td>male</td><td>masculine</td><td>Corellia</td><td>Human</td><td>A New Hope, The Empire Strikes Back, Return of the Jedi, The Force Awakens</td><td>null</td><td>Millennium Falcon, Imperial shuttle</td></tr><tr><td>Greedo</td><td>173</td><td>74</td><td>NA</td><td>green</td><td>black</td><td>44</td><td>male</td><td>masculine</td><td>Rodia</td><td>Rodian</td><td>A New Hope</td><td>null</td><td>null</td></tr><tr><td>Jabba Desilijic Tiure</td><td>175</td><td>1358</td><td>NA</td><td>green-tan, brown</td><td>orange</td><td>600</td><td>hermaphroditic</td><td>masculine</td><td>Nal Hutta</td><td>Hutt</td><td>A New Hope, Return of the Jedi, The Phantom Menace</td><td>null</td><td>null</td></tr><tr><td>Wedge Antilles</td><td>170</td><td>77</td><td>brown</td><td>fair</td><td>hazel</td><td>21</td><td>male</td><td>masculine</td><td>Corellia</td><td>Human</td><td>A New Hope, The Empire Strikes Back, Return of the Jedi</td><td>Snowspeeder</td><td>X-wing</td></tr><tr><td>Jek Tono Porkins</td><td>180</td><td>110</td><td>brown</td><td>fair</td><td>blue</td><td>null</td><td>NA</td><td>NA</td><td>Bestine IV</td><td>NA</td><td>A New Hope</td><td>null</td><td>X-wing</td></tr><tr><td>Yoda</td><td>66</td><td>17</td><td>white</td><td>green</td><td>brown</td><td>896</td><td>male</td><td>masculine</td><td>NA</td><td>Yoda's species</td><td>The Empire Strikes Back, Return of the Jedi, The Phantom Menace, Attack of the Clones, Revenge of the Sith</td><td>null</td><td>null</td></tr><tr><td>Palpatine</td><td>170</td><td>75</td><td>grey</td><td>pale</td><td>yellow</td><td>82</td><td>male</td><td>masculine</td><td>Naboo</td><td>Human</td><td>The Empire Strikes Back, Return of the Jedi, The Phantom Menace, Attack of the Clones, Revenge of the Sith</td><td>null</td><td>null</td></tr><tr><td>Boba Fett</td><td>183</td><td>null</td><td>black</td><td>fair</td><td>brown</td><td>null</td><td>male</td><td>masculine</td><td>Kamino</td><td>Human</td><td>The Empire Strikes Back, Return of the Jedi, Attack of the Clones</td><td>null</td><td>Slave 1</td></tr><tr><td>IG-88</td><td>200</td><td>140</td><td>none</td><td>metal</td><td>red</td><td>15</td><td>none</td><td>masculine</td><td>NA</td><td>Droid</td><td>The Empire Strikes Back</td><td>null</td><td>null</td></tr><tr><td>Bossk</td><td>190</td><td>113</td><td>none</td><td>green</td><td>red</td><td>53</td><td>male</td><td>masculine</td><td>Trandosha</td><td>Trandoshan</td><td>The Empire Strikes Back</td><td>null</td><td>null</td></tr><tr><td>Lando Calrissian</td><td>177</td><td>79</td><td>black</td><td>dark</td><td>brown</td><td>31</td><td>male</td><td>masculine</td><td>Socorro</td><td>Human</td><td>The Empire Strikes Back, Return of the Jedi</td><td>null</td><td>Millennium Falcon</td></tr><tr><td>Lobot</td><td>175</td><td>79</td><td>none</td><td>light</td><td>blue</td><td>37</td><td>male</td><td>masculine</td><td>Bespin</td><td>Human</td><td>The Empire Strikes Back</td><td>null</td><td>null</td></tr><tr><td>Ackbar</td><td>180</td><td>83</td><td>none</td><td>brown mottle</td><td>orange</td><td>41</td><td>male</td><td>masculine</td><td>Mon Cala</td><td>Mon Calamari</td><td>Return of the Jedi, The Force Awakens</td><td>null</td><td>null</td></tr><tr><td>Mon Mothma</td><td>150</td><td>null</td><td>auburn</td><td>fair</td><td>blue</td><td>48</td><td>female</td><td>feminine</td><td>Chandrila</td><td>Human</td><td>Return of the Jedi</td><td>null</td><td>null</td></tr><tr><td>Arvel Crynyd</td><td>null</td><td>null</td><td>brown</td><td>fair</td><td>brown</td><td>null</td><td>male</td><td>masculine</td><td>NA</td><td>Human</td><td>Return of the Jedi</td><td>null</td><td>A-wing</td></tr><tr><td>Wicket Systri Warrick</td><td>88</td><td>20</td><td>brown</td><td>brown</td><td>brown</td><td>8</td><td>male</td><td>masculine</td><td>Endor</td><td>Ewok</td><td>Return of the Jedi</td><td>null</td><td>null</td></tr><tr><td>Nien Nunb</td><td>160</td><td>68</td><td>none</td><td>grey</td><td>black</td><td>null</td><td>male</td><td>masculine</td><td>Sullust</td><td>Sullustan</td><td>Return of the Jedi</td><td>null</td><td>Millennium Falcon</td></tr><tr><td>Qui-Gon Jinn</td><td>193</td><td>89</td><td>brown</td><td>fair</td><td>blue</td><td>92</td><td>male</td><td>masculine</td><td>NA</td><td>Human</td><td>The Phantom Menace</td><td>Tribubble bongo</td><td>null</td></tr><tr><td>Nute Gunray</td><td>191</td><td>90</td><td>none</td><td>mottled green</td><td>red</td><td>null</td><td>male</td><td>masculine</td><td>Cato Neimoidia</td><td>Neimodian</td><td>The Phantom Menace, Attack of the Clones, Revenge of the Sith</td><td>null</td><td>null</td></tr><tr><td>Finis Valorum</td><td>170</td><td>null</td><td>blond</td><td>fair</td><td>blue</td><td>91</td><td>male</td><td>masculine</td><td>Coruscant</td><td>Human</td><td>The Phantom Menace</td><td>null</td><td>null</td></tr><tr><td>Padmé Amidala</td><td>185</td><td>45</td><td>brown</td><td>light</td><td>brown</td><td>46</td><td>female</td><td>feminine</td><td>Naboo</td><td>Human</td><td>The Phantom Menace, Attack of the Clones, Revenge of the Sith</td><td>null</td><td>Naboo fighter, H-type Nubian yacht, Naboo star skiff</td></tr><tr><td>Jar Jar Binks</td><td>196</td><td>66</td><td>none</td><td>orange</td><td>orange</td><td>52</td><td>male</td><td>masculine</td><td>Naboo</td><td>Gungan</td><td>The Phantom Menace, Attack of the Clones</td><td>null</td><td>null</td></tr><tr><td>Roos Tarpals</td><td>224</td><td>82</td><td>none</td><td>grey</td><td>orange</td><td>null</td><td>male</td><td>masculine</td><td>Naboo</td><td>Gungan</td><td>The Phantom Menace</td><td>null</td><td>null</td></tr><tr><td>Rugor Nass</td><td>206</td><td>null</td><td>none</td><td>green</td><td>orange</td><td>null</td><td>male</td><td>masculine</td><td>Naboo</td><td>Gungan</td><td>The Phantom Menace</td><td>null</td><td>null</td></tr><tr><td>Ric Olié</td><td>183</td><td>null</td><td>brown</td><td>fair</td><td>blue</td><td>null</td><td>male</td><td>masculine</td><td>Naboo</td><td>Human</td><td>The Phantom Menace</td><td>null</td><td>Naboo Royal Starship</td></tr><tr><td>Watto</td><td>137</td><td>null</td><td>black</td><td>blue, grey</td><td>yellow</td><td>null</td><td>male</td><td>masculine</td><td>Toydaria</td><td>Toydarian</td><td>The Phantom Menace, Attack of the Clones</td><td>null</td><td>null</td></tr><tr><td>Sebulba</td><td>112</td><td>40</td><td>none</td><td>grey, red</td><td>orange</td><td>null</td><td>male</td><td>masculine</td><td>Malastare</td><td>Dug</td><td>The Phantom Menace</td><td>null</td><td>null</td></tr><tr><td>Quarsh Panaka</td><td>183</td><td>null</td><td>black</td><td>dark</td><td>brown</td><td>62</td><td>male</td><td>masculine</td><td>Naboo</td><td>Human</td><td>The Phantom Menace</td><td>null</td><td>null</td></tr><tr><td>Shmi Skywalker</td><td>163</td><td>null</td><td>black</td><td>fair</td><td>brown</td><td>72</td><td>female</td><td>feminine</td><td>Tatooine</td><td>Human</td><td>The Phantom Menace, Attack of the Clones</td><td>null</td><td>null</td></tr><tr><td>Darth Maul</td><td>175</td><td>80</td><td>none</td><td>red</td><td>yellow</td><td>54</td><td>male</td><td>masculine</td><td>Dathomir</td><td>Zabrak</td><td>The Phantom Menace</td><td>Sith speeder</td><td>Scimitar</td></tr><tr><td>Bib Fortuna</td><td>180</td><td>null</td><td>none</td><td>pale</td><td>pink</td><td>null</td><td>male</td><td>masculine</td><td>Ryloth</td><td>Twi'lek</td><td>Return of the Jedi</td><td>null</td><td>null</td></tr><tr><td>Ayla Secura</td><td>178</td><td>55</td><td>none</td><td>blue</td><td>hazel</td><td>48</td><td>female</td><td>feminine</td><td>Ryloth</td><td>Twi'lek</td><td>The Phantom Menace, Attack of the Clones, Revenge of the Sith</td><td>null</td><td>null</td></tr><tr><td>Ratts Tyerel</td><td>79</td><td>15</td><td>none</td><td>grey, blue</td><td>unknown</td><td>null</td><td>male</td><td>masculine</td><td>Aleen Minor</td><td>Aleena</td><td>The Phantom Menace</td><td>null</td><td>null</td></tr><tr><td>Dud Bolt</td><td>94</td><td>45</td><td>none</td><td>blue, grey</td><td>yellow</td><td>null</td><td>male</td><td>masculine</td><td>Vulpter</td><td>Vulptereen</td><td>The Phantom Menace</td><td>null</td><td>null</td></tr><tr><td>Gasgano</td><td>122</td><td>null</td><td>none</td><td>white, blue</td><td>black</td><td>null</td><td>male</td><td>masculine</td><td>Troiken</td><td>Xexto</td><td>The Phantom Menace</td><td>null</td><td>null</td></tr><tr><td>Ben Quadinaros</td><td>163</td><td>65</td><td>none</td><td>grey, green, yellow</td><td>orange</td><td>null</td><td>male</td><td>masculine</td><td>Tund</td><td>Toong</td><td>The Phantom Menace</td><td>null</td><td>null</td></tr><tr><td>Mace Windu</td><td>188</td><td>84</td><td>none</td><td>dark</td><td>brown</td><td>72</td><td>male</td><td>masculine</td><td>Haruun Kal</td><td>Human</td><td>The Phantom Menace, Attack of the Clones, Revenge of the Sith</td><td>null</td><td>null</td></tr><tr><td>Ki-Adi-Mundi</td><td>198</td><td>82</td><td>white</td><td>pale</td><td>yellow</td><td>92</td><td>male</td><td>masculine</td><td>Cerea</td><td>Cerean</td><td>The Phantom Menace, Attack of the Clones, Revenge of the Sith</td><td>null</td><td>null</td></tr><tr><td>Kit Fisto</td><td>196</td><td>87</td><td>none</td><td>green</td><td>black</td><td>null</td><td>male</td><td>masculine</td><td>Glee Anselm</td><td>Nautolan</td><td>The Phantom Menace, Attack of the Clones, Revenge of the Sith</td><td>null</td><td>null</td></tr><tr><td>Eeth Koth</td><td>171</td><td>null</td><td>black</td><td>brown</td><td>brown</td><td>null</td><td>male</td><td>masculine</td><td>Iridonia</td><td>Zabrak</td><td>The Phantom Menace, Revenge of the Sith</td><td>null</td><td>null</td></tr><tr><td>Adi Gallia</td><td>184</td><td>50</td><td>none</td><td>dark</td><td>blue</td><td>null</td><td>female</td><td>feminine</td><td>Coruscant</td><td>Tholothian</td><td>The Phantom Menace, Revenge of the Sith</td><td>null</td><td>null</td></tr><tr><td>Saesee Tiin</td><td>188</td><td>null</td><td>none</td><td>pale</td><td>orange</td><td>null</td><td>male</td><td>masculine</td><td>Iktotch</td><td>Iktotchi</td><td>The Phantom Menace, Revenge of the Sith</td><td>null</td><td>null</td></tr><tr><td>Yarael Poof</td><td>264</td><td>null</td><td>none</td><td>white</td><td>yellow</td><td>null</td><td>male</td><td>masculine</td><td>Quermia</td><td>Quermian</td><td>The Phantom Menace</td><td>null</td><td>null</td></tr><tr><td>Plo Koon</td><td>188</td><td>80</td><td>none</td><td>orange</td><td>black</td><td>22</td><td>male</td><td>masculine</td><td>Dorin</td><td>Kel Dor</td><td>The Phantom Menace, Attack of the Clones, Revenge of the Sith</td><td>null</td><td>Jedi starfighter</td></tr><tr><td>Mas Amedda</td><td>196</td><td>null</td><td>none</td><td>blue</td><td>blue</td><td>null</td><td>male</td><td>masculine</td><td>Champala</td><td>Chagrian</td><td>The Phantom Menace, Attack of the Clones</td><td>null</td><td>null</td></tr><tr><td>Gregar Typho</td><td>185</td><td>85</td><td>black</td><td>dark</td><td>brown</td><td>null</td><td>NA</td><td>NA</td><td>Naboo</td><td>NA</td><td>Attack of the Clones</td><td>null</td><td>Naboo fighter</td></tr><tr><td>Cordé</td><td>157</td><td>null</td><td>brown</td><td>light</td><td>brown</td><td>null</td><td>NA</td><td>NA</td><td>Naboo</td><td>NA</td><td>Attack of the Clones</td><td>null</td><td>null</td></tr><tr><td>Cliegg Lars</td><td>183</td><td>null</td><td>brown</td><td>fair</td><td>blue</td><td>82</td><td>male</td><td>masculine</td><td>Tatooine</td><td>Human</td><td>Attack of the Clones</td><td>null</td><td>null</td></tr><tr><td>Poggle the Lesser</td><td>183</td><td>80</td><td>none</td><td>green</td><td>yellow</td><td>null</td><td>male</td><td>masculine</td><td>Geonosis</td><td>Geonosian</td><td>Attack of the Clones, Revenge of the Sith</td><td>null</td><td>null</td></tr><tr><td>Luminara Unduli</td><td>170</td><td>null</td><td>black</td><td>yellow</td><td>blue</td><td>58</td><td>female</td><td>feminine</td><td>Mirial</td><td>Mirialan</td><td>Attack of the Clones, Revenge of the Sith</td><td>null</td><td>null</td></tr><tr><td>Barriss Offee</td><td>166</td><td>50</td><td>black</td><td>yellow</td><td>blue</td><td>40</td><td>female</td><td>feminine</td><td>Mirial</td><td>Mirialan</td><td>Attack of the Clones</td><td>null</td><td>null</td></tr><tr><td>Dormé</td><td>165</td><td>null</td><td>brown</td><td>light</td><td>brown</td><td>null</td><td>female</td><td>feminine</td><td>Naboo</td><td>Human</td><td>Attack of the Clones</td><td>null</td><td>null</td></tr><tr><td>Dooku</td><td>193</td><td>80</td><td>white</td><td>fair</td><td>brown</td><td>102</td><td>male</td><td>masculine</td><td>Serenno</td><td>Human</td><td>Attack of the Clones, Revenge of the Sith</td><td>Flitknot speeder</td><td>null</td></tr><tr><td>Bail Prestor Organa</td><td>191</td><td>null</td><td>black</td><td>tan</td><td>brown</td><td>67</td><td>male</td><td>masculine</td><td>Alderaan</td><td>Human</td><td>Attack of the Clones, Revenge of the Sith</td><td>null</td><td>null</td></tr><tr><td>Jango Fett</td><td>183</td><td>79</td><td>black</td><td>tan</td><td>brown</td><td>66</td><td>male</td><td>masculine</td><td>Concord Dawn</td><td>Human</td><td>Attack of the Clones</td><td>null</td><td>null</td></tr><tr><td>Zam Wesell</td><td>168</td><td>55</td><td>blonde</td><td>fair, green, yellow</td><td>yellow</td><td>null</td><td>female</td><td>feminine</td><td>Zolan</td><td>Clawdite</td><td>Attack of the Clones</td><td>Koro-2 Exodrive airspeeder</td><td>null</td></tr><tr><td>Dexter Jettster</td><td>198</td><td>102</td><td>none</td><td>brown</td><td>yellow</td><td>null</td><td>male</td><td>masculine</td><td>Ojom</td><td>Besalisk</td><td>Attack of the Clones</td><td>null</td><td>null</td></tr><tr><td>Lama Su</td><td>229</td><td>88</td><td>none</td><td>grey</td><td>black</td><td>null</td><td>male</td><td>masculine</td><td>Kamino</td><td>Kaminoan</td><td>Attack of the Clones</td><td>null</td><td>null</td></tr><tr><td>Taun We</td><td>213</td><td>null</td><td>none</td><td>grey</td><td>black</td><td>null</td><td>female</td><td>feminine</td><td>Kamino</td><td>Kaminoan</td><td>Attack of the Clones</td><td>null</td><td>null</td></tr><tr><td>Jocasta Nu</td><td>167</td><td>null</td><td>white</td><td>fair</td><td>blue</td><td>null</td><td>female</td><td>feminine</td><td>Coruscant</td><td>Human</td><td>Attack of the Clones</td><td>null</td><td>null</td></tr><tr><td>R4-P17</td><td>96</td><td>null</td><td>none</td><td>silver, red</td><td>red, blue</td><td>null</td><td>none</td><td>feminine</td><td>NA</td><td>Droid</td><td>Attack of the Clones, Revenge of the Sith</td><td>null</td><td>null</td></tr><tr><td>Wat Tambor</td><td>193</td><td>48</td><td>none</td><td>green, grey</td><td>unknown</td><td>null</td><td>male</td><td>masculine</td><td>Skako</td><td>Skakoan</td><td>Attack of the Clones</td><td>null</td><td>null</td></tr><tr><td>San Hill</td><td>191</td><td>null</td><td>none</td><td>grey</td><td>gold</td><td>null</td><td>male</td><td>masculine</td><td>Muunilinst</td><td>Muun</td><td>Attack of the Clones</td><td>null</td><td>null</td></tr><tr><td>Shaak Ti</td><td>178</td><td>57</td><td>none</td><td>red, blue, white</td><td>black</td><td>null</td><td>female</td><td>feminine</td><td>Shili</td><td>Togruta</td><td>Attack of the Clones, Revenge of the Sith</td><td>null</td><td>null</td></tr><tr><td>Grievous</td><td>216</td><td>159</td><td>none</td><td>brown, white</td><td>green, yellow</td><td>null</td><td>male</td><td>masculine</td><td>Kalee</td><td>Kaleesh</td><td>Revenge of the Sith</td><td>Tsmeu-6 personal wheel bike</td><td>Belbullab-22 starfighter</td></tr><tr><td>Tarfful</td><td>234</td><td>136</td><td>brown</td><td>brown</td><td>blue</td><td>null</td><td>male</td><td>masculine</td><td>Kashyyyk</td><td>Wookiee</td><td>Revenge of the Sith</td><td>null</td><td>null</td></tr><tr><td>Raymus Antilles</td><td>188</td><td>79</td><td>brown</td><td>light</td><td>brown</td><td>null</td><td>male</td><td>masculine</td><td>Alderaan</td><td>Human</td><td>A New Hope, Revenge of the Sith</td><td>null</td><td>null</td></tr><tr><td>Sly Moore</td><td>178</td><td>48</td><td>none</td><td>pale</td><td>white</td><td>null</td><td>NA</td><td>NA</td><td>Umbara</td><td>NA</td><td>Attack of the Clones, Revenge of the Sith</td><td>null</td><td>null</td></tr><tr><td>Tion Medon</td><td>206</td><td>80</td><td>none</td><td>grey</td><td>black</td><td>null</td><td>male</td><td>masculine</td><td>Utapau</td><td>Pau'an</td><td>Revenge of the Sith</td><td>null</td><td>null</td></tr><tr><td>Finn</td><td>null</td><td>null</td><td>black</td><td>dark</td><td>dark</td><td>null</td><td>male</td><td>masculine</td><td>NA</td><td>Human</td><td>The Force Awakens</td><td>null</td><td>null</td></tr><tr><td>Rey</td><td>null</td><td>null</td><td>brown</td><td>light</td><td>hazel</td><td>null</td><td>female</td><td>feminine</td><td>NA</td><td>Human</td><td>The Force Awakens</td><td>null</td><td>null</td></tr><tr><td>Poe Dameron</td><td>null</td><td>null</td><td>brown</td><td>light</td><td>brown</td><td>null</td><td>male</td><td>masculine</td><td>NA</td><td>Human</td><td>The Force Awakens</td><td>null</td><td>X-wing</td></tr><tr><td>BB8</td><td>null</td><td>null</td><td>none</td><td>none</td><td>black</td><td>null</td><td>none</td><td>masculine</td><td>NA</td><td>Droid</td><td>The Force Awakens</td><td>null</td><td>null</td></tr><tr><td>Captain Phasma</td><td>null</td><td>null</td><td>none</td><td>none</td><td>unknown</td><td>null</td><td>female</td><td>feminine</td><td>NA</td><td>Human</td><td>The Force Awakens</td><td>null</td><td>null</td></tr></tbody></table></div>"
      ]
     },
     "metadata": {
      "application/vnd.databricks.v1+output": {
       "addedWidgets": {},
       "aggData": [],
       "aggError": "",
       "aggOverflow": false,
       "aggSchema": [],
       "aggSeriesLimitReached": false,
       "aggType": "",
       "arguments": {},
       "columnCustomDisplayInfos": {},
       "data": [
        [
         "Luke Skywalker",
         172,
         77,
         "blond",
         "fair",
         "blue",
         19,
         "male",
         "masculine",
         "Tatooine",
         "Human",
         "A New Hope, The Empire Strikes Back, Return of the Jedi, Revenge of the Sith, The Force Awakens",
         "Snowspeeder, Imperial Speeder Bike",
         "X-wing, Imperial shuttle"
        ],
        [
         "C-3PO",
         167,
         75,
         "NA",
         "gold",
         "yellow",
         112,
         "none",
         "masculine",
         "Tatooine",
         "Droid",
         "A New Hope, The Empire Strikes Back, Return of the Jedi, The Phantom Menace, Attack of the Clones, Revenge of the Sith",
         null,
         null
        ],
        [
         "R2-D2",
         96,
         32,
         "NA",
         "white, blue",
         "red",
         33,
         "none",
         "masculine",
         "Naboo",
         "Droid",
         "A New Hope, The Empire Strikes Back, Return of the Jedi, The Phantom Menace, Attack of the Clones, Revenge of the Sith, The Force Awakens",
         null,
         null
        ],
        [
         "Darth Vader",
         202,
         136,
         "none",
         "white",
         "yellow",
         null,
         "male",
         "masculine",
         "Tatooine",
         "Human",
         "A New Hope, The Empire Strikes Back, Return of the Jedi, Revenge of the Sith",
         null,
         "TIE Advanced x1"
        ],
        [
         "Leia Organa",
         150,
         49,
         "brown",
         "light",
         "brown",
         19,
         "female",
         "feminine",
         "Alderaan",
         "Human",
         "A New Hope, The Empire Strikes Back, Return of the Jedi, Revenge of the Sith, The Force Awakens",
         "Imperial Speeder Bike",
         null
        ],
        [
         "Owen Lars",
         178,
         120,
         "brown, grey",
         "light",
         "blue",
         52,
         "male",
         "masculine",
         "Tatooine",
         "Human",
         "A New Hope, Attack of the Clones, Revenge of the Sith",
         null,
         null
        ],
        [
         "Beru Whitesun Lars",
         165,
         75,
         "brown",
         "light",
         "blue",
         47,
         "female",
         "feminine",
         "Tatooine",
         "Human",
         "A New Hope, Attack of the Clones, Revenge of the Sith",
         null,
         null
        ],
        [
         "R5-D4",
         97,
         32,
         "NA",
         "white, red",
         "red",
         null,
         "none",
         "masculine",
         "Tatooine",
         "Droid",
         "A New Hope",
         null,
         null
        ],
        [
         "Biggs Darklighter",
         183,
         84,
         "black",
         "light",
         "brown",
         24,
         "male",
         "masculine",
         "Tatooine",
         "Human",
         "A New Hope",
         null,
         "X-wing"
        ],
        [
         "Obi-Wan Kenobi",
         182,
         77,
         "auburn, white",
         "fair",
         "blue-gray",
         57,
         "male",
         "masculine",
         "Stewjon",
         "Human",
         "A New Hope, The Empire Strikes Back, Return of the Jedi, The Phantom Menace, Attack of the Clones, Revenge of the Sith",
         "Tribubble bongo",
         "Jedi starfighter, Trade Federation cruiser, Naboo star skiff, Jedi Interceptor, Belbullab-22 starfighter"
        ],
        [
         "Anakin Skywalker",
         188,
         84,
         "blond",
         "fair",
         "blue",
         null,
         "male",
         "masculine",
         "Tatooine",
         "Human",
         "The Phantom Menace, Attack of the Clones, Revenge of the Sith",
         "Zephyr-G swoop bike, XJ-6 airspeeder",
         "Naboo fighter, Trade Federation cruiser, Jedi Interceptor"
        ],
        [
         "Wilhuff Tarkin",
         180,
         null,
         "auburn, grey",
         "fair",
         "blue",
         64,
         "male",
         "masculine",
         "Eriadu",
         "Human",
         "A New Hope, Revenge of the Sith",
         null,
         null
        ],
        [
         "Chewbacca",
         228,
         112,
         "brown",
         "unknown",
         "blue",
         200,
         "male",
         "masculine",
         "Kashyyyk",
         "Wookiee",
         "A New Hope, The Empire Strikes Back, Return of the Jedi, Revenge of the Sith, The Force Awakens",
         "AT-ST",
         "Millennium Falcon, Imperial shuttle"
        ],
        [
         "Han Solo",
         180,
         80,
         "brown",
         "fair",
         "brown",
         29,
         "male",
         "masculine",
         "Corellia",
         "Human",
         "A New Hope, The Empire Strikes Back, Return of the Jedi, The Force Awakens",
         null,
         "Millennium Falcon, Imperial shuttle"
        ],
        [
         "Greedo",
         173,
         74,
         "NA",
         "green",
         "black",
         44,
         "male",
         "masculine",
         "Rodia",
         "Rodian",
         "A New Hope",
         null,
         null
        ],
        [
         "Jabba Desilijic Tiure",
         175,
         1358,
         "NA",
         "green-tan, brown",
         "orange",
         600,
         "hermaphroditic",
         "masculine",
         "Nal Hutta",
         "Hutt",
         "A New Hope, Return of the Jedi, The Phantom Menace",
         null,
         null
        ],
        [
         "Wedge Antilles",
         170,
         77,
         "brown",
         "fair",
         "hazel",
         21,
         "male",
         "masculine",
         "Corellia",
         "Human",
         "A New Hope, The Empire Strikes Back, Return of the Jedi",
         "Snowspeeder",
         "X-wing"
        ],
        [
         "Jek Tono Porkins",
         180,
         110,
         "brown",
         "fair",
         "blue",
         null,
         "NA",
         "NA",
         "Bestine IV",
         "NA",
         "A New Hope",
         null,
         "X-wing"
        ],
        [
         "Yoda",
         66,
         17,
         "white",
         "green",
         "brown",
         896,
         "male",
         "masculine",
         "NA",
         "Yoda's species",
         "The Empire Strikes Back, Return of the Jedi, The Phantom Menace, Attack of the Clones, Revenge of the Sith",
         null,
         null
        ],
        [
         "Palpatine",
         170,
         75,
         "grey",
         "pale",
         "yellow",
         82,
         "male",
         "masculine",
         "Naboo",
         "Human",
         "The Empire Strikes Back, Return of the Jedi, The Phantom Menace, Attack of the Clones, Revenge of the Sith",
         null,
         null
        ],
        [
         "Boba Fett",
         183,
         null,
         "black",
         "fair",
         "brown",
         null,
         "male",
         "masculine",
         "Kamino",
         "Human",
         "The Empire Strikes Back, Return of the Jedi, Attack of the Clones",
         null,
         "Slave 1"
        ],
        [
         "IG-88",
         200,
         140,
         "none",
         "metal",
         "red",
         15,
         "none",
         "masculine",
         "NA",
         "Droid",
         "The Empire Strikes Back",
         null,
         null
        ],
        [
         "Bossk",
         190,
         113,
         "none",
         "green",
         "red",
         53,
         "male",
         "masculine",
         "Trandosha",
         "Trandoshan",
         "The Empire Strikes Back",
         null,
         null
        ],
        [
         "Lando Calrissian",
         177,
         79,
         "black",
         "dark",
         "brown",
         31,
         "male",
         "masculine",
         "Socorro",
         "Human",
         "The Empire Strikes Back, Return of the Jedi",
         null,
         "Millennium Falcon"
        ],
        [
         "Lobot",
         175,
         79,
         "none",
         "light",
         "blue",
         37,
         "male",
         "masculine",
         "Bespin",
         "Human",
         "The Empire Strikes Back",
         null,
         null
        ],
        [
         "Ackbar",
         180,
         83,
         "none",
         "brown mottle",
         "orange",
         41,
         "male",
         "masculine",
         "Mon Cala",
         "Mon Calamari",
         "Return of the Jedi, The Force Awakens",
         null,
         null
        ],
        [
         "Mon Mothma",
         150,
         null,
         "auburn",
         "fair",
         "blue",
         48,
         "female",
         "feminine",
         "Chandrila",
         "Human",
         "Return of the Jedi",
         null,
         null
        ],
        [
         "Arvel Crynyd",
         null,
         null,
         "brown",
         "fair",
         "brown",
         null,
         "male",
         "masculine",
         "NA",
         "Human",
         "Return of the Jedi",
         null,
         "A-wing"
        ],
        [
         "Wicket Systri Warrick",
         88,
         20,
         "brown",
         "brown",
         "brown",
         8,
         "male",
         "masculine",
         "Endor",
         "Ewok",
         "Return of the Jedi",
         null,
         null
        ],
        [
         "Nien Nunb",
         160,
         68,
         "none",
         "grey",
         "black",
         null,
         "male",
         "masculine",
         "Sullust",
         "Sullustan",
         "Return of the Jedi",
         null,
         "Millennium Falcon"
        ],
        [
         "Qui-Gon Jinn",
         193,
         89,
         "brown",
         "fair",
         "blue",
         92,
         "male",
         "masculine",
         "NA",
         "Human",
         "The Phantom Menace",
         "Tribubble bongo",
         null
        ],
        [
         "Nute Gunray",
         191,
         90,
         "none",
         "mottled green",
         "red",
         null,
         "male",
         "masculine",
         "Cato Neimoidia",
         "Neimodian",
         "The Phantom Menace, Attack of the Clones, Revenge of the Sith",
         null,
         null
        ],
        [
         "Finis Valorum",
         170,
         null,
         "blond",
         "fair",
         "blue",
         91,
         "male",
         "masculine",
         "Coruscant",
         "Human",
         "The Phantom Menace",
         null,
         null
        ],
        [
         "Padmé Amidala",
         185,
         45,
         "brown",
         "light",
         "brown",
         46,
         "female",
         "feminine",
         "Naboo",
         "Human",
         "The Phantom Menace, Attack of the Clones, Revenge of the Sith",
         null,
         "Naboo fighter, H-type Nubian yacht, Naboo star skiff"
        ],
        [
         "Jar Jar Binks",
         196,
         66,
         "none",
         "orange",
         "orange",
         52,
         "male",
         "masculine",
         "Naboo",
         "Gungan",
         "The Phantom Menace, Attack of the Clones",
         null,
         null
        ],
        [
         "Roos Tarpals",
         224,
         82,
         "none",
         "grey",
         "orange",
         null,
         "male",
         "masculine",
         "Naboo",
         "Gungan",
         "The Phantom Menace",
         null,
         null
        ],
        [
         "Rugor Nass",
         206,
         null,
         "none",
         "green",
         "orange",
         null,
         "male",
         "masculine",
         "Naboo",
         "Gungan",
         "The Phantom Menace",
         null,
         null
        ],
        [
         "Ric Olié",
         183,
         null,
         "brown",
         "fair",
         "blue",
         null,
         "male",
         "masculine",
         "Naboo",
         "Human",
         "The Phantom Menace",
         null,
         "Naboo Royal Starship"
        ],
        [
         "Watto",
         137,
         null,
         "black",
         "blue, grey",
         "yellow",
         null,
         "male",
         "masculine",
         "Toydaria",
         "Toydarian",
         "The Phantom Menace, Attack of the Clones",
         null,
         null
        ],
        [
         "Sebulba",
         112,
         40,
         "none",
         "grey, red",
         "orange",
         null,
         "male",
         "masculine",
         "Malastare",
         "Dug",
         "The Phantom Menace",
         null,
         null
        ],
        [
         "Quarsh Panaka",
         183,
         null,
         "black",
         "dark",
         "brown",
         62,
         "male",
         "masculine",
         "Naboo",
         "Human",
         "The Phantom Menace",
         null,
         null
        ],
        [
         "Shmi Skywalker",
         163,
         null,
         "black",
         "fair",
         "brown",
         72,
         "female",
         "feminine",
         "Tatooine",
         "Human",
         "The Phantom Menace, Attack of the Clones",
         null,
         null
        ],
        [
         "Darth Maul",
         175,
         80,
         "none",
         "red",
         "yellow",
         54,
         "male",
         "masculine",
         "Dathomir",
         "Zabrak",
         "The Phantom Menace",
         "Sith speeder",
         "Scimitar"
        ],
        [
         "Bib Fortuna",
         180,
         null,
         "none",
         "pale",
         "pink",
         null,
         "male",
         "masculine",
         "Ryloth",
         "Twi'lek",
         "Return of the Jedi",
         null,
         null
        ],
        [
         "Ayla Secura",
         178,
         55,
         "none",
         "blue",
         "hazel",
         48,
         "female",
         "feminine",
         "Ryloth",
         "Twi'lek",
         "The Phantom Menace, Attack of the Clones, Revenge of the Sith",
         null,
         null
        ],
        [
         "Ratts Tyerel",
         79,
         15,
         "none",
         "grey, blue",
         "unknown",
         null,
         "male",
         "masculine",
         "Aleen Minor",
         "Aleena",
         "The Phantom Menace",
         null,
         null
        ],
        [
         "Dud Bolt",
         94,
         45,
         "none",
         "blue, grey",
         "yellow",
         null,
         "male",
         "masculine",
         "Vulpter",
         "Vulptereen",
         "The Phantom Menace",
         null,
         null
        ],
        [
         "Gasgano",
         122,
         null,
         "none",
         "white, blue",
         "black",
         null,
         "male",
         "masculine",
         "Troiken",
         "Xexto",
         "The Phantom Menace",
         null,
         null
        ],
        [
         "Ben Quadinaros",
         163,
         65,
         "none",
         "grey, green, yellow",
         "orange",
         null,
         "male",
         "masculine",
         "Tund",
         "Toong",
         "The Phantom Menace",
         null,
         null
        ],
        [
         "Mace Windu",
         188,
         84,
         "none",
         "dark",
         "brown",
         72,
         "male",
         "masculine",
         "Haruun Kal",
         "Human",
         "The Phantom Menace, Attack of the Clones, Revenge of the Sith",
         null,
         null
        ],
        [
         "Ki-Adi-Mundi",
         198,
         82,
         "white",
         "pale",
         "yellow",
         92,
         "male",
         "masculine",
         "Cerea",
         "Cerean",
         "The Phantom Menace, Attack of the Clones, Revenge of the Sith",
         null,
         null
        ],
        [
         "Kit Fisto",
         196,
         87,
         "none",
         "green",
         "black",
         null,
         "male",
         "masculine",
         "Glee Anselm",
         "Nautolan",
         "The Phantom Menace, Attack of the Clones, Revenge of the Sith",
         null,
         null
        ],
        [
         "Eeth Koth",
         171,
         null,
         "black",
         "brown",
         "brown",
         null,
         "male",
         "masculine",
         "Iridonia",
         "Zabrak",
         "The Phantom Menace, Revenge of the Sith",
         null,
         null
        ],
        [
         "Adi Gallia",
         184,
         50,
         "none",
         "dark",
         "blue",
         null,
         "female",
         "feminine",
         "Coruscant",
         "Tholothian",
         "The Phantom Menace, Revenge of the Sith",
         null,
         null
        ],
        [
         "Saesee Tiin",
         188,
         null,
         "none",
         "pale",
         "orange",
         null,
         "male",
         "masculine",
         "Iktotch",
         "Iktotchi",
         "The Phantom Menace, Revenge of the Sith",
         null,
         null
        ],
        [
         "Yarael Poof",
         264,
         null,
         "none",
         "white",
         "yellow",
         null,
         "male",
         "masculine",
         "Quermia",
         "Quermian",
         "The Phantom Menace",
         null,
         null
        ],
        [
         "Plo Koon",
         188,
         80,
         "none",
         "orange",
         "black",
         22,
         "male",
         "masculine",
         "Dorin",
         "Kel Dor",
         "The Phantom Menace, Attack of the Clones, Revenge of the Sith",
         null,
         "Jedi starfighter"
        ],
        [
         "Mas Amedda",
         196,
         null,
         "none",
         "blue",
         "blue",
         null,
         "male",
         "masculine",
         "Champala",
         "Chagrian",
         "The Phantom Menace, Attack of the Clones",
         null,
         null
        ],
        [
         "Gregar Typho",
         185,
         85,
         "black",
         "dark",
         "brown",
         null,
         "NA",
         "NA",
         "Naboo",
         "NA",
         "Attack of the Clones",
         null,
         "Naboo fighter"
        ],
        [
         "Cordé",
         157,
         null,
         "brown",
         "light",
         "brown",
         null,
         "NA",
         "NA",
         "Naboo",
         "NA",
         "Attack of the Clones",
         null,
         null
        ],
        [
         "Cliegg Lars",
         183,
         null,
         "brown",
         "fair",
         "blue",
         82,
         "male",
         "masculine",
         "Tatooine",
         "Human",
         "Attack of the Clones",
         null,
         null
        ],
        [
         "Poggle the Lesser",
         183,
         80,
         "none",
         "green",
         "yellow",
         null,
         "male",
         "masculine",
         "Geonosis",
         "Geonosian",
         "Attack of the Clones, Revenge of the Sith",
         null,
         null
        ],
        [
         "Luminara Unduli",
         170,
         null,
         "black",
         "yellow",
         "blue",
         58,
         "female",
         "feminine",
         "Mirial",
         "Mirialan",
         "Attack of the Clones, Revenge of the Sith",
         null,
         null
        ],
        [
         "Barriss Offee",
         166,
         50,
         "black",
         "yellow",
         "blue",
         40,
         "female",
         "feminine",
         "Mirial",
         "Mirialan",
         "Attack of the Clones",
         null,
         null
        ],
        [
         "Dormé",
         165,
         null,
         "brown",
         "light",
         "brown",
         null,
         "female",
         "feminine",
         "Naboo",
         "Human",
         "Attack of the Clones",
         null,
         null
        ],
        [
         "Dooku",
         193,
         80,
         "white",
         "fair",
         "brown",
         102,
         "male",
         "masculine",
         "Serenno",
         "Human",
         "Attack of the Clones, Revenge of the Sith",
         "Flitknot speeder",
         null
        ],
        [
         "Bail Prestor Organa",
         191,
         null,
         "black",
         "tan",
         "brown",
         67,
         "male",
         "masculine",
         "Alderaan",
         "Human",
         "Attack of the Clones, Revenge of the Sith",
         null,
         null
        ],
        [
         "Jango Fett",
         183,
         79,
         "black",
         "tan",
         "brown",
         66,
         "male",
         "masculine",
         "Concord Dawn",
         "Human",
         "Attack of the Clones",
         null,
         null
        ],
        [
         "Zam Wesell",
         168,
         55,
         "blonde",
         "fair, green, yellow",
         "yellow",
         null,
         "female",
         "feminine",
         "Zolan",
         "Clawdite",
         "Attack of the Clones",
         "Koro-2 Exodrive airspeeder",
         null
        ],
        [
         "Dexter Jettster",
         198,
         102,
         "none",
         "brown",
         "yellow",
         null,
         "male",
         "masculine",
         "Ojom",
         "Besalisk",
         "Attack of the Clones",
         null,
         null
        ],
        [
         "Lama Su",
         229,
         88,
         "none",
         "grey",
         "black",
         null,
         "male",
         "masculine",
         "Kamino",
         "Kaminoan",
         "Attack of the Clones",
         null,
         null
        ],
        [
         "Taun We",
         213,
         null,
         "none",
         "grey",
         "black",
         null,
         "female",
         "feminine",
         "Kamino",
         "Kaminoan",
         "Attack of the Clones",
         null,
         null
        ],
        [
         "Jocasta Nu",
         167,
         null,
         "white",
         "fair",
         "blue",
         null,
         "female",
         "feminine",
         "Coruscant",
         "Human",
         "Attack of the Clones",
         null,
         null
        ],
        [
         "R4-P17",
         96,
         null,
         "none",
         "silver, red",
         "red, blue",
         null,
         "none",
         "feminine",
         "NA",
         "Droid",
         "Attack of the Clones, Revenge of the Sith",
         null,
         null
        ],
        [
         "Wat Tambor",
         193,
         48,
         "none",
         "green, grey",
         "unknown",
         null,
         "male",
         "masculine",
         "Skako",
         "Skakoan",
         "Attack of the Clones",
         null,
         null
        ],
        [
         "San Hill",
         191,
         null,
         "none",
         "grey",
         "gold",
         null,
         "male",
         "masculine",
         "Muunilinst",
         "Muun",
         "Attack of the Clones",
         null,
         null
        ],
        [
         "Shaak Ti",
         178,
         57,
         "none",
         "red, blue, white",
         "black",
         null,
         "female",
         "feminine",
         "Shili",
         "Togruta",
         "Attack of the Clones, Revenge of the Sith",
         null,
         null
        ],
        [
         "Grievous",
         216,
         159,
         "none",
         "brown, white",
         "green, yellow",
         null,
         "male",
         "masculine",
         "Kalee",
         "Kaleesh",
         "Revenge of the Sith",
         "Tsmeu-6 personal wheel bike",
         "Belbullab-22 starfighter"
        ],
        [
         "Tarfful",
         234,
         136,
         "brown",
         "brown",
         "blue",
         null,
         "male",
         "masculine",
         "Kashyyyk",
         "Wookiee",
         "Revenge of the Sith",
         null,
         null
        ],
        [
         "Raymus Antilles",
         188,
         79,
         "brown",
         "light",
         "brown",
         null,
         "male",
         "masculine",
         "Alderaan",
         "Human",
         "A New Hope, Revenge of the Sith",
         null,
         null
        ],
        [
         "Sly Moore",
         178,
         48,
         "none",
         "pale",
         "white",
         null,
         "NA",
         "NA",
         "Umbara",
         "NA",
         "Attack of the Clones, Revenge of the Sith",
         null,
         null
        ],
        [
         "Tion Medon",
         206,
         80,
         "none",
         "grey",
         "black",
         null,
         "male",
         "masculine",
         "Utapau",
         "Pau'an",
         "Revenge of the Sith",
         null,
         null
        ],
        [
         "Finn",
         null,
         null,
         "black",
         "dark",
         "dark",
         null,
         "male",
         "masculine",
         "NA",
         "Human",
         "The Force Awakens",
         null,
         null
        ],
        [
         "Rey",
         null,
         null,
         "brown",
         "light",
         "hazel",
         null,
         "female",
         "feminine",
         "NA",
         "Human",
         "The Force Awakens",
         null,
         null
        ],
        [
         "Poe Dameron",
         null,
         null,
         "brown",
         "light",
         "brown",
         null,
         "male",
         "masculine",
         "NA",
         "Human",
         "The Force Awakens",
         null,
         "X-wing"
        ],
        [
         "BB8",
         null,
         null,
         "none",
         "none",
         "black",
         null,
         "none",
         "masculine",
         "NA",
         "Droid",
         "The Force Awakens",
         null,
         null
        ],
        [
         "Captain Phasma",
         null,
         null,
         "none",
         "none",
         "unknown",
         null,
         "female",
         "feminine",
         "NA",
         "Human",
         "The Force Awakens",
         null,
         null
        ]
       ],
       "datasetInfos": [],
       "dbfsResultPath": null,
       "isJsonSchema": true,
       "metadata": {},
       "overflow": false,
       "plotOptions": {
        "customPlotOptions": {},
        "displayType": "table",
        "pivotAggregation": null,
        "pivotColumns": null,
        "xColumns": null,
        "yColumns": null
       },
       "removedWidgets": [],
       "schema": [
        {
         "metadata": "{}",
         "name": "name",
         "type": "\"string\""
        },
        {
         "metadata": "{}",
         "name": "height",
         "type": "\"integer\""
        },
        {
         "metadata": "{}",
         "name": "mass",
         "type": "\"integer\""
        },
        {
         "metadata": "{}",
         "name": "hair_color",
         "type": "\"string\""
        },
        {
         "metadata": "{}",
         "name": "skin_color",
         "type": "\"string\""
        },
        {
         "metadata": "{}",
         "name": "eye_color",
         "type": "\"string\""
        },
        {
         "metadata": "{}",
         "name": "birth_year",
         "type": "\"integer\""
        },
        {
         "metadata": "{}",
         "name": "sex",
         "type": "\"string\""
        },
        {
         "metadata": "{}",
         "name": "gender",
         "type": "\"string\""
        },
        {
         "metadata": "{}",
         "name": "homeworld",
         "type": "\"string\""
        },
        {
         "metadata": "{}",
         "name": "species",
         "type": "\"string\""
        },
        {
         "metadata": "{}",
         "name": "films",
         "type": "\"string\""
        },
        {
         "metadata": "{}",
         "name": "vehicles",
         "type": "\"string\""
        },
        {
         "metadata": "{}",
         "name": "starships",
         "type": "\"string\""
        }
       ],
       "type": "table"
      }
     },
     "output_type": "display_data"
    }
   ],
   "source": [
    "%sql\n",
    "\n",
    "/* Query the created temp table in a SQL cell */\n",
    "\n",
    "select * from `starwars_csv`"
   ]
  },
  {
   "cell_type": "code",
   "execution_count": 0,
   "metadata": {
    "application/vnd.databricks.v1+cell": {
     "cellMetadata": {
      "byteLimit": 2048000,
      "rowLimit": 10000
     },
     "inputWidgets": {},
     "nuid": "db9631f6-bb4a-42ca-8a3c-0d48af932331",
     "showTitle": false,
     "tableResultSettingsMap": {},
     "title": ""
    }
   },
   "outputs": [],
   "source": [
    "# With this registered as a temp view, it will only be available to this particular notebook. If you'd like other users to be able to query this table, you can also create a table from the DataFrame.\n",
    "# Once saved, this table will persist across cluster restarts as well as allow various users across different notebooks to query this data.\n",
    "# To do so, choose your table name and uncomment the bottom line.\n",
    "\n",
    "permanent_table_name = \"starwars_csv\"\n",
    "\n",
    "# df.write.format(\"parquet\").saveAsTable(permanent_table_name)"
   ]
  },
  {
   "cell_type": "code",
   "execution_count": 0,
   "metadata": {
    "application/vnd.databricks.v1+cell": {
     "cellMetadata": {
      "byteLimit": 2048000,
      "implicitDf": true,
      "rowLimit": 10000
     },
     "inputWidgets": {},
     "nuid": "92892fd2-137a-4fbe-830c-37f75ccaa455",
     "showTitle": false,
     "tableResultSettingsMap": {},
     "title": ""
    }
   },
   "outputs": [
    {
     "output_type": "display_data",
     "data": {
      "text/html": [
       "<style scoped>\n",
       "  .table-result-container {\n",
       "    max-height: 300px;\n",
       "    overflow: auto;\n",
       "  }\n",
       "  table, th, td {\n",
       "    border: 1px solid black;\n",
       "    border-collapse: collapse;\n",
       "  }\n",
       "  th, td {\n",
       "    padding: 5px;\n",
       "  }\n",
       "  th {\n",
       "    text-align: left;\n",
       "  }\n",
       "</style><div class='table-result-container'><table class='table-result'><thead style='background-color: white'><tr><th>name</th><th>height</th><th>mass</th><th>hair_color</th><th>skin_color</th><th>eye_color</th><th>birth_year</th><th>sex</th><th>gender</th><th>homeworld</th><th>species</th><th>films</th><th>vehicles</th><th>starships</th></tr></thead><tbody><tr><td>Luke Skywalker</td><td>172</td><td>77</td><td>blond</td><td>fair</td><td>blue</td><td>19</td><td>male</td><td>masculine</td><td>Tatooine</td><td>Human</td><td>A New Hope, The Empire Strikes Back, Return of the Jedi, Revenge of the Sith, The Force Awakens</td><td>Snowspeeder, Imperial Speeder Bike</td><td>X-wing, Imperial shuttle</td></tr><tr><td>C-3PO</td><td>167</td><td>75</td><td>NA</td><td>gold</td><td>yellow</td><td>112</td><td>none</td><td>masculine</td><td>Tatooine</td><td>Droid</td><td>A New Hope, The Empire Strikes Back, Return of the Jedi, The Phantom Menace, Attack of the Clones, Revenge of the Sith</td><td>null</td><td>null</td></tr><tr><td>R2-D2</td><td>96</td><td>32</td><td>NA</td><td>white, blue</td><td>red</td><td>33</td><td>none</td><td>masculine</td><td>Naboo</td><td>Droid</td><td>A New Hope, The Empire Strikes Back, Return of the Jedi, The Phantom Menace, Attack of the Clones, Revenge of the Sith, The Force Awakens</td><td>null</td><td>null</td></tr><tr><td>Darth Vader</td><td>202</td><td>136</td><td>none</td><td>white</td><td>yellow</td><td>null</td><td>male</td><td>masculine</td><td>Tatooine</td><td>Human</td><td>A New Hope, The Empire Strikes Back, Return of the Jedi, Revenge of the Sith</td><td>null</td><td>TIE Advanced x1</td></tr><tr><td>Leia Organa</td><td>150</td><td>49</td><td>brown</td><td>light</td><td>brown</td><td>19</td><td>female</td><td>feminine</td><td>Alderaan</td><td>Human</td><td>A New Hope, The Empire Strikes Back, Return of the Jedi, Revenge of the Sith, The Force Awakens</td><td>Imperial Speeder Bike</td><td>null</td></tr><tr><td>Owen Lars</td><td>178</td><td>120</td><td>brown, grey</td><td>light</td><td>blue</td><td>52</td><td>male</td><td>masculine</td><td>Tatooine</td><td>Human</td><td>A New Hope, Attack of the Clones, Revenge of the Sith</td><td>null</td><td>null</td></tr><tr><td>Beru Whitesun Lars</td><td>165</td><td>75</td><td>brown</td><td>light</td><td>blue</td><td>47</td><td>female</td><td>feminine</td><td>Tatooine</td><td>Human</td><td>A New Hope, Attack of the Clones, Revenge of the Sith</td><td>null</td><td>null</td></tr><tr><td>R5-D4</td><td>97</td><td>32</td><td>NA</td><td>white, red</td><td>red</td><td>null</td><td>none</td><td>masculine</td><td>Tatooine</td><td>Droid</td><td>A New Hope</td><td>null</td><td>null</td></tr><tr><td>Biggs Darklighter</td><td>183</td><td>84</td><td>black</td><td>light</td><td>brown</td><td>24</td><td>male</td><td>masculine</td><td>Tatooine</td><td>Human</td><td>A New Hope</td><td>null</td><td>X-wing</td></tr><tr><td>Obi-Wan Kenobi</td><td>182</td><td>77</td><td>auburn, white</td><td>fair</td><td>blue-gray</td><td>57</td><td>male</td><td>masculine</td><td>Stewjon</td><td>Human</td><td>A New Hope, The Empire Strikes Back, Return of the Jedi, The Phantom Menace, Attack of the Clones, Revenge of the Sith</td><td>Tribubble bongo</td><td>Jedi starfighter, Trade Federation cruiser, Naboo star skiff, Jedi Interceptor, Belbullab-22 starfighter</td></tr><tr><td>Anakin Skywalker</td><td>188</td><td>84</td><td>blond</td><td>fair</td><td>blue</td><td>null</td><td>male</td><td>masculine</td><td>Tatooine</td><td>Human</td><td>The Phantom Menace, Attack of the Clones, Revenge of the Sith</td><td>Zephyr-G swoop bike, XJ-6 airspeeder</td><td>Naboo fighter, Trade Federation cruiser, Jedi Interceptor</td></tr><tr><td>Wilhuff Tarkin</td><td>180</td><td>null</td><td>auburn, grey</td><td>fair</td><td>blue</td><td>64</td><td>male</td><td>masculine</td><td>Eriadu</td><td>Human</td><td>A New Hope, Revenge of the Sith</td><td>null</td><td>null</td></tr><tr><td>Chewbacca</td><td>228</td><td>112</td><td>brown</td><td>unknown</td><td>blue</td><td>200</td><td>male</td><td>masculine</td><td>Kashyyyk</td><td>Wookiee</td><td>A New Hope, The Empire Strikes Back, Return of the Jedi, Revenge of the Sith, The Force Awakens</td><td>AT-ST</td><td>Millennium Falcon, Imperial shuttle</td></tr><tr><td>Han Solo</td><td>180</td><td>80</td><td>brown</td><td>fair</td><td>brown</td><td>29</td><td>male</td><td>masculine</td><td>Corellia</td><td>Human</td><td>A New Hope, The Empire Strikes Back, Return of the Jedi, The Force Awakens</td><td>null</td><td>Millennium Falcon, Imperial shuttle</td></tr><tr><td>Greedo</td><td>173</td><td>74</td><td>NA</td><td>green</td><td>black</td><td>44</td><td>male</td><td>masculine</td><td>Rodia</td><td>Rodian</td><td>A New Hope</td><td>null</td><td>null</td></tr><tr><td>Jabba Desilijic Tiure</td><td>175</td><td>1358</td><td>NA</td><td>green-tan, brown</td><td>orange</td><td>600</td><td>hermaphroditic</td><td>masculine</td><td>Nal Hutta</td><td>Hutt</td><td>A New Hope, Return of the Jedi, The Phantom Menace</td><td>null</td><td>null</td></tr><tr><td>Wedge Antilles</td><td>170</td><td>77</td><td>brown</td><td>fair</td><td>hazel</td><td>21</td><td>male</td><td>masculine</td><td>Corellia</td><td>Human</td><td>A New Hope, The Empire Strikes Back, Return of the Jedi</td><td>Snowspeeder</td><td>X-wing</td></tr><tr><td>Jek Tono Porkins</td><td>180</td><td>110</td><td>brown</td><td>fair</td><td>blue</td><td>null</td><td>NA</td><td>NA</td><td>Bestine IV</td><td>NA</td><td>A New Hope</td><td>null</td><td>X-wing</td></tr><tr><td>Yoda</td><td>66</td><td>17</td><td>white</td><td>green</td><td>brown</td><td>896</td><td>male</td><td>masculine</td><td>NA</td><td>Yoda's species</td><td>The Empire Strikes Back, Return of the Jedi, The Phantom Menace, Attack of the Clones, Revenge of the Sith</td><td>null</td><td>null</td></tr><tr><td>Palpatine</td><td>170</td><td>75</td><td>grey</td><td>pale</td><td>yellow</td><td>82</td><td>male</td><td>masculine</td><td>Naboo</td><td>Human</td><td>The Empire Strikes Back, Return of the Jedi, The Phantom Menace, Attack of the Clones, Revenge of the Sith</td><td>null</td><td>null</td></tr><tr><td>Boba Fett</td><td>183</td><td>null</td><td>black</td><td>fair</td><td>brown</td><td>null</td><td>male</td><td>masculine</td><td>Kamino</td><td>Human</td><td>The Empire Strikes Back, Return of the Jedi, Attack of the Clones</td><td>null</td><td>Slave 1</td></tr><tr><td>IG-88</td><td>200</td><td>140</td><td>none</td><td>metal</td><td>red</td><td>15</td><td>none</td><td>masculine</td><td>NA</td><td>Droid</td><td>The Empire Strikes Back</td><td>null</td><td>null</td></tr><tr><td>Bossk</td><td>190</td><td>113</td><td>none</td><td>green</td><td>red</td><td>53</td><td>male</td><td>masculine</td><td>Trandosha</td><td>Trandoshan</td><td>The Empire Strikes Back</td><td>null</td><td>null</td></tr><tr><td>Lando Calrissian</td><td>177</td><td>79</td><td>black</td><td>dark</td><td>brown</td><td>31</td><td>male</td><td>masculine</td><td>Socorro</td><td>Human</td><td>The Empire Strikes Back, Return of the Jedi</td><td>null</td><td>Millennium Falcon</td></tr><tr><td>Lobot</td><td>175</td><td>79</td><td>none</td><td>light</td><td>blue</td><td>37</td><td>male</td><td>masculine</td><td>Bespin</td><td>Human</td><td>The Empire Strikes Back</td><td>null</td><td>null</td></tr><tr><td>Ackbar</td><td>180</td><td>83</td><td>none</td><td>brown mottle</td><td>orange</td><td>41</td><td>male</td><td>masculine</td><td>Mon Cala</td><td>Mon Calamari</td><td>Return of the Jedi, The Force Awakens</td><td>null</td><td>null</td></tr><tr><td>Mon Mothma</td><td>150</td><td>null</td><td>auburn</td><td>fair</td><td>blue</td><td>48</td><td>female</td><td>feminine</td><td>Chandrila</td><td>Human</td><td>Return of the Jedi</td><td>null</td><td>null</td></tr><tr><td>Arvel Crynyd</td><td>null</td><td>null</td><td>brown</td><td>fair</td><td>brown</td><td>null</td><td>male</td><td>masculine</td><td>NA</td><td>Human</td><td>Return of the Jedi</td><td>null</td><td>A-wing</td></tr><tr><td>Wicket Systri Warrick</td><td>88</td><td>20</td><td>brown</td><td>brown</td><td>brown</td><td>8</td><td>male</td><td>masculine</td><td>Endor</td><td>Ewok</td><td>Return of the Jedi</td><td>null</td><td>null</td></tr><tr><td>Nien Nunb</td><td>160</td><td>68</td><td>none</td><td>grey</td><td>black</td><td>null</td><td>male</td><td>masculine</td><td>Sullust</td><td>Sullustan</td><td>Return of the Jedi</td><td>null</td><td>Millennium Falcon</td></tr><tr><td>Qui-Gon Jinn</td><td>193</td><td>89</td><td>brown</td><td>fair</td><td>blue</td><td>92</td><td>male</td><td>masculine</td><td>NA</td><td>Human</td><td>The Phantom Menace</td><td>Tribubble bongo</td><td>null</td></tr><tr><td>Nute Gunray</td><td>191</td><td>90</td><td>none</td><td>mottled green</td><td>red</td><td>null</td><td>male</td><td>masculine</td><td>Cato Neimoidia</td><td>Neimodian</td><td>The Phantom Menace, Attack of the Clones, Revenge of the Sith</td><td>null</td><td>null</td></tr><tr><td>Finis Valorum</td><td>170</td><td>null</td><td>blond</td><td>fair</td><td>blue</td><td>91</td><td>male</td><td>masculine</td><td>Coruscant</td><td>Human</td><td>The Phantom Menace</td><td>null</td><td>null</td></tr><tr><td>Padmé Amidala</td><td>185</td><td>45</td><td>brown</td><td>light</td><td>brown</td><td>46</td><td>female</td><td>feminine</td><td>Naboo</td><td>Human</td><td>The Phantom Menace, Attack of the Clones, Revenge of the Sith</td><td>null</td><td>Naboo fighter, H-type Nubian yacht, Naboo star skiff</td></tr><tr><td>Jar Jar Binks</td><td>196</td><td>66</td><td>none</td><td>orange</td><td>orange</td><td>52</td><td>male</td><td>masculine</td><td>Naboo</td><td>Gungan</td><td>The Phantom Menace, Attack of the Clones</td><td>null</td><td>null</td></tr><tr><td>Roos Tarpals</td><td>224</td><td>82</td><td>none</td><td>grey</td><td>orange</td><td>null</td><td>male</td><td>masculine</td><td>Naboo</td><td>Gungan</td><td>The Phantom Menace</td><td>null</td><td>null</td></tr><tr><td>Rugor Nass</td><td>206</td><td>null</td><td>none</td><td>green</td><td>orange</td><td>null</td><td>male</td><td>masculine</td><td>Naboo</td><td>Gungan</td><td>The Phantom Menace</td><td>null</td><td>null</td></tr><tr><td>Ric Olié</td><td>183</td><td>null</td><td>brown</td><td>fair</td><td>blue</td><td>null</td><td>male</td><td>masculine</td><td>Naboo</td><td>Human</td><td>The Phantom Menace</td><td>null</td><td>Naboo Royal Starship</td></tr><tr><td>Watto</td><td>137</td><td>null</td><td>black</td><td>blue, grey</td><td>yellow</td><td>null</td><td>male</td><td>masculine</td><td>Toydaria</td><td>Toydarian</td><td>The Phantom Menace, Attack of the Clones</td><td>null</td><td>null</td></tr><tr><td>Sebulba</td><td>112</td><td>40</td><td>none</td><td>grey, red</td><td>orange</td><td>null</td><td>male</td><td>masculine</td><td>Malastare</td><td>Dug</td><td>The Phantom Menace</td><td>null</td><td>null</td></tr><tr><td>Quarsh Panaka</td><td>183</td><td>null</td><td>black</td><td>dark</td><td>brown</td><td>62</td><td>male</td><td>masculine</td><td>Naboo</td><td>Human</td><td>The Phantom Menace</td><td>null</td><td>null</td></tr><tr><td>Shmi Skywalker</td><td>163</td><td>null</td><td>black</td><td>fair</td><td>brown</td><td>72</td><td>female</td><td>feminine</td><td>Tatooine</td><td>Human</td><td>The Phantom Menace, Attack of the Clones</td><td>null</td><td>null</td></tr><tr><td>Darth Maul</td><td>175</td><td>80</td><td>none</td><td>red</td><td>yellow</td><td>54</td><td>male</td><td>masculine</td><td>Dathomir</td><td>Zabrak</td><td>The Phantom Menace</td><td>Sith speeder</td><td>Scimitar</td></tr><tr><td>Bib Fortuna</td><td>180</td><td>null</td><td>none</td><td>pale</td><td>pink</td><td>null</td><td>male</td><td>masculine</td><td>Ryloth</td><td>Twi'lek</td><td>Return of the Jedi</td><td>null</td><td>null</td></tr><tr><td>Ayla Secura</td><td>178</td><td>55</td><td>none</td><td>blue</td><td>hazel</td><td>48</td><td>female</td><td>feminine</td><td>Ryloth</td><td>Twi'lek</td><td>The Phantom Menace, Attack of the Clones, Revenge of the Sith</td><td>null</td><td>null</td></tr><tr><td>Ratts Tyerel</td><td>79</td><td>15</td><td>none</td><td>grey, blue</td><td>unknown</td><td>null</td><td>male</td><td>masculine</td><td>Aleen Minor</td><td>Aleena</td><td>The Phantom Menace</td><td>null</td><td>null</td></tr><tr><td>Dud Bolt</td><td>94</td><td>45</td><td>none</td><td>blue, grey</td><td>yellow</td><td>null</td><td>male</td><td>masculine</td><td>Vulpter</td><td>Vulptereen</td><td>The Phantom Menace</td><td>null</td><td>null</td></tr><tr><td>Gasgano</td><td>122</td><td>null</td><td>none</td><td>white, blue</td><td>black</td><td>null</td><td>male</td><td>masculine</td><td>Troiken</td><td>Xexto</td><td>The Phantom Menace</td><td>null</td><td>null</td></tr><tr><td>Ben Quadinaros</td><td>163</td><td>65</td><td>none</td><td>grey, green, yellow</td><td>orange</td><td>null</td><td>male</td><td>masculine</td><td>Tund</td><td>Toong</td><td>The Phantom Menace</td><td>null</td><td>null</td></tr><tr><td>Mace Windu</td><td>188</td><td>84</td><td>none</td><td>dark</td><td>brown</td><td>72</td><td>male</td><td>masculine</td><td>Haruun Kal</td><td>Human</td><td>The Phantom Menace, Attack of the Clones, Revenge of the Sith</td><td>null</td><td>null</td></tr><tr><td>Ki-Adi-Mundi</td><td>198</td><td>82</td><td>white</td><td>pale</td><td>yellow</td><td>92</td><td>male</td><td>masculine</td><td>Cerea</td><td>Cerean</td><td>The Phantom Menace, Attack of the Clones, Revenge of the Sith</td><td>null</td><td>null</td></tr><tr><td>Kit Fisto</td><td>196</td><td>87</td><td>none</td><td>green</td><td>black</td><td>null</td><td>male</td><td>masculine</td><td>Glee Anselm</td><td>Nautolan</td><td>The Phantom Menace, Attack of the Clones, Revenge of the Sith</td><td>null</td><td>null</td></tr><tr><td>Eeth Koth</td><td>171</td><td>null</td><td>black</td><td>brown</td><td>brown</td><td>null</td><td>male</td><td>masculine</td><td>Iridonia</td><td>Zabrak</td><td>The Phantom Menace, Revenge of the Sith</td><td>null</td><td>null</td></tr><tr><td>Adi Gallia</td><td>184</td><td>50</td><td>none</td><td>dark</td><td>blue</td><td>null</td><td>female</td><td>feminine</td><td>Coruscant</td><td>Tholothian</td><td>The Phantom Menace, Revenge of the Sith</td><td>null</td><td>null</td></tr><tr><td>Saesee Tiin</td><td>188</td><td>null</td><td>none</td><td>pale</td><td>orange</td><td>null</td><td>male</td><td>masculine</td><td>Iktotch</td><td>Iktotchi</td><td>The Phantom Menace, Revenge of the Sith</td><td>null</td><td>null</td></tr><tr><td>Yarael Poof</td><td>264</td><td>null</td><td>none</td><td>white</td><td>yellow</td><td>null</td><td>male</td><td>masculine</td><td>Quermia</td><td>Quermian</td><td>The Phantom Menace</td><td>null</td><td>null</td></tr><tr><td>Plo Koon</td><td>188</td><td>80</td><td>none</td><td>orange</td><td>black</td><td>22</td><td>male</td><td>masculine</td><td>Dorin</td><td>Kel Dor</td><td>The Phantom Menace, Attack of the Clones, Revenge of the Sith</td><td>null</td><td>Jedi starfighter</td></tr><tr><td>Mas Amedda</td><td>196</td><td>null</td><td>none</td><td>blue</td><td>blue</td><td>null</td><td>male</td><td>masculine</td><td>Champala</td><td>Chagrian</td><td>The Phantom Menace, Attack of the Clones</td><td>null</td><td>null</td></tr><tr><td>Gregar Typho</td><td>185</td><td>85</td><td>black</td><td>dark</td><td>brown</td><td>null</td><td>NA</td><td>NA</td><td>Naboo</td><td>NA</td><td>Attack of the Clones</td><td>null</td><td>Naboo fighter</td></tr><tr><td>Cordé</td><td>157</td><td>null</td><td>brown</td><td>light</td><td>brown</td><td>null</td><td>NA</td><td>NA</td><td>Naboo</td><td>NA</td><td>Attack of the Clones</td><td>null</td><td>null</td></tr><tr><td>Cliegg Lars</td><td>183</td><td>null</td><td>brown</td><td>fair</td><td>blue</td><td>82</td><td>male</td><td>masculine</td><td>Tatooine</td><td>Human</td><td>Attack of the Clones</td><td>null</td><td>null</td></tr><tr><td>Poggle the Lesser</td><td>183</td><td>80</td><td>none</td><td>green</td><td>yellow</td><td>null</td><td>male</td><td>masculine</td><td>Geonosis</td><td>Geonosian</td><td>Attack of the Clones, Revenge of the Sith</td><td>null</td><td>null</td></tr><tr><td>Luminara Unduli</td><td>170</td><td>null</td><td>black</td><td>yellow</td><td>blue</td><td>58</td><td>female</td><td>feminine</td><td>Mirial</td><td>Mirialan</td><td>Attack of the Clones, Revenge of the Sith</td><td>null</td><td>null</td></tr><tr><td>Barriss Offee</td><td>166</td><td>50</td><td>black</td><td>yellow</td><td>blue</td><td>40</td><td>female</td><td>feminine</td><td>Mirial</td><td>Mirialan</td><td>Attack of the Clones</td><td>null</td><td>null</td></tr><tr><td>Dormé</td><td>165</td><td>null</td><td>brown</td><td>light</td><td>brown</td><td>null</td><td>female</td><td>feminine</td><td>Naboo</td><td>Human</td><td>Attack of the Clones</td><td>null</td><td>null</td></tr><tr><td>Dooku</td><td>193</td><td>80</td><td>white</td><td>fair</td><td>brown</td><td>102</td><td>male</td><td>masculine</td><td>Serenno</td><td>Human</td><td>Attack of the Clones, Revenge of the Sith</td><td>Flitknot speeder</td><td>null</td></tr><tr><td>Bail Prestor Organa</td><td>191</td><td>null</td><td>black</td><td>tan</td><td>brown</td><td>67</td><td>male</td><td>masculine</td><td>Alderaan</td><td>Human</td><td>Attack of the Clones, Revenge of the Sith</td><td>null</td><td>null</td></tr><tr><td>Jango Fett</td><td>183</td><td>79</td><td>black</td><td>tan</td><td>brown</td><td>66</td><td>male</td><td>masculine</td><td>Concord Dawn</td><td>Human</td><td>Attack of the Clones</td><td>null</td><td>null</td></tr><tr><td>Zam Wesell</td><td>168</td><td>55</td><td>blonde</td><td>fair, green, yellow</td><td>yellow</td><td>null</td><td>female</td><td>feminine</td><td>Zolan</td><td>Clawdite</td><td>Attack of the Clones</td><td>Koro-2 Exodrive airspeeder</td><td>null</td></tr><tr><td>Dexter Jettster</td><td>198</td><td>102</td><td>none</td><td>brown</td><td>yellow</td><td>null</td><td>male</td><td>masculine</td><td>Ojom</td><td>Besalisk</td><td>Attack of the Clones</td><td>null</td><td>null</td></tr><tr><td>Lama Su</td><td>229</td><td>88</td><td>none</td><td>grey</td><td>black</td><td>null</td><td>male</td><td>masculine</td><td>Kamino</td><td>Kaminoan</td><td>Attack of the Clones</td><td>null</td><td>null</td></tr><tr><td>Taun We</td><td>213</td><td>null</td><td>none</td><td>grey</td><td>black</td><td>null</td><td>female</td><td>feminine</td><td>Kamino</td><td>Kaminoan</td><td>Attack of the Clones</td><td>null</td><td>null</td></tr><tr><td>Jocasta Nu</td><td>167</td><td>null</td><td>white</td><td>fair</td><td>blue</td><td>null</td><td>female</td><td>feminine</td><td>Coruscant</td><td>Human</td><td>Attack of the Clones</td><td>null</td><td>null</td></tr><tr><td>R4-P17</td><td>96</td><td>null</td><td>none</td><td>silver, red</td><td>red, blue</td><td>null</td><td>none</td><td>feminine</td><td>NA</td><td>Droid</td><td>Attack of the Clones, Revenge of the Sith</td><td>null</td><td>null</td></tr><tr><td>Wat Tambor</td><td>193</td><td>48</td><td>none</td><td>green, grey</td><td>unknown</td><td>null</td><td>male</td><td>masculine</td><td>Skako</td><td>Skakoan</td><td>Attack of the Clones</td><td>null</td><td>null</td></tr><tr><td>San Hill</td><td>191</td><td>null</td><td>none</td><td>grey</td><td>gold</td><td>null</td><td>male</td><td>masculine</td><td>Muunilinst</td><td>Muun</td><td>Attack of the Clones</td><td>null</td><td>null</td></tr><tr><td>Shaak Ti</td><td>178</td><td>57</td><td>none</td><td>red, blue, white</td><td>black</td><td>null</td><td>female</td><td>feminine</td><td>Shili</td><td>Togruta</td><td>Attack of the Clones, Revenge of the Sith</td><td>null</td><td>null</td></tr><tr><td>Grievous</td><td>216</td><td>159</td><td>none</td><td>brown, white</td><td>green, yellow</td><td>null</td><td>male</td><td>masculine</td><td>Kalee</td><td>Kaleesh</td><td>Revenge of the Sith</td><td>Tsmeu-6 personal wheel bike</td><td>Belbullab-22 starfighter</td></tr><tr><td>Tarfful</td><td>234</td><td>136</td><td>brown</td><td>brown</td><td>blue</td><td>null</td><td>male</td><td>masculine</td><td>Kashyyyk</td><td>Wookiee</td><td>Revenge of the Sith</td><td>null</td><td>null</td></tr><tr><td>Raymus Antilles</td><td>188</td><td>79</td><td>brown</td><td>light</td><td>brown</td><td>null</td><td>male</td><td>masculine</td><td>Alderaan</td><td>Human</td><td>A New Hope, Revenge of the Sith</td><td>null</td><td>null</td></tr><tr><td>Sly Moore</td><td>178</td><td>48</td><td>none</td><td>pale</td><td>white</td><td>null</td><td>NA</td><td>NA</td><td>Umbara</td><td>NA</td><td>Attack of the Clones, Revenge of the Sith</td><td>null</td><td>null</td></tr><tr><td>Tion Medon</td><td>206</td><td>80</td><td>none</td><td>grey</td><td>black</td><td>null</td><td>male</td><td>masculine</td><td>Utapau</td><td>Pau'an</td><td>Revenge of the Sith</td><td>null</td><td>null</td></tr><tr><td>Finn</td><td>null</td><td>null</td><td>black</td><td>dark</td><td>dark</td><td>null</td><td>male</td><td>masculine</td><td>NA</td><td>Human</td><td>The Force Awakens</td><td>null</td><td>null</td></tr><tr><td>Rey</td><td>null</td><td>null</td><td>brown</td><td>light</td><td>hazel</td><td>null</td><td>female</td><td>feminine</td><td>NA</td><td>Human</td><td>The Force Awakens</td><td>null</td><td>null</td></tr><tr><td>Poe Dameron</td><td>null</td><td>null</td><td>brown</td><td>light</td><td>brown</td><td>null</td><td>male</td><td>masculine</td><td>NA</td><td>Human</td><td>The Force Awakens</td><td>null</td><td>X-wing</td></tr><tr><td>BB8</td><td>null</td><td>null</td><td>none</td><td>none</td><td>black</td><td>null</td><td>none</td><td>masculine</td><td>NA</td><td>Droid</td><td>The Force Awakens</td><td>null</td><td>null</td></tr><tr><td>Captain Phasma</td><td>null</td><td>null</td><td>none</td><td>none</td><td>unknown</td><td>null</td><td>female</td><td>feminine</td><td>NA</td><td>Human</td><td>The Force Awakens</td><td>null</td><td>null</td></tr></tbody></table></div>"
      ]
     },
     "metadata": {
      "application/vnd.databricks.v1+output": {
       "addedWidgets": {},
       "aggData": [],
       "aggError": "",
       "aggOverflow": false,
       "aggSchema": [],
       "aggSeriesLimitReached": false,
       "aggType": "",
       "arguments": {},
       "columnCustomDisplayInfos": {},
       "data": [
        [
         "Luke Skywalker",
         172,
         77,
         "blond",
         "fair",
         "blue",
         19,
         "male",
         "masculine",
         "Tatooine",
         "Human",
         "A New Hope, The Empire Strikes Back, Return of the Jedi, Revenge of the Sith, The Force Awakens",
         "Snowspeeder, Imperial Speeder Bike",
         "X-wing, Imperial shuttle"
        ],
        [
         "C-3PO",
         167,
         75,
         "NA",
         "gold",
         "yellow",
         112,
         "none",
         "masculine",
         "Tatooine",
         "Droid",
         "A New Hope, The Empire Strikes Back, Return of the Jedi, The Phantom Menace, Attack of the Clones, Revenge of the Sith",
         null,
         null
        ],
        [
         "R2-D2",
         96,
         32,
         "NA",
         "white, blue",
         "red",
         33,
         "none",
         "masculine",
         "Naboo",
         "Droid",
         "A New Hope, The Empire Strikes Back, Return of the Jedi, The Phantom Menace, Attack of the Clones, Revenge of the Sith, The Force Awakens",
         null,
         null
        ],
        [
         "Darth Vader",
         202,
         136,
         "none",
         "white",
         "yellow",
         null,
         "male",
         "masculine",
         "Tatooine",
         "Human",
         "A New Hope, The Empire Strikes Back, Return of the Jedi, Revenge of the Sith",
         null,
         "TIE Advanced x1"
        ],
        [
         "Leia Organa",
         150,
         49,
         "brown",
         "light",
         "brown",
         19,
         "female",
         "feminine",
         "Alderaan",
         "Human",
         "A New Hope, The Empire Strikes Back, Return of the Jedi, Revenge of the Sith, The Force Awakens",
         "Imperial Speeder Bike",
         null
        ],
        [
         "Owen Lars",
         178,
         120,
         "brown, grey",
         "light",
         "blue",
         52,
         "male",
         "masculine",
         "Tatooine",
         "Human",
         "A New Hope, Attack of the Clones, Revenge of the Sith",
         null,
         null
        ],
        [
         "Beru Whitesun Lars",
         165,
         75,
         "brown",
         "light",
         "blue",
         47,
         "female",
         "feminine",
         "Tatooine",
         "Human",
         "A New Hope, Attack of the Clones, Revenge of the Sith",
         null,
         null
        ],
        [
         "R5-D4",
         97,
         32,
         "NA",
         "white, red",
         "red",
         null,
         "none",
         "masculine",
         "Tatooine",
         "Droid",
         "A New Hope",
         null,
         null
        ],
        [
         "Biggs Darklighter",
         183,
         84,
         "black",
         "light",
         "brown",
         24,
         "male",
         "masculine",
         "Tatooine",
         "Human",
         "A New Hope",
         null,
         "X-wing"
        ],
        [
         "Obi-Wan Kenobi",
         182,
         77,
         "auburn, white",
         "fair",
         "blue-gray",
         57,
         "male",
         "masculine",
         "Stewjon",
         "Human",
         "A New Hope, The Empire Strikes Back, Return of the Jedi, The Phantom Menace, Attack of the Clones, Revenge of the Sith",
         "Tribubble bongo",
         "Jedi starfighter, Trade Federation cruiser, Naboo star skiff, Jedi Interceptor, Belbullab-22 starfighter"
        ],
        [
         "Anakin Skywalker",
         188,
         84,
         "blond",
         "fair",
         "blue",
         null,
         "male",
         "masculine",
         "Tatooine",
         "Human",
         "The Phantom Menace, Attack of the Clones, Revenge of the Sith",
         "Zephyr-G swoop bike, XJ-6 airspeeder",
         "Naboo fighter, Trade Federation cruiser, Jedi Interceptor"
        ],
        [
         "Wilhuff Tarkin",
         180,
         null,
         "auburn, grey",
         "fair",
         "blue",
         64,
         "male",
         "masculine",
         "Eriadu",
         "Human",
         "A New Hope, Revenge of the Sith",
         null,
         null
        ],
        [
         "Chewbacca",
         228,
         112,
         "brown",
         "unknown",
         "blue",
         200,
         "male",
         "masculine",
         "Kashyyyk",
         "Wookiee",
         "A New Hope, The Empire Strikes Back, Return of the Jedi, Revenge of the Sith, The Force Awakens",
         "AT-ST",
         "Millennium Falcon, Imperial shuttle"
        ],
        [
         "Han Solo",
         180,
         80,
         "brown",
         "fair",
         "brown",
         29,
         "male",
         "masculine",
         "Corellia",
         "Human",
         "A New Hope, The Empire Strikes Back, Return of the Jedi, The Force Awakens",
         null,
         "Millennium Falcon, Imperial shuttle"
        ],
        [
         "Greedo",
         173,
         74,
         "NA",
         "green",
         "black",
         44,
         "male",
         "masculine",
         "Rodia",
         "Rodian",
         "A New Hope",
         null,
         null
        ],
        [
         "Jabba Desilijic Tiure",
         175,
         1358,
         "NA",
         "green-tan, brown",
         "orange",
         600,
         "hermaphroditic",
         "masculine",
         "Nal Hutta",
         "Hutt",
         "A New Hope, Return of the Jedi, The Phantom Menace",
         null,
         null
        ],
        [
         "Wedge Antilles",
         170,
         77,
         "brown",
         "fair",
         "hazel",
         21,
         "male",
         "masculine",
         "Corellia",
         "Human",
         "A New Hope, The Empire Strikes Back, Return of the Jedi",
         "Snowspeeder",
         "X-wing"
        ],
        [
         "Jek Tono Porkins",
         180,
         110,
         "brown",
         "fair",
         "blue",
         null,
         "NA",
         "NA",
         "Bestine IV",
         "NA",
         "A New Hope",
         null,
         "X-wing"
        ],
        [
         "Yoda",
         66,
         17,
         "white",
         "green",
         "brown",
         896,
         "male",
         "masculine",
         "NA",
         "Yoda's species",
         "The Empire Strikes Back, Return of the Jedi, The Phantom Menace, Attack of the Clones, Revenge of the Sith",
         null,
         null
        ],
        [
         "Palpatine",
         170,
         75,
         "grey",
         "pale",
         "yellow",
         82,
         "male",
         "masculine",
         "Naboo",
         "Human",
         "The Empire Strikes Back, Return of the Jedi, The Phantom Menace, Attack of the Clones, Revenge of the Sith",
         null,
         null
        ],
        [
         "Boba Fett",
         183,
         null,
         "black",
         "fair",
         "brown",
         null,
         "male",
         "masculine",
         "Kamino",
         "Human",
         "The Empire Strikes Back, Return of the Jedi, Attack of the Clones",
         null,
         "Slave 1"
        ],
        [
         "IG-88",
         200,
         140,
         "none",
         "metal",
         "red",
         15,
         "none",
         "masculine",
         "NA",
         "Droid",
         "The Empire Strikes Back",
         null,
         null
        ],
        [
         "Bossk",
         190,
         113,
         "none",
         "green",
         "red",
         53,
         "male",
         "masculine",
         "Trandosha",
         "Trandoshan",
         "The Empire Strikes Back",
         null,
         null
        ],
        [
         "Lando Calrissian",
         177,
         79,
         "black",
         "dark",
         "brown",
         31,
         "male",
         "masculine",
         "Socorro",
         "Human",
         "The Empire Strikes Back, Return of the Jedi",
         null,
         "Millennium Falcon"
        ],
        [
         "Lobot",
         175,
         79,
         "none",
         "light",
         "blue",
         37,
         "male",
         "masculine",
         "Bespin",
         "Human",
         "The Empire Strikes Back",
         null,
         null
        ],
        [
         "Ackbar",
         180,
         83,
         "none",
         "brown mottle",
         "orange",
         41,
         "male",
         "masculine",
         "Mon Cala",
         "Mon Calamari",
         "Return of the Jedi, The Force Awakens",
         null,
         null
        ],
        [
         "Mon Mothma",
         150,
         null,
         "auburn",
         "fair",
         "blue",
         48,
         "female",
         "feminine",
         "Chandrila",
         "Human",
         "Return of the Jedi",
         null,
         null
        ],
        [
         "Arvel Crynyd",
         null,
         null,
         "brown",
         "fair",
         "brown",
         null,
         "male",
         "masculine",
         "NA",
         "Human",
         "Return of the Jedi",
         null,
         "A-wing"
        ],
        [
         "Wicket Systri Warrick",
         88,
         20,
         "brown",
         "brown",
         "brown",
         8,
         "male",
         "masculine",
         "Endor",
         "Ewok",
         "Return of the Jedi",
         null,
         null
        ],
        [
         "Nien Nunb",
         160,
         68,
         "none",
         "grey",
         "black",
         null,
         "male",
         "masculine",
         "Sullust",
         "Sullustan",
         "Return of the Jedi",
         null,
         "Millennium Falcon"
        ],
        [
         "Qui-Gon Jinn",
         193,
         89,
         "brown",
         "fair",
         "blue",
         92,
         "male",
         "masculine",
         "NA",
         "Human",
         "The Phantom Menace",
         "Tribubble bongo",
         null
        ],
        [
         "Nute Gunray",
         191,
         90,
         "none",
         "mottled green",
         "red",
         null,
         "male",
         "masculine",
         "Cato Neimoidia",
         "Neimodian",
         "The Phantom Menace, Attack of the Clones, Revenge of the Sith",
         null,
         null
        ],
        [
         "Finis Valorum",
         170,
         null,
         "blond",
         "fair",
         "blue",
         91,
         "male",
         "masculine",
         "Coruscant",
         "Human",
         "The Phantom Menace",
         null,
         null
        ],
        [
         "Padmé Amidala",
         185,
         45,
         "brown",
         "light",
         "brown",
         46,
         "female",
         "feminine",
         "Naboo",
         "Human",
         "The Phantom Menace, Attack of the Clones, Revenge of the Sith",
         null,
         "Naboo fighter, H-type Nubian yacht, Naboo star skiff"
        ],
        [
         "Jar Jar Binks",
         196,
         66,
         "none",
         "orange",
         "orange",
         52,
         "male",
         "masculine",
         "Naboo",
         "Gungan",
         "The Phantom Menace, Attack of the Clones",
         null,
         null
        ],
        [
         "Roos Tarpals",
         224,
         82,
         "none",
         "grey",
         "orange",
         null,
         "male",
         "masculine",
         "Naboo",
         "Gungan",
         "The Phantom Menace",
         null,
         null
        ],
        [
         "Rugor Nass",
         206,
         null,
         "none",
         "green",
         "orange",
         null,
         "male",
         "masculine",
         "Naboo",
         "Gungan",
         "The Phantom Menace",
         null,
         null
        ],
        [
         "Ric Olié",
         183,
         null,
         "brown",
         "fair",
         "blue",
         null,
         "male",
         "masculine",
         "Naboo",
         "Human",
         "The Phantom Menace",
         null,
         "Naboo Royal Starship"
        ],
        [
         "Watto",
         137,
         null,
         "black",
         "blue, grey",
         "yellow",
         null,
         "male",
         "masculine",
         "Toydaria",
         "Toydarian",
         "The Phantom Menace, Attack of the Clones",
         null,
         null
        ],
        [
         "Sebulba",
         112,
         40,
         "none",
         "grey, red",
         "orange",
         null,
         "male",
         "masculine",
         "Malastare",
         "Dug",
         "The Phantom Menace",
         null,
         null
        ],
        [
         "Quarsh Panaka",
         183,
         null,
         "black",
         "dark",
         "brown",
         62,
         "male",
         "masculine",
         "Naboo",
         "Human",
         "The Phantom Menace",
         null,
         null
        ],
        [
         "Shmi Skywalker",
         163,
         null,
         "black",
         "fair",
         "brown",
         72,
         "female",
         "feminine",
         "Tatooine",
         "Human",
         "The Phantom Menace, Attack of the Clones",
         null,
         null
        ],
        [
         "Darth Maul",
         175,
         80,
         "none",
         "red",
         "yellow",
         54,
         "male",
         "masculine",
         "Dathomir",
         "Zabrak",
         "The Phantom Menace",
         "Sith speeder",
         "Scimitar"
        ],
        [
         "Bib Fortuna",
         180,
         null,
         "none",
         "pale",
         "pink",
         null,
         "male",
         "masculine",
         "Ryloth",
         "Twi'lek",
         "Return of the Jedi",
         null,
         null
        ],
        [
         "Ayla Secura",
         178,
         55,
         "none",
         "blue",
         "hazel",
         48,
         "female",
         "feminine",
         "Ryloth",
         "Twi'lek",
         "The Phantom Menace, Attack of the Clones, Revenge of the Sith",
         null,
         null
        ],
        [
         "Ratts Tyerel",
         79,
         15,
         "none",
         "grey, blue",
         "unknown",
         null,
         "male",
         "masculine",
         "Aleen Minor",
         "Aleena",
         "The Phantom Menace",
         null,
         null
        ],
        [
         "Dud Bolt",
         94,
         45,
         "none",
         "blue, grey",
         "yellow",
         null,
         "male",
         "masculine",
         "Vulpter",
         "Vulptereen",
         "The Phantom Menace",
         null,
         null
        ],
        [
         "Gasgano",
         122,
         null,
         "none",
         "white, blue",
         "black",
         null,
         "male",
         "masculine",
         "Troiken",
         "Xexto",
         "The Phantom Menace",
         null,
         null
        ],
        [
         "Ben Quadinaros",
         163,
         65,
         "none",
         "grey, green, yellow",
         "orange",
         null,
         "male",
         "masculine",
         "Tund",
         "Toong",
         "The Phantom Menace",
         null,
         null
        ],
        [
         "Mace Windu",
         188,
         84,
         "none",
         "dark",
         "brown",
         72,
         "male",
         "masculine",
         "Haruun Kal",
         "Human",
         "The Phantom Menace, Attack of the Clones, Revenge of the Sith",
         null,
         null
        ],
        [
         "Ki-Adi-Mundi",
         198,
         82,
         "white",
         "pale",
         "yellow",
         92,
         "male",
         "masculine",
         "Cerea",
         "Cerean",
         "The Phantom Menace, Attack of the Clones, Revenge of the Sith",
         null,
         null
        ],
        [
         "Kit Fisto",
         196,
         87,
         "none",
         "green",
         "black",
         null,
         "male",
         "masculine",
         "Glee Anselm",
         "Nautolan",
         "The Phantom Menace, Attack of the Clones, Revenge of the Sith",
         null,
         null
        ],
        [
         "Eeth Koth",
         171,
         null,
         "black",
         "brown",
         "brown",
         null,
         "male",
         "masculine",
         "Iridonia",
         "Zabrak",
         "The Phantom Menace, Revenge of the Sith",
         null,
         null
        ],
        [
         "Adi Gallia",
         184,
         50,
         "none",
         "dark",
         "blue",
         null,
         "female",
         "feminine",
         "Coruscant",
         "Tholothian",
         "The Phantom Menace, Revenge of the Sith",
         null,
         null
        ],
        [
         "Saesee Tiin",
         188,
         null,
         "none",
         "pale",
         "orange",
         null,
         "male",
         "masculine",
         "Iktotch",
         "Iktotchi",
         "The Phantom Menace, Revenge of the Sith",
         null,
         null
        ],
        [
         "Yarael Poof",
         264,
         null,
         "none",
         "white",
         "yellow",
         null,
         "male",
         "masculine",
         "Quermia",
         "Quermian",
         "The Phantom Menace",
         null,
         null
        ],
        [
         "Plo Koon",
         188,
         80,
         "none",
         "orange",
         "black",
         22,
         "male",
         "masculine",
         "Dorin",
         "Kel Dor",
         "The Phantom Menace, Attack of the Clones, Revenge of the Sith",
         null,
         "Jedi starfighter"
        ],
        [
         "Mas Amedda",
         196,
         null,
         "none",
         "blue",
         "blue",
         null,
         "male",
         "masculine",
         "Champala",
         "Chagrian",
         "The Phantom Menace, Attack of the Clones",
         null,
         null
        ],
        [
         "Gregar Typho",
         185,
         85,
         "black",
         "dark",
         "brown",
         null,
         "NA",
         "NA",
         "Naboo",
         "NA",
         "Attack of the Clones",
         null,
         "Naboo fighter"
        ],
        [
         "Cordé",
         157,
         null,
         "brown",
         "light",
         "brown",
         null,
         "NA",
         "NA",
         "Naboo",
         "NA",
         "Attack of the Clones",
         null,
         null
        ],
        [
         "Cliegg Lars",
         183,
         null,
         "brown",
         "fair",
         "blue",
         82,
         "male",
         "masculine",
         "Tatooine",
         "Human",
         "Attack of the Clones",
         null,
         null
        ],
        [
         "Poggle the Lesser",
         183,
         80,
         "none",
         "green",
         "yellow",
         null,
         "male",
         "masculine",
         "Geonosis",
         "Geonosian",
         "Attack of the Clones, Revenge of the Sith",
         null,
         null
        ],
        [
         "Luminara Unduli",
         170,
         null,
         "black",
         "yellow",
         "blue",
         58,
         "female",
         "feminine",
         "Mirial",
         "Mirialan",
         "Attack of the Clones, Revenge of the Sith",
         null,
         null
        ],
        [
         "Barriss Offee",
         166,
         50,
         "black",
         "yellow",
         "blue",
         40,
         "female",
         "feminine",
         "Mirial",
         "Mirialan",
         "Attack of the Clones",
         null,
         null
        ],
        [
         "Dormé",
         165,
         null,
         "brown",
         "light",
         "brown",
         null,
         "female",
         "feminine",
         "Naboo",
         "Human",
         "Attack of the Clones",
         null,
         null
        ],
        [
         "Dooku",
         193,
         80,
         "white",
         "fair",
         "brown",
         102,
         "male",
         "masculine",
         "Serenno",
         "Human",
         "Attack of the Clones, Revenge of the Sith",
         "Flitknot speeder",
         null
        ],
        [
         "Bail Prestor Organa",
         191,
         null,
         "black",
         "tan",
         "brown",
         67,
         "male",
         "masculine",
         "Alderaan",
         "Human",
         "Attack of the Clones, Revenge of the Sith",
         null,
         null
        ],
        [
         "Jango Fett",
         183,
         79,
         "black",
         "tan",
         "brown",
         66,
         "male",
         "masculine",
         "Concord Dawn",
         "Human",
         "Attack of the Clones",
         null,
         null
        ],
        [
         "Zam Wesell",
         168,
         55,
         "blonde",
         "fair, green, yellow",
         "yellow",
         null,
         "female",
         "feminine",
         "Zolan",
         "Clawdite",
         "Attack of the Clones",
         "Koro-2 Exodrive airspeeder",
         null
        ],
        [
         "Dexter Jettster",
         198,
         102,
         "none",
         "brown",
         "yellow",
         null,
         "male",
         "masculine",
         "Ojom",
         "Besalisk",
         "Attack of the Clones",
         null,
         null
        ],
        [
         "Lama Su",
         229,
         88,
         "none",
         "grey",
         "black",
         null,
         "male",
         "masculine",
         "Kamino",
         "Kaminoan",
         "Attack of the Clones",
         null,
         null
        ],
        [
         "Taun We",
         213,
         null,
         "none",
         "grey",
         "black",
         null,
         "female",
         "feminine",
         "Kamino",
         "Kaminoan",
         "Attack of the Clones",
         null,
         null
        ],
        [
         "Jocasta Nu",
         167,
         null,
         "white",
         "fair",
         "blue",
         null,
         "female",
         "feminine",
         "Coruscant",
         "Human",
         "Attack of the Clones",
         null,
         null
        ],
        [
         "R4-P17",
         96,
         null,
         "none",
         "silver, red",
         "red, blue",
         null,
         "none",
         "feminine",
         "NA",
         "Droid",
         "Attack of the Clones, Revenge of the Sith",
         null,
         null
        ],
        [
         "Wat Tambor",
         193,
         48,
         "none",
         "green, grey",
         "unknown",
         null,
         "male",
         "masculine",
         "Skako",
         "Skakoan",
         "Attack of the Clones",
         null,
         null
        ],
        [
         "San Hill",
         191,
         null,
         "none",
         "grey",
         "gold",
         null,
         "male",
         "masculine",
         "Muunilinst",
         "Muun",
         "Attack of the Clones",
         null,
         null
        ],
        [
         "Shaak Ti",
         178,
         57,
         "none",
         "red, blue, white",
         "black",
         null,
         "female",
         "feminine",
         "Shili",
         "Togruta",
         "Attack of the Clones, Revenge of the Sith",
         null,
         null
        ],
        [
         "Grievous",
         216,
         159,
         "none",
         "brown, white",
         "green, yellow",
         null,
         "male",
         "masculine",
         "Kalee",
         "Kaleesh",
         "Revenge of the Sith",
         "Tsmeu-6 personal wheel bike",
         "Belbullab-22 starfighter"
        ],
        [
         "Tarfful",
         234,
         136,
         "brown",
         "brown",
         "blue",
         null,
         "male",
         "masculine",
         "Kashyyyk",
         "Wookiee",
         "Revenge of the Sith",
         null,
         null
        ],
        [
         "Raymus Antilles",
         188,
         79,
         "brown",
         "light",
         "brown",
         null,
         "male",
         "masculine",
         "Alderaan",
         "Human",
         "A New Hope, Revenge of the Sith",
         null,
         null
        ],
        [
         "Sly Moore",
         178,
         48,
         "none",
         "pale",
         "white",
         null,
         "NA",
         "NA",
         "Umbara",
         "NA",
         "Attack of the Clones, Revenge of the Sith",
         null,
         null
        ],
        [
         "Tion Medon",
         206,
         80,
         "none",
         "grey",
         "black",
         null,
         "male",
         "masculine",
         "Utapau",
         "Pau'an",
         "Revenge of the Sith",
         null,
         null
        ],
        [
         "Finn",
         null,
         null,
         "black",
         "dark",
         "dark",
         null,
         "male",
         "masculine",
         "NA",
         "Human",
         "The Force Awakens",
         null,
         null
        ],
        [
         "Rey",
         null,
         null,
         "brown",
         "light",
         "hazel",
         null,
         "female",
         "feminine",
         "NA",
         "Human",
         "The Force Awakens",
         null,
         null
        ],
        [
         "Poe Dameron",
         null,
         null,
         "brown",
         "light",
         "brown",
         null,
         "male",
         "masculine",
         "NA",
         "Human",
         "The Force Awakens",
         null,
         "X-wing"
        ],
        [
         "BB8",
         null,
         null,
         "none",
         "none",
         "black",
         null,
         "none",
         "masculine",
         "NA",
         "Droid",
         "The Force Awakens",
         null,
         null
        ],
        [
         "Captain Phasma",
         null,
         null,
         "none",
         "none",
         "unknown",
         null,
         "female",
         "feminine",
         "NA",
         "Human",
         "The Force Awakens",
         null,
         null
        ]
       ],
       "datasetInfos": [],
       "dbfsResultPath": null,
       "isJsonSchema": true,
       "metadata": {},
       "overflow": false,
       "plotOptions": {
        "customPlotOptions": {},
        "displayType": "table",
        "pivotAggregation": null,
        "pivotColumns": null,
        "xColumns": null,
        "yColumns": null
       },
       "removedWidgets": [],
       "schema": [
        {
         "metadata": "{}",
         "name": "name",
         "type": "\"string\""
        },
        {
         "metadata": "{}",
         "name": "height",
         "type": "\"integer\""
        },
        {
         "metadata": "{}",
         "name": "mass",
         "type": "\"integer\""
        },
        {
         "metadata": "{}",
         "name": "hair_color",
         "type": "\"string\""
        },
        {
         "metadata": "{}",
         "name": "skin_color",
         "type": "\"string\""
        },
        {
         "metadata": "{}",
         "name": "eye_color",
         "type": "\"string\""
        },
        {
         "metadata": "{}",
         "name": "birth_year",
         "type": "\"integer\""
        },
        {
         "metadata": "{}",
         "name": "sex",
         "type": "\"string\""
        },
        {
         "metadata": "{}",
         "name": "gender",
         "type": "\"string\""
        },
        {
         "metadata": "{}",
         "name": "homeworld",
         "type": "\"string\""
        },
        {
         "metadata": "{}",
         "name": "species",
         "type": "\"string\""
        },
        {
         "metadata": "{}",
         "name": "films",
         "type": "\"string\""
        },
        {
         "metadata": "{}",
         "name": "vehicles",
         "type": "\"string\""
        },
        {
         "metadata": "{}",
         "name": "starships",
         "type": "\"string\""
        }
       ],
       "type": "table"
      }
     },
     "output_type": "display_data"
    }
   ],
   "source": [
    "%sql\n",
    "SELECT * FROM STARWARS_CSV"
   ]
  },
  {
   "cell_type": "code",
   "execution_count": 0,
   "metadata": {
    "application/vnd.databricks.v1+cell": {
     "cellMetadata": {
      "byteLimit": 2048000,
      "implicitDf": true,
      "rowLimit": 10000
     },
     "inputWidgets": {},
     "nuid": "3b848b4e-aba1-4873-8d9b-141a82929f1e",
     "showTitle": false,
     "tableResultSettingsMap": {},
     "title": ""
    }
   },
   "outputs": [
    {
     "output_type": "display_data",
     "data": {
      "text/html": [
       "<style scoped>\n",
       "  .table-result-container {\n",
       "    max-height: 300px;\n",
       "    overflow: auto;\n",
       "  }\n",
       "  table, th, td {\n",
       "    border: 1px solid black;\n",
       "    border-collapse: collapse;\n",
       "  }\n",
       "  th, td {\n",
       "    padding: 5px;\n",
       "  }\n",
       "  th {\n",
       "    text-align: left;\n",
       "  }\n",
       "</style><div class='table-result-container'><table class='table-result'><thead style='background-color: white'><tr><th>col_name</th><th>data_type</th><th>comment</th></tr></thead><tbody><tr><td>name</td><td>string</td><td>null</td></tr><tr><td>height</td><td>int</td><td>null</td></tr><tr><td>mass</td><td>int</td><td>null</td></tr><tr><td>hair_color</td><td>string</td><td>null</td></tr><tr><td>skin_color</td><td>string</td><td>null</td></tr><tr><td>eye_color</td><td>string</td><td>null</td></tr><tr><td>birth_year</td><td>int</td><td>null</td></tr><tr><td>sex</td><td>string</td><td>null</td></tr><tr><td>gender</td><td>string</td><td>null</td></tr><tr><td>homeworld</td><td>string</td><td>null</td></tr><tr><td>species</td><td>string</td><td>null</td></tr><tr><td>films</td><td>string</td><td>null</td></tr><tr><td>vehicles</td><td>string</td><td>null</td></tr><tr><td>starships</td><td>string</td><td>null</td></tr></tbody></table></div>"
      ]
     },
     "metadata": {
      "application/vnd.databricks.v1+output": {
       "addedWidgets": {},
       "aggData": [],
       "aggError": "",
       "aggOverflow": false,
       "aggSchema": [],
       "aggSeriesLimitReached": false,
       "aggType": "",
       "arguments": {},
       "columnCustomDisplayInfos": {},
       "data": [
        [
         "name",
         "string",
         null
        ],
        [
         "height",
         "int",
         null
        ],
        [
         "mass",
         "int",
         null
        ],
        [
         "hair_color",
         "string",
         null
        ],
        [
         "skin_color",
         "string",
         null
        ],
        [
         "eye_color",
         "string",
         null
        ],
        [
         "birth_year",
         "int",
         null
        ],
        [
         "sex",
         "string",
         null
        ],
        [
         "gender",
         "string",
         null
        ],
        [
         "homeworld",
         "string",
         null
        ],
        [
         "species",
         "string",
         null
        ],
        [
         "films",
         "string",
         null
        ],
        [
         "vehicles",
         "string",
         null
        ],
        [
         "starships",
         "string",
         null
        ]
       ],
       "datasetInfos": [],
       "dbfsResultPath": null,
       "isJsonSchema": true,
       "metadata": {},
       "overflow": false,
       "plotOptions": {
        "customPlotOptions": {},
        "displayType": "table",
        "pivotAggregation": null,
        "pivotColumns": null,
        "xColumns": null,
        "yColumns": null
       },
       "removedWidgets": [],
       "schema": [
        {
         "metadata": "{\"comment\":\"name of the column\"}",
         "name": "col_name",
         "type": "\"string\""
        },
        {
         "metadata": "{\"comment\":\"data type of the column\"}",
         "name": "data_type",
         "type": "\"string\""
        },
        {
         "metadata": "{\"comment\":\"comment of the column\"}",
         "name": "comment",
         "type": "\"string\""
        }
       ],
       "type": "table"
      }
     },
     "output_type": "display_data"
    }
   ],
   "source": [
    "%sql\n",
    "desc starwars_csv"
   ]
  },
  {
   "cell_type": "code",
   "execution_count": 0,
   "metadata": {
    "application/vnd.databricks.v1+cell": {
     "cellMetadata": {
      "byteLimit": 2048000,
      "implicitDf": true,
      "rowLimit": 10000
     },
     "inputWidgets": {},
     "nuid": "359f093a-39e5-43f4-9ae6-eca327281168",
     "showTitle": false,
     "tableResultSettingsMap": {},
     "title": ""
    }
   },
   "outputs": [
    {
     "output_type": "display_data",
     "data": {
      "text/html": [
       "<style scoped>\n",
       "  .table-result-container {\n",
       "    max-height: 300px;\n",
       "    overflow: auto;\n",
       "  }\n",
       "  table, th, td {\n",
       "    border: 1px solid black;\n",
       "    border-collapse: collapse;\n",
       "  }\n",
       "  th, td {\n",
       "    padding: 5px;\n",
       "  }\n",
       "  th {\n",
       "    text-align: left;\n",
       "  }\n",
       "</style><div class='table-result-container'><table class='table-result'><thead style='background-color: white'><tr><th>NAME</th><th>heights</th></tr></thead><tbody><tr><td>Yarael Poof</td><td>264</td></tr><tr><td>Tarfful</td><td>234</td></tr><tr><td>Lama Su</td><td>229</td></tr><tr><td>Chewbacca</td><td>228</td></tr><tr><td>Roos Tarpals</td><td>224</td></tr><tr><td>Grievous</td><td>216</td></tr><tr><td>Taun We</td><td>213</td></tr><tr><td>Rugor Nass</td><td>206</td></tr><tr><td>Tion Medon</td><td>206</td></tr><tr><td>Darth Vader</td><td>202</td></tr><tr><td>IG-88</td><td>200</td></tr><tr><td>Dexter Jettster</td><td>198</td></tr><tr><td>Ki-Adi-Mundi</td><td>198</td></tr><tr><td>Kit Fisto</td><td>196</td></tr><tr><td>Jar Jar Binks</td><td>196</td></tr><tr><td>Mas Amedda</td><td>196</td></tr><tr><td>Wat Tambor</td><td>193</td></tr><tr><td>Qui-Gon Jinn</td><td>193</td></tr><tr><td>Dooku</td><td>193</td></tr><tr><td>Bail Prestor Organa</td><td>191</td></tr><tr><td>Nute Gunray</td><td>191</td></tr><tr><td>San Hill</td><td>191</td></tr><tr><td>Bossk</td><td>190</td></tr><tr><td>Plo Koon</td><td>188</td></tr><tr><td>Raymus Antilles</td><td>188</td></tr><tr><td>Mace Windu</td><td>188</td></tr><tr><td>Saesee Tiin</td><td>188</td></tr><tr><td>Anakin Skywalker</td><td>188</td></tr><tr><td>Padmé Amidala</td><td>185</td></tr><tr><td>Gregar Typho</td><td>185</td></tr><tr><td>Adi Gallia</td><td>184</td></tr><tr><td>Poggle the Lesser</td><td>183</td></tr><tr><td>Quarsh Panaka</td><td>183</td></tr><tr><td>Biggs Darklighter</td><td>183</td></tr><tr><td>Ric Olié</td><td>183</td></tr><tr><td>Cliegg Lars</td><td>183</td></tr><tr><td>Jango Fett</td><td>183</td></tr><tr><td>Boba Fett</td><td>183</td></tr><tr><td>Obi-Wan Kenobi</td><td>182</td></tr><tr><td>Han Solo</td><td>180</td></tr><tr><td>Wilhuff Tarkin</td><td>180</td></tr><tr><td>Jek Tono Porkins</td><td>180</td></tr><tr><td>Bib Fortuna</td><td>180</td></tr><tr><td>Ackbar</td><td>180</td></tr><tr><td>Owen Lars</td><td>178</td></tr><tr><td>Sly Moore</td><td>178</td></tr><tr><td>Shaak Ti</td><td>178</td></tr><tr><td>Ayla Secura</td><td>178</td></tr><tr><td>Lando Calrissian</td><td>177</td></tr><tr><td>Lobot</td><td>175</td></tr><tr><td>Darth Maul</td><td>175</td></tr><tr><td>Jabba Desilijic Tiure</td><td>175</td></tr><tr><td>Greedo</td><td>173</td></tr><tr><td>Luke Skywalker</td><td>172</td></tr><tr><td>Eeth Koth</td><td>171</td></tr><tr><td>Finis Valorum</td><td>170</td></tr><tr><td>Palpatine</td><td>170</td></tr><tr><td>Wedge Antilles</td><td>170</td></tr><tr><td>Luminara Unduli</td><td>170</td></tr><tr><td>Zam Wesell</td><td>168</td></tr><tr><td>C-3PO</td><td>167</td></tr><tr><td>Jocasta Nu</td><td>167</td></tr><tr><td>Barriss Offee</td><td>166</td></tr><tr><td>Beru Whitesun Lars</td><td>165</td></tr><tr><td>Dormé</td><td>165</td></tr><tr><td>Ben Quadinaros</td><td>163</td></tr><tr><td>Shmi Skywalker</td><td>163</td></tr><tr><td>Nien Nunb</td><td>160</td></tr><tr><td>Cordé</td><td>157</td></tr><tr><td>Leia Organa</td><td>150</td></tr><tr><td>Mon Mothma</td><td>150</td></tr><tr><td>Watto</td><td>137</td></tr><tr><td>Gasgano</td><td>122</td></tr><tr><td>Sebulba</td><td>112</td></tr><tr><td>R5-D4</td><td>97</td></tr><tr><td>R4-P17</td><td>96</td></tr><tr><td>R2-D2</td><td>96</td></tr><tr><td>Dud Bolt</td><td>94</td></tr><tr><td>Wicket Systri Warrick</td><td>88</td></tr><tr><td>Ratts Tyerel</td><td>79</td></tr><tr><td>Yoda</td><td>66</td></tr><tr><td>BB8</td><td>null</td></tr><tr><td>Arvel Crynyd</td><td>null</td></tr><tr><td>Rey</td><td>null</td></tr><tr><td>Poe Dameron</td><td>null</td></tr><tr><td>Captain Phasma</td><td>null</td></tr><tr><td>Finn</td><td>null</td></tr></tbody></table></div>"
      ]
     },
     "metadata": {
      "application/vnd.databricks.v1+output": {
       "addedWidgets": {},
       "aggData": [],
       "aggError": "",
       "aggOverflow": false,
       "aggSchema": [],
       "aggSeriesLimitReached": false,
       "aggType": "",
       "arguments": {},
       "columnCustomDisplayInfos": {},
       "data": [
        [
         "Yarael Poof",
         264
        ],
        [
         "Tarfful",
         234
        ],
        [
         "Lama Su",
         229
        ],
        [
         "Chewbacca",
         228
        ],
        [
         "Roos Tarpals",
         224
        ],
        [
         "Grievous",
         216
        ],
        [
         "Taun We",
         213
        ],
        [
         "Rugor Nass",
         206
        ],
        [
         "Tion Medon",
         206
        ],
        [
         "Darth Vader",
         202
        ],
        [
         "IG-88",
         200
        ],
        [
         "Dexter Jettster",
         198
        ],
        [
         "Ki-Adi-Mundi",
         198
        ],
        [
         "Kit Fisto",
         196
        ],
        [
         "Jar Jar Binks",
         196
        ],
        [
         "Mas Amedda",
         196
        ],
        [
         "Wat Tambor",
         193
        ],
        [
         "Qui-Gon Jinn",
         193
        ],
        [
         "Dooku",
         193
        ],
        [
         "Bail Prestor Organa",
         191
        ],
        [
         "Nute Gunray",
         191
        ],
        [
         "San Hill",
         191
        ],
        [
         "Bossk",
         190
        ],
        [
         "Plo Koon",
         188
        ],
        [
         "Raymus Antilles",
         188
        ],
        [
         "Mace Windu",
         188
        ],
        [
         "Saesee Tiin",
         188
        ],
        [
         "Anakin Skywalker",
         188
        ],
        [
         "Padmé Amidala",
         185
        ],
        [
         "Gregar Typho",
         185
        ],
        [
         "Adi Gallia",
         184
        ],
        [
         "Poggle the Lesser",
         183
        ],
        [
         "Quarsh Panaka",
         183
        ],
        [
         "Biggs Darklighter",
         183
        ],
        [
         "Ric Olié",
         183
        ],
        [
         "Cliegg Lars",
         183
        ],
        [
         "Jango Fett",
         183
        ],
        [
         "Boba Fett",
         183
        ],
        [
         "Obi-Wan Kenobi",
         182
        ],
        [
         "Han Solo",
         180
        ],
        [
         "Wilhuff Tarkin",
         180
        ],
        [
         "Jek Tono Porkins",
         180
        ],
        [
         "Bib Fortuna",
         180
        ],
        [
         "Ackbar",
         180
        ],
        [
         "Owen Lars",
         178
        ],
        [
         "Sly Moore",
         178
        ],
        [
         "Shaak Ti",
         178
        ],
        [
         "Ayla Secura",
         178
        ],
        [
         "Lando Calrissian",
         177
        ],
        [
         "Lobot",
         175
        ],
        [
         "Darth Maul",
         175
        ],
        [
         "Jabba Desilijic Tiure",
         175
        ],
        [
         "Greedo",
         173
        ],
        [
         "Luke Skywalker",
         172
        ],
        [
         "Eeth Koth",
         171
        ],
        [
         "Finis Valorum",
         170
        ],
        [
         "Palpatine",
         170
        ],
        [
         "Wedge Antilles",
         170
        ],
        [
         "Luminara Unduli",
         170
        ],
        [
         "Zam Wesell",
         168
        ],
        [
         "C-3PO",
         167
        ],
        [
         "Jocasta Nu",
         167
        ],
        [
         "Barriss Offee",
         166
        ],
        [
         "Beru Whitesun Lars",
         165
        ],
        [
         "Dormé",
         165
        ],
        [
         "Ben Quadinaros",
         163
        ],
        [
         "Shmi Skywalker",
         163
        ],
        [
         "Nien Nunb",
         160
        ],
        [
         "Cordé",
         157
        ],
        [
         "Leia Organa",
         150
        ],
        [
         "Mon Mothma",
         150
        ],
        [
         "Watto",
         137
        ],
        [
         "Gasgano",
         122
        ],
        [
         "Sebulba",
         112
        ],
        [
         "R5-D4",
         97
        ],
        [
         "R4-P17",
         96
        ],
        [
         "R2-D2",
         96
        ],
        [
         "Dud Bolt",
         94
        ],
        [
         "Wicket Systri Warrick",
         88
        ],
        [
         "Ratts Tyerel",
         79
        ],
        [
         "Yoda",
         66
        ],
        [
         "BB8",
         null
        ],
        [
         "Arvel Crynyd",
         null
        ],
        [
         "Rey",
         null
        ],
        [
         "Poe Dameron",
         null
        ],
        [
         "Captain Phasma",
         null
        ],
        [
         "Finn",
         null
        ]
       ],
       "datasetInfos": [],
       "dbfsResultPath": null,
       "isJsonSchema": true,
       "metadata": {},
       "overflow": false,
       "plotOptions": {
        "customPlotOptions": {},
        "displayType": "table",
        "pivotAggregation": null,
        "pivotColumns": null,
        "xColumns": null,
        "yColumns": null
       },
       "removedWidgets": [],
       "schema": [
        {
         "metadata": "{}",
         "name": "NAME",
         "type": "\"string\""
        },
        {
         "metadata": "{}",
         "name": "heights",
         "type": "\"long\""
        }
       ],
       "type": "table"
      }
     },
     "output_type": "display_data"
    }
   ],
   "source": [
    "%sql\n",
    "/*Retrieve the names of the top 5 tallest characters in the dataset.*/\n",
    "\n",
    "SELECT NAME, sum(HEIGHT) as heights FROM STARWARS_CSV GROUP BY NAME ORDER BY HEIGHTS desc\n"
   ]
  },
  {
   "cell_type": "code",
   "execution_count": 0,
   "metadata": {
    "application/vnd.databricks.v1+cell": {
     "cellMetadata": {
      "byteLimit": 2048000,
      "implicitDf": true,
      "rowLimit": 10000
     },
     "inputWidgets": {},
     "nuid": "c7b55e29-6dac-4207-9752-ee1c53dbd8eb",
     "showTitle": false,
     "tableResultSettingsMap": {},
     "title": ""
    }
   },
   "outputs": [
    {
     "output_type": "display_data",
     "data": {
      "text/html": [
       "<style scoped>\n",
       "  .table-result-container {\n",
       "    max-height: 300px;\n",
       "    overflow: auto;\n",
       "  }\n",
       "  table, th, td {\n",
       "    border: 1px solid black;\n",
       "    border-collapse: collapse;\n",
       "  }\n",
       "  th, td {\n",
       "    padding: 5px;\n",
       "  }\n",
       "  th {\n",
       "    text-align: left;\n",
       "  }\n",
       "</style><div class='table-result-container'><table class='table-result'><thead style='background-color: white'><tr><th>SPECIES</th><th>counts</th></tr></thead><tbody><tr><td>Human</td><td>35</td></tr><tr><td>Droid</td><td>6</td></tr><tr><td>NA</td><td>4</td></tr><tr><td>Gungan</td><td>3</td></tr><tr><td>Mirialan</td><td>2</td></tr><tr><td>Zabrak</td><td>2</td></tr><tr><td>Twi'lek</td><td>2</td></tr><tr><td>Wookiee</td><td>2</td></tr><tr><td>Kaminoan</td><td>2</td></tr><tr><td>Clawdite</td><td>1</td></tr><tr><td>Sullustan</td><td>1</td></tr><tr><td>Besalisk</td><td>1</td></tr><tr><td>Ewok</td><td>1</td></tr><tr><td>Dug</td><td>1</td></tr><tr><td>Yoda's species</td><td>1</td></tr><tr><td>Skakoan</td><td>1</td></tr><tr><td>Pau'an</td><td>1</td></tr><tr><td>Toong</td><td>1</td></tr><tr><td>Tholothian</td><td>1</td></tr><tr><td>Rodian</td><td>1</td></tr><tr><td>Chagrian</td><td>1</td></tr><tr><td>Togruta</td><td>1</td></tr><tr><td>Xexto</td><td>1</td></tr><tr><td>Kel Dor</td><td>1</td></tr><tr><td>Neimodian</td><td>1</td></tr><tr><td>Kaleesh</td><td>1</td></tr><tr><td>Mon Calamari</td><td>1</td></tr><tr><td>Cerean</td><td>1</td></tr><tr><td>Geonosian</td><td>1</td></tr><tr><td>Iktotchi</td><td>1</td></tr><tr><td>Trandoshan</td><td>1</td></tr><tr><td>Aleena</td><td>1</td></tr><tr><td>Muun</td><td>1</td></tr><tr><td>Nautolan</td><td>1</td></tr><tr><td>Quermian</td><td>1</td></tr><tr><td>Hutt</td><td>1</td></tr><tr><td>Toydarian</td><td>1</td></tr><tr><td>Vulptereen</td><td>1</td></tr></tbody></table></div>"
      ]
     },
     "metadata": {
      "application/vnd.databricks.v1+output": {
       "addedWidgets": {},
       "aggData": [],
       "aggError": "",
       "aggOverflow": false,
       "aggSchema": [],
       "aggSeriesLimitReached": false,
       "aggType": "",
       "arguments": {},
       "columnCustomDisplayInfos": {},
       "data": [
        [
         "Human",
         35
        ],
        [
         "Droid",
         6
        ],
        [
         "NA",
         4
        ],
        [
         "Gungan",
         3
        ],
        [
         "Mirialan",
         2
        ],
        [
         "Zabrak",
         2
        ],
        [
         "Twi'lek",
         2
        ],
        [
         "Wookiee",
         2
        ],
        [
         "Kaminoan",
         2
        ],
        [
         "Clawdite",
         1
        ],
        [
         "Sullustan",
         1
        ],
        [
         "Besalisk",
         1
        ],
        [
         "Ewok",
         1
        ],
        [
         "Dug",
         1
        ],
        [
         "Yoda's species",
         1
        ],
        [
         "Skakoan",
         1
        ],
        [
         "Pau'an",
         1
        ],
        [
         "Toong",
         1
        ],
        [
         "Tholothian",
         1
        ],
        [
         "Rodian",
         1
        ],
        [
         "Chagrian",
         1
        ],
        [
         "Togruta",
         1
        ],
        [
         "Xexto",
         1
        ],
        [
         "Kel Dor",
         1
        ],
        [
         "Neimodian",
         1
        ],
        [
         "Kaleesh",
         1
        ],
        [
         "Mon Calamari",
         1
        ],
        [
         "Cerean",
         1
        ],
        [
         "Geonosian",
         1
        ],
        [
         "Iktotchi",
         1
        ],
        [
         "Trandoshan",
         1
        ],
        [
         "Aleena",
         1
        ],
        [
         "Muun",
         1
        ],
        [
         "Nautolan",
         1
        ],
        [
         "Quermian",
         1
        ],
        [
         "Hutt",
         1
        ],
        [
         "Toydarian",
         1
        ],
        [
         "Vulptereen",
         1
        ]
       ],
       "datasetInfos": [],
       "dbfsResultPath": null,
       "isJsonSchema": true,
       "metadata": {},
       "overflow": false,
       "plotOptions": {
        "customPlotOptions": {},
        "displayType": "table",
        "pivotAggregation": null,
        "pivotColumns": null,
        "xColumns": null,
        "yColumns": null
       },
       "removedWidgets": [],
       "schema": [
        {
         "metadata": "{}",
         "name": "SPECIES",
         "type": "\"string\""
        },
        {
         "metadata": "{}",
         "name": "counts",
         "type": "\"long\""
        }
       ],
       "type": "table"
      }
     },
     "output_type": "display_data"
    }
   ],
   "source": [
    "%sql\n",
    "/*Count how many characters belong to each species and list them in descending order*/\n",
    "\n",
    "SELECT SPECIES, COUNT(NAME) as counts FROM STARWARS_CSV GROUP BY SPECIES ORDER BY counts DESC\n"
   ]
  },
  {
   "cell_type": "code",
   "execution_count": 0,
   "metadata": {
    "application/vnd.databricks.v1+cell": {
     "cellMetadata": {
      "byteLimit": 2048000,
      "implicitDf": true,
      "rowLimit": 10000
     },
     "inputWidgets": {},
     "nuid": "459c9d65-8f77-429f-90d3-7faefb2129be",
     "showTitle": false,
     "tableResultSettingsMap": {},
     "title": ""
    }
   },
   "outputs": [
    {
     "output_type": "display_data",
     "data": {
      "text/html": [
       "<style scoped>\n",
       "  .table-result-container {\n",
       "    max-height: 300px;\n",
       "    overflow: auto;\n",
       "  }\n",
       "  table, th, td {\n",
       "    border: 1px solid black;\n",
       "    border-collapse: collapse;\n",
       "  }\n",
       "  th, td {\n",
       "    padding: 5px;\n",
       "  }\n",
       "  th {\n",
       "    text-align: left;\n",
       "  }\n",
       "</style><div class='table-result-container'><table class='table-result'><thead style='background-color: white'><tr><th>NAME</th></tr></thead><tbody><tr><td>Luke Skywalker</td></tr><tr><td>C-3PO</td></tr><tr><td>Darth Vader</td></tr><tr><td>Owen Lars</td></tr><tr><td>Beru Whitesun Lars</td></tr><tr><td>R5-D4</td></tr><tr><td>Biggs Darklighter</td></tr><tr><td>Anakin Skywalker</td></tr><tr><td>Shmi Skywalker</td></tr><tr><td>Cliegg Lars</td></tr></tbody></table></div>"
      ]
     },
     "metadata": {
      "application/vnd.databricks.v1+output": {
       "addedWidgets": {},
       "aggData": [],
       "aggError": "",
       "aggOverflow": false,
       "aggSchema": [],
       "aggSeriesLimitReached": false,
       "aggType": "",
       "arguments": {},
       "columnCustomDisplayInfos": {},
       "data": [
        [
         "Luke Skywalker"
        ],
        [
         "C-3PO"
        ],
        [
         "Darth Vader"
        ],
        [
         "Owen Lars"
        ],
        [
         "Beru Whitesun Lars"
        ],
        [
         "R5-D4"
        ],
        [
         "Biggs Darklighter"
        ],
        [
         "Anakin Skywalker"
        ],
        [
         "Shmi Skywalker"
        ],
        [
         "Cliegg Lars"
        ]
       ],
       "datasetInfos": [],
       "dbfsResultPath": null,
       "isJsonSchema": true,
       "metadata": {},
       "overflow": false,
       "plotOptions": {
        "customPlotOptions": {},
        "displayType": "table",
        "pivotAggregation": null,
        "pivotColumns": null,
        "xColumns": null,
        "yColumns": null
       },
       "removedWidgets": [],
       "schema": [
        {
         "metadata": "{}",
         "name": "NAME",
         "type": "\"string\""
        }
       ],
       "type": "table"
      }
     },
     "output_type": "display_data"
    }
   ],
   "source": [
    "%sql\n",
    "/*List all characters whose homeworld is Tatooine.*/\n",
    "\n",
    "SELECT NAME FROM STARWARS_CSV WHERE TRIM(HOMEWORLD) = 'Tatooine'\n"
   ]
  },
  {
   "cell_type": "code",
   "execution_count": 0,
   "metadata": {
    "application/vnd.databricks.v1+cell": {
     "cellMetadata": {
      "byteLimit": 2048000,
      "implicitDf": true,
      "rowLimit": 10000
     },
     "inputWidgets": {},
     "nuid": "e7f26acf-3716-417d-beb5-dd2e1ce19b60",
     "showTitle": false,
     "tableResultSettingsMap": {},
     "title": ""
    }
   },
   "outputs": [
    {
     "output_type": "display_data",
     "data": {
      "text/html": [
       "<style scoped>\n",
       "  .table-result-container {\n",
       "    max-height: 300px;\n",
       "    overflow: auto;\n",
       "  }\n",
       "  table, th, td {\n",
       "    border: 1px solid black;\n",
       "    border-collapse: collapse;\n",
       "  }\n",
       "  th, td {\n",
       "    padding: 5px;\n",
       "  }\n",
       "  th {\n",
       "    text-align: left;\n",
       "  }\n",
       "</style><div class='table-result-container'><table class='table-result'><thead style='background-color: white'><tr><th>AVGHEIGHT</th></tr></thead><tbody><tr><td>178.0</td></tr></tbody></table></div>"
      ]
     },
     "metadata": {
      "application/vnd.databricks.v1+output": {
       "addedWidgets": {},
       "aggData": [],
       "aggError": "",
       "aggOverflow": false,
       "aggSchema": [],
       "aggSeriesLimitReached": false,
       "aggType": "",
       "arguments": {},
       "columnCustomDisplayInfos": {},
       "data": [
        [
         178.0
        ]
       ],
       "datasetInfos": [],
       "dbfsResultPath": null,
       "isJsonSchema": true,
       "metadata": {},
       "overflow": false,
       "plotOptions": {
        "customPlotOptions": {},
        "displayType": "table",
        "pivotAggregation": null,
        "pivotColumns": null,
        "xColumns": null,
        "yColumns": null
       },
       "removedWidgets": [],
       "schema": [
        {
         "metadata": "{}",
         "name": "AVGHEIGHT",
         "type": "\"double\""
        }
       ],
       "type": "table"
      }
     },
     "output_type": "display_data"
    }
   ],
   "source": [
    "%sql\n",
    "/*Determine the average height of characters who belong to the Human species.*/\n",
    "\n",
    "SELECT AVG(HEIGHT) AS AVGHEIGHT FROM STARWARS_CSV WHERE SPECIES = 'Human'"
   ]
  },
  {
   "cell_type": "code",
   "execution_count": 0,
   "metadata": {
    "application/vnd.databricks.v1+cell": {
     "cellMetadata": {
      "byteLimit": 2048000,
      "implicitDf": true,
      "rowLimit": 10000
     },
     "inputWidgets": {},
     "nuid": "2b564e3c-eca5-46af-a572-b63fd07cd6ca",
     "showTitle": false,
     "tableResultSettingsMap": {},
     "title": ""
    }
   },
   "outputs": [
    {
     "output_type": "display_data",
     "data": {
      "text/html": [
       "<style scoped>\n",
       "  .table-result-container {\n",
       "    max-height: 300px;\n",
       "    overflow: auto;\n",
       "  }\n",
       "  table, th, td {\n",
       "    border: 1px solid black;\n",
       "    border-collapse: collapse;\n",
       "  }\n",
       "  th, td {\n",
       "    padding: 5px;\n",
       "  }\n",
       "  th {\n",
       "    text-align: left;\n",
       "  }\n",
       "</style><div class='table-result-container'><table class='table-result'><thead style='background-color: white'><tr><th>NAME</th></tr></thead><tbody><tr><td>Luke Skywalker</td></tr><tr><td>Darth Vader</td></tr><tr><td>Biggs Darklighter</td></tr><tr><td>Obi-Wan Kenobi</td></tr><tr><td>Anakin Skywalker</td></tr><tr><td>Chewbacca</td></tr><tr><td>Han Solo</td></tr><tr><td>Wedge Antilles</td></tr><tr><td>Jek Tono Porkins</td></tr><tr><td>Boba Fett</td></tr><tr><td>Lando Calrissian</td></tr><tr><td>Arvel Crynyd</td></tr><tr><td>Nien Nunb</td></tr><tr><td>Padmé Amidala</td></tr><tr><td>Ric Olié</td></tr><tr><td>Darth Maul</td></tr><tr><td>Plo Koon</td></tr><tr><td>Gregar Typho</td></tr><tr><td>Grievous</td></tr><tr><td>Poe Dameron</td></tr></tbody></table></div>"
      ]
     },
     "metadata": {
      "application/vnd.databricks.v1+output": {
       "addedWidgets": {},
       "aggData": [],
       "aggError": "",
       "aggOverflow": false,
       "aggSchema": [],
       "aggSeriesLimitReached": false,
       "aggType": "",
       "arguments": {},
       "columnCustomDisplayInfos": {},
       "data": [
        [
         "Luke Skywalker"
        ],
        [
         "Darth Vader"
        ],
        [
         "Biggs Darklighter"
        ],
        [
         "Obi-Wan Kenobi"
        ],
        [
         "Anakin Skywalker"
        ],
        [
         "Chewbacca"
        ],
        [
         "Han Solo"
        ],
        [
         "Wedge Antilles"
        ],
        [
         "Jek Tono Porkins"
        ],
        [
         "Boba Fett"
        ],
        [
         "Lando Calrissian"
        ],
        [
         "Arvel Crynyd"
        ],
        [
         "Nien Nunb"
        ],
        [
         "Padmé Amidala"
        ],
        [
         "Ric Olié"
        ],
        [
         "Darth Maul"
        ],
        [
         "Plo Koon"
        ],
        [
         "Gregar Typho"
        ],
        [
         "Grievous"
        ],
        [
         "Poe Dameron"
        ]
       ],
       "datasetInfos": [],
       "dbfsResultPath": null,
       "isJsonSchema": true,
       "metadata": {},
       "overflow": false,
       "plotOptions": {
        "customPlotOptions": {},
        "displayType": "table",
        "pivotAggregation": null,
        "pivotColumns": null,
        "xColumns": null,
        "yColumns": null
       },
       "removedWidgets": [],
       "schema": [
        {
         "metadata": "{}",
         "name": "NAME",
         "type": "\"string\""
        }
       ],
       "type": "table"
      }
     },
     "output_type": "display_data"
    }
   ],
   "source": [
    "%sql\n",
    "/*Identify all characters who have piloted at least one starship.*/\n",
    "\n",
    "SELECT NAME FROM STARWARS_CSV where STARSHIPS is not NULL AND trim(STARSHIPS)!=\" \""
   ]
  },
  {
   "cell_type": "code",
   "execution_count": 0,
   "metadata": {
    "application/vnd.databricks.v1+cell": {
     "cellMetadata": {
      "byteLimit": 2048000,
      "implicitDf": true,
      "rowLimit": 10000
     },
     "inputWidgets": {},
     "nuid": "d0078ec5-0a1e-4bcd-be39-9fec9b924df8",
     "showTitle": false,
     "tableResultSettingsMap": {},
     "title": ""
    }
   },
   "outputs": [
    {
     "output_type": "display_data",
     "data": {
      "text/html": [
       "<style scoped>\n",
       "  .table-result-container {\n",
       "    max-height: 300px;\n",
       "    overflow: auto;\n",
       "  }\n",
       "  table, th, td {\n",
       "    border: 1px solid black;\n",
       "    border-collapse: collapse;\n",
       "  }\n",
       "  th, td {\n",
       "    padding: 5px;\n",
       "  }\n",
       "  th {\n",
       "    text-align: left;\n",
       "  }\n",
       "</style><div class='table-result-container'><table class='table-result'><thead style='background-color: white'><tr><th>BIRTH_YEAR</th><th>NAME</th></tr></thead><tbody><tr><td>8</td><td>Wicket Systri Warrick</td></tr></tbody></table></div>"
      ]
     },
     "metadata": {
      "application/vnd.databricks.v1+output": {
       "addedWidgets": {},
       "aggData": [],
       "aggError": "",
       "aggOverflow": false,
       "aggSchema": [],
       "aggSeriesLimitReached": false,
       "aggType": "",
       "arguments": {},
       "columnCustomDisplayInfos": {},
       "data": [
        [
         8,
         "Wicket Systri Warrick"
        ]
       ],
       "datasetInfos": [],
       "dbfsResultPath": null,
       "isJsonSchema": true,
       "metadata": {},
       "overflow": false,
       "plotOptions": {
        "customPlotOptions": {},
        "displayType": "table",
        "pivotAggregation": null,
        "pivotColumns": null,
        "xColumns": null,
        "yColumns": null
       },
       "removedWidgets": [],
       "schema": [
        {
         "metadata": "{}",
         "name": "BIRTH_YEAR",
         "type": "\"integer\""
        },
        {
         "metadata": "{}",
         "name": "NAME",
         "type": "\"string\""
        }
       ],
       "type": "table"
      }
     },
     "output_type": "display_data"
    }
   ],
   "source": [
    "%sql\n",
    "/*Find the youngest character in the dataset based on birth year.*/\n",
    "\n",
    "SELECT BIRTH_YEAR, NAME FROM STARWARS_CSV WHERE BIRTH_YEAR IS NOT NULL\n",
    "ORDER BY BIRTH_YEAR ASC LIMIT 1"
   ]
  },
  {
   "cell_type": "code",
   "execution_count": 0,
   "metadata": {
    "application/vnd.databricks.v1+cell": {
     "cellMetadata": {
      "byteLimit": 2048000,
      "implicitDf": true,
      "rowLimit": 10000
     },
     "inputWidgets": {},
     "nuid": "8eb77129-bbb7-46df-afcf-b9393980418a",
     "showTitle": false,
     "tableResultSettingsMap": {},
     "title": ""
    }
   },
   "outputs": [
    {
     "output_type": "display_data",
     "data": {
      "text/html": [
       "<style scoped>\n",
       "  .table-result-container {\n",
       "    max-height: 300px;\n",
       "    overflow: auto;\n",
       "  }\n",
       "  table, th, td {\n",
       "    border: 1px solid black;\n",
       "    border-collapse: collapse;\n",
       "  }\n",
       "  th, td {\n",
       "    padding: 5px;\n",
       "  }\n",
       "  th {\n",
       "    text-align: left;\n",
       "  }\n",
       "</style><div class='table-result-container'><table class='table-result'><thead style='background-color: white'><tr><th>GENDER</th><th>COUNTGENDER</th></tr></thead><tbody><tr><td>NA</td><td>4</td></tr><tr><td>feminine</td><td>17</td></tr><tr><td>masculine</td><td>66</td></tr></tbody></table></div>"
      ]
     },
     "metadata": {
      "application/vnd.databricks.v1+output": {
       "addedWidgets": {},
       "aggData": [],
       "aggError": "",
       "aggOverflow": false,
       "aggSchema": [],
       "aggSeriesLimitReached": false,
       "aggType": "",
       "arguments": {},
       "columnCustomDisplayInfos": {},
       "data": [
        [
         "NA",
         4
        ],
        [
         "feminine",
         17
        ],
        [
         "masculine",
         66
        ]
       ],
       "datasetInfos": [],
       "dbfsResultPath": null,
       "isJsonSchema": true,
       "metadata": {},
       "overflow": false,
       "plotOptions": {
        "customPlotOptions": {},
        "displayType": "table",
        "pivotAggregation": null,
        "pivotColumns": null,
        "xColumns": null,
        "yColumns": null
       },
       "removedWidgets": [],
       "schema": [
        {
         "metadata": "{}",
         "name": "GENDER",
         "type": "\"string\""
        },
        {
         "metadata": "{}",
         "name": "COUNTGENDER",
         "type": "\"long\""
        }
       ],
       "type": "table"
      }
     },
     "output_type": "display_data"
    }
   ],
   "source": [
    "%sql\n",
    "/*Count the number of male and female characters separately.*/\n",
    "SELECT GENDER, COUNT(*) AS COUNTGENDER FROM STARWARS_CSV GROUP BY GENDER\n"
   ]
  },
  {
   "cell_type": "code",
   "execution_count": 0,
   "metadata": {
    "application/vnd.databricks.v1+cell": {
     "cellMetadata": {
      "byteLimit": 2048000,
      "implicitDf": true,
      "rowLimit": 10000
     },
     "inputWidgets": {},
     "nuid": "9a026abd-337f-42a2-b88a-a17b0f9d35ff",
     "showTitle": false,
     "tableResultSettingsMap": {},
     "title": ""
    }
   },
   "outputs": [
    {
     "output_type": "display_data",
     "data": {
      "text/html": [
       "<style scoped>\n",
       "  .table-result-container {\n",
       "    max-height: 300px;\n",
       "    overflow: auto;\n",
       "  }\n",
       "  table, th, td {\n",
       "    border: 1px solid black;\n",
       "    border-collapse: collapse;\n",
       "  }\n",
       "  th, td {\n",
       "    padding: 5px;\n",
       "  }\n",
       "  th {\n",
       "    text-align: left;\n",
       "  }\n",
       "</style><div class='table-result-container'><table class='table-result'><thead style='background-color: white'><tr><th>NAME</th></tr></thead><tbody><tr><td>C-3PO</td></tr></tbody></table></div>"
      ]
     },
     "metadata": {
      "application/vnd.databricks.v1+output": {
       "addedWidgets": {},
       "aggData": [],
       "aggError": "",
       "aggOverflow": false,
       "aggSchema": [],
       "aggSeriesLimitReached": false,
       "aggType": "",
       "arguments": {},
       "columnCustomDisplayInfos": {},
       "data": [
        [
         "C-3PO"
        ]
       ],
       "datasetInfos": [],
       "dbfsResultPath": null,
       "isJsonSchema": true,
       "metadata": {},
       "overflow": false,
       "plotOptions": {
        "customPlotOptions": {},
        "displayType": "table",
        "pivotAggregation": null,
        "pivotColumns": null,
        "xColumns": null,
        "yColumns": null
       },
       "removedWidgets": [],
       "schema": [
        {
         "metadata": "{}",
         "name": "NAME",
         "type": "\"string\""
        }
       ],
       "type": "table"
      }
     },
     "output_type": "display_data"
    }
   ],
   "source": [
    "%sql\n",
    "/*Retrieve the names of characters who have gold-colored skin.*/\n",
    "SELECT NAME FROM STARWARS_CSV WHERE SKIN_COLOR LIKE '%gold%'"
   ]
  },
  {
   "cell_type": "code",
   "execution_count": 0,
   "metadata": {
    "application/vnd.databricks.v1+cell": {
     "cellMetadata": {
      "byteLimit": 2048000,
      "implicitDf": true,
      "rowLimit": 10000
     },
     "inputWidgets": {},
     "nuid": "e9829207-db82-41b7-aeae-ea59b9737aae",
     "showTitle": false,
     "tableResultSettingsMap": {},
     "title": ""
    }
   },
   "outputs": [
    {
     "output_type": "display_data",
     "data": {
      "text/html": [
       "<style scoped>\n",
       "  .table-result-container {\n",
       "    max-height: 300px;\n",
       "    overflow: auto;\n",
       "  }\n",
       "  table, th, td {\n",
       "    border: 1px solid black;\n",
       "    border-collapse: collapse;\n",
       "  }\n",
       "  th, td {\n",
       "    padding: 5px;\n",
       "  }\n",
       "  th {\n",
       "    text-align: left;\n",
       "  }\n",
       "</style><div class='table-result-container'><table class='table-result'><thead style='background-color: white'><tr><th>SPECIES</th><th>TOTAL_Mass</th></tr></thead><tbody><tr><td>Wookiee</td><td>248</td></tr></tbody></table></div>"
      ]
     },
     "metadata": {
      "application/vnd.databricks.v1+output": {
       "addedWidgets": {},
       "aggData": [],
       "aggError": "",
       "aggOverflow": false,
       "aggSchema": [],
       "aggSeriesLimitReached": false,
       "aggType": "",
       "arguments": {},
       "columnCustomDisplayInfos": {},
       "data": [
        [
         "Wookiee",
         248
        ]
       ],
       "datasetInfos": [],
       "dbfsResultPath": null,
       "isJsonSchema": true,
       "metadata": {},
       "overflow": false,
       "plotOptions": {
        "customPlotOptions": {},
        "displayType": "table",
        "pivotAggregation": null,
        "pivotColumns": null,
        "xColumns": null,
        "yColumns": null
       },
       "removedWidgets": [],
       "schema": [
        {
         "metadata": "{}",
         "name": "SPECIES",
         "type": "\"string\""
        },
        {
         "metadata": "{}",
         "name": "TOTAL_Mass",
         "type": "\"long\""
        }
       ],
       "type": "table"
      }
     },
     "output_type": "display_data"
    }
   ],
   "source": [
    "%sql\n",
    "/*Determine the total mass of all Wookiee characters combined. */\n",
    "\n",
    "SELECT SPECIES, sum(Mass) AS TOTAL_Mass FROM starwars_csv GROUP BY SPECIES having species = 'Wookiee'\n"
   ]
  },
  {
   "cell_type": "code",
   "execution_count": 0,
   "metadata": {
    "application/vnd.databricks.v1+cell": {
     "cellMetadata": {
      "byteLimit": 2048000,
      "implicitDf": true,
      "rowLimit": 10000
     },
     "inputWidgets": {},
     "nuid": "a33e6184-c545-4998-8466-4cf831f92b39",
     "showTitle": false,
     "tableResultSettingsMap": {},
     "title": ""
    }
   },
   "outputs": [
    {
     "output_type": "display_data",
     "data": {
      "text/html": [
       "<style scoped>\n",
       "  .table-result-container {\n",
       "    max-height: 300px;\n",
       "    overflow: auto;\n",
       "  }\n",
       "  table, th, td {\n",
       "    border: 1px solid black;\n",
       "    border-collapse: collapse;\n",
       "  }\n",
       "  th, td {\n",
       "    padding: 5px;\n",
       "  }\n",
       "  th {\n",
       "    text-align: left;\n",
       "  }\n",
       "</style><div class='table-result-container'><table class='table-result'><thead style='background-color: white'><tr><th>NAME</th></tr></thead><tbody><tr><td>Tarfful</td></tr></tbody></table></div>"
      ]
     },
     "metadata": {
      "application/vnd.databricks.v1+output": {
       "addedWidgets": {},
       "aggData": [],
       "aggError": "",
       "aggOverflow": false,
       "aggSchema": [],
       "aggSeriesLimitReached": false,
       "aggType": "",
       "arguments": {},
       "columnCustomDisplayInfos": {},
       "data": [
        [
         "Tarfful"
        ]
       ],
       "datasetInfos": [],
       "dbfsResultPath": null,
       "isJsonSchema": true,
       "metadata": {},
       "overflow": false,
       "plotOptions": {
        "customPlotOptions": {},
        "displayType": "table",
        "pivotAggregation": null,
        "pivotColumns": null,
        "xColumns": null,
        "yColumns": null
       },
       "removedWidgets": [],
       "schema": [
        {
         "metadata": "{}",
         "name": "NAME",
         "type": "\"string\""
        }
       ],
       "type": "table"
      }
     },
     "output_type": "display_data"
    }
   ],
   "source": [
    "%sql\n",
    "/*- Find the second tallest character in the dataset.*/\n",
    "\n",
    "With CTE AS(\n",
    "SELECT NAME,\n",
    "HEIGHT,\n",
    "dense_rank() OVER (ORDER BY HEIGHT DESC) as Rank\n",
    "FROM STARWARS_CSV)\n",
    "\n",
    "SELECT NAME from CTE where Rank=2"
   ]
  },
  {
   "cell_type": "code",
   "execution_count": 0,
   "metadata": {
    "application/vnd.databricks.v1+cell": {
     "cellMetadata": {
      "byteLimit": 2048000,
      "implicitDf": true,
      "rowLimit": 10000
     },
     "inputWidgets": {},
     "nuid": "1cbea33d-88dc-4fcf-811d-83d5494b179d",
     "showTitle": false,
     "tableResultSettingsMap": {},
     "title": ""
    }
   },
   "outputs": [
    {
     "output_type": "display_data",
     "data": {
      "text/html": [
       "<style scoped>\n",
       "  .table-result-container {\n",
       "    max-height: 300px;\n",
       "    overflow: auto;\n",
       "  }\n",
       "  table, th, td {\n",
       "    border: 1px solid black;\n",
       "    border-collapse: collapse;\n",
       "  }\n",
       "  th, td {\n",
       "    padding: 5px;\n",
       "  }\n",
       "  th {\n",
       "    text-align: left;\n",
       "  }\n",
       "</style><div class='table-result-container'><table class='table-result'><thead style='background-color: white'><tr><th>SPECIES</th><th>NAME</th><th>MASS_TOTAL</th><th>RANK</th></tr></thead><tbody><tr><td>Aleena</td><td>Ratts Tyerel</td><td>15</td><td>1</td></tr><tr><td>Besalisk</td><td>Dexter Jettster</td><td>102</td><td>1</td></tr><tr><td>Cerean</td><td>Ki-Adi-Mundi</td><td>82</td><td>1</td></tr><tr><td>Clawdite</td><td>Zam Wesell</td><td>55</td><td>1</td></tr><tr><td>Droid</td><td>IG-88</td><td>140</td><td>1</td></tr><tr><td>Droid</td><td>C-3PO</td><td>75</td><td>2</td></tr><tr><td>Droid</td><td>R5-D4</td><td>32</td><td>3</td></tr><tr><td>Droid</td><td>R2-D2</td><td>32</td><td>3</td></tr><tr><td>Dug</td><td>Sebulba</td><td>40</td><td>1</td></tr><tr><td>Ewok</td><td>Wicket Systri Warrick</td><td>20</td><td>1</td></tr><tr><td>Geonosian</td><td>Poggle the Lesser</td><td>80</td><td>1</td></tr><tr><td>Gungan</td><td>Roos Tarpals</td><td>82</td><td>1</td></tr><tr><td>Gungan</td><td>Jar Jar Binks</td><td>66</td><td>2</td></tr><tr><td>Human</td><td>Darth Vader</td><td>136</td><td>1</td></tr><tr><td>Human</td><td>Owen Lars</td><td>120</td><td>2</td></tr><tr><td>Human</td><td>Qui-Gon Jinn</td><td>89</td><td>3</td></tr><tr><td>Hutt</td><td>Jabba Desilijic Tiure</td><td>1358</td><td>1</td></tr><tr><td>Kaleesh</td><td>Grievous</td><td>159</td><td>1</td></tr><tr><td>Kaminoan</td><td>Lama Su</td><td>88</td><td>1</td></tr><tr><td>Kel Dor</td><td>Plo Koon</td><td>80</td><td>1</td></tr><tr><td>Mirialan</td><td>Barriss Offee</td><td>50</td><td>1</td></tr><tr><td>Mon Calamari</td><td>Ackbar</td><td>83</td><td>1</td></tr><tr><td>NA</td><td>Jek Tono Porkins</td><td>110</td><td>1</td></tr><tr><td>NA</td><td>Gregar Typho</td><td>85</td><td>2</td></tr><tr><td>NA</td><td>Sly Moore</td><td>48</td><td>3</td></tr><tr><td>Nautolan</td><td>Kit Fisto</td><td>87</td><td>1</td></tr><tr><td>Neimodian</td><td>Nute Gunray</td><td>90</td><td>1</td></tr><tr><td>Pau'an</td><td>Tion Medon</td><td>80</td><td>1</td></tr><tr><td>Rodian</td><td>Greedo</td><td>74</td><td>1</td></tr><tr><td>Skakoan</td><td>Wat Tambor</td><td>48</td><td>1</td></tr><tr><td>Sullustan</td><td>Nien Nunb</td><td>68</td><td>1</td></tr><tr><td>Tholothian</td><td>Adi Gallia</td><td>50</td><td>1</td></tr><tr><td>Togruta</td><td>Shaak Ti</td><td>57</td><td>1</td></tr><tr><td>Toong</td><td>Ben Quadinaros</td><td>65</td><td>1</td></tr><tr><td>Trandoshan</td><td>Bossk</td><td>113</td><td>1</td></tr><tr><td>Twi'lek</td><td>Ayla Secura</td><td>55</td><td>1</td></tr><tr><td>Vulptereen</td><td>Dud Bolt</td><td>45</td><td>1</td></tr><tr><td>Wookiee</td><td>Tarfful</td><td>136</td><td>1</td></tr><tr><td>Wookiee</td><td>Chewbacca</td><td>112</td><td>2</td></tr><tr><td>Yoda's species</td><td>Yoda</td><td>17</td><td>1</td></tr><tr><td>Zabrak</td><td>Darth Maul</td><td>80</td><td>1</td></tr></tbody></table></div>"
      ]
     },
     "metadata": {
      "application/vnd.databricks.v1+output": {
       "addedWidgets": {},
       "aggData": [],
       "aggError": "",
       "aggOverflow": false,
       "aggSchema": [],
       "aggSeriesLimitReached": false,
       "aggType": "",
       "arguments": {},
       "columnCustomDisplayInfos": {},
       "data": [
        [
         "Aleena",
         "Ratts Tyerel",
         15,
         1
        ],
        [
         "Besalisk",
         "Dexter Jettster",
         102,
         1
        ],
        [
         "Cerean",
         "Ki-Adi-Mundi",
         82,
         1
        ],
        [
         "Clawdite",
         "Zam Wesell",
         55,
         1
        ],
        [
         "Droid",
         "IG-88",
         140,
         1
        ],
        [
         "Droid",
         "C-3PO",
         75,
         2
        ],
        [
         "Droid",
         "R5-D4",
         32,
         3
        ],
        [
         "Droid",
         "R2-D2",
         32,
         3
        ],
        [
         "Dug",
         "Sebulba",
         40,
         1
        ],
        [
         "Ewok",
         "Wicket Systri Warrick",
         20,
         1
        ],
        [
         "Geonosian",
         "Poggle the Lesser",
         80,
         1
        ],
        [
         "Gungan",
         "Roos Tarpals",
         82,
         1
        ],
        [
         "Gungan",
         "Jar Jar Binks",
         66,
         2
        ],
        [
         "Human",
         "Darth Vader",
         136,
         1
        ],
        [
         "Human",
         "Owen Lars",
         120,
         2
        ],
        [
         "Human",
         "Qui-Gon Jinn",
         89,
         3
        ],
        [
         "Hutt",
         "Jabba Desilijic Tiure",
         1358,
         1
        ],
        [
         "Kaleesh",
         "Grievous",
         159,
         1
        ],
        [
         "Kaminoan",
         "Lama Su",
         88,
         1
        ],
        [
         "Kel Dor",
         "Plo Koon",
         80,
         1
        ],
        [
         "Mirialan",
         "Barriss Offee",
         50,
         1
        ],
        [
         "Mon Calamari",
         "Ackbar",
         83,
         1
        ],
        [
         "NA",
         "Jek Tono Porkins",
         110,
         1
        ],
        [
         "NA",
         "Gregar Typho",
         85,
         2
        ],
        [
         "NA",
         "Sly Moore",
         48,
         3
        ],
        [
         "Nautolan",
         "Kit Fisto",
         87,
         1
        ],
        [
         "Neimodian",
         "Nute Gunray",
         90,
         1
        ],
        [
         "Pau'an",
         "Tion Medon",
         80,
         1
        ],
        [
         "Rodian",
         "Greedo",
         74,
         1
        ],
        [
         "Skakoan",
         "Wat Tambor",
         48,
         1
        ],
        [
         "Sullustan",
         "Nien Nunb",
         68,
         1
        ],
        [
         "Tholothian",
         "Adi Gallia",
         50,
         1
        ],
        [
         "Togruta",
         "Shaak Ti",
         57,
         1
        ],
        [
         "Toong",
         "Ben Quadinaros",
         65,
         1
        ],
        [
         "Trandoshan",
         "Bossk",
         113,
         1
        ],
        [
         "Twi'lek",
         "Ayla Secura",
         55,
         1
        ],
        [
         "Vulptereen",
         "Dud Bolt",
         45,
         1
        ],
        [
         "Wookiee",
         "Tarfful",
         136,
         1
        ],
        [
         "Wookiee",
         "Chewbacca",
         112,
         2
        ],
        [
         "Yoda's species",
         "Yoda",
         17,
         1
        ],
        [
         "Zabrak",
         "Darth Maul",
         80,
         1
        ]
       ],
       "datasetInfos": [],
       "dbfsResultPath": null,
       "isJsonSchema": true,
       "metadata": {},
       "overflow": false,
       "plotOptions": {
        "customPlotOptions": {},
        "displayType": "table",
        "pivotAggregation": null,
        "pivotColumns": null,
        "xColumns": null,
        "yColumns": null
       },
       "removedWidgets": [],
       "schema": [
        {
         "metadata": "{}",
         "name": "SPECIES",
         "type": "\"string\""
        },
        {
         "metadata": "{}",
         "name": "NAME",
         "type": "\"string\""
        },
        {
         "metadata": "{}",
         "name": "MASS_TOTAL",
         "type": "\"long\""
        },
        {
         "metadata": "{}",
         "name": "RANK",
         "type": "\"integer\""
        }
       ],
       "type": "table"
      }
     },
     "output_type": "display_data"
    }
   ],
   "source": [
    "%sql\n",
    "/* Retrieve the top 3 characters by mass within each species using window functions.*/\n",
    "\n",
    "WITH CTE AS (\n",
    "SELECT \n",
    "SPECIES,\n",
    "NAME,\n",
    "SUM(MASS) AS MASS_TOTAL,\n",
    "RANK() OVER (PARTITION BY SPECIES ORDER BY SUM(MASS) DESC) as RANK\n",
    "FROM STARWARS_CSV \n",
    "where mass IS NOT NULL\n",
    "GROUP BY SPECIES, name)\n",
    "\n",
    "SELECT * FROM CTE WHERE RANK IN (1,2,3)"
   ]
  },
  {
   "cell_type": "code",
   "execution_count": 0,
   "metadata": {
    "application/vnd.databricks.v1+cell": {
     "cellMetadata": {
      "byteLimit": 2048000,
      "implicitDf": true,
      "rowLimit": 10000
     },
     "inputWidgets": {},
     "nuid": "9ce8e0bd-4348-4100-868f-2f8ab0680fc8",
     "showTitle": false,
     "tableResultSettingsMap": {},
     "title": ""
    }
   },
   "outputs": [
    {
     "output_type": "display_data",
     "data": {
      "text/html": [
       "<style scoped>\n",
       "  .table-result-container {\n",
       "    max-height: 300px;\n",
       "    overflow: auto;\n",
       "  }\n",
       "  table, th, td {\n",
       "    border: 1px solid black;\n",
       "    border-collapse: collapse;\n",
       "  }\n",
       "  th, td {\n",
       "    padding: 5px;\n",
       "  }\n",
       "  th {\n",
       "    text-align: left;\n",
       "  }\n",
       "</style><div class='table-result-container'><table class='table-result'><thead style='background-color: white'><tr><th>SPECIES</th><th>SP_COUNT</th><th>POT</th></tr></thead><tbody><tr><td>Human</td><td>35</td><td>40.229885057471265</td></tr><tr><td>Droid</td><td>6</td><td>6.896551724137931</td></tr><tr><td>NA</td><td>4</td><td>4.597701149425287</td></tr><tr><td>Gungan</td><td>3</td><td>3.4482758620689653</td></tr><tr><td>Mirialan</td><td>2</td><td>2.2988505747126435</td></tr><tr><td>Zabrak</td><td>2</td><td>2.2988505747126435</td></tr><tr><td>Twi'lek</td><td>2</td><td>2.2988505747126435</td></tr><tr><td>Wookiee</td><td>2</td><td>2.2988505747126435</td></tr><tr><td>Kaminoan</td><td>2</td><td>2.2988505747126435</td></tr><tr><td>Clawdite</td><td>1</td><td>1.1494252873563218</td></tr><tr><td>Sullustan</td><td>1</td><td>1.1494252873563218</td></tr><tr><td>Besalisk</td><td>1</td><td>1.1494252873563218</td></tr><tr><td>Ewok</td><td>1</td><td>1.1494252873563218</td></tr><tr><td>Dug</td><td>1</td><td>1.1494252873563218</td></tr><tr><td>Yoda's species</td><td>1</td><td>1.1494252873563218</td></tr><tr><td>Skakoan</td><td>1</td><td>1.1494252873563218</td></tr><tr><td>Pau'an</td><td>1</td><td>1.1494252873563218</td></tr><tr><td>Toong</td><td>1</td><td>1.1494252873563218</td></tr><tr><td>Tholothian</td><td>1</td><td>1.1494252873563218</td></tr><tr><td>Rodian</td><td>1</td><td>1.1494252873563218</td></tr><tr><td>Chagrian</td><td>1</td><td>1.1494252873563218</td></tr><tr><td>Togruta</td><td>1</td><td>1.1494252873563218</td></tr><tr><td>Xexto</td><td>1</td><td>1.1494252873563218</td></tr><tr><td>Kel Dor</td><td>1</td><td>1.1494252873563218</td></tr><tr><td>Neimodian</td><td>1</td><td>1.1494252873563218</td></tr><tr><td>Kaleesh</td><td>1</td><td>1.1494252873563218</td></tr><tr><td>Mon Calamari</td><td>1</td><td>1.1494252873563218</td></tr><tr><td>Cerean</td><td>1</td><td>1.1494252873563218</td></tr><tr><td>Geonosian</td><td>1</td><td>1.1494252873563218</td></tr><tr><td>Iktotchi</td><td>1</td><td>1.1494252873563218</td></tr><tr><td>Trandoshan</td><td>1</td><td>1.1494252873563218</td></tr><tr><td>Aleena</td><td>1</td><td>1.1494252873563218</td></tr><tr><td>Muun</td><td>1</td><td>1.1494252873563218</td></tr><tr><td>Nautolan</td><td>1</td><td>1.1494252873563218</td></tr><tr><td>Quermian</td><td>1</td><td>1.1494252873563218</td></tr><tr><td>Hutt</td><td>1</td><td>1.1494252873563218</td></tr><tr><td>Toydarian</td><td>1</td><td>1.1494252873563218</td></tr><tr><td>Vulptereen</td><td>1</td><td>1.1494252873563218</td></tr></tbody></table></div>"
      ]
     },
     "metadata": {
      "application/vnd.databricks.v1+output": {
       "addedWidgets": {},
       "aggData": [],
       "aggError": "",
       "aggOverflow": false,
       "aggSchema": [],
       "aggSeriesLimitReached": false,
       "aggType": "",
       "arguments": {},
       "columnCustomDisplayInfos": {},
       "data": [
        [
         "Human",
         35,
         40.229885057471265
        ],
        [
         "Droid",
         6,
         6.896551724137931
        ],
        [
         "NA",
         4,
         4.597701149425287
        ],
        [
         "Gungan",
         3,
         3.4482758620689653
        ],
        [
         "Mirialan",
         2,
         2.2988505747126435
        ],
        [
         "Zabrak",
         2,
         2.2988505747126435
        ],
        [
         "Twi'lek",
         2,
         2.2988505747126435
        ],
        [
         "Wookiee",
         2,
         2.2988505747126435
        ],
        [
         "Kaminoan",
         2,
         2.2988505747126435
        ],
        [
         "Clawdite",
         1,
         1.1494252873563218
        ],
        [
         "Sullustan",
         1,
         1.1494252873563218
        ],
        [
         "Besalisk",
         1,
         1.1494252873563218
        ],
        [
         "Ewok",
         1,
         1.1494252873563218
        ],
        [
         "Dug",
         1,
         1.1494252873563218
        ],
        [
         "Yoda's species",
         1,
         1.1494252873563218
        ],
        [
         "Skakoan",
         1,
         1.1494252873563218
        ],
        [
         "Pau'an",
         1,
         1.1494252873563218
        ],
        [
         "Toong",
         1,
         1.1494252873563218
        ],
        [
         "Tholothian",
         1,
         1.1494252873563218
        ],
        [
         "Rodian",
         1,
         1.1494252873563218
        ],
        [
         "Chagrian",
         1,
         1.1494252873563218
        ],
        [
         "Togruta",
         1,
         1.1494252873563218
        ],
        [
         "Xexto",
         1,
         1.1494252873563218
        ],
        [
         "Kel Dor",
         1,
         1.1494252873563218
        ],
        [
         "Neimodian",
         1,
         1.1494252873563218
        ],
        [
         "Kaleesh",
         1,
         1.1494252873563218
        ],
        [
         "Mon Calamari",
         1,
         1.1494252873563218
        ],
        [
         "Cerean",
         1,
         1.1494252873563218
        ],
        [
         "Geonosian",
         1,
         1.1494252873563218
        ],
        [
         "Iktotchi",
         1,
         1.1494252873563218
        ],
        [
         "Trandoshan",
         1,
         1.1494252873563218
        ],
        [
         "Aleena",
         1,
         1.1494252873563218
        ],
        [
         "Muun",
         1,
         1.1494252873563218
        ],
        [
         "Nautolan",
         1,
         1.1494252873563218
        ],
        [
         "Quermian",
         1,
         1.1494252873563218
        ],
        [
         "Hutt",
         1,
         1.1494252873563218
        ],
        [
         "Toydarian",
         1,
         1.1494252873563218
        ],
        [
         "Vulptereen",
         1,
         1.1494252873563218
        ]
       ],
       "datasetInfos": [],
       "dbfsResultPath": null,
       "isJsonSchema": true,
       "metadata": {},
       "overflow": false,
       "plotOptions": {
        "customPlotOptions": {},
        "displayType": "table",
        "pivotAggregation": null,
        "pivotColumns": null,
        "xColumns": null,
        "yColumns": null
       },
       "removedWidgets": [],
       "schema": [
        {
         "metadata": "{}",
         "name": "SPECIES",
         "type": "\"string\""
        },
        {
         "metadata": "{}",
         "name": "SP_COUNT",
         "type": "\"long\""
        },
        {
         "metadata": "{}",
         "name": "POT",
         "type": "\"double\""
        }
       ],
       "type": "table"
      }
     },
     "output_type": "display_data"
    }
   ],
   "source": [
    "%sql\n",
    "/*Calculate the percentage of total characters that belong to each species. */\n",
    "\n",
    "SELECT \n",
    "SPECIES,\n",
    "count(*) AS SP_COUNT,\n",
    "(COUNT(*)\n",
    "/(SELECT COUNT(*) as total_COUNT from STARWARS_CSV)*100) AS POT\n",
    "from starwars_csv GROUP BY species ORDER BY POT DESC\n"
   ]
  },
  {
   "cell_type": "code",
   "execution_count": 0,
   "metadata": {
    "application/vnd.databricks.v1+cell": {
     "cellMetadata": {
      "byteLimit": 2048000,
      "implicitDf": true,
      "rowLimit": 10000
     },
     "inputWidgets": {},
     "nuid": "a45ccdbe-74c0-49cc-bc5b-c3d612bd259c",
     "showTitle": false,
     "tableResultSettingsMap": {},
     "title": ""
    }
   },
   "outputs": [
    {
     "output_type": "display_data",
     "data": {
      "text/html": [
       "<style scoped>\n",
       "  .table-result-container {\n",
       "    max-height: 300px;\n",
       "    overflow: auto;\n",
       "  }\n",
       "  table, th, td {\n",
       "    border: 1px solid black;\n",
       "    border-collapse: collapse;\n",
       "  }\n",
       "  th, td {\n",
       "    padding: 5px;\n",
       "  }\n",
       "  th {\n",
       "    text-align: left;\n",
       "  }\n",
       "</style><div class='table-result-container'><table class='table-result'><thead style='background-color: white'><tr><th>EYE_COLOR</th><th>COUNT_EYE_COLOR</th><th>RANK</th></tr></thead><tbody><tr><td>brown</td><td>21</td><td>1</td></tr></tbody></table></div>"
      ]
     },
     "metadata": {
      "application/vnd.databricks.v1+output": {
       "addedWidgets": {},
       "aggData": [],
       "aggError": "",
       "aggOverflow": false,
       "aggSchema": [],
       "aggSeriesLimitReached": false,
       "aggType": "",
       "arguments": {},
       "columnCustomDisplayInfos": {},
       "data": [
        [
         "brown",
         21,
         1
        ]
       ],
       "datasetInfos": [],
       "dbfsResultPath": null,
       "isJsonSchema": true,
       "metadata": {},
       "overflow": false,
       "plotOptions": {
        "customPlotOptions": {},
        "displayType": "table",
        "pivotAggregation": null,
        "pivotColumns": null,
        "xColumns": null,
        "yColumns": null
       },
       "removedWidgets": [],
       "schema": [
        {
         "metadata": "{}",
         "name": "EYE_COLOR",
         "type": "\"string\""
        },
        {
         "metadata": "{}",
         "name": "COUNT_EYE_COLOR",
         "type": "\"long\""
        },
        {
         "metadata": "{}",
         "name": "RANK",
         "type": "\"integer\""
        }
       ],
       "type": "table"
      }
     },
     "output_type": "display_data"
    }
   ],
   "source": [
    "%sql\n",
    "/*Identify the most common eye color among all characters.*/\n",
    "WITH CTE AS(\n",
    "SELECT EYE_COLOR, count(*) AS COUNT_EYE_COLOR,\n",
    "DENSE_RANK() OVER (ORDER BY COUNT(*) DESC) AS RANK\n",
    "FROM STARWARS_CSV GROUP BY EYE_COLOR)\n",
    "\n",
    "SELECT * FROM CTE WHERE RANK=1"
   ]
  },
  {
   "cell_type": "code",
   "execution_count": 0,
   "metadata": {
    "application/vnd.databricks.v1+cell": {
     "cellMetadata": {
      "byteLimit": 2048000,
      "implicitDf": true,
      "rowLimit": 10000
     },
     "inputWidgets": {},
     "nuid": "74c92631-7b77-4a28-9e12-bcf874a17689",
     "showTitle": false,
     "tableResultSettingsMap": {},
     "title": ""
    }
   },
   "outputs": [
    {
     "output_type": "display_data",
     "data": {
      "text/html": [
       "<style scoped>\n",
       "  .table-result-container {\n",
       "    max-height: 300px;\n",
       "    overflow: auto;\n",
       "  }\n",
       "  table, th, td {\n",
       "    border: 1px solid black;\n",
       "    border-collapse: collapse;\n",
       "  }\n",
       "  th, td {\n",
       "    padding: 5px;\n",
       "  }\n",
       "  th {\n",
       "    text-align: left;\n",
       "  }\n",
       "</style><div class='table-result-container'><table class='table-result'><thead style='background-color: white'><tr><th>SPECIES</th></tr></thead><tbody><tr><td>Clawdite</td></tr><tr><td>Human</td></tr></tbody></table></div>"
      ]
     },
     "metadata": {
      "application/vnd.databricks.v1+output": {
       "addedWidgets": {},
       "aggData": [],
       "aggError": "",
       "aggOverflow": false,
       "aggSchema": [],
       "aggSeriesLimitReached": false,
       "aggType": "",
       "arguments": {},
       "columnCustomDisplayInfos": {},
       "data": [
        [
         "Clawdite"
        ],
        [
         "Human"
        ]
       ],
       "datasetInfos": [],
       "dbfsResultPath": null,
       "isJsonSchema": true,
       "metadata": {},
       "overflow": false,
       "plotOptions": {
        "customPlotOptions": {},
        "displayType": "table",
        "pivotAggregation": null,
        "pivotColumns": null,
        "xColumns": null,
        "yColumns": null
       },
       "removedWidgets": [],
       "schema": [
        {
         "metadata": "{}",
         "name": "SPECIES",
         "type": "\"string\""
        }
       ],
       "type": "table"
      }
     },
     "output_type": "display_data"
    }
   ],
   "source": [
    "%sql\n",
    "/*List all characters who have used at least one vehicle but never piloted a starship.*/\n",
    "SELECT DISTINCT SPECIES FROM STARWARS_CSV WHERE VEHICLES IN \n",
    "(SELECT DISTINCT VEHICLES FROM STARWARS_CSV WHERE STARSHIPS IS NULL AND VEHICLES IS NOT NULL)"
   ]
  },
  {
   "cell_type": "code",
   "execution_count": 0,
   "metadata": {
    "application/vnd.databricks.v1+cell": {
     "cellMetadata": {
      "byteLimit": 2048000,
      "implicitDf": true,
      "rowLimit": 10000
     },
     "inputWidgets": {},
     "nuid": "fc494b5f-8bbf-4ed6-8659-3af4353dcb3b",
     "showTitle": false,
     "tableResultSettingsMap": {},
     "title": ""
    }
   },
   "outputs": [
    {
     "output_type": "display_data",
     "data": {
      "text/html": [
       "<style scoped>\n",
       "  .table-result-container {\n",
       "    max-height: 300px;\n",
       "    overflow: auto;\n",
       "  }\n",
       "  table, th, td {\n",
       "    border: 1px solid black;\n",
       "    border-collapse: collapse;\n",
       "  }\n",
       "  th, td {\n",
       "    padding: 5px;\n",
       "  }\n",
       "  th {\n",
       "    text-align: left;\n",
       "  }\n",
       "</style><div class='table-result-container'><table class='table-result'><thead style='background-color: white'><tr><th>HOMEWORLD</th><th>NAME</th><th>BIRTH_YEAR</th><th>RANK</th></tr></thead><tbody><tr><td>Alderaan</td><td>Leia Organa</td><td>19</td><td>1</td></tr><tr><td>Alderaan</td><td>Bail Prestor Organa</td><td>67</td><td>2</td></tr><tr><td>Bespin</td><td>Lobot</td><td>37</td><td>1</td></tr><tr><td>Cerea</td><td>Ki-Adi-Mundi</td><td>92</td><td>1</td></tr><tr><td>Chandrila</td><td>Mon Mothma</td><td>48</td><td>1</td></tr><tr><td>Concord Dawn</td><td>Jango Fett</td><td>66</td><td>1</td></tr><tr><td>Corellia</td><td>Wedge Antilles</td><td>21</td><td>1</td></tr><tr><td>Corellia</td><td>Han Solo</td><td>29</td><td>2</td></tr><tr><td>Coruscant</td><td>Finis Valorum</td><td>91</td><td>1</td></tr><tr><td>Dathomir</td><td>Darth Maul</td><td>54</td><td>1</td></tr><tr><td>Dorin</td><td>Plo Koon</td><td>22</td><td>1</td></tr><tr><td>Endor</td><td>Wicket Systri Warrick</td><td>8</td><td>1</td></tr><tr><td>Eriadu</td><td>Wilhuff Tarkin</td><td>64</td><td>1</td></tr><tr><td>Haruun Kal</td><td>Mace Windu</td><td>72</td><td>1</td></tr><tr><td>Kashyyyk</td><td>Chewbacca</td><td>200</td><td>1</td></tr><tr><td>Mirial</td><td>Barriss Offee</td><td>40</td><td>1</td></tr><tr><td>Mirial</td><td>Luminara Unduli</td><td>58</td><td>2</td></tr><tr><td>Mon Cala</td><td>Ackbar</td><td>41</td><td>1</td></tr><tr><td>NA</td><td>IG-88</td><td>15</td><td>1</td></tr><tr><td>NA</td><td>Qui-Gon Jinn</td><td>92</td><td>2</td></tr><tr><td>NA</td><td>Yoda</td><td>896</td><td>3</td></tr><tr><td>Naboo</td><td>R2-D2</td><td>33</td><td>1</td></tr><tr><td>Naboo</td><td>Padmé Amidala</td><td>46</td><td>2</td></tr><tr><td>Naboo</td><td>Jar Jar Binks</td><td>52</td><td>3</td></tr><tr><td>Naboo</td><td>Quarsh Panaka</td><td>62</td><td>4</td></tr><tr><td>Naboo</td><td>Palpatine</td><td>82</td><td>5</td></tr><tr><td>Nal Hutta</td><td>Jabba Desilijic Tiure</td><td>600</td><td>1</td></tr><tr><td>Rodia</td><td>Greedo</td><td>44</td><td>1</td></tr><tr><td>Ryloth</td><td>Ayla Secura</td><td>48</td><td>1</td></tr><tr><td>Serenno</td><td>Dooku</td><td>102</td><td>1</td></tr><tr><td>Socorro</td><td>Lando Calrissian</td><td>31</td><td>1</td></tr><tr><td>Stewjon</td><td>Obi-Wan Kenobi</td><td>57</td><td>1</td></tr><tr><td>Tatooine</td><td>Luke Skywalker</td><td>19</td><td>1</td></tr><tr><td>Tatooine</td><td>Biggs Darklighter</td><td>24</td><td>2</td></tr><tr><td>Tatooine</td><td>Beru Whitesun Lars</td><td>47</td><td>3</td></tr><tr><td>Tatooine</td><td>Owen Lars</td><td>52</td><td>4</td></tr><tr><td>Tatooine</td><td>Shmi Skywalker</td><td>72</td><td>5</td></tr><tr><td>Tatooine</td><td>Cliegg Lars</td><td>82</td><td>6</td></tr><tr><td>Tatooine</td><td>C-3PO</td><td>112</td><td>7</td></tr><tr><td>Trandosha</td><td>Bossk</td><td>53</td><td>1</td></tr></tbody></table></div>"
      ]
     },
     "metadata": {
      "application/vnd.databricks.v1+output": {
       "addedWidgets": {},
       "aggData": [],
       "aggError": "",
       "aggOverflow": false,
       "aggSchema": [],
       "aggSeriesLimitReached": false,
       "aggType": "",
       "arguments": {},
       "columnCustomDisplayInfos": {},
       "data": [
        [
         "Alderaan",
         "Leia Organa",
         19,
         1
        ],
        [
         "Alderaan",
         "Bail Prestor Organa",
         67,
         2
        ],
        [
         "Bespin",
         "Lobot",
         37,
         1
        ],
        [
         "Cerea",
         "Ki-Adi-Mundi",
         92,
         1
        ],
        [
         "Chandrila",
         "Mon Mothma",
         48,
         1
        ],
        [
         "Concord Dawn",
         "Jango Fett",
         66,
         1
        ],
        [
         "Corellia",
         "Wedge Antilles",
         21,
         1
        ],
        [
         "Corellia",
         "Han Solo",
         29,
         2
        ],
        [
         "Coruscant",
         "Finis Valorum",
         91,
         1
        ],
        [
         "Dathomir",
         "Darth Maul",
         54,
         1
        ],
        [
         "Dorin",
         "Plo Koon",
         22,
         1
        ],
        [
         "Endor",
         "Wicket Systri Warrick",
         8,
         1
        ],
        [
         "Eriadu",
         "Wilhuff Tarkin",
         64,
         1
        ],
        [
         "Haruun Kal",
         "Mace Windu",
         72,
         1
        ],
        [
         "Kashyyyk",
         "Chewbacca",
         200,
         1
        ],
        [
         "Mirial",
         "Barriss Offee",
         40,
         1
        ],
        [
         "Mirial",
         "Luminara Unduli",
         58,
         2
        ],
        [
         "Mon Cala",
         "Ackbar",
         41,
         1
        ],
        [
         "NA",
         "IG-88",
         15,
         1
        ],
        [
         "NA",
         "Qui-Gon Jinn",
         92,
         2
        ],
        [
         "NA",
         "Yoda",
         896,
         3
        ],
        [
         "Naboo",
         "R2-D2",
         33,
         1
        ],
        [
         "Naboo",
         "Padmé Amidala",
         46,
         2
        ],
        [
         "Naboo",
         "Jar Jar Binks",
         52,
         3
        ],
        [
         "Naboo",
         "Quarsh Panaka",
         62,
         4
        ],
        [
         "Naboo",
         "Palpatine",
         82,
         5
        ],
        [
         "Nal Hutta",
         "Jabba Desilijic Tiure",
         600,
         1
        ],
        [
         "Rodia",
         "Greedo",
         44,
         1
        ],
        [
         "Ryloth",
         "Ayla Secura",
         48,
         1
        ],
        [
         "Serenno",
         "Dooku",
         102,
         1
        ],
        [
         "Socorro",
         "Lando Calrissian",
         31,
         1
        ],
        [
         "Stewjon",
         "Obi-Wan Kenobi",
         57,
         1
        ],
        [
         "Tatooine",
         "Luke Skywalker",
         19,
         1
        ],
        [
         "Tatooine",
         "Biggs Darklighter",
         24,
         2
        ],
        [
         "Tatooine",
         "Beru Whitesun Lars",
         47,
         3
        ],
        [
         "Tatooine",
         "Owen Lars",
         52,
         4
        ],
        [
         "Tatooine",
         "Shmi Skywalker",
         72,
         5
        ],
        [
         "Tatooine",
         "Cliegg Lars",
         82,
         6
        ],
        [
         "Tatooine",
         "C-3PO",
         112,
         7
        ],
        [
         "Trandosha",
         "Bossk",
         53,
         1
        ]
       ],
       "datasetInfos": [],
       "dbfsResultPath": null,
       "isJsonSchema": true,
       "metadata": {},
       "overflow": false,
       "plotOptions": {
        "customPlotOptions": {},
        "displayType": "table",
        "pivotAggregation": null,
        "pivotColumns": null,
        "xColumns": null,
        "yColumns": null
       },
       "removedWidgets": [],
       "schema": [
        {
         "metadata": "{}",
         "name": "HOMEWORLD",
         "type": "\"string\""
        },
        {
         "metadata": "{}",
         "name": "NAME",
         "type": "\"string\""
        },
        {
         "metadata": "{}",
         "name": "BIRTH_YEAR",
         "type": "\"integer\""
        },
        {
         "metadata": "{}",
         "name": "RANK",
         "type": "\"integer\""
        }
       ],
       "type": "table"
      }
     },
     "output_type": "display_data"
    }
   ],
   "source": [
    "%sql\n",
    "/*Rank characters by birth year within their homeworld using window functions.*/\n",
    "\n",
    "SELECT\n",
    "HOMEWORLD, NAME, BIRTH_YEAR,\n",
    "dense_rank() OVER (PARTITION BY HOMEWORLD ORDER BY BIRTH_YEAR ASC, HOMEWORLD ASC) AS RANK\n",
    "from starwars_csv\n",
    "where birth_year is not null and birth_year not in ('Unknown' ,'NA')"
   ]
  },
  {
   "cell_type": "code",
   "execution_count": 0,
   "metadata": {
    "application/vnd.databricks.v1+cell": {
     "cellMetadata": {
      "byteLimit": 2048000,
      "implicitDf": true,
      "rowLimit": 10000
     },
     "inputWidgets": {},
     "nuid": "1d7c92c4-4003-4237-b2c5-ad5427544caa",
     "showTitle": false,
     "tableResultSettingsMap": {},
     "title": ""
    }
   },
   "outputs": [
    {
     "output_type": "display_data",
     "data": {
      "text/html": [
       "<style scoped>\n",
       "  .table-result-container {\n",
       "    max-height: 300px;\n",
       "    overflow: auto;\n",
       "  }\n",
       "  table, th, td {\n",
       "    border: 1px solid black;\n",
       "    border-collapse: collapse;\n",
       "  }\n",
       "  th, td {\n",
       "    padding: 5px;\n",
       "  }\n",
       "  th {\n",
       "    text-align: left;\n",
       "  }\n",
       "</style><div class='table-result-container'><table class='table-result'><thead style='background-color: white'><tr><th>NAME</th></tr></thead><tbody><tr><td>Darth Vader</td></tr><tr><td>R5-D4</td></tr><tr><td>Anakin Skywalker</td></tr><tr><td>Jek Tono Porkins</td></tr><tr><td>Boba Fett</td></tr><tr><td>Arvel Crynyd</td></tr><tr><td>Nien Nunb</td></tr><tr><td>Nute Gunray</td></tr><tr><td>Roos Tarpals</td></tr><tr><td>Rugor Nass</td></tr><tr><td>Ric Olié</td></tr><tr><td>Watto</td></tr><tr><td>Sebulba</td></tr><tr><td>Bib Fortuna</td></tr><tr><td>Ratts Tyerel</td></tr><tr><td>Dud Bolt</td></tr><tr><td>Gasgano</td></tr><tr><td>Ben Quadinaros</td></tr><tr><td>Kit Fisto</td></tr><tr><td>Eeth Koth</td></tr><tr><td>Adi Gallia</td></tr><tr><td>Saesee Tiin</td></tr><tr><td>Yarael Poof</td></tr><tr><td>Mas Amedda</td></tr><tr><td>Gregar Typho</td></tr><tr><td>Cordé</td></tr><tr><td>Poggle the Lesser</td></tr><tr><td>Dormé</td></tr><tr><td>Zam Wesell</td></tr><tr><td>Dexter Jettster</td></tr><tr><td>Lama Su</td></tr><tr><td>Taun We</td></tr><tr><td>Jocasta Nu</td></tr><tr><td>R4-P17</td></tr><tr><td>Wat Tambor</td></tr><tr><td>San Hill</td></tr><tr><td>Shaak Ti</td></tr><tr><td>Grievous</td></tr><tr><td>Tarfful</td></tr><tr><td>Raymus Antilles</td></tr><tr><td>Sly Moore</td></tr><tr><td>Tion Medon</td></tr><tr><td>Finn</td></tr><tr><td>Rey</td></tr><tr><td>Poe Dameron</td></tr><tr><td>BB8</td></tr><tr><td>Captain Phasma</td></tr></tbody></table></div>"
      ]
     },
     "metadata": {
      "application/vnd.databricks.v1+output": {
       "addedWidgets": {},
       "aggData": [],
       "aggError": "",
       "aggOverflow": false,
       "aggSchema": [],
       "aggSeriesLimitReached": false,
       "aggType": "",
       "arguments": {},
       "columnCustomDisplayInfos": {},
       "data": [
        [
         "Darth Vader"
        ],
        [
         "R5-D4"
        ],
        [
         "Anakin Skywalker"
        ],
        [
         "Jek Tono Porkins"
        ],
        [
         "Boba Fett"
        ],
        [
         "Arvel Crynyd"
        ],
        [
         "Nien Nunb"
        ],
        [
         "Nute Gunray"
        ],
        [
         "Roos Tarpals"
        ],
        [
         "Rugor Nass"
        ],
        [
         "Ric Olié"
        ],
        [
         "Watto"
        ],
        [
         "Sebulba"
        ],
        [
         "Bib Fortuna"
        ],
        [
         "Ratts Tyerel"
        ],
        [
         "Dud Bolt"
        ],
        [
         "Gasgano"
        ],
        [
         "Ben Quadinaros"
        ],
        [
         "Kit Fisto"
        ],
        [
         "Eeth Koth"
        ],
        [
         "Adi Gallia"
        ],
        [
         "Saesee Tiin"
        ],
        [
         "Yarael Poof"
        ],
        [
         "Mas Amedda"
        ],
        [
         "Gregar Typho"
        ],
        [
         "Cordé"
        ],
        [
         "Poggle the Lesser"
        ],
        [
         "Dormé"
        ],
        [
         "Zam Wesell"
        ],
        [
         "Dexter Jettster"
        ],
        [
         "Lama Su"
        ],
        [
         "Taun We"
        ],
        [
         "Jocasta Nu"
        ],
        [
         "R4-P17"
        ],
        [
         "Wat Tambor"
        ],
        [
         "San Hill"
        ],
        [
         "Shaak Ti"
        ],
        [
         "Grievous"
        ],
        [
         "Tarfful"
        ],
        [
         "Raymus Antilles"
        ],
        [
         "Sly Moore"
        ],
        [
         "Tion Medon"
        ],
        [
         "Finn"
        ],
        [
         "Rey"
        ],
        [
         "Poe Dameron"
        ],
        [
         "BB8"
        ],
        [
         "Captain Phasma"
        ]
       ],
       "datasetInfos": [],
       "dbfsResultPath": null,
       "isJsonSchema": true,
       "metadata": {},
       "overflow": false,
       "plotOptions": {
        "customPlotOptions": {},
        "displayType": "table",
        "pivotAggregation": null,
        "pivotColumns": null,
        "xColumns": null,
        "yColumns": null
       },
       "removedWidgets": [],
       "schema": [
        {
         "metadata": "{}",
         "name": "NAME",
         "type": "\"string\""
        }
       ],
       "type": "table"
      }
     },
     "output_type": "display_data"
    }
   ],
   "source": [
    "%sql\n",
    "/*Find characters who have missing values in any column.*/\n",
    "SELECT NAME FROM STARWARS_CSV WHERE BIRTH_YEAR IS NULL\n"
   ]
  },
  {
   "cell_type": "code",
   "execution_count": 0,
   "metadata": {
    "application/vnd.databricks.v1+cell": {
     "cellMetadata": {
      "byteLimit": 2048000,
      "implicitDf": true,
      "rowLimit": 10000
     },
     "inputWidgets": {},
     "nuid": "b83ccc1d-fb77-4d37-8fc6-9887842092e6",
     "showTitle": false,
     "tableResultSettingsMap": {},
     "title": ""
    }
   },
   "outputs": [
    {
     "output_type": "display_data",
     "data": {
      "text/html": [
       "<style scoped>\n",
       "  .table-result-container {\n",
       "    max-height: 300px;\n",
       "    overflow: auto;\n",
       "  }\n",
       "  table, th, td {\n",
       "    border: 1px solid black;\n",
       "    border-collapse: collapse;\n",
       "  }\n",
       "  th, td {\n",
       "    padding: 5px;\n",
       "  }\n",
       "  th {\n",
       "    text-align: left;\n",
       "  }\n",
       "</style><div class='table-result-container'><table class='table-result'><thead style='background-color: white'><tr><th>HOMEWORLD</th><th>HEIGHT_AVG</th><th>RANK</th></tr></thead><tbody><tr><td>Quermia</td><td>264.0</td><td>1</td></tr></tbody></table></div>"
      ]
     },
     "metadata": {
      "application/vnd.databricks.v1+output": {
       "addedWidgets": {},
       "aggData": [],
       "aggError": "",
       "aggOverflow": false,
       "aggSchema": [],
       "aggSeriesLimitReached": false,
       "aggType": "",
       "arguments": {},
       "columnCustomDisplayInfos": {},
       "data": [
        [
         "Quermia",
         264.0,
         1
        ]
       ],
       "datasetInfos": [],
       "dbfsResultPath": null,
       "isJsonSchema": true,
       "metadata": {},
       "overflow": false,
       "plotOptions": {
        "customPlotOptions": {},
        "displayType": "table",
        "pivotAggregation": null,
        "pivotColumns": null,
        "xColumns": null,
        "yColumns": null
       },
       "removedWidgets": [],
       "schema": [
        {
         "metadata": "{}",
         "name": "HOMEWORLD",
         "type": "\"string\""
        },
        {
         "metadata": "{}",
         "name": "HEIGHT_AVG",
         "type": "\"double\""
        },
        {
         "metadata": "{}",
         "name": "RANK",
         "type": "\"integer\""
        }
       ],
       "type": "table"
      }
     },
     "output_type": "display_data"
    }
   ],
   "source": [
    "%sql\n",
    "/*Determine the homeworld with the highest average character height using grouping. */\n",
    "with cte as \n",
    "(SELECT\n",
    "HOMEWORLD,\n",
    "round(AVG(HEIGHT),2)AS HEIGHT_AVG,\n",
    "dense_rank() over (ORDER BY AVG(HEIGHT) DESC) as RANK\n",
    "FROM STARWARS_CSV \n",
    "GROUP BY HOMEWORLD)\n",
    "\n",
    "SELECT * FROM CTE WHERE RANK=1"
   ]
  },
  {
   "cell_type": "markdown",
   "metadata": {
    "application/vnd.databricks.v1+cell": {
     "cellMetadata": {
      "byteLimit": 2048000,
      "rowLimit": 10000
     },
     "inputWidgets": {},
     "nuid": "7f2feb41-f37a-45b6-8146-2e67632bcc02",
     "showTitle": false,
     "tableResultSettingsMap": {},
     "title": ""
    }
   },
   "source": [
    "**PySpark** **Code**"
   ]
  },
  {
   "cell_type": "code",
   "execution_count": 0,
   "metadata": {
    "application/vnd.databricks.v1+cell": {
     "cellMetadata": {
      "byteLimit": 2048000,
      "rowLimit": 10000
     },
     "inputWidgets": {},
     "nuid": "b3197a0b-ac8f-4d68-92da-975caac1c788",
     "showTitle": false,
     "tableResultSettingsMap": {},
     "title": ""
    }
   },
   "outputs": [],
   "source": [
    "from pyspark.sql import *\n",
    "from pyspark.sql import functions as F\n",
    "from pyspark.sql.functions import *\n",
    "from pyspark.sql.window import *"
   ]
  },
  {
   "cell_type": "code",
   "execution_count": 0,
   "metadata": {
    "application/vnd.databricks.v1+cell": {
     "cellMetadata": {
      "byteLimit": 2048000,
      "rowLimit": 10000
     },
     "inputWidgets": {},
     "nuid": "6398d659-9be6-4ca3-af73-f94859ad5414",
     "showTitle": false,
     "tableResultSettingsMap": {},
     "title": ""
    }
   },
   "outputs": [
    {
     "output_type": "stream",
     "name": "stdout",
     "output_type": "stream",
     "text": [
      "87\n"
     ]
    }
   ],
   "source": [
    "#Load the dataset into a PySpark DataFrame and count the total number of rows.\n",
    "\n",
    "s1 = df.count()\n",
    "print(s1)"
   ]
  },
  {
   "cell_type": "code",
   "execution_count": 0,
   "metadata": {
    "application/vnd.databricks.v1+cell": {
     "cellMetadata": {
      "byteLimit": 2048000,
      "rowLimit": 10000
     },
     "inputWidgets": {},
     "nuid": "21003ff9-6038-444d-9db6-4356f7bbad7e",
     "showTitle": false,
     "tableResultSettingsMap": {},
     "title": ""
    }
   },
   "outputs": [
    {
     "output_type": "display_data",
     "data": {
      "text/html": [
       "<style scoped>\n",
       "  .table-result-container {\n",
       "    max-height: 300px;\n",
       "    overflow: auto;\n",
       "  }\n",
       "  table, th, td {\n",
       "    border: 1px solid black;\n",
       "    border-collapse: collapse;\n",
       "  }\n",
       "  th, td {\n",
       "    padding: 5px;\n",
       "  }\n",
       "  th {\n",
       "    text-align: left;\n",
       "  }\n",
       "</style><div class='table-result-container'><table class='table-result'><thead style='background-color: white'><tr><th>species</th></tr></thead><tbody><tr><td>Clawdite</td></tr><tr><td>Sullustan</td></tr><tr><td>Besalisk</td></tr><tr><td>Ewok</td></tr><tr><td>Dug</td></tr><tr><td>NA</td></tr><tr><td>Yoda's species</td></tr><tr><td>Mirialan</td></tr><tr><td>Skakoan</td></tr><tr><td>Pau'an</td></tr><tr><td>Toong</td></tr><tr><td>Tholothian</td></tr><tr><td>Rodian</td></tr><tr><td>Chagrian</td></tr><tr><td>Togruta</td></tr><tr><td>Xexto</td></tr><tr><td>Kel Dor</td></tr><tr><td>Neimodian</td></tr><tr><td>Zabrak</td></tr><tr><td>Kaleesh</td></tr><tr><td>Mon Calamari</td></tr><tr><td>Twi'lek</td></tr><tr><td>Cerean</td></tr><tr><td>Geonosian</td></tr><tr><td>Wookiee</td></tr><tr><td>Iktotchi</td></tr><tr><td>Trandoshan</td></tr><tr><td>Aleena</td></tr><tr><td>Muun</td></tr><tr><td>Nautolan</td></tr><tr><td>Gungan</td></tr><tr><td>Droid</td></tr><tr><td>Kaminoan</td></tr><tr><td>Quermian</td></tr><tr><td>Hutt</td></tr><tr><td>Toydarian</td></tr><tr><td>Vulptereen</td></tr><tr><td>Human</td></tr></tbody></table></div>"
      ]
     },
     "metadata": {
      "application/vnd.databricks.v1+output": {
       "addedWidgets": {},
       "aggData": [],
       "aggError": "",
       "aggOverflow": false,
       "aggSchema": [],
       "aggSeriesLimitReached": false,
       "aggType": "",
       "arguments": {},
       "columnCustomDisplayInfos": {},
       "data": [
        [
         "Clawdite"
        ],
        [
         "Sullustan"
        ],
        [
         "Besalisk"
        ],
        [
         "Ewok"
        ],
        [
         "Dug"
        ],
        [
         "NA"
        ],
        [
         "Yoda's species"
        ],
        [
         "Mirialan"
        ],
        [
         "Skakoan"
        ],
        [
         "Pau'an"
        ],
        [
         "Toong"
        ],
        [
         "Tholothian"
        ],
        [
         "Rodian"
        ],
        [
         "Chagrian"
        ],
        [
         "Togruta"
        ],
        [
         "Xexto"
        ],
        [
         "Kel Dor"
        ],
        [
         "Neimodian"
        ],
        [
         "Zabrak"
        ],
        [
         "Kaleesh"
        ],
        [
         "Mon Calamari"
        ],
        [
         "Twi'lek"
        ],
        [
         "Cerean"
        ],
        [
         "Geonosian"
        ],
        [
         "Wookiee"
        ],
        [
         "Iktotchi"
        ],
        [
         "Trandoshan"
        ],
        [
         "Aleena"
        ],
        [
         "Muun"
        ],
        [
         "Nautolan"
        ],
        [
         "Gungan"
        ],
        [
         "Droid"
        ],
        [
         "Kaminoan"
        ],
        [
         "Quermian"
        ],
        [
         "Hutt"
        ],
        [
         "Toydarian"
        ],
        [
         "Vulptereen"
        ],
        [
         "Human"
        ]
       ],
       "datasetInfos": [],
       "dbfsResultPath": null,
       "isJsonSchema": true,
       "metadata": {},
       "overflow": false,
       "plotOptions": {
        "customPlotOptions": {},
        "displayType": "table",
        "pivotAggregation": null,
        "pivotColumns": null,
        "xColumns": null,
        "yColumns": null
       },
       "removedWidgets": [],
       "schema": [
        {
         "metadata": "{}",
         "name": "species",
         "type": "\"string\""
        }
       ],
       "type": "table"
      }
     },
     "output_type": "display_data"
    }
   ],
   "source": [
    "#Display only the distinct species in the dataset.\n",
    "s2 = df.select(col('species')).distinct().display()"
   ]
  },
  {
   "cell_type": "code",
   "execution_count": 0,
   "metadata": {
    "application/vnd.databricks.v1+cell": {
     "cellMetadata": {
      "byteLimit": 2048000,
      "rowLimit": 10000
     },
     "collapsed": true,
     "inputWidgets": {},
     "nuid": "740856c4-02b7-4462-9bdb-c4f4c0f2414e",
     "showTitle": false,
     "tableResultSettingsMap": {},
     "title": ""
    }
   },
   "outputs": [
    {
     "output_type": "display_data",
     "data": {
      "text/html": [
       "<style scoped>\n",
       "  .table-result-container {\n",
       "    max-height: 300px;\n",
       "    overflow: auto;\n",
       "  }\n",
       "  table, th, td {\n",
       "    border: 1px solid black;\n",
       "    border-collapse: collapse;\n",
       "  }\n",
       "  th, td {\n",
       "    padding: 5px;\n",
       "  }\n",
       "  th {\n",
       "    text-align: left;\n",
       "  }\n",
       "</style><div class='table-result-container'><table class='table-result'><thead style='background-color: white'><tr><th>name</th><th>height</th><th>mass</th><th>hair_color</th><th>skin_color</th><th>eye_color</th><th>birth_year</th><th>sex</th><th>gender</th><th>homeworld</th><th>species</th><th>films</th><th>vehicles</th><th>starships</th><th>Height in m</th></tr></thead><tbody><tr><td>Luke Skywalker</td><td>172</td><td>77</td><td>blond</td><td>fair</td><td>blue</td><td>19</td><td>male</td><td>masculine</td><td>Tatooine</td><td>Human</td><td>A New Hope, The Empire Strikes Back, Return of the Jedi, Revenge of the Sith, The Force Awakens</td><td>Snowspeeder, Imperial Speeder Bike</td><td>X-wing, Imperial shuttle</td><td>1.72</td></tr><tr><td>C-3PO</td><td>167</td><td>75</td><td>NA</td><td>gold</td><td>yellow</td><td>112</td><td>none</td><td>masculine</td><td>Tatooine</td><td>Droid</td><td>A New Hope, The Empire Strikes Back, Return of the Jedi, The Phantom Menace, Attack of the Clones, Revenge of the Sith</td><td>null</td><td>null</td><td>1.67</td></tr><tr><td>R2-D2</td><td>96</td><td>32</td><td>NA</td><td>white, blue</td><td>red</td><td>33</td><td>none</td><td>masculine</td><td>Naboo</td><td>Droid</td><td>A New Hope, The Empire Strikes Back, Return of the Jedi, The Phantom Menace, Attack of the Clones, Revenge of the Sith, The Force Awakens</td><td>null</td><td>null</td><td>0.96</td></tr><tr><td>Darth Vader</td><td>202</td><td>136</td><td>none</td><td>white</td><td>yellow</td><td>null</td><td>male</td><td>masculine</td><td>Tatooine</td><td>Human</td><td>A New Hope, The Empire Strikes Back, Return of the Jedi, Revenge of the Sith</td><td>null</td><td>TIE Advanced x1</td><td>2.02</td></tr><tr><td>Leia Organa</td><td>150</td><td>49</td><td>brown</td><td>light</td><td>brown</td><td>19</td><td>female</td><td>feminine</td><td>Alderaan</td><td>Human</td><td>A New Hope, The Empire Strikes Back, Return of the Jedi, Revenge of the Sith, The Force Awakens</td><td>Imperial Speeder Bike</td><td>null</td><td>1.5</td></tr><tr><td>Owen Lars</td><td>178</td><td>120</td><td>brown, grey</td><td>light</td><td>blue</td><td>52</td><td>male</td><td>masculine</td><td>Tatooine</td><td>Human</td><td>A New Hope, Attack of the Clones, Revenge of the Sith</td><td>null</td><td>null</td><td>1.78</td></tr><tr><td>Beru Whitesun Lars</td><td>165</td><td>75</td><td>brown</td><td>light</td><td>blue</td><td>47</td><td>female</td><td>feminine</td><td>Tatooine</td><td>Human</td><td>A New Hope, Attack of the Clones, Revenge of the Sith</td><td>null</td><td>null</td><td>1.65</td></tr><tr><td>R5-D4</td><td>97</td><td>32</td><td>NA</td><td>white, red</td><td>red</td><td>null</td><td>none</td><td>masculine</td><td>Tatooine</td><td>Droid</td><td>A New Hope</td><td>null</td><td>null</td><td>0.97</td></tr><tr><td>Biggs Darklighter</td><td>183</td><td>84</td><td>black</td><td>light</td><td>brown</td><td>24</td><td>male</td><td>masculine</td><td>Tatooine</td><td>Human</td><td>A New Hope</td><td>null</td><td>X-wing</td><td>1.83</td></tr><tr><td>Obi-Wan Kenobi</td><td>182</td><td>77</td><td>auburn, white</td><td>fair</td><td>blue-gray</td><td>57</td><td>male</td><td>masculine</td><td>Stewjon</td><td>Human</td><td>A New Hope, The Empire Strikes Back, Return of the Jedi, The Phantom Menace, Attack of the Clones, Revenge of the Sith</td><td>Tribubble bongo</td><td>Jedi starfighter, Trade Federation cruiser, Naboo star skiff, Jedi Interceptor, Belbullab-22 starfighter</td><td>1.82</td></tr><tr><td>Anakin Skywalker</td><td>188</td><td>84</td><td>blond</td><td>fair</td><td>blue</td><td>null</td><td>male</td><td>masculine</td><td>Tatooine</td><td>Human</td><td>The Phantom Menace, Attack of the Clones, Revenge of the Sith</td><td>Zephyr-G swoop bike, XJ-6 airspeeder</td><td>Naboo fighter, Trade Federation cruiser, Jedi Interceptor</td><td>1.88</td></tr><tr><td>Wilhuff Tarkin</td><td>180</td><td>null</td><td>auburn, grey</td><td>fair</td><td>blue</td><td>64</td><td>male</td><td>masculine</td><td>Eriadu</td><td>Human</td><td>A New Hope, Revenge of the Sith</td><td>null</td><td>null</td><td>1.8</td></tr><tr><td>Chewbacca</td><td>228</td><td>112</td><td>brown</td><td>unknown</td><td>blue</td><td>200</td><td>male</td><td>masculine</td><td>Kashyyyk</td><td>Wookiee</td><td>A New Hope, The Empire Strikes Back, Return of the Jedi, Revenge of the Sith, The Force Awakens</td><td>AT-ST</td><td>Millennium Falcon, Imperial shuttle</td><td>2.28</td></tr><tr><td>Han Solo</td><td>180</td><td>80</td><td>brown</td><td>fair</td><td>brown</td><td>29</td><td>male</td><td>masculine</td><td>Corellia</td><td>Human</td><td>A New Hope, The Empire Strikes Back, Return of the Jedi, The Force Awakens</td><td>null</td><td>Millennium Falcon, Imperial shuttle</td><td>1.8</td></tr><tr><td>Greedo</td><td>173</td><td>74</td><td>NA</td><td>green</td><td>black</td><td>44</td><td>male</td><td>masculine</td><td>Rodia</td><td>Rodian</td><td>A New Hope</td><td>null</td><td>null</td><td>1.73</td></tr><tr><td>Jabba Desilijic Tiure</td><td>175</td><td>1358</td><td>NA</td><td>green-tan, brown</td><td>orange</td><td>600</td><td>hermaphroditic</td><td>masculine</td><td>Nal Hutta</td><td>Hutt</td><td>A New Hope, Return of the Jedi, The Phantom Menace</td><td>null</td><td>null</td><td>1.75</td></tr><tr><td>Wedge Antilles</td><td>170</td><td>77</td><td>brown</td><td>fair</td><td>hazel</td><td>21</td><td>male</td><td>masculine</td><td>Corellia</td><td>Human</td><td>A New Hope, The Empire Strikes Back, Return of the Jedi</td><td>Snowspeeder</td><td>X-wing</td><td>1.7</td></tr><tr><td>Jek Tono Porkins</td><td>180</td><td>110</td><td>brown</td><td>fair</td><td>blue</td><td>null</td><td>NA</td><td>NA</td><td>Bestine IV</td><td>NA</td><td>A New Hope</td><td>null</td><td>X-wing</td><td>1.8</td></tr><tr><td>Yoda</td><td>66</td><td>17</td><td>white</td><td>green</td><td>brown</td><td>896</td><td>male</td><td>masculine</td><td>NA</td><td>Yoda's species</td><td>The Empire Strikes Back, Return of the Jedi, The Phantom Menace, Attack of the Clones, Revenge of the Sith</td><td>null</td><td>null</td><td>0.66</td></tr><tr><td>Palpatine</td><td>170</td><td>75</td><td>grey</td><td>pale</td><td>yellow</td><td>82</td><td>male</td><td>masculine</td><td>Naboo</td><td>Human</td><td>The Empire Strikes Back, Return of the Jedi, The Phantom Menace, Attack of the Clones, Revenge of the Sith</td><td>null</td><td>null</td><td>1.7</td></tr><tr><td>Boba Fett</td><td>183</td><td>null</td><td>black</td><td>fair</td><td>brown</td><td>null</td><td>male</td><td>masculine</td><td>Kamino</td><td>Human</td><td>The Empire Strikes Back, Return of the Jedi, Attack of the Clones</td><td>null</td><td>Slave 1</td><td>1.83</td></tr><tr><td>IG-88</td><td>200</td><td>140</td><td>none</td><td>metal</td><td>red</td><td>15</td><td>none</td><td>masculine</td><td>NA</td><td>Droid</td><td>The Empire Strikes Back</td><td>null</td><td>null</td><td>2.0</td></tr><tr><td>Bossk</td><td>190</td><td>113</td><td>none</td><td>green</td><td>red</td><td>53</td><td>male</td><td>masculine</td><td>Trandosha</td><td>Trandoshan</td><td>The Empire Strikes Back</td><td>null</td><td>null</td><td>1.9</td></tr><tr><td>Lando Calrissian</td><td>177</td><td>79</td><td>black</td><td>dark</td><td>brown</td><td>31</td><td>male</td><td>masculine</td><td>Socorro</td><td>Human</td><td>The Empire Strikes Back, Return of the Jedi</td><td>null</td><td>Millennium Falcon</td><td>1.77</td></tr><tr><td>Lobot</td><td>175</td><td>79</td><td>none</td><td>light</td><td>blue</td><td>37</td><td>male</td><td>masculine</td><td>Bespin</td><td>Human</td><td>The Empire Strikes Back</td><td>null</td><td>null</td><td>1.75</td></tr><tr><td>Ackbar</td><td>180</td><td>83</td><td>none</td><td>brown mottle</td><td>orange</td><td>41</td><td>male</td><td>masculine</td><td>Mon Cala</td><td>Mon Calamari</td><td>Return of the Jedi, The Force Awakens</td><td>null</td><td>null</td><td>1.8</td></tr><tr><td>Mon Mothma</td><td>150</td><td>null</td><td>auburn</td><td>fair</td><td>blue</td><td>48</td><td>female</td><td>feminine</td><td>Chandrila</td><td>Human</td><td>Return of the Jedi</td><td>null</td><td>null</td><td>1.5</td></tr><tr><td>Arvel Crynyd</td><td>null</td><td>null</td><td>brown</td><td>fair</td><td>brown</td><td>null</td><td>male</td><td>masculine</td><td>NA</td><td>Human</td><td>Return of the Jedi</td><td>null</td><td>A-wing</td><td>null</td></tr><tr><td>Wicket Systri Warrick</td><td>88</td><td>20</td><td>brown</td><td>brown</td><td>brown</td><td>8</td><td>male</td><td>masculine</td><td>Endor</td><td>Ewok</td><td>Return of the Jedi</td><td>null</td><td>null</td><td>0.88</td></tr><tr><td>Nien Nunb</td><td>160</td><td>68</td><td>none</td><td>grey</td><td>black</td><td>null</td><td>male</td><td>masculine</td><td>Sullust</td><td>Sullustan</td><td>Return of the Jedi</td><td>null</td><td>Millennium Falcon</td><td>1.6</td></tr><tr><td>Qui-Gon Jinn</td><td>193</td><td>89</td><td>brown</td><td>fair</td><td>blue</td><td>92</td><td>male</td><td>masculine</td><td>NA</td><td>Human</td><td>The Phantom Menace</td><td>Tribubble bongo</td><td>null</td><td>1.93</td></tr><tr><td>Nute Gunray</td><td>191</td><td>90</td><td>none</td><td>mottled green</td><td>red</td><td>null</td><td>male</td><td>masculine</td><td>Cato Neimoidia</td><td>Neimodian</td><td>The Phantom Menace, Attack of the Clones, Revenge of the Sith</td><td>null</td><td>null</td><td>1.91</td></tr><tr><td>Finis Valorum</td><td>170</td><td>null</td><td>blond</td><td>fair</td><td>blue</td><td>91</td><td>male</td><td>masculine</td><td>Coruscant</td><td>Human</td><td>The Phantom Menace</td><td>null</td><td>null</td><td>1.7</td></tr><tr><td>Padmé Amidala</td><td>185</td><td>45</td><td>brown</td><td>light</td><td>brown</td><td>46</td><td>female</td><td>feminine</td><td>Naboo</td><td>Human</td><td>The Phantom Menace, Attack of the Clones, Revenge of the Sith</td><td>null</td><td>Naboo fighter, H-type Nubian yacht, Naboo star skiff</td><td>1.85</td></tr><tr><td>Jar Jar Binks</td><td>196</td><td>66</td><td>none</td><td>orange</td><td>orange</td><td>52</td><td>male</td><td>masculine</td><td>Naboo</td><td>Gungan</td><td>The Phantom Menace, Attack of the Clones</td><td>null</td><td>null</td><td>1.96</td></tr><tr><td>Roos Tarpals</td><td>224</td><td>82</td><td>none</td><td>grey</td><td>orange</td><td>null</td><td>male</td><td>masculine</td><td>Naboo</td><td>Gungan</td><td>The Phantom Menace</td><td>null</td><td>null</td><td>2.24</td></tr><tr><td>Rugor Nass</td><td>206</td><td>null</td><td>none</td><td>green</td><td>orange</td><td>null</td><td>male</td><td>masculine</td><td>Naboo</td><td>Gungan</td><td>The Phantom Menace</td><td>null</td><td>null</td><td>2.06</td></tr><tr><td>Ric Olié</td><td>183</td><td>null</td><td>brown</td><td>fair</td><td>blue</td><td>null</td><td>male</td><td>masculine</td><td>Naboo</td><td>Human</td><td>The Phantom Menace</td><td>null</td><td>Naboo Royal Starship</td><td>1.83</td></tr><tr><td>Watto</td><td>137</td><td>null</td><td>black</td><td>blue, grey</td><td>yellow</td><td>null</td><td>male</td><td>masculine</td><td>Toydaria</td><td>Toydarian</td><td>The Phantom Menace, Attack of the Clones</td><td>null</td><td>null</td><td>1.37</td></tr><tr><td>Sebulba</td><td>112</td><td>40</td><td>none</td><td>grey, red</td><td>orange</td><td>null</td><td>male</td><td>masculine</td><td>Malastare</td><td>Dug</td><td>The Phantom Menace</td><td>null</td><td>null</td><td>1.12</td></tr><tr><td>Quarsh Panaka</td><td>183</td><td>null</td><td>black</td><td>dark</td><td>brown</td><td>62</td><td>male</td><td>masculine</td><td>Naboo</td><td>Human</td><td>The Phantom Menace</td><td>null</td><td>null</td><td>1.83</td></tr><tr><td>Shmi Skywalker</td><td>163</td><td>null</td><td>black</td><td>fair</td><td>brown</td><td>72</td><td>female</td><td>feminine</td><td>Tatooine</td><td>Human</td><td>The Phantom Menace, Attack of the Clones</td><td>null</td><td>null</td><td>1.63</td></tr><tr><td>Darth Maul</td><td>175</td><td>80</td><td>none</td><td>red</td><td>yellow</td><td>54</td><td>male</td><td>masculine</td><td>Dathomir</td><td>Zabrak</td><td>The Phantom Menace</td><td>Sith speeder</td><td>Scimitar</td><td>1.75</td></tr><tr><td>Bib Fortuna</td><td>180</td><td>null</td><td>none</td><td>pale</td><td>pink</td><td>null</td><td>male</td><td>masculine</td><td>Ryloth</td><td>Twi'lek</td><td>Return of the Jedi</td><td>null</td><td>null</td><td>1.8</td></tr><tr><td>Ayla Secura</td><td>178</td><td>55</td><td>none</td><td>blue</td><td>hazel</td><td>48</td><td>female</td><td>feminine</td><td>Ryloth</td><td>Twi'lek</td><td>The Phantom Menace, Attack of the Clones, Revenge of the Sith</td><td>null</td><td>null</td><td>1.78</td></tr><tr><td>Ratts Tyerel</td><td>79</td><td>15</td><td>none</td><td>grey, blue</td><td>unknown</td><td>null</td><td>male</td><td>masculine</td><td>Aleen Minor</td><td>Aleena</td><td>The Phantom Menace</td><td>null</td><td>null</td><td>0.79</td></tr><tr><td>Dud Bolt</td><td>94</td><td>45</td><td>none</td><td>blue, grey</td><td>yellow</td><td>null</td><td>male</td><td>masculine</td><td>Vulpter</td><td>Vulptereen</td><td>The Phantom Menace</td><td>null</td><td>null</td><td>0.94</td></tr><tr><td>Gasgano</td><td>122</td><td>null</td><td>none</td><td>white, blue</td><td>black</td><td>null</td><td>male</td><td>masculine</td><td>Troiken</td><td>Xexto</td><td>The Phantom Menace</td><td>null</td><td>null</td><td>1.22</td></tr><tr><td>Ben Quadinaros</td><td>163</td><td>65</td><td>none</td><td>grey, green, yellow</td><td>orange</td><td>null</td><td>male</td><td>masculine</td><td>Tund</td><td>Toong</td><td>The Phantom Menace</td><td>null</td><td>null</td><td>1.63</td></tr><tr><td>Mace Windu</td><td>188</td><td>84</td><td>none</td><td>dark</td><td>brown</td><td>72</td><td>male</td><td>masculine</td><td>Haruun Kal</td><td>Human</td><td>The Phantom Menace, Attack of the Clones, Revenge of the Sith</td><td>null</td><td>null</td><td>1.88</td></tr><tr><td>Ki-Adi-Mundi</td><td>198</td><td>82</td><td>white</td><td>pale</td><td>yellow</td><td>92</td><td>male</td><td>masculine</td><td>Cerea</td><td>Cerean</td><td>The Phantom Menace, Attack of the Clones, Revenge of the Sith</td><td>null</td><td>null</td><td>1.98</td></tr><tr><td>Kit Fisto</td><td>196</td><td>87</td><td>none</td><td>green</td><td>black</td><td>null</td><td>male</td><td>masculine</td><td>Glee Anselm</td><td>Nautolan</td><td>The Phantom Menace, Attack of the Clones, Revenge of the Sith</td><td>null</td><td>null</td><td>1.96</td></tr><tr><td>Eeth Koth</td><td>171</td><td>null</td><td>black</td><td>brown</td><td>brown</td><td>null</td><td>male</td><td>masculine</td><td>Iridonia</td><td>Zabrak</td><td>The Phantom Menace, Revenge of the Sith</td><td>null</td><td>null</td><td>1.71</td></tr><tr><td>Adi Gallia</td><td>184</td><td>50</td><td>none</td><td>dark</td><td>blue</td><td>null</td><td>female</td><td>feminine</td><td>Coruscant</td><td>Tholothian</td><td>The Phantom Menace, Revenge of the Sith</td><td>null</td><td>null</td><td>1.84</td></tr><tr><td>Saesee Tiin</td><td>188</td><td>null</td><td>none</td><td>pale</td><td>orange</td><td>null</td><td>male</td><td>masculine</td><td>Iktotch</td><td>Iktotchi</td><td>The Phantom Menace, Revenge of the Sith</td><td>null</td><td>null</td><td>1.88</td></tr><tr><td>Yarael Poof</td><td>264</td><td>null</td><td>none</td><td>white</td><td>yellow</td><td>null</td><td>male</td><td>masculine</td><td>Quermia</td><td>Quermian</td><td>The Phantom Menace</td><td>null</td><td>null</td><td>2.64</td></tr><tr><td>Plo Koon</td><td>188</td><td>80</td><td>none</td><td>orange</td><td>black</td><td>22</td><td>male</td><td>masculine</td><td>Dorin</td><td>Kel Dor</td><td>The Phantom Menace, Attack of the Clones, Revenge of the Sith</td><td>null</td><td>Jedi starfighter</td><td>1.88</td></tr><tr><td>Mas Amedda</td><td>196</td><td>null</td><td>none</td><td>blue</td><td>blue</td><td>null</td><td>male</td><td>masculine</td><td>Champala</td><td>Chagrian</td><td>The Phantom Menace, Attack of the Clones</td><td>null</td><td>null</td><td>1.96</td></tr><tr><td>Gregar Typho</td><td>185</td><td>85</td><td>black</td><td>dark</td><td>brown</td><td>null</td><td>NA</td><td>NA</td><td>Naboo</td><td>NA</td><td>Attack of the Clones</td><td>null</td><td>Naboo fighter</td><td>1.85</td></tr><tr><td>Cordé</td><td>157</td><td>null</td><td>brown</td><td>light</td><td>brown</td><td>null</td><td>NA</td><td>NA</td><td>Naboo</td><td>NA</td><td>Attack of the Clones</td><td>null</td><td>null</td><td>1.57</td></tr><tr><td>Cliegg Lars</td><td>183</td><td>null</td><td>brown</td><td>fair</td><td>blue</td><td>82</td><td>male</td><td>masculine</td><td>Tatooine</td><td>Human</td><td>Attack of the Clones</td><td>null</td><td>null</td><td>1.83</td></tr><tr><td>Poggle the Lesser</td><td>183</td><td>80</td><td>none</td><td>green</td><td>yellow</td><td>null</td><td>male</td><td>masculine</td><td>Geonosis</td><td>Geonosian</td><td>Attack of the Clones, Revenge of the Sith</td><td>null</td><td>null</td><td>1.83</td></tr><tr><td>Luminara Unduli</td><td>170</td><td>null</td><td>black</td><td>yellow</td><td>blue</td><td>58</td><td>female</td><td>feminine</td><td>Mirial</td><td>Mirialan</td><td>Attack of the Clones, Revenge of the Sith</td><td>null</td><td>null</td><td>1.7</td></tr><tr><td>Barriss Offee</td><td>166</td><td>50</td><td>black</td><td>yellow</td><td>blue</td><td>40</td><td>female</td><td>feminine</td><td>Mirial</td><td>Mirialan</td><td>Attack of the Clones</td><td>null</td><td>null</td><td>1.66</td></tr><tr><td>Dormé</td><td>165</td><td>null</td><td>brown</td><td>light</td><td>brown</td><td>null</td><td>female</td><td>feminine</td><td>Naboo</td><td>Human</td><td>Attack of the Clones</td><td>null</td><td>null</td><td>1.65</td></tr><tr><td>Dooku</td><td>193</td><td>80</td><td>white</td><td>fair</td><td>brown</td><td>102</td><td>male</td><td>masculine</td><td>Serenno</td><td>Human</td><td>Attack of the Clones, Revenge of the Sith</td><td>Flitknot speeder</td><td>null</td><td>1.93</td></tr><tr><td>Bail Prestor Organa</td><td>191</td><td>null</td><td>black</td><td>tan</td><td>brown</td><td>67</td><td>male</td><td>masculine</td><td>Alderaan</td><td>Human</td><td>Attack of the Clones, Revenge of the Sith</td><td>null</td><td>null</td><td>1.91</td></tr><tr><td>Jango Fett</td><td>183</td><td>79</td><td>black</td><td>tan</td><td>brown</td><td>66</td><td>male</td><td>masculine</td><td>Concord Dawn</td><td>Human</td><td>Attack of the Clones</td><td>null</td><td>null</td><td>1.83</td></tr><tr><td>Zam Wesell</td><td>168</td><td>55</td><td>blonde</td><td>fair, green, yellow</td><td>yellow</td><td>null</td><td>female</td><td>feminine</td><td>Zolan</td><td>Clawdite</td><td>Attack of the Clones</td><td>Koro-2 Exodrive airspeeder</td><td>null</td><td>1.68</td></tr><tr><td>Dexter Jettster</td><td>198</td><td>102</td><td>none</td><td>brown</td><td>yellow</td><td>null</td><td>male</td><td>masculine</td><td>Ojom</td><td>Besalisk</td><td>Attack of the Clones</td><td>null</td><td>null</td><td>1.98</td></tr><tr><td>Lama Su</td><td>229</td><td>88</td><td>none</td><td>grey</td><td>black</td><td>null</td><td>male</td><td>masculine</td><td>Kamino</td><td>Kaminoan</td><td>Attack of the Clones</td><td>null</td><td>null</td><td>2.29</td></tr><tr><td>Taun We</td><td>213</td><td>null</td><td>none</td><td>grey</td><td>black</td><td>null</td><td>female</td><td>feminine</td><td>Kamino</td><td>Kaminoan</td><td>Attack of the Clones</td><td>null</td><td>null</td><td>2.13</td></tr><tr><td>Jocasta Nu</td><td>167</td><td>null</td><td>white</td><td>fair</td><td>blue</td><td>null</td><td>female</td><td>feminine</td><td>Coruscant</td><td>Human</td><td>Attack of the Clones</td><td>null</td><td>null</td><td>1.67</td></tr><tr><td>R4-P17</td><td>96</td><td>null</td><td>none</td><td>silver, red</td><td>red, blue</td><td>null</td><td>none</td><td>feminine</td><td>NA</td><td>Droid</td><td>Attack of the Clones, Revenge of the Sith</td><td>null</td><td>null</td><td>0.96</td></tr><tr><td>Wat Tambor</td><td>193</td><td>48</td><td>none</td><td>green, grey</td><td>unknown</td><td>null</td><td>male</td><td>masculine</td><td>Skako</td><td>Skakoan</td><td>Attack of the Clones</td><td>null</td><td>null</td><td>1.93</td></tr><tr><td>San Hill</td><td>191</td><td>null</td><td>none</td><td>grey</td><td>gold</td><td>null</td><td>male</td><td>masculine</td><td>Muunilinst</td><td>Muun</td><td>Attack of the Clones</td><td>null</td><td>null</td><td>1.91</td></tr><tr><td>Shaak Ti</td><td>178</td><td>57</td><td>none</td><td>red, blue, white</td><td>black</td><td>null</td><td>female</td><td>feminine</td><td>Shili</td><td>Togruta</td><td>Attack of the Clones, Revenge of the Sith</td><td>null</td><td>null</td><td>1.78</td></tr><tr><td>Grievous</td><td>216</td><td>159</td><td>none</td><td>brown, white</td><td>green, yellow</td><td>null</td><td>male</td><td>masculine</td><td>Kalee</td><td>Kaleesh</td><td>Revenge of the Sith</td><td>Tsmeu-6 personal wheel bike</td><td>Belbullab-22 starfighter</td><td>2.16</td></tr><tr><td>Tarfful</td><td>234</td><td>136</td><td>brown</td><td>brown</td><td>blue</td><td>null</td><td>male</td><td>masculine</td><td>Kashyyyk</td><td>Wookiee</td><td>Revenge of the Sith</td><td>null</td><td>null</td><td>2.34</td></tr><tr><td>Raymus Antilles</td><td>188</td><td>79</td><td>brown</td><td>light</td><td>brown</td><td>null</td><td>male</td><td>masculine</td><td>Alderaan</td><td>Human</td><td>A New Hope, Revenge of the Sith</td><td>null</td><td>null</td><td>1.88</td></tr><tr><td>Sly Moore</td><td>178</td><td>48</td><td>none</td><td>pale</td><td>white</td><td>null</td><td>NA</td><td>NA</td><td>Umbara</td><td>NA</td><td>Attack of the Clones, Revenge of the Sith</td><td>null</td><td>null</td><td>1.78</td></tr><tr><td>Tion Medon</td><td>206</td><td>80</td><td>none</td><td>grey</td><td>black</td><td>null</td><td>male</td><td>masculine</td><td>Utapau</td><td>Pau'an</td><td>Revenge of the Sith</td><td>null</td><td>null</td><td>2.06</td></tr><tr><td>Finn</td><td>null</td><td>null</td><td>black</td><td>dark</td><td>dark</td><td>null</td><td>male</td><td>masculine</td><td>NA</td><td>Human</td><td>The Force Awakens</td><td>null</td><td>null</td><td>null</td></tr><tr><td>Rey</td><td>null</td><td>null</td><td>brown</td><td>light</td><td>hazel</td><td>null</td><td>female</td><td>feminine</td><td>NA</td><td>Human</td><td>The Force Awakens</td><td>null</td><td>null</td><td>null</td></tr><tr><td>Poe Dameron</td><td>null</td><td>null</td><td>brown</td><td>light</td><td>brown</td><td>null</td><td>male</td><td>masculine</td><td>NA</td><td>Human</td><td>The Force Awakens</td><td>null</td><td>X-wing</td><td>null</td></tr><tr><td>BB8</td><td>null</td><td>null</td><td>none</td><td>none</td><td>black</td><td>null</td><td>none</td><td>masculine</td><td>NA</td><td>Droid</td><td>The Force Awakens</td><td>null</td><td>null</td><td>null</td></tr><tr><td>Captain Phasma</td><td>null</td><td>null</td><td>none</td><td>none</td><td>unknown</td><td>null</td><td>female</td><td>feminine</td><td>NA</td><td>Human</td><td>The Force Awakens</td><td>null</td><td>null</td><td>null</td></tr></tbody></table></div>"
      ]
     },
     "metadata": {
      "application/vnd.databricks.v1+output": {
       "addedWidgets": {},
       "aggData": [],
       "aggError": "",
       "aggOverflow": false,
       "aggSchema": [],
       "aggSeriesLimitReached": false,
       "aggType": "",
       "arguments": {},
       "columnCustomDisplayInfos": {},
       "data": [
        [
         "Luke Skywalker",
         172,
         77,
         "blond",
         "fair",
         "blue",
         19,
         "male",
         "masculine",
         "Tatooine",
         "Human",
         "A New Hope, The Empire Strikes Back, Return of the Jedi, Revenge of the Sith, The Force Awakens",
         "Snowspeeder, Imperial Speeder Bike",
         "X-wing, Imperial shuttle",
         1.72
        ],
        [
         "C-3PO",
         167,
         75,
         "NA",
         "gold",
         "yellow",
         112,
         "none",
         "masculine",
         "Tatooine",
         "Droid",
         "A New Hope, The Empire Strikes Back, Return of the Jedi, The Phantom Menace, Attack of the Clones, Revenge of the Sith",
         null,
         null,
         1.67
        ],
        [
         "R2-D2",
         96,
         32,
         "NA",
         "white, blue",
         "red",
         33,
         "none",
         "masculine",
         "Naboo",
         "Droid",
         "A New Hope, The Empire Strikes Back, Return of the Jedi, The Phantom Menace, Attack of the Clones, Revenge of the Sith, The Force Awakens",
         null,
         null,
         0.96
        ],
        [
         "Darth Vader",
         202,
         136,
         "none",
         "white",
         "yellow",
         null,
         "male",
         "masculine",
         "Tatooine",
         "Human",
         "A New Hope, The Empire Strikes Back, Return of the Jedi, Revenge of the Sith",
         null,
         "TIE Advanced x1",
         2.02
        ],
        [
         "Leia Organa",
         150,
         49,
         "brown",
         "light",
         "brown",
         19,
         "female",
         "feminine",
         "Alderaan",
         "Human",
         "A New Hope, The Empire Strikes Back, Return of the Jedi, Revenge of the Sith, The Force Awakens",
         "Imperial Speeder Bike",
         null,
         1.5
        ],
        [
         "Owen Lars",
         178,
         120,
         "brown, grey",
         "light",
         "blue",
         52,
         "male",
         "masculine",
         "Tatooine",
         "Human",
         "A New Hope, Attack of the Clones, Revenge of the Sith",
         null,
         null,
         1.78
        ],
        [
         "Beru Whitesun Lars",
         165,
         75,
         "brown",
         "light",
         "blue",
         47,
         "female",
         "feminine",
         "Tatooine",
         "Human",
         "A New Hope, Attack of the Clones, Revenge of the Sith",
         null,
         null,
         1.65
        ],
        [
         "R5-D4",
         97,
         32,
         "NA",
         "white, red",
         "red",
         null,
         "none",
         "masculine",
         "Tatooine",
         "Droid",
         "A New Hope",
         null,
         null,
         0.97
        ],
        [
         "Biggs Darklighter",
         183,
         84,
         "black",
         "light",
         "brown",
         24,
         "male",
         "masculine",
         "Tatooine",
         "Human",
         "A New Hope",
         null,
         "X-wing",
         1.83
        ],
        [
         "Obi-Wan Kenobi",
         182,
         77,
         "auburn, white",
         "fair",
         "blue-gray",
         57,
         "male",
         "masculine",
         "Stewjon",
         "Human",
         "A New Hope, The Empire Strikes Back, Return of the Jedi, The Phantom Menace, Attack of the Clones, Revenge of the Sith",
         "Tribubble bongo",
         "Jedi starfighter, Trade Federation cruiser, Naboo star skiff, Jedi Interceptor, Belbullab-22 starfighter",
         1.82
        ],
        [
         "Anakin Skywalker",
         188,
         84,
         "blond",
         "fair",
         "blue",
         null,
         "male",
         "masculine",
         "Tatooine",
         "Human",
         "The Phantom Menace, Attack of the Clones, Revenge of the Sith",
         "Zephyr-G swoop bike, XJ-6 airspeeder",
         "Naboo fighter, Trade Federation cruiser, Jedi Interceptor",
         1.88
        ],
        [
         "Wilhuff Tarkin",
         180,
         null,
         "auburn, grey",
         "fair",
         "blue",
         64,
         "male",
         "masculine",
         "Eriadu",
         "Human",
         "A New Hope, Revenge of the Sith",
         null,
         null,
         1.8
        ],
        [
         "Chewbacca",
         228,
         112,
         "brown",
         "unknown",
         "blue",
         200,
         "male",
         "masculine",
         "Kashyyyk",
         "Wookiee",
         "A New Hope, The Empire Strikes Back, Return of the Jedi, Revenge of the Sith, The Force Awakens",
         "AT-ST",
         "Millennium Falcon, Imperial shuttle",
         2.28
        ],
        [
         "Han Solo",
         180,
         80,
         "brown",
         "fair",
         "brown",
         29,
         "male",
         "masculine",
         "Corellia",
         "Human",
         "A New Hope, The Empire Strikes Back, Return of the Jedi, The Force Awakens",
         null,
         "Millennium Falcon, Imperial shuttle",
         1.8
        ],
        [
         "Greedo",
         173,
         74,
         "NA",
         "green",
         "black",
         44,
         "male",
         "masculine",
         "Rodia",
         "Rodian",
         "A New Hope",
         null,
         null,
         1.73
        ],
        [
         "Jabba Desilijic Tiure",
         175,
         1358,
         "NA",
         "green-tan, brown",
         "orange",
         600,
         "hermaphroditic",
         "masculine",
         "Nal Hutta",
         "Hutt",
         "A New Hope, Return of the Jedi, The Phantom Menace",
         null,
         null,
         1.75
        ],
        [
         "Wedge Antilles",
         170,
         77,
         "brown",
         "fair",
         "hazel",
         21,
         "male",
         "masculine",
         "Corellia",
         "Human",
         "A New Hope, The Empire Strikes Back, Return of the Jedi",
         "Snowspeeder",
         "X-wing",
         1.7
        ],
        [
         "Jek Tono Porkins",
         180,
         110,
         "brown",
         "fair",
         "blue",
         null,
         "NA",
         "NA",
         "Bestine IV",
         "NA",
         "A New Hope",
         null,
         "X-wing",
         1.8
        ],
        [
         "Yoda",
         66,
         17,
         "white",
         "green",
         "brown",
         896,
         "male",
         "masculine",
         "NA",
         "Yoda's species",
         "The Empire Strikes Back, Return of the Jedi, The Phantom Menace, Attack of the Clones, Revenge of the Sith",
         null,
         null,
         0.66
        ],
        [
         "Palpatine",
         170,
         75,
         "grey",
         "pale",
         "yellow",
         82,
         "male",
         "masculine",
         "Naboo",
         "Human",
         "The Empire Strikes Back, Return of the Jedi, The Phantom Menace, Attack of the Clones, Revenge of the Sith",
         null,
         null,
         1.7
        ],
        [
         "Boba Fett",
         183,
         null,
         "black",
         "fair",
         "brown",
         null,
         "male",
         "masculine",
         "Kamino",
         "Human",
         "The Empire Strikes Back, Return of the Jedi, Attack of the Clones",
         null,
         "Slave 1",
         1.83
        ],
        [
         "IG-88",
         200,
         140,
         "none",
         "metal",
         "red",
         15,
         "none",
         "masculine",
         "NA",
         "Droid",
         "The Empire Strikes Back",
         null,
         null,
         2.0
        ],
        [
         "Bossk",
         190,
         113,
         "none",
         "green",
         "red",
         53,
         "male",
         "masculine",
         "Trandosha",
         "Trandoshan",
         "The Empire Strikes Back",
         null,
         null,
         1.9
        ],
        [
         "Lando Calrissian",
         177,
         79,
         "black",
         "dark",
         "brown",
         31,
         "male",
         "masculine",
         "Socorro",
         "Human",
         "The Empire Strikes Back, Return of the Jedi",
         null,
         "Millennium Falcon",
         1.77
        ],
        [
         "Lobot",
         175,
         79,
         "none",
         "light",
         "blue",
         37,
         "male",
         "masculine",
         "Bespin",
         "Human",
         "The Empire Strikes Back",
         null,
         null,
         1.75
        ],
        [
         "Ackbar",
         180,
         83,
         "none",
         "brown mottle",
         "orange",
         41,
         "male",
         "masculine",
         "Mon Cala",
         "Mon Calamari",
         "Return of the Jedi, The Force Awakens",
         null,
         null,
         1.8
        ],
        [
         "Mon Mothma",
         150,
         null,
         "auburn",
         "fair",
         "blue",
         48,
         "female",
         "feminine",
         "Chandrila",
         "Human",
         "Return of the Jedi",
         null,
         null,
         1.5
        ],
        [
         "Arvel Crynyd",
         null,
         null,
         "brown",
         "fair",
         "brown",
         null,
         "male",
         "masculine",
         "NA",
         "Human",
         "Return of the Jedi",
         null,
         "A-wing",
         null
        ],
        [
         "Wicket Systri Warrick",
         88,
         20,
         "brown",
         "brown",
         "brown",
         8,
         "male",
         "masculine",
         "Endor",
         "Ewok",
         "Return of the Jedi",
         null,
         null,
         0.88
        ],
        [
         "Nien Nunb",
         160,
         68,
         "none",
         "grey",
         "black",
         null,
         "male",
         "masculine",
         "Sullust",
         "Sullustan",
         "Return of the Jedi",
         null,
         "Millennium Falcon",
         1.6
        ],
        [
         "Qui-Gon Jinn",
         193,
         89,
         "brown",
         "fair",
         "blue",
         92,
         "male",
         "masculine",
         "NA",
         "Human",
         "The Phantom Menace",
         "Tribubble bongo",
         null,
         1.93
        ],
        [
         "Nute Gunray",
         191,
         90,
         "none",
         "mottled green",
         "red",
         null,
         "male",
         "masculine",
         "Cato Neimoidia",
         "Neimodian",
         "The Phantom Menace, Attack of the Clones, Revenge of the Sith",
         null,
         null,
         1.91
        ],
        [
         "Finis Valorum",
         170,
         null,
         "blond",
         "fair",
         "blue",
         91,
         "male",
         "masculine",
         "Coruscant",
         "Human",
         "The Phantom Menace",
         null,
         null,
         1.7
        ],
        [
         "Padmé Amidala",
         185,
         45,
         "brown",
         "light",
         "brown",
         46,
         "female",
         "feminine",
         "Naboo",
         "Human",
         "The Phantom Menace, Attack of the Clones, Revenge of the Sith",
         null,
         "Naboo fighter, H-type Nubian yacht, Naboo star skiff",
         1.85
        ],
        [
         "Jar Jar Binks",
         196,
         66,
         "none",
         "orange",
         "orange",
         52,
         "male",
         "masculine",
         "Naboo",
         "Gungan",
         "The Phantom Menace, Attack of the Clones",
         null,
         null,
         1.96
        ],
        [
         "Roos Tarpals",
         224,
         82,
         "none",
         "grey",
         "orange",
         null,
         "male",
         "masculine",
         "Naboo",
         "Gungan",
         "The Phantom Menace",
         null,
         null,
         2.24
        ],
        [
         "Rugor Nass",
         206,
         null,
         "none",
         "green",
         "orange",
         null,
         "male",
         "masculine",
         "Naboo",
         "Gungan",
         "The Phantom Menace",
         null,
         null,
         2.06
        ],
        [
         "Ric Olié",
         183,
         null,
         "brown",
         "fair",
         "blue",
         null,
         "male",
         "masculine",
         "Naboo",
         "Human",
         "The Phantom Menace",
         null,
         "Naboo Royal Starship",
         1.83
        ],
        [
         "Watto",
         137,
         null,
         "black",
         "blue, grey",
         "yellow",
         null,
         "male",
         "masculine",
         "Toydaria",
         "Toydarian",
         "The Phantom Menace, Attack of the Clones",
         null,
         null,
         1.37
        ],
        [
         "Sebulba",
         112,
         40,
         "none",
         "grey, red",
         "orange",
         null,
         "male",
         "masculine",
         "Malastare",
         "Dug",
         "The Phantom Menace",
         null,
         null,
         1.12
        ],
        [
         "Quarsh Panaka",
         183,
         null,
         "black",
         "dark",
         "brown",
         62,
         "male",
         "masculine",
         "Naboo",
         "Human",
         "The Phantom Menace",
         null,
         null,
         1.83
        ],
        [
         "Shmi Skywalker",
         163,
         null,
         "black",
         "fair",
         "brown",
         72,
         "female",
         "feminine",
         "Tatooine",
         "Human",
         "The Phantom Menace, Attack of the Clones",
         null,
         null,
         1.63
        ],
        [
         "Darth Maul",
         175,
         80,
         "none",
         "red",
         "yellow",
         54,
         "male",
         "masculine",
         "Dathomir",
         "Zabrak",
         "The Phantom Menace",
         "Sith speeder",
         "Scimitar",
         1.75
        ],
        [
         "Bib Fortuna",
         180,
         null,
         "none",
         "pale",
         "pink",
         null,
         "male",
         "masculine",
         "Ryloth",
         "Twi'lek",
         "Return of the Jedi",
         null,
         null,
         1.8
        ],
        [
         "Ayla Secura",
         178,
         55,
         "none",
         "blue",
         "hazel",
         48,
         "female",
         "feminine",
         "Ryloth",
         "Twi'lek",
         "The Phantom Menace, Attack of the Clones, Revenge of the Sith",
         null,
         null,
         1.78
        ],
        [
         "Ratts Tyerel",
         79,
         15,
         "none",
         "grey, blue",
         "unknown",
         null,
         "male",
         "masculine",
         "Aleen Minor",
         "Aleena",
         "The Phantom Menace",
         null,
         null,
         0.79
        ],
        [
         "Dud Bolt",
         94,
         45,
         "none",
         "blue, grey",
         "yellow",
         null,
         "male",
         "masculine",
         "Vulpter",
         "Vulptereen",
         "The Phantom Menace",
         null,
         null,
         0.94
        ],
        [
         "Gasgano",
         122,
         null,
         "none",
         "white, blue",
         "black",
         null,
         "male",
         "masculine",
         "Troiken",
         "Xexto",
         "The Phantom Menace",
         null,
         null,
         1.22
        ],
        [
         "Ben Quadinaros",
         163,
         65,
         "none",
         "grey, green, yellow",
         "orange",
         null,
         "male",
         "masculine",
         "Tund",
         "Toong",
         "The Phantom Menace",
         null,
         null,
         1.63
        ],
        [
         "Mace Windu",
         188,
         84,
         "none",
         "dark",
         "brown",
         72,
         "male",
         "masculine",
         "Haruun Kal",
         "Human",
         "The Phantom Menace, Attack of the Clones, Revenge of the Sith",
         null,
         null,
         1.88
        ],
        [
         "Ki-Adi-Mundi",
         198,
         82,
         "white",
         "pale",
         "yellow",
         92,
         "male",
         "masculine",
         "Cerea",
         "Cerean",
         "The Phantom Menace, Attack of the Clones, Revenge of the Sith",
         null,
         null,
         1.98
        ],
        [
         "Kit Fisto",
         196,
         87,
         "none",
         "green",
         "black",
         null,
         "male",
         "masculine",
         "Glee Anselm",
         "Nautolan",
         "The Phantom Menace, Attack of the Clones, Revenge of the Sith",
         null,
         null,
         1.96
        ],
        [
         "Eeth Koth",
         171,
         null,
         "black",
         "brown",
         "brown",
         null,
         "male",
         "masculine",
         "Iridonia",
         "Zabrak",
         "The Phantom Menace, Revenge of the Sith",
         null,
         null,
         1.71
        ],
        [
         "Adi Gallia",
         184,
         50,
         "none",
         "dark",
         "blue",
         null,
         "female",
         "feminine",
         "Coruscant",
         "Tholothian",
         "The Phantom Menace, Revenge of the Sith",
         null,
         null,
         1.84
        ],
        [
         "Saesee Tiin",
         188,
         null,
         "none",
         "pale",
         "orange",
         null,
         "male",
         "masculine",
         "Iktotch",
         "Iktotchi",
         "The Phantom Menace, Revenge of the Sith",
         null,
         null,
         1.88
        ],
        [
         "Yarael Poof",
         264,
         null,
         "none",
         "white",
         "yellow",
         null,
         "male",
         "masculine",
         "Quermia",
         "Quermian",
         "The Phantom Menace",
         null,
         null,
         2.64
        ],
        [
         "Plo Koon",
         188,
         80,
         "none",
         "orange",
         "black",
         22,
         "male",
         "masculine",
         "Dorin",
         "Kel Dor",
         "The Phantom Menace, Attack of the Clones, Revenge of the Sith",
         null,
         "Jedi starfighter",
         1.88
        ],
        [
         "Mas Amedda",
         196,
         null,
         "none",
         "blue",
         "blue",
         null,
         "male",
         "masculine",
         "Champala",
         "Chagrian",
         "The Phantom Menace, Attack of the Clones",
         null,
         null,
         1.96
        ],
        [
         "Gregar Typho",
         185,
         85,
         "black",
         "dark",
         "brown",
         null,
         "NA",
         "NA",
         "Naboo",
         "NA",
         "Attack of the Clones",
         null,
         "Naboo fighter",
         1.85
        ],
        [
         "Cordé",
         157,
         null,
         "brown",
         "light",
         "brown",
         null,
         "NA",
         "NA",
         "Naboo",
         "NA",
         "Attack of the Clones",
         null,
         null,
         1.57
        ],
        [
         "Cliegg Lars",
         183,
         null,
         "brown",
         "fair",
         "blue",
         82,
         "male",
         "masculine",
         "Tatooine",
         "Human",
         "Attack of the Clones",
         null,
         null,
         1.83
        ],
        [
         "Poggle the Lesser",
         183,
         80,
         "none",
         "green",
         "yellow",
         null,
         "male",
         "masculine",
         "Geonosis",
         "Geonosian",
         "Attack of the Clones, Revenge of the Sith",
         null,
         null,
         1.83
        ],
        [
         "Luminara Unduli",
         170,
         null,
         "black",
         "yellow",
         "blue",
         58,
         "female",
         "feminine",
         "Mirial",
         "Mirialan",
         "Attack of the Clones, Revenge of the Sith",
         null,
         null,
         1.7
        ],
        [
         "Barriss Offee",
         166,
         50,
         "black",
         "yellow",
         "blue",
         40,
         "female",
         "feminine",
         "Mirial",
         "Mirialan",
         "Attack of the Clones",
         null,
         null,
         1.66
        ],
        [
         "Dormé",
         165,
         null,
         "brown",
         "light",
         "brown",
         null,
         "female",
         "feminine",
         "Naboo",
         "Human",
         "Attack of the Clones",
         null,
         null,
         1.65
        ],
        [
         "Dooku",
         193,
         80,
         "white",
         "fair",
         "brown",
         102,
         "male",
         "masculine",
         "Serenno",
         "Human",
         "Attack of the Clones, Revenge of the Sith",
         "Flitknot speeder",
         null,
         1.93
        ],
        [
         "Bail Prestor Organa",
         191,
         null,
         "black",
         "tan",
         "brown",
         67,
         "male",
         "masculine",
         "Alderaan",
         "Human",
         "Attack of the Clones, Revenge of the Sith",
         null,
         null,
         1.91
        ],
        [
         "Jango Fett",
         183,
         79,
         "black",
         "tan",
         "brown",
         66,
         "male",
         "masculine",
         "Concord Dawn",
         "Human",
         "Attack of the Clones",
         null,
         null,
         1.83
        ],
        [
         "Zam Wesell",
         168,
         55,
         "blonde",
         "fair, green, yellow",
         "yellow",
         null,
         "female",
         "feminine",
         "Zolan",
         "Clawdite",
         "Attack of the Clones",
         "Koro-2 Exodrive airspeeder",
         null,
         1.68
        ],
        [
         "Dexter Jettster",
         198,
         102,
         "none",
         "brown",
         "yellow",
         null,
         "male",
         "masculine",
         "Ojom",
         "Besalisk",
         "Attack of the Clones",
         null,
         null,
         1.98
        ],
        [
         "Lama Su",
         229,
         88,
         "none",
         "grey",
         "black",
         null,
         "male",
         "masculine",
         "Kamino",
         "Kaminoan",
         "Attack of the Clones",
         null,
         null,
         2.29
        ],
        [
         "Taun We",
         213,
         null,
         "none",
         "grey",
         "black",
         null,
         "female",
         "feminine",
         "Kamino",
         "Kaminoan",
         "Attack of the Clones",
         null,
         null,
         2.13
        ],
        [
         "Jocasta Nu",
         167,
         null,
         "white",
         "fair",
         "blue",
         null,
         "female",
         "feminine",
         "Coruscant",
         "Human",
         "Attack of the Clones",
         null,
         null,
         1.67
        ],
        [
         "R4-P17",
         96,
         null,
         "none",
         "silver, red",
         "red, blue",
         null,
         "none",
         "feminine",
         "NA",
         "Droid",
         "Attack of the Clones, Revenge of the Sith",
         null,
         null,
         0.96
        ],
        [
         "Wat Tambor",
         193,
         48,
         "none",
         "green, grey",
         "unknown",
         null,
         "male",
         "masculine",
         "Skako",
         "Skakoan",
         "Attack of the Clones",
         null,
         null,
         1.93
        ],
        [
         "San Hill",
         191,
         null,
         "none",
         "grey",
         "gold",
         null,
         "male",
         "masculine",
         "Muunilinst",
         "Muun",
         "Attack of the Clones",
         null,
         null,
         1.91
        ],
        [
         "Shaak Ti",
         178,
         57,
         "none",
         "red, blue, white",
         "black",
         null,
         "female",
         "feminine",
         "Shili",
         "Togruta",
         "Attack of the Clones, Revenge of the Sith",
         null,
         null,
         1.78
        ],
        [
         "Grievous",
         216,
         159,
         "none",
         "brown, white",
         "green, yellow",
         null,
         "male",
         "masculine",
         "Kalee",
         "Kaleesh",
         "Revenge of the Sith",
         "Tsmeu-6 personal wheel bike",
         "Belbullab-22 starfighter",
         2.16
        ],
        [
         "Tarfful",
         234,
         136,
         "brown",
         "brown",
         "blue",
         null,
         "male",
         "masculine",
         "Kashyyyk",
         "Wookiee",
         "Revenge of the Sith",
         null,
         null,
         2.34
        ],
        [
         "Raymus Antilles",
         188,
         79,
         "brown",
         "light",
         "brown",
         null,
         "male",
         "masculine",
         "Alderaan",
         "Human",
         "A New Hope, Revenge of the Sith",
         null,
         null,
         1.88
        ],
        [
         "Sly Moore",
         178,
         48,
         "none",
         "pale",
         "white",
         null,
         "NA",
         "NA",
         "Umbara",
         "NA",
         "Attack of the Clones, Revenge of the Sith",
         null,
         null,
         1.78
        ],
        [
         "Tion Medon",
         206,
         80,
         "none",
         "grey",
         "black",
         null,
         "male",
         "masculine",
         "Utapau",
         "Pau'an",
         "Revenge of the Sith",
         null,
         null,
         2.06
        ],
        [
         "Finn",
         null,
         null,
         "black",
         "dark",
         "dark",
         null,
         "male",
         "masculine",
         "NA",
         "Human",
         "The Force Awakens",
         null,
         null,
         null
        ],
        [
         "Rey",
         null,
         null,
         "brown",
         "light",
         "hazel",
         null,
         "female",
         "feminine",
         "NA",
         "Human",
         "The Force Awakens",
         null,
         null,
         null
        ],
        [
         "Poe Dameron",
         null,
         null,
         "brown",
         "light",
         "brown",
         null,
         "male",
         "masculine",
         "NA",
         "Human",
         "The Force Awakens",
         null,
         "X-wing",
         null
        ],
        [
         "BB8",
         null,
         null,
         "none",
         "none",
         "black",
         null,
         "none",
         "masculine",
         "NA",
         "Droid",
         "The Force Awakens",
         null,
         null,
         null
        ],
        [
         "Captain Phasma",
         null,
         null,
         "none",
         "none",
         "unknown",
         null,
         "female",
         "feminine",
         "NA",
         "Human",
         "The Force Awakens",
         null,
         null,
         null
        ]
       ],
       "datasetInfos": [],
       "dbfsResultPath": null,
       "isJsonSchema": true,
       "metadata": {},
       "overflow": false,
       "plotOptions": {
        "customPlotOptions": {},
        "displayType": "table",
        "pivotAggregation": null,
        "pivotColumns": null,
        "xColumns": null,
        "yColumns": null
       },
       "removedWidgets": [],
       "schema": [
        {
         "metadata": "{}",
         "name": "name",
         "type": "\"string\""
        },
        {
         "metadata": "{}",
         "name": "height",
         "type": "\"integer\""
        },
        {
         "metadata": "{}",
         "name": "mass",
         "type": "\"integer\""
        },
        {
         "metadata": "{}",
         "name": "hair_color",
         "type": "\"string\""
        },
        {
         "metadata": "{}",
         "name": "skin_color",
         "type": "\"string\""
        },
        {
         "metadata": "{}",
         "name": "eye_color",
         "type": "\"string\""
        },
        {
         "metadata": "{}",
         "name": "birth_year",
         "type": "\"integer\""
        },
        {
         "metadata": "{}",
         "name": "sex",
         "type": "\"string\""
        },
        {
         "metadata": "{}",
         "name": "gender",
         "type": "\"string\""
        },
        {
         "metadata": "{}",
         "name": "homeworld",
         "type": "\"string\""
        },
        {
         "metadata": "{}",
         "name": "species",
         "type": "\"string\""
        },
        {
         "metadata": "{}",
         "name": "films",
         "type": "\"string\""
        },
        {
         "metadata": "{}",
         "name": "vehicles",
         "type": "\"string\""
        },
        {
         "metadata": "{}",
         "name": "starships",
         "type": "\"string\""
        },
        {
         "metadata": "{}",
         "name": "Height in m",
         "type": "\"double\""
        }
       ],
       "type": "table"
      }
     },
     "output_type": "display_data"
    }
   ],
   "source": [
    "#Convert the height column into meters instead of centimeters.\n",
    "\n",
    "s3 = df.withColumn('Height in m',(col('height')/100)).display()"
   ]
  },
  {
   "cell_type": "code",
   "execution_count": 0,
   "metadata": {
    "application/vnd.databricks.v1+cell": {
     "cellMetadata": {
      "byteLimit": 2048000,
      "rowLimit": 10000
     },
     "inputWidgets": {},
     "nuid": "8a000a1e-167f-4aba-a242-affc433ceb8c",
     "showTitle": false,
     "tableResultSettingsMap": {},
     "title": ""
    }
   },
   "outputs": [
    {
     "output_type": "display_data",
     "data": {
      "text/html": [
       "<style scoped>\n",
       "  .table-result-container {\n",
       "    max-height: 300px;\n",
       "    overflow: auto;\n",
       "  }\n",
       "  table, th, td {\n",
       "    border: 1px solid black;\n",
       "    border-collapse: collapse;\n",
       "  }\n",
       "  th, td {\n",
       "    padding: 5px;\n",
       "  }\n",
       "  th {\n",
       "    text-align: left;\n",
       "  }\n",
       "</style><div class='table-result-container'><table class='table-result'><thead style='background-color: white'><tr><th>name</th><th>height</th><th>mass</th><th>hair_color</th><th>skin_color</th><th>eye_color</th><th>birth_year</th><th>sex</th><th>gender</th><th>homeworld</th><th>species</th><th>films</th><th>vehicles</th><th>starships</th></tr></thead><tbody><tr><td>Luke Skywalker</td><td>172</td><td>77</td><td>blond</td><td>fair</td><td>blue</td><td>19</td><td>male</td><td>masculine</td><td>Tatooine</td><td>Human</td><td>A New Hope, The Empire Strikes Back, Return of the Jedi, Revenge of the Sith, The Force Awakens</td><td>Snowspeeder, Imperial Speeder Bike</td><td>X-wing, Imperial shuttle</td></tr><tr><td>C-3PO</td><td>167</td><td>75</td><td>NA</td><td>gold</td><td>yellow</td><td>112</td><td>none</td><td>masculine</td><td>Tatooine</td><td>Droid</td><td>A New Hope, The Empire Strikes Back, Return of the Jedi, The Phantom Menace, Attack of the Clones, Revenge of the Sith</td><td>null</td><td>null</td></tr><tr><td>R2-D2</td><td>96</td><td>32</td><td>NA</td><td>white, blue</td><td>red</td><td>33</td><td>none</td><td>masculine</td><td>Naboo</td><td>Droid</td><td>A New Hope, The Empire Strikes Back, Return of the Jedi, The Phantom Menace, Attack of the Clones, Revenge of the Sith, The Force Awakens</td><td>null</td><td>null</td></tr><tr><td>Darth Vader</td><td>202</td><td>136</td><td>none</td><td>white</td><td>yellow</td><td>null</td><td>male</td><td>masculine</td><td>Tatooine</td><td>Human</td><td>A New Hope, The Empire Strikes Back, Return of the Jedi, Revenge of the Sith</td><td>null</td><td>TIE Advanced x1</td></tr><tr><td>Leia Organa</td><td>150</td><td>49</td><td>brown</td><td>light</td><td>brown</td><td>19</td><td>female</td><td>feminine</td><td>Alderaan</td><td>Human</td><td>A New Hope, The Empire Strikes Back, Return of the Jedi, Revenge of the Sith, The Force Awakens</td><td>Imperial Speeder Bike</td><td>null</td></tr><tr><td>Owen Lars</td><td>178</td><td>120</td><td>brown, grey</td><td>light</td><td>blue</td><td>52</td><td>male</td><td>masculine</td><td>Tatooine</td><td>Human</td><td>A New Hope, Attack of the Clones, Revenge of the Sith</td><td>null</td><td>null</td></tr><tr><td>Beru Whitesun Lars</td><td>165</td><td>75</td><td>brown</td><td>light</td><td>blue</td><td>47</td><td>female</td><td>feminine</td><td>Tatooine</td><td>Human</td><td>A New Hope, Attack of the Clones, Revenge of the Sith</td><td>null</td><td>null</td></tr><tr><td>R5-D4</td><td>97</td><td>32</td><td>NA</td><td>white, red</td><td>red</td><td>null</td><td>none</td><td>masculine</td><td>Tatooine</td><td>Droid</td><td>A New Hope</td><td>null</td><td>null</td></tr><tr><td>Biggs Darklighter</td><td>183</td><td>84</td><td>black</td><td>light</td><td>brown</td><td>24</td><td>male</td><td>masculine</td><td>Tatooine</td><td>Human</td><td>A New Hope</td><td>null</td><td>X-wing</td></tr><tr><td>Obi-Wan Kenobi</td><td>182</td><td>77</td><td>auburn, white</td><td>fair</td><td>blue-gray</td><td>57</td><td>male</td><td>masculine</td><td>Stewjon</td><td>Human</td><td>A New Hope, The Empire Strikes Back, Return of the Jedi, The Phantom Menace, Attack of the Clones, Revenge of the Sith</td><td>Tribubble bongo</td><td>Jedi starfighter, Trade Federation cruiser, Naboo star skiff, Jedi Interceptor, Belbullab-22 starfighter</td></tr><tr><td>Anakin Skywalker</td><td>188</td><td>84</td><td>blond</td><td>fair</td><td>blue</td><td>null</td><td>male</td><td>masculine</td><td>Tatooine</td><td>Human</td><td>The Phantom Menace, Attack of the Clones, Revenge of the Sith</td><td>Zephyr-G swoop bike, XJ-6 airspeeder</td><td>Naboo fighter, Trade Federation cruiser, Jedi Interceptor</td></tr><tr><td>Wilhuff Tarkin</td><td>180</td><td>null</td><td>auburn, grey</td><td>fair</td><td>blue</td><td>64</td><td>male</td><td>masculine</td><td>Eriadu</td><td>Human</td><td>A New Hope, Revenge of the Sith</td><td>null</td><td>null</td></tr><tr><td>Chewbacca</td><td>228</td><td>112</td><td>brown</td><td>unknown</td><td>blue</td><td>200</td><td>male</td><td>masculine</td><td>Kashyyyk</td><td>Wookiee</td><td>A New Hope, The Empire Strikes Back, Return of the Jedi, Revenge of the Sith, The Force Awakens</td><td>AT-ST</td><td>Millennium Falcon, Imperial shuttle</td></tr><tr><td>Han Solo</td><td>180</td><td>80</td><td>brown</td><td>fair</td><td>brown</td><td>29</td><td>male</td><td>masculine</td><td>Corellia</td><td>Human</td><td>A New Hope, The Empire Strikes Back, Return of the Jedi, The Force Awakens</td><td>null</td><td>Millennium Falcon, Imperial shuttle</td></tr><tr><td>Greedo</td><td>173</td><td>74</td><td>NA</td><td>green</td><td>black</td><td>44</td><td>male</td><td>masculine</td><td>Rodia</td><td>Rodian</td><td>A New Hope</td><td>null</td><td>null</td></tr><tr><td>Jabba Desilijic Tiure</td><td>175</td><td>1358</td><td>NA</td><td>green-tan, brown</td><td>orange</td><td>600</td><td>hermaphroditic</td><td>masculine</td><td>Nal Hutta</td><td>Hutt</td><td>A New Hope, Return of the Jedi, The Phantom Menace</td><td>null</td><td>null</td></tr><tr><td>Wedge Antilles</td><td>170</td><td>77</td><td>brown</td><td>fair</td><td>hazel</td><td>21</td><td>male</td><td>masculine</td><td>Corellia</td><td>Human</td><td>A New Hope, The Empire Strikes Back, Return of the Jedi</td><td>Snowspeeder</td><td>X-wing</td></tr><tr><td>Jek Tono Porkins</td><td>180</td><td>110</td><td>brown</td><td>fair</td><td>blue</td><td>null</td><td>NA</td><td>NA</td><td>Bestine IV</td><td>NA</td><td>A New Hope</td><td>null</td><td>X-wing</td></tr><tr><td>Palpatine</td><td>170</td><td>75</td><td>grey</td><td>pale</td><td>yellow</td><td>82</td><td>male</td><td>masculine</td><td>Naboo</td><td>Human</td><td>The Empire Strikes Back, Return of the Jedi, The Phantom Menace, Attack of the Clones, Revenge of the Sith</td><td>null</td><td>null</td></tr><tr><td>Boba Fett</td><td>183</td><td>null</td><td>black</td><td>fair</td><td>brown</td><td>null</td><td>male</td><td>masculine</td><td>Kamino</td><td>Human</td><td>The Empire Strikes Back, Return of the Jedi, Attack of the Clones</td><td>null</td><td>Slave 1</td></tr><tr><td>IG-88</td><td>200</td><td>140</td><td>none</td><td>metal</td><td>red</td><td>15</td><td>none</td><td>masculine</td><td>NA</td><td>Droid</td><td>The Empire Strikes Back</td><td>null</td><td>null</td></tr><tr><td>Bossk</td><td>190</td><td>113</td><td>none</td><td>green</td><td>red</td><td>53</td><td>male</td><td>masculine</td><td>Trandosha</td><td>Trandoshan</td><td>The Empire Strikes Back</td><td>null</td><td>null</td></tr><tr><td>Lando Calrissian</td><td>177</td><td>79</td><td>black</td><td>dark</td><td>brown</td><td>31</td><td>male</td><td>masculine</td><td>Socorro</td><td>Human</td><td>The Empire Strikes Back, Return of the Jedi</td><td>null</td><td>Millennium Falcon</td></tr><tr><td>Lobot</td><td>175</td><td>79</td><td>none</td><td>light</td><td>blue</td><td>37</td><td>male</td><td>masculine</td><td>Bespin</td><td>Human</td><td>The Empire Strikes Back</td><td>null</td><td>null</td></tr><tr><td>Ackbar</td><td>180</td><td>83</td><td>none</td><td>brown mottle</td><td>orange</td><td>41</td><td>male</td><td>masculine</td><td>Mon Cala</td><td>Mon Calamari</td><td>Return of the Jedi, The Force Awakens</td><td>null</td><td>null</td></tr><tr><td>Mon Mothma</td><td>150</td><td>null</td><td>auburn</td><td>fair</td><td>blue</td><td>48</td><td>female</td><td>feminine</td><td>Chandrila</td><td>Human</td><td>Return of the Jedi</td><td>null</td><td>null</td></tr><tr><td>Wicket Systri Warrick</td><td>88</td><td>20</td><td>brown</td><td>brown</td><td>brown</td><td>8</td><td>male</td><td>masculine</td><td>Endor</td><td>Ewok</td><td>Return of the Jedi</td><td>null</td><td>null</td></tr><tr><td>Nien Nunb</td><td>160</td><td>68</td><td>none</td><td>grey</td><td>black</td><td>null</td><td>male</td><td>masculine</td><td>Sullust</td><td>Sullustan</td><td>Return of the Jedi</td><td>null</td><td>Millennium Falcon</td></tr><tr><td>Qui-Gon Jinn</td><td>193</td><td>89</td><td>brown</td><td>fair</td><td>blue</td><td>92</td><td>male</td><td>masculine</td><td>NA</td><td>Human</td><td>The Phantom Menace</td><td>Tribubble bongo</td><td>null</td></tr><tr><td>Nute Gunray</td><td>191</td><td>90</td><td>none</td><td>mottled green</td><td>red</td><td>null</td><td>male</td><td>masculine</td><td>Cato Neimoidia</td><td>Neimodian</td><td>The Phantom Menace, Attack of the Clones, Revenge of the Sith</td><td>null</td><td>null</td></tr><tr><td>Finis Valorum</td><td>170</td><td>null</td><td>blond</td><td>fair</td><td>blue</td><td>91</td><td>male</td><td>masculine</td><td>Coruscant</td><td>Human</td><td>The Phantom Menace</td><td>null</td><td>null</td></tr><tr><td>Padmé Amidala</td><td>185</td><td>45</td><td>brown</td><td>light</td><td>brown</td><td>46</td><td>female</td><td>feminine</td><td>Naboo</td><td>Human</td><td>The Phantom Menace, Attack of the Clones, Revenge of the Sith</td><td>null</td><td>Naboo fighter, H-type Nubian yacht, Naboo star skiff</td></tr><tr><td>Jar Jar Binks</td><td>196</td><td>66</td><td>none</td><td>orange</td><td>orange</td><td>52</td><td>male</td><td>masculine</td><td>Naboo</td><td>Gungan</td><td>The Phantom Menace, Attack of the Clones</td><td>null</td><td>null</td></tr><tr><td>Roos Tarpals</td><td>224</td><td>82</td><td>none</td><td>grey</td><td>orange</td><td>null</td><td>male</td><td>masculine</td><td>Naboo</td><td>Gungan</td><td>The Phantom Menace</td><td>null</td><td>null</td></tr><tr><td>Rugor Nass</td><td>206</td><td>null</td><td>none</td><td>green</td><td>orange</td><td>null</td><td>male</td><td>masculine</td><td>Naboo</td><td>Gungan</td><td>The Phantom Menace</td><td>null</td><td>null</td></tr><tr><td>Ric Olié</td><td>183</td><td>null</td><td>brown</td><td>fair</td><td>blue</td><td>null</td><td>male</td><td>masculine</td><td>Naboo</td><td>Human</td><td>The Phantom Menace</td><td>null</td><td>Naboo Royal Starship</td></tr><tr><td>Watto</td><td>137</td><td>null</td><td>black</td><td>blue, grey</td><td>yellow</td><td>null</td><td>male</td><td>masculine</td><td>Toydaria</td><td>Toydarian</td><td>The Phantom Menace, Attack of the Clones</td><td>null</td><td>null</td></tr><tr><td>Sebulba</td><td>112</td><td>40</td><td>none</td><td>grey, red</td><td>orange</td><td>null</td><td>male</td><td>masculine</td><td>Malastare</td><td>Dug</td><td>The Phantom Menace</td><td>null</td><td>null</td></tr><tr><td>Quarsh Panaka</td><td>183</td><td>null</td><td>black</td><td>dark</td><td>brown</td><td>62</td><td>male</td><td>masculine</td><td>Naboo</td><td>Human</td><td>The Phantom Menace</td><td>null</td><td>null</td></tr><tr><td>Shmi Skywalker</td><td>163</td><td>null</td><td>black</td><td>fair</td><td>brown</td><td>72</td><td>female</td><td>feminine</td><td>Tatooine</td><td>Human</td><td>The Phantom Menace, Attack of the Clones</td><td>null</td><td>null</td></tr><tr><td>Darth Maul</td><td>175</td><td>80</td><td>none</td><td>red</td><td>yellow</td><td>54</td><td>male</td><td>masculine</td><td>Dathomir</td><td>Zabrak</td><td>The Phantom Menace</td><td>Sith speeder</td><td>Scimitar</td></tr><tr><td>Bib Fortuna</td><td>180</td><td>null</td><td>none</td><td>pale</td><td>pink</td><td>null</td><td>male</td><td>masculine</td><td>Ryloth</td><td>Twi'lek</td><td>Return of the Jedi</td><td>null</td><td>null</td></tr><tr><td>Ayla Secura</td><td>178</td><td>55</td><td>none</td><td>blue</td><td>hazel</td><td>48</td><td>female</td><td>feminine</td><td>Ryloth</td><td>Twi'lek</td><td>The Phantom Menace, Attack of the Clones, Revenge of the Sith</td><td>null</td><td>null</td></tr><tr><td>Ratts Tyerel</td><td>79</td><td>15</td><td>none</td><td>grey, blue</td><td>unknown</td><td>null</td><td>male</td><td>masculine</td><td>Aleen Minor</td><td>Aleena</td><td>The Phantom Menace</td><td>null</td><td>null</td></tr><tr><td>Dud Bolt</td><td>94</td><td>45</td><td>none</td><td>blue, grey</td><td>yellow</td><td>null</td><td>male</td><td>masculine</td><td>Vulpter</td><td>Vulptereen</td><td>The Phantom Menace</td><td>null</td><td>null</td></tr><tr><td>Gasgano</td><td>122</td><td>null</td><td>none</td><td>white, blue</td><td>black</td><td>null</td><td>male</td><td>masculine</td><td>Troiken</td><td>Xexto</td><td>The Phantom Menace</td><td>null</td><td>null</td></tr><tr><td>Ben Quadinaros</td><td>163</td><td>65</td><td>none</td><td>grey, green, yellow</td><td>orange</td><td>null</td><td>male</td><td>masculine</td><td>Tund</td><td>Toong</td><td>The Phantom Menace</td><td>null</td><td>null</td></tr><tr><td>Mace Windu</td><td>188</td><td>84</td><td>none</td><td>dark</td><td>brown</td><td>72</td><td>male</td><td>masculine</td><td>Haruun Kal</td><td>Human</td><td>The Phantom Menace, Attack of the Clones, Revenge of the Sith</td><td>null</td><td>null</td></tr><tr><td>Ki-Adi-Mundi</td><td>198</td><td>82</td><td>white</td><td>pale</td><td>yellow</td><td>92</td><td>male</td><td>masculine</td><td>Cerea</td><td>Cerean</td><td>The Phantom Menace, Attack of the Clones, Revenge of the Sith</td><td>null</td><td>null</td></tr><tr><td>Kit Fisto</td><td>196</td><td>87</td><td>none</td><td>green</td><td>black</td><td>null</td><td>male</td><td>masculine</td><td>Glee Anselm</td><td>Nautolan</td><td>The Phantom Menace, Attack of the Clones, Revenge of the Sith</td><td>null</td><td>null</td></tr><tr><td>Eeth Koth</td><td>171</td><td>null</td><td>black</td><td>brown</td><td>brown</td><td>null</td><td>male</td><td>masculine</td><td>Iridonia</td><td>Zabrak</td><td>The Phantom Menace, Revenge of the Sith</td><td>null</td><td>null</td></tr><tr><td>Adi Gallia</td><td>184</td><td>50</td><td>none</td><td>dark</td><td>blue</td><td>null</td><td>female</td><td>feminine</td><td>Coruscant</td><td>Tholothian</td><td>The Phantom Menace, Revenge of the Sith</td><td>null</td><td>null</td></tr><tr><td>Saesee Tiin</td><td>188</td><td>null</td><td>none</td><td>pale</td><td>orange</td><td>null</td><td>male</td><td>masculine</td><td>Iktotch</td><td>Iktotchi</td><td>The Phantom Menace, Revenge of the Sith</td><td>null</td><td>null</td></tr><tr><td>Yarael Poof</td><td>264</td><td>null</td><td>none</td><td>white</td><td>yellow</td><td>null</td><td>male</td><td>masculine</td><td>Quermia</td><td>Quermian</td><td>The Phantom Menace</td><td>null</td><td>null</td></tr><tr><td>Plo Koon</td><td>188</td><td>80</td><td>none</td><td>orange</td><td>black</td><td>22</td><td>male</td><td>masculine</td><td>Dorin</td><td>Kel Dor</td><td>The Phantom Menace, Attack of the Clones, Revenge of the Sith</td><td>null</td><td>Jedi starfighter</td></tr><tr><td>Mas Amedda</td><td>196</td><td>null</td><td>none</td><td>blue</td><td>blue</td><td>null</td><td>male</td><td>masculine</td><td>Champala</td><td>Chagrian</td><td>The Phantom Menace, Attack of the Clones</td><td>null</td><td>null</td></tr><tr><td>Gregar Typho</td><td>185</td><td>85</td><td>black</td><td>dark</td><td>brown</td><td>null</td><td>NA</td><td>NA</td><td>Naboo</td><td>NA</td><td>Attack of the Clones</td><td>null</td><td>Naboo fighter</td></tr><tr><td>Cordé</td><td>157</td><td>null</td><td>brown</td><td>light</td><td>brown</td><td>null</td><td>NA</td><td>NA</td><td>Naboo</td><td>NA</td><td>Attack of the Clones</td><td>null</td><td>null</td></tr><tr><td>Cliegg Lars</td><td>183</td><td>null</td><td>brown</td><td>fair</td><td>blue</td><td>82</td><td>male</td><td>masculine</td><td>Tatooine</td><td>Human</td><td>Attack of the Clones</td><td>null</td><td>null</td></tr><tr><td>Poggle the Lesser</td><td>183</td><td>80</td><td>none</td><td>green</td><td>yellow</td><td>null</td><td>male</td><td>masculine</td><td>Geonosis</td><td>Geonosian</td><td>Attack of the Clones, Revenge of the Sith</td><td>null</td><td>null</td></tr><tr><td>Luminara Unduli</td><td>170</td><td>null</td><td>black</td><td>yellow</td><td>blue</td><td>58</td><td>female</td><td>feminine</td><td>Mirial</td><td>Mirialan</td><td>Attack of the Clones, Revenge of the Sith</td><td>null</td><td>null</td></tr><tr><td>Barriss Offee</td><td>166</td><td>50</td><td>black</td><td>yellow</td><td>blue</td><td>40</td><td>female</td><td>feminine</td><td>Mirial</td><td>Mirialan</td><td>Attack of the Clones</td><td>null</td><td>null</td></tr><tr><td>Dormé</td><td>165</td><td>null</td><td>brown</td><td>light</td><td>brown</td><td>null</td><td>female</td><td>feminine</td><td>Naboo</td><td>Human</td><td>Attack of the Clones</td><td>null</td><td>null</td></tr><tr><td>Dooku</td><td>193</td><td>80</td><td>white</td><td>fair</td><td>brown</td><td>102</td><td>male</td><td>masculine</td><td>Serenno</td><td>Human</td><td>Attack of the Clones, Revenge of the Sith</td><td>Flitknot speeder</td><td>null</td></tr><tr><td>Bail Prestor Organa</td><td>191</td><td>null</td><td>black</td><td>tan</td><td>brown</td><td>67</td><td>male</td><td>masculine</td><td>Alderaan</td><td>Human</td><td>Attack of the Clones, Revenge of the Sith</td><td>null</td><td>null</td></tr><tr><td>Jango Fett</td><td>183</td><td>79</td><td>black</td><td>tan</td><td>brown</td><td>66</td><td>male</td><td>masculine</td><td>Concord Dawn</td><td>Human</td><td>Attack of the Clones</td><td>null</td><td>null</td></tr><tr><td>Zam Wesell</td><td>168</td><td>55</td><td>blonde</td><td>fair, green, yellow</td><td>yellow</td><td>null</td><td>female</td><td>feminine</td><td>Zolan</td><td>Clawdite</td><td>Attack of the Clones</td><td>Koro-2 Exodrive airspeeder</td><td>null</td></tr><tr><td>Dexter Jettster</td><td>198</td><td>102</td><td>none</td><td>brown</td><td>yellow</td><td>null</td><td>male</td><td>masculine</td><td>Ojom</td><td>Besalisk</td><td>Attack of the Clones</td><td>null</td><td>null</td></tr><tr><td>Lama Su</td><td>229</td><td>88</td><td>none</td><td>grey</td><td>black</td><td>null</td><td>male</td><td>masculine</td><td>Kamino</td><td>Kaminoan</td><td>Attack of the Clones</td><td>null</td><td>null</td></tr><tr><td>Taun We</td><td>213</td><td>null</td><td>none</td><td>grey</td><td>black</td><td>null</td><td>female</td><td>feminine</td><td>Kamino</td><td>Kaminoan</td><td>Attack of the Clones</td><td>null</td><td>null</td></tr><tr><td>Jocasta Nu</td><td>167</td><td>null</td><td>white</td><td>fair</td><td>blue</td><td>null</td><td>female</td><td>feminine</td><td>Coruscant</td><td>Human</td><td>Attack of the Clones</td><td>null</td><td>null</td></tr><tr><td>R4-P17</td><td>96</td><td>null</td><td>none</td><td>silver, red</td><td>red, blue</td><td>null</td><td>none</td><td>feminine</td><td>NA</td><td>Droid</td><td>Attack of the Clones, Revenge of the Sith</td><td>null</td><td>null</td></tr><tr><td>Wat Tambor</td><td>193</td><td>48</td><td>none</td><td>green, grey</td><td>unknown</td><td>null</td><td>male</td><td>masculine</td><td>Skako</td><td>Skakoan</td><td>Attack of the Clones</td><td>null</td><td>null</td></tr><tr><td>San Hill</td><td>191</td><td>null</td><td>none</td><td>grey</td><td>gold</td><td>null</td><td>male</td><td>masculine</td><td>Muunilinst</td><td>Muun</td><td>Attack of the Clones</td><td>null</td><td>null</td></tr><tr><td>Shaak Ti</td><td>178</td><td>57</td><td>none</td><td>red, blue, white</td><td>black</td><td>null</td><td>female</td><td>feminine</td><td>Shili</td><td>Togruta</td><td>Attack of the Clones, Revenge of the Sith</td><td>null</td><td>null</td></tr><tr><td>Grievous</td><td>216</td><td>159</td><td>none</td><td>brown, white</td><td>green, yellow</td><td>null</td><td>male</td><td>masculine</td><td>Kalee</td><td>Kaleesh</td><td>Revenge of the Sith</td><td>Tsmeu-6 personal wheel bike</td><td>Belbullab-22 starfighter</td></tr><tr><td>Tarfful</td><td>234</td><td>136</td><td>brown</td><td>brown</td><td>blue</td><td>null</td><td>male</td><td>masculine</td><td>Kashyyyk</td><td>Wookiee</td><td>Revenge of the Sith</td><td>null</td><td>null</td></tr><tr><td>Raymus Antilles</td><td>188</td><td>79</td><td>brown</td><td>light</td><td>brown</td><td>null</td><td>male</td><td>masculine</td><td>Alderaan</td><td>Human</td><td>A New Hope, Revenge of the Sith</td><td>null</td><td>null</td></tr><tr><td>Sly Moore</td><td>178</td><td>48</td><td>none</td><td>pale</td><td>white</td><td>null</td><td>NA</td><td>NA</td><td>Umbara</td><td>NA</td><td>Attack of the Clones, Revenge of the Sith</td><td>null</td><td>null</td></tr><tr><td>Tion Medon</td><td>206</td><td>80</td><td>none</td><td>grey</td><td>black</td><td>null</td><td>male</td><td>masculine</td><td>Utapau</td><td>Pau'an</td><td>Revenge of the Sith</td><td>null</td><td>null</td></tr></tbody></table></div>"
      ]
     },
     "metadata": {
      "application/vnd.databricks.v1+output": {
       "addedWidgets": {},
       "aggData": [],
       "aggError": "",
       "aggOverflow": false,
       "aggSchema": [],
       "aggSeriesLimitReached": false,
       "aggType": "",
       "arguments": {},
       "columnCustomDisplayInfos": {},
       "data": [
        [
         "Luke Skywalker",
         172,
         77,
         "blond",
         "fair",
         "blue",
         19,
         "male",
         "masculine",
         "Tatooine",
         "Human",
         "A New Hope, The Empire Strikes Back, Return of the Jedi, Revenge of the Sith, The Force Awakens",
         "Snowspeeder, Imperial Speeder Bike",
         "X-wing, Imperial shuttle"
        ],
        [
         "C-3PO",
         167,
         75,
         "NA",
         "gold",
         "yellow",
         112,
         "none",
         "masculine",
         "Tatooine",
         "Droid",
         "A New Hope, The Empire Strikes Back, Return of the Jedi, The Phantom Menace, Attack of the Clones, Revenge of the Sith",
         null,
         null
        ],
        [
         "R2-D2",
         96,
         32,
         "NA",
         "white, blue",
         "red",
         33,
         "none",
         "masculine",
         "Naboo",
         "Droid",
         "A New Hope, The Empire Strikes Back, Return of the Jedi, The Phantom Menace, Attack of the Clones, Revenge of the Sith, The Force Awakens",
         null,
         null
        ],
        [
         "Darth Vader",
         202,
         136,
         "none",
         "white",
         "yellow",
         null,
         "male",
         "masculine",
         "Tatooine",
         "Human",
         "A New Hope, The Empire Strikes Back, Return of the Jedi, Revenge of the Sith",
         null,
         "TIE Advanced x1"
        ],
        [
         "Leia Organa",
         150,
         49,
         "brown",
         "light",
         "brown",
         19,
         "female",
         "feminine",
         "Alderaan",
         "Human",
         "A New Hope, The Empire Strikes Back, Return of the Jedi, Revenge of the Sith, The Force Awakens",
         "Imperial Speeder Bike",
         null
        ],
        [
         "Owen Lars",
         178,
         120,
         "brown, grey",
         "light",
         "blue",
         52,
         "male",
         "masculine",
         "Tatooine",
         "Human",
         "A New Hope, Attack of the Clones, Revenge of the Sith",
         null,
         null
        ],
        [
         "Beru Whitesun Lars",
         165,
         75,
         "brown",
         "light",
         "blue",
         47,
         "female",
         "feminine",
         "Tatooine",
         "Human",
         "A New Hope, Attack of the Clones, Revenge of the Sith",
         null,
         null
        ],
        [
         "R5-D4",
         97,
         32,
         "NA",
         "white, red",
         "red",
         null,
         "none",
         "masculine",
         "Tatooine",
         "Droid",
         "A New Hope",
         null,
         null
        ],
        [
         "Biggs Darklighter",
         183,
         84,
         "black",
         "light",
         "brown",
         24,
         "male",
         "masculine",
         "Tatooine",
         "Human",
         "A New Hope",
         null,
         "X-wing"
        ],
        [
         "Obi-Wan Kenobi",
         182,
         77,
         "auburn, white",
         "fair",
         "blue-gray",
         57,
         "male",
         "masculine",
         "Stewjon",
         "Human",
         "A New Hope, The Empire Strikes Back, Return of the Jedi, The Phantom Menace, Attack of the Clones, Revenge of the Sith",
         "Tribubble bongo",
         "Jedi starfighter, Trade Federation cruiser, Naboo star skiff, Jedi Interceptor, Belbullab-22 starfighter"
        ],
        [
         "Anakin Skywalker",
         188,
         84,
         "blond",
         "fair",
         "blue",
         null,
         "male",
         "masculine",
         "Tatooine",
         "Human",
         "The Phantom Menace, Attack of the Clones, Revenge of the Sith",
         "Zephyr-G swoop bike, XJ-6 airspeeder",
         "Naboo fighter, Trade Federation cruiser, Jedi Interceptor"
        ],
        [
         "Wilhuff Tarkin",
         180,
         null,
         "auburn, grey",
         "fair",
         "blue",
         64,
         "male",
         "masculine",
         "Eriadu",
         "Human",
         "A New Hope, Revenge of the Sith",
         null,
         null
        ],
        [
         "Chewbacca",
         228,
         112,
         "brown",
         "unknown",
         "blue",
         200,
         "male",
         "masculine",
         "Kashyyyk",
         "Wookiee",
         "A New Hope, The Empire Strikes Back, Return of the Jedi, Revenge of the Sith, The Force Awakens",
         "AT-ST",
         "Millennium Falcon, Imperial shuttle"
        ],
        [
         "Han Solo",
         180,
         80,
         "brown",
         "fair",
         "brown",
         29,
         "male",
         "masculine",
         "Corellia",
         "Human",
         "A New Hope, The Empire Strikes Back, Return of the Jedi, The Force Awakens",
         null,
         "Millennium Falcon, Imperial shuttle"
        ],
        [
         "Greedo",
         173,
         74,
         "NA",
         "green",
         "black",
         44,
         "male",
         "masculine",
         "Rodia",
         "Rodian",
         "A New Hope",
         null,
         null
        ],
        [
         "Jabba Desilijic Tiure",
         175,
         1358,
         "NA",
         "green-tan, brown",
         "orange",
         600,
         "hermaphroditic",
         "masculine",
         "Nal Hutta",
         "Hutt",
         "A New Hope, Return of the Jedi, The Phantom Menace",
         null,
         null
        ],
        [
         "Wedge Antilles",
         170,
         77,
         "brown",
         "fair",
         "hazel",
         21,
         "male",
         "masculine",
         "Corellia",
         "Human",
         "A New Hope, The Empire Strikes Back, Return of the Jedi",
         "Snowspeeder",
         "X-wing"
        ],
        [
         "Jek Tono Porkins",
         180,
         110,
         "brown",
         "fair",
         "blue",
         null,
         "NA",
         "NA",
         "Bestine IV",
         "NA",
         "A New Hope",
         null,
         "X-wing"
        ],
        [
         "Palpatine",
         170,
         75,
         "grey",
         "pale",
         "yellow",
         82,
         "male",
         "masculine",
         "Naboo",
         "Human",
         "The Empire Strikes Back, Return of the Jedi, The Phantom Menace, Attack of the Clones, Revenge of the Sith",
         null,
         null
        ],
        [
         "Boba Fett",
         183,
         null,
         "black",
         "fair",
         "brown",
         null,
         "male",
         "masculine",
         "Kamino",
         "Human",
         "The Empire Strikes Back, Return of the Jedi, Attack of the Clones",
         null,
         "Slave 1"
        ],
        [
         "IG-88",
         200,
         140,
         "none",
         "metal",
         "red",
         15,
         "none",
         "masculine",
         "NA",
         "Droid",
         "The Empire Strikes Back",
         null,
         null
        ],
        [
         "Bossk",
         190,
         113,
         "none",
         "green",
         "red",
         53,
         "male",
         "masculine",
         "Trandosha",
         "Trandoshan",
         "The Empire Strikes Back",
         null,
         null
        ],
        [
         "Lando Calrissian",
         177,
         79,
         "black",
         "dark",
         "brown",
         31,
         "male",
         "masculine",
         "Socorro",
         "Human",
         "The Empire Strikes Back, Return of the Jedi",
         null,
         "Millennium Falcon"
        ],
        [
         "Lobot",
         175,
         79,
         "none",
         "light",
         "blue",
         37,
         "male",
         "masculine",
         "Bespin",
         "Human",
         "The Empire Strikes Back",
         null,
         null
        ],
        [
         "Ackbar",
         180,
         83,
         "none",
         "brown mottle",
         "orange",
         41,
         "male",
         "masculine",
         "Mon Cala",
         "Mon Calamari",
         "Return of the Jedi, The Force Awakens",
         null,
         null
        ],
        [
         "Mon Mothma",
         150,
         null,
         "auburn",
         "fair",
         "blue",
         48,
         "female",
         "feminine",
         "Chandrila",
         "Human",
         "Return of the Jedi",
         null,
         null
        ],
        [
         "Wicket Systri Warrick",
         88,
         20,
         "brown",
         "brown",
         "brown",
         8,
         "male",
         "masculine",
         "Endor",
         "Ewok",
         "Return of the Jedi",
         null,
         null
        ],
        [
         "Nien Nunb",
         160,
         68,
         "none",
         "grey",
         "black",
         null,
         "male",
         "masculine",
         "Sullust",
         "Sullustan",
         "Return of the Jedi",
         null,
         "Millennium Falcon"
        ],
        [
         "Qui-Gon Jinn",
         193,
         89,
         "brown",
         "fair",
         "blue",
         92,
         "male",
         "masculine",
         "NA",
         "Human",
         "The Phantom Menace",
         "Tribubble bongo",
         null
        ],
        [
         "Nute Gunray",
         191,
         90,
         "none",
         "mottled green",
         "red",
         null,
         "male",
         "masculine",
         "Cato Neimoidia",
         "Neimodian",
         "The Phantom Menace, Attack of the Clones, Revenge of the Sith",
         null,
         null
        ],
        [
         "Finis Valorum",
         170,
         null,
         "blond",
         "fair",
         "blue",
         91,
         "male",
         "masculine",
         "Coruscant",
         "Human",
         "The Phantom Menace",
         null,
         null
        ],
        [
         "Padmé Amidala",
         185,
         45,
         "brown",
         "light",
         "brown",
         46,
         "female",
         "feminine",
         "Naboo",
         "Human",
         "The Phantom Menace, Attack of the Clones, Revenge of the Sith",
         null,
         "Naboo fighter, H-type Nubian yacht, Naboo star skiff"
        ],
        [
         "Jar Jar Binks",
         196,
         66,
         "none",
         "orange",
         "orange",
         52,
         "male",
         "masculine",
         "Naboo",
         "Gungan",
         "The Phantom Menace, Attack of the Clones",
         null,
         null
        ],
        [
         "Roos Tarpals",
         224,
         82,
         "none",
         "grey",
         "orange",
         null,
         "male",
         "masculine",
         "Naboo",
         "Gungan",
         "The Phantom Menace",
         null,
         null
        ],
        [
         "Rugor Nass",
         206,
         null,
         "none",
         "green",
         "orange",
         null,
         "male",
         "masculine",
         "Naboo",
         "Gungan",
         "The Phantom Menace",
         null,
         null
        ],
        [
         "Ric Olié",
         183,
         null,
         "brown",
         "fair",
         "blue",
         null,
         "male",
         "masculine",
         "Naboo",
         "Human",
         "The Phantom Menace",
         null,
         "Naboo Royal Starship"
        ],
        [
         "Watto",
         137,
         null,
         "black",
         "blue, grey",
         "yellow",
         null,
         "male",
         "masculine",
         "Toydaria",
         "Toydarian",
         "The Phantom Menace, Attack of the Clones",
         null,
         null
        ],
        [
         "Sebulba",
         112,
         40,
         "none",
         "grey, red",
         "orange",
         null,
         "male",
         "masculine",
         "Malastare",
         "Dug",
         "The Phantom Menace",
         null,
         null
        ],
        [
         "Quarsh Panaka",
         183,
         null,
         "black",
         "dark",
         "brown",
         62,
         "male",
         "masculine",
         "Naboo",
         "Human",
         "The Phantom Menace",
         null,
         null
        ],
        [
         "Shmi Skywalker",
         163,
         null,
         "black",
         "fair",
         "brown",
         72,
         "female",
         "feminine",
         "Tatooine",
         "Human",
         "The Phantom Menace, Attack of the Clones",
         null,
         null
        ],
        [
         "Darth Maul",
         175,
         80,
         "none",
         "red",
         "yellow",
         54,
         "male",
         "masculine",
         "Dathomir",
         "Zabrak",
         "The Phantom Menace",
         "Sith speeder",
         "Scimitar"
        ],
        [
         "Bib Fortuna",
         180,
         null,
         "none",
         "pale",
         "pink",
         null,
         "male",
         "masculine",
         "Ryloth",
         "Twi'lek",
         "Return of the Jedi",
         null,
         null
        ],
        [
         "Ayla Secura",
         178,
         55,
         "none",
         "blue",
         "hazel",
         48,
         "female",
         "feminine",
         "Ryloth",
         "Twi'lek",
         "The Phantom Menace, Attack of the Clones, Revenge of the Sith",
         null,
         null
        ],
        [
         "Ratts Tyerel",
         79,
         15,
         "none",
         "grey, blue",
         "unknown",
         null,
         "male",
         "masculine",
         "Aleen Minor",
         "Aleena",
         "The Phantom Menace",
         null,
         null
        ],
        [
         "Dud Bolt",
         94,
         45,
         "none",
         "blue, grey",
         "yellow",
         null,
         "male",
         "masculine",
         "Vulpter",
         "Vulptereen",
         "The Phantom Menace",
         null,
         null
        ],
        [
         "Gasgano",
         122,
         null,
         "none",
         "white, blue",
         "black",
         null,
         "male",
         "masculine",
         "Troiken",
         "Xexto",
         "The Phantom Menace",
         null,
         null
        ],
        [
         "Ben Quadinaros",
         163,
         65,
         "none",
         "grey, green, yellow",
         "orange",
         null,
         "male",
         "masculine",
         "Tund",
         "Toong",
         "The Phantom Menace",
         null,
         null
        ],
        [
         "Mace Windu",
         188,
         84,
         "none",
         "dark",
         "brown",
         72,
         "male",
         "masculine",
         "Haruun Kal",
         "Human",
         "The Phantom Menace, Attack of the Clones, Revenge of the Sith",
         null,
         null
        ],
        [
         "Ki-Adi-Mundi",
         198,
         82,
         "white",
         "pale",
         "yellow",
         92,
         "male",
         "masculine",
         "Cerea",
         "Cerean",
         "The Phantom Menace, Attack of the Clones, Revenge of the Sith",
         null,
         null
        ],
        [
         "Kit Fisto",
         196,
         87,
         "none",
         "green",
         "black",
         null,
         "male",
         "masculine",
         "Glee Anselm",
         "Nautolan",
         "The Phantom Menace, Attack of the Clones, Revenge of the Sith",
         null,
         null
        ],
        [
         "Eeth Koth",
         171,
         null,
         "black",
         "brown",
         "brown",
         null,
         "male",
         "masculine",
         "Iridonia",
         "Zabrak",
         "The Phantom Menace, Revenge of the Sith",
         null,
         null
        ],
        [
         "Adi Gallia",
         184,
         50,
         "none",
         "dark",
         "blue",
         null,
         "female",
         "feminine",
         "Coruscant",
         "Tholothian",
         "The Phantom Menace, Revenge of the Sith",
         null,
         null
        ],
        [
         "Saesee Tiin",
         188,
         null,
         "none",
         "pale",
         "orange",
         null,
         "male",
         "masculine",
         "Iktotch",
         "Iktotchi",
         "The Phantom Menace, Revenge of the Sith",
         null,
         null
        ],
        [
         "Yarael Poof",
         264,
         null,
         "none",
         "white",
         "yellow",
         null,
         "male",
         "masculine",
         "Quermia",
         "Quermian",
         "The Phantom Menace",
         null,
         null
        ],
        [
         "Plo Koon",
         188,
         80,
         "none",
         "orange",
         "black",
         22,
         "male",
         "masculine",
         "Dorin",
         "Kel Dor",
         "The Phantom Menace, Attack of the Clones, Revenge of the Sith",
         null,
         "Jedi starfighter"
        ],
        [
         "Mas Amedda",
         196,
         null,
         "none",
         "blue",
         "blue",
         null,
         "male",
         "masculine",
         "Champala",
         "Chagrian",
         "The Phantom Menace, Attack of the Clones",
         null,
         null
        ],
        [
         "Gregar Typho",
         185,
         85,
         "black",
         "dark",
         "brown",
         null,
         "NA",
         "NA",
         "Naboo",
         "NA",
         "Attack of the Clones",
         null,
         "Naboo fighter"
        ],
        [
         "Cordé",
         157,
         null,
         "brown",
         "light",
         "brown",
         null,
         "NA",
         "NA",
         "Naboo",
         "NA",
         "Attack of the Clones",
         null,
         null
        ],
        [
         "Cliegg Lars",
         183,
         null,
         "brown",
         "fair",
         "blue",
         82,
         "male",
         "masculine",
         "Tatooine",
         "Human",
         "Attack of the Clones",
         null,
         null
        ],
        [
         "Poggle the Lesser",
         183,
         80,
         "none",
         "green",
         "yellow",
         null,
         "male",
         "masculine",
         "Geonosis",
         "Geonosian",
         "Attack of the Clones, Revenge of the Sith",
         null,
         null
        ],
        [
         "Luminara Unduli",
         170,
         null,
         "black",
         "yellow",
         "blue",
         58,
         "female",
         "feminine",
         "Mirial",
         "Mirialan",
         "Attack of the Clones, Revenge of the Sith",
         null,
         null
        ],
        [
         "Barriss Offee",
         166,
         50,
         "black",
         "yellow",
         "blue",
         40,
         "female",
         "feminine",
         "Mirial",
         "Mirialan",
         "Attack of the Clones",
         null,
         null
        ],
        [
         "Dormé",
         165,
         null,
         "brown",
         "light",
         "brown",
         null,
         "female",
         "feminine",
         "Naboo",
         "Human",
         "Attack of the Clones",
         null,
         null
        ],
        [
         "Dooku",
         193,
         80,
         "white",
         "fair",
         "brown",
         102,
         "male",
         "masculine",
         "Serenno",
         "Human",
         "Attack of the Clones, Revenge of the Sith",
         "Flitknot speeder",
         null
        ],
        [
         "Bail Prestor Organa",
         191,
         null,
         "black",
         "tan",
         "brown",
         67,
         "male",
         "masculine",
         "Alderaan",
         "Human",
         "Attack of the Clones, Revenge of the Sith",
         null,
         null
        ],
        [
         "Jango Fett",
         183,
         79,
         "black",
         "tan",
         "brown",
         66,
         "male",
         "masculine",
         "Concord Dawn",
         "Human",
         "Attack of the Clones",
         null,
         null
        ],
        [
         "Zam Wesell",
         168,
         55,
         "blonde",
         "fair, green, yellow",
         "yellow",
         null,
         "female",
         "feminine",
         "Zolan",
         "Clawdite",
         "Attack of the Clones",
         "Koro-2 Exodrive airspeeder",
         null
        ],
        [
         "Dexter Jettster",
         198,
         102,
         "none",
         "brown",
         "yellow",
         null,
         "male",
         "masculine",
         "Ojom",
         "Besalisk",
         "Attack of the Clones",
         null,
         null
        ],
        [
         "Lama Su",
         229,
         88,
         "none",
         "grey",
         "black",
         null,
         "male",
         "masculine",
         "Kamino",
         "Kaminoan",
         "Attack of the Clones",
         null,
         null
        ],
        [
         "Taun We",
         213,
         null,
         "none",
         "grey",
         "black",
         null,
         "female",
         "feminine",
         "Kamino",
         "Kaminoan",
         "Attack of the Clones",
         null,
         null
        ],
        [
         "Jocasta Nu",
         167,
         null,
         "white",
         "fair",
         "blue",
         null,
         "female",
         "feminine",
         "Coruscant",
         "Human",
         "Attack of the Clones",
         null,
         null
        ],
        [
         "R4-P17",
         96,
         null,
         "none",
         "silver, red",
         "red, blue",
         null,
         "none",
         "feminine",
         "NA",
         "Droid",
         "Attack of the Clones, Revenge of the Sith",
         null,
         null
        ],
        [
         "Wat Tambor",
         193,
         48,
         "none",
         "green, grey",
         "unknown",
         null,
         "male",
         "masculine",
         "Skako",
         "Skakoan",
         "Attack of the Clones",
         null,
         null
        ],
        [
         "San Hill",
         191,
         null,
         "none",
         "grey",
         "gold",
         null,
         "male",
         "masculine",
         "Muunilinst",
         "Muun",
         "Attack of the Clones",
         null,
         null
        ],
        [
         "Shaak Ti",
         178,
         57,
         "none",
         "red, blue, white",
         "black",
         null,
         "female",
         "feminine",
         "Shili",
         "Togruta",
         "Attack of the Clones, Revenge of the Sith",
         null,
         null
        ],
        [
         "Grievous",
         216,
         159,
         "none",
         "brown, white",
         "green, yellow",
         null,
         "male",
         "masculine",
         "Kalee",
         "Kaleesh",
         "Revenge of the Sith",
         "Tsmeu-6 personal wheel bike",
         "Belbullab-22 starfighter"
        ],
        [
         "Tarfful",
         234,
         136,
         "brown",
         "brown",
         "blue",
         null,
         "male",
         "masculine",
         "Kashyyyk",
         "Wookiee",
         "Revenge of the Sith",
         null,
         null
        ],
        [
         "Raymus Antilles",
         188,
         79,
         "brown",
         "light",
         "brown",
         null,
         "male",
         "masculine",
         "Alderaan",
         "Human",
         "A New Hope, Revenge of the Sith",
         null,
         null
        ],
        [
         "Sly Moore",
         178,
         48,
         "none",
         "pale",
         "white",
         null,
         "NA",
         "NA",
         "Umbara",
         "NA",
         "Attack of the Clones, Revenge of the Sith",
         null,
         null
        ],
        [
         "Tion Medon",
         206,
         80,
         "none",
         "grey",
         "black",
         null,
         "male",
         "masculine",
         "Utapau",
         "Pau'an",
         "Revenge of the Sith",
         null,
         null
        ]
       ],
       "datasetInfos": [],
       "dbfsResultPath": null,
       "isJsonSchema": true,
       "metadata": {},
       "overflow": false,
       "plotOptions": {
        "customPlotOptions": {},
        "displayType": "table",
        "pivotAggregation": null,
        "pivotColumns": null,
        "xColumns": null,
        "yColumns": null
       },
       "removedWidgets": [],
       "schema": [
        {
         "metadata": "{}",
         "name": "name",
         "type": "\"string\""
        },
        {
         "metadata": "{}",
         "name": "height",
         "type": "\"integer\""
        },
        {
         "metadata": "{}",
         "name": "mass",
         "type": "\"integer\""
        },
        {
         "metadata": "{}",
         "name": "hair_color",
         "type": "\"string\""
        },
        {
         "metadata": "{}",
         "name": "skin_color",
         "type": "\"string\""
        },
        {
         "metadata": "{}",
         "name": "eye_color",
         "type": "\"string\""
        },
        {
         "metadata": "{}",
         "name": "birth_year",
         "type": "\"integer\""
        },
        {
         "metadata": "{}",
         "name": "sex",
         "type": "\"string\""
        },
        {
         "metadata": "{}",
         "name": "gender",
         "type": "\"string\""
        },
        {
         "metadata": "{}",
         "name": "homeworld",
         "type": "\"string\""
        },
        {
         "metadata": "{}",
         "name": "species",
         "type": "\"string\""
        },
        {
         "metadata": "{}",
         "name": "films",
         "type": "\"string\""
        },
        {
         "metadata": "{}",
         "name": "vehicles",
         "type": "\"string\""
        },
        {
         "metadata": "{}",
         "name": "starships",
         "type": "\"string\""
        }
       ],
       "type": "table"
      }
     },
     "output_type": "display_data"
    }
   ],
   "source": [
    "#Retrieve all characters who are taller than Yoda.\n",
    "\n",
    "yoda_height = df.filter(col(\"name\")=='Yoda').select('height').collect()[0][0]\n",
    "s42 = df.filter(col(\"height\")> yoda_height)\n",
    "s42.display()"
   ]
  },
  {
   "cell_type": "code",
   "execution_count": 0,
   "metadata": {
    "application/vnd.databricks.v1+cell": {
     "cellMetadata": {
      "byteLimit": 2048000,
      "rowLimit": 10000
     },
     "inputWidgets": {},
     "nuid": "19f7696c-76b4-41ea-b609-77f8aa08479d",
     "showTitle": false,
     "tableResultSettingsMap": {},
     "title": ""
    }
   },
   "outputs": [
    {
     "output_type": "display_data",
     "data": {
      "text/html": [
       "<style scoped>\n",
       "  .table-result-container {\n",
       "    max-height: 300px;\n",
       "    overflow: auto;\n",
       "  }\n",
       "  table, th, td {\n",
       "    border: 1px solid black;\n",
       "    border-collapse: collapse;\n",
       "  }\n",
       "  th, td {\n",
       "    padding: 5px;\n",
       "  }\n",
       "  th {\n",
       "    text-align: left;\n",
       "  }\n",
       "</style><div class='table-result-container'><table class='table-result'><thead style='background-color: white'><tr><th>name</th></tr></thead><tbody><tr><td>Wilhuff Tarkin</td></tr><tr><td>Boba Fett</td></tr><tr><td>Mon Mothma</td></tr><tr><td>Arvel Crynyd</td></tr><tr><td>Finis Valorum</td></tr><tr><td>Rugor Nass</td></tr><tr><td>Ric Olié</td></tr><tr><td>Watto</td></tr><tr><td>Quarsh Panaka</td></tr><tr><td>Shmi Skywalker</td></tr><tr><td>Bib Fortuna</td></tr><tr><td>Gasgano</td></tr><tr><td>Eeth Koth</td></tr><tr><td>Saesee Tiin</td></tr><tr><td>Yarael Poof</td></tr><tr><td>Mas Amedda</td></tr><tr><td>Cordé</td></tr><tr><td>Cliegg Lars</td></tr><tr><td>Luminara Unduli</td></tr><tr><td>Dormé</td></tr><tr><td>Bail Prestor Organa</td></tr><tr><td>Taun We</td></tr><tr><td>Jocasta Nu</td></tr><tr><td>R4-P17</td></tr><tr><td>San Hill</td></tr><tr><td>Finn</td></tr><tr><td>Rey</td></tr><tr><td>Poe Dameron</td></tr><tr><td>BB8</td></tr><tr><td>Captain Phasma</td></tr></tbody></table></div>"
      ]
     },
     "metadata": {
      "application/vnd.databricks.v1+output": {
       "addedWidgets": {},
       "aggData": [],
       "aggError": "",
       "aggOverflow": false,
       "aggSchema": [],
       "aggSeriesLimitReached": false,
       "aggType": "",
       "arguments": {},
       "columnCustomDisplayInfos": {},
       "data": [
        [
         "Wilhuff Tarkin"
        ],
        [
         "Boba Fett"
        ],
        [
         "Mon Mothma"
        ],
        [
         "Arvel Crynyd"
        ],
        [
         "Finis Valorum"
        ],
        [
         "Rugor Nass"
        ],
        [
         "Ric Olié"
        ],
        [
         "Watto"
        ],
        [
         "Quarsh Panaka"
        ],
        [
         "Shmi Skywalker"
        ],
        [
         "Bib Fortuna"
        ],
        [
         "Gasgano"
        ],
        [
         "Eeth Koth"
        ],
        [
         "Saesee Tiin"
        ],
        [
         "Yarael Poof"
        ],
        [
         "Mas Amedda"
        ],
        [
         "Cordé"
        ],
        [
         "Cliegg Lars"
        ],
        [
         "Luminara Unduli"
        ],
        [
         "Dormé"
        ],
        [
         "Bail Prestor Organa"
        ],
        [
         "Taun We"
        ],
        [
         "Jocasta Nu"
        ],
        [
         "R4-P17"
        ],
        [
         "San Hill"
        ],
        [
         "Finn"
        ],
        [
         "Rey"
        ],
        [
         "Poe Dameron"
        ],
        [
         "BB8"
        ],
        [
         "Captain Phasma"
        ]
       ],
       "datasetInfos": [],
       "dbfsResultPath": null,
       "isJsonSchema": true,
       "metadata": {},
       "overflow": false,
       "plotOptions": {
        "customPlotOptions": {},
        "displayType": "table",
        "pivotAggregation": null,
        "pivotColumns": null,
        "xColumns": null,
        "yColumns": null
       },
       "removedWidgets": [],
       "schema": [
        {
         "metadata": "{}",
         "name": "name",
         "type": "\"string\""
        }
       ],
       "type": "table"
      }
     },
     "output_type": "display_data"
    }
   ],
   "source": [
    "#Identify characters who have missing values in either mass or homeworld.\n",
    "\n",
    "s5 = df.filter(isnull(col('mass')) | isnull(col('homeworld'))).select(col('name')).display()"
   ]
  },
  {
   "cell_type": "code",
   "execution_count": 0,
   "metadata": {
    "application/vnd.databricks.v1+cell": {
     "cellMetadata": {
      "byteLimit": 2048000,
      "rowLimit": 10000
     },
     "inputWidgets": {},
     "nuid": "7c3dee28-ed6d-4edc-a04f-2a7580b12e0b",
     "showTitle": false,
     "tableResultSettingsMap": {},
     "title": ""
    }
   },
   "outputs": [
    {
     "output_type": "stream",
     "name": "stdout",
     "output_type": "stream",
     "text": [
      "+-----------+------------+----+\n|       name|Total Height|Rank|\n+-----------+------------+----+\n|Yarael Poof|         264|   1|\n|    Tarfful|         234|   2|\n|    Lama Su|         229|   3|\n+-----------+------------+----+\n\n"
     ]
    }
   ],
   "source": [
    "#Find the three tallest characters, sorted in descending order.\n",
    "\n",
    "# Group by name and sum the height\n",
    "df_grouped = df.groupBy(\"name\").agg(sum(\"height\").alias(\"Total Height\"))\n",
    "\n",
    "# Define window spec to rank characters by total height\n",
    "window_spec = Window.orderBy(col(\"Total Height\").desc())\n",
    "\n",
    "# Apply dense_rank() to rank them\n",
    "df_ranked = df_grouped.withColumn(\"Rank\", dense_rank().over(window_spec))\n",
    "\n",
    "# Select top 3 characters by height\n",
    "df_top3 = df_ranked.filter(col(\"Rank\") <= 3)\n",
    "\n",
    "df_top3.show()"
   ]
  },
  {
   "cell_type": "code",
   "execution_count": 0,
   "metadata": {
    "application/vnd.databricks.v1+cell": {
     "cellMetadata": {
      "byteLimit": 2048000,
      "rowLimit": 10000
     },
     "inputWidgets": {},
     "nuid": "7d106210-4df8-4ea6-b344-d82f8f44f985",
     "showTitle": false,
     "tableResultSettingsMap": {},
     "title": ""
    }
   },
   "outputs": [
    {
     "output_type": "stream",
     "name": "stdout",
     "output_type": "stream",
     "text": [
      "root\n |-- name: string (nullable = true)\n |-- height: integer (nullable = true)\n |-- mass: integer (nullable = true)\n |-- hair_color: string (nullable = true)\n |-- skin_color: string (nullable = true)\n |-- eye_color: string (nullable = true)\n |-- birth_year: integer (nullable = true)\n |-- sex: string (nullable = true)\n |-- gender: string (nullable = true)\n |-- homeworld: string (nullable = true)\n |-- species: string (nullable = true)\n |-- films: string (nullable = true)\n |-- vehicles: string (nullable = true)\n |-- starships: string (nullable = true)\n\n"
     ]
    },
    {
     "output_type": "display_data",
     "data": {
      "text/html": [
       "<style scoped>\n",
       "  .table-result-container {\n",
       "    max-height: 300px;\n",
       "    overflow: auto;\n",
       "  }\n",
       "  table, th, td {\n",
       "    border: 1px solid black;\n",
       "    border-collapse: collapse;\n",
       "  }\n",
       "  th, td {\n",
       "    padding: 5px;\n",
       "  }\n",
       "  th {\n",
       "    text-align: left;\n",
       "  }\n",
       "</style><div class='table-result-container'><table class='table-result'><thead style='background-color: white'><tr><th>species</th><th>avg(height)</th></tr></thead><tbody><tr><td>Clawdite</td><td>168.0</td></tr><tr><td>Sullustan</td><td>160.0</td></tr><tr><td>Besalisk</td><td>198.0</td></tr><tr><td>Ewok</td><td>88.0</td></tr><tr><td>Dug</td><td>112.0</td></tr><tr><td>NA</td><td>175.0</td></tr><tr><td>Yoda's species</td><td>66.0</td></tr><tr><td>Mirialan</td><td>168.0</td></tr><tr><td>Skakoan</td><td>193.0</td></tr><tr><td>Pau'an</td><td>206.0</td></tr><tr><td>Toong</td><td>163.0</td></tr><tr><td>Tholothian</td><td>184.0</td></tr><tr><td>Rodian</td><td>173.0</td></tr><tr><td>Chagrian</td><td>196.0</td></tr><tr><td>Togruta</td><td>178.0</td></tr><tr><td>Xexto</td><td>122.0</td></tr><tr><td>Kel Dor</td><td>188.0</td></tr><tr><td>Neimodian</td><td>191.0</td></tr><tr><td>Zabrak</td><td>173.0</td></tr><tr><td>Kaleesh</td><td>216.0</td></tr><tr><td>Mon Calamari</td><td>180.0</td></tr><tr><td>Twi'lek</td><td>179.0</td></tr><tr><td>Cerean</td><td>198.0</td></tr><tr><td>Geonosian</td><td>183.0</td></tr><tr><td>Wookiee</td><td>231.0</td></tr><tr><td>Iktotchi</td><td>188.0</td></tr><tr><td>Trandoshan</td><td>190.0</td></tr><tr><td>Aleena</td><td>79.0</td></tr><tr><td>Muun</td><td>191.0</td></tr><tr><td>Nautolan</td><td>196.0</td></tr><tr><td>Gungan</td><td>208.66666666666666</td></tr><tr><td>Droid</td><td>131.2</td></tr><tr><td>Kaminoan</td><td>221.0</td></tr><tr><td>Quermian</td><td>264.0</td></tr><tr><td>Hutt</td><td>175.0</td></tr><tr><td>Toydarian</td><td>137.0</td></tr><tr><td>Vulptereen</td><td>94.0</td></tr><tr><td>Human</td><td>178.0</td></tr></tbody></table></div>"
      ]
     },
     "metadata": {
      "application/vnd.databricks.v1+output": {
       "addedWidgets": {},
       "aggData": [],
       "aggError": "",
       "aggOverflow": false,
       "aggSchema": [],
       "aggSeriesLimitReached": false,
       "aggType": "",
       "arguments": {},
       "columnCustomDisplayInfos": {},
       "data": [
        [
         "Clawdite",
         168.0
        ],
        [
         "Sullustan",
         160.0
        ],
        [
         "Besalisk",
         198.0
        ],
        [
         "Ewok",
         88.0
        ],
        [
         "Dug",
         112.0
        ],
        [
         "NA",
         175.0
        ],
        [
         "Yoda's species",
         66.0
        ],
        [
         "Mirialan",
         168.0
        ],
        [
         "Skakoan",
         193.0
        ],
        [
         "Pau'an",
         206.0
        ],
        [
         "Toong",
         163.0
        ],
        [
         "Tholothian",
         184.0
        ],
        [
         "Rodian",
         173.0
        ],
        [
         "Chagrian",
         196.0
        ],
        [
         "Togruta",
         178.0
        ],
        [
         "Xexto",
         122.0
        ],
        [
         "Kel Dor",
         188.0
        ],
        [
         "Neimodian",
         191.0
        ],
        [
         "Zabrak",
         173.0
        ],
        [
         "Kaleesh",
         216.0
        ],
        [
         "Mon Calamari",
         180.0
        ],
        [
         "Twi'lek",
         179.0
        ],
        [
         "Cerean",
         198.0
        ],
        [
         "Geonosian",
         183.0
        ],
        [
         "Wookiee",
         231.0
        ],
        [
         "Iktotchi",
         188.0
        ],
        [
         "Trandoshan",
         190.0
        ],
        [
         "Aleena",
         79.0
        ],
        [
         "Muun",
         191.0
        ],
        [
         "Nautolan",
         196.0
        ],
        [
         "Gungan",
         208.66666666666666
        ],
        [
         "Droid",
         131.2
        ],
        [
         "Kaminoan",
         221.0
        ],
        [
         "Quermian",
         264.0
        ],
        [
         "Hutt",
         175.0
        ],
        [
         "Toydarian",
         137.0
        ],
        [
         "Vulptereen",
         94.0
        ],
        [
         "Human",
         178.0
        ]
       ],
       "datasetInfos": [],
       "dbfsResultPath": null,
       "isJsonSchema": true,
       "metadata": {},
       "overflow": false,
       "plotOptions": {
        "customPlotOptions": {},
        "displayType": "table",
        "pivotAggregation": null,
        "pivotColumns": null,
        "xColumns": null,
        "yColumns": null
       },
       "removedWidgets": [],
       "schema": [
        {
         "metadata": "{}",
         "name": "species",
         "type": "\"string\""
        },
        {
         "metadata": "{}",
         "name": "avg(height)",
         "type": "\"double\""
        }
       ],
       "type": "table"
      }
     },
     "output_type": "display_data"
    }
   ],
   "source": [
    "#Calculate the average mass of characters grouped by species.\n",
    "df.printSchema()\n",
    "s7 = df.filter(col('height').isNotNull()).groupBy('species').agg(avg('height')).alias('Height').display()"
   ]
  },
  {
   "cell_type": "code",
   "execution_count": 0,
   "metadata": {
    "application/vnd.databricks.v1+cell": {
     "cellMetadata": {
      "byteLimit": 2048000,
      "rowLimit": 10000
     },
     "inputWidgets": {},
     "nuid": "3c8ebfc2-a736-49c4-bd19-b4e49b6b5172",
     "showTitle": false,
     "tableResultSettingsMap": {},
     "title": ""
    }
   },
   "outputs": [
    {
     "output_type": "display_data",
     "data": {
      "text/html": [
       "<style scoped>\n",
       "  .table-result-container {\n",
       "    max-height: 300px;\n",
       "    overflow: auto;\n",
       "  }\n",
       "  table, th, td {\n",
       "    border: 1px solid black;\n",
       "    border-collapse: collapse;\n",
       "  }\n",
       "  th, td {\n",
       "    padding: 5px;\n",
       "  }\n",
       "  th {\n",
       "    text-align: left;\n",
       "  }\n",
       "</style><div class='table-result-container'><table class='table-result'><thead style='background-color: white'><tr><th>homeworld</th><th>count</th></tr></thead><tbody><tr><td>Naboo</td><td>11</td></tr><tr><td>NA</td><td>10</td></tr><tr><td>Tatooine</td><td>10</td></tr><tr><td>Alderaan</td><td>3</td></tr><tr><td>Coruscant</td><td>3</td></tr><tr><td>Kamino</td><td>3</td></tr><tr><td>Kashyyyk</td><td>2</td></tr><tr><td>Ryloth</td><td>2</td></tr><tr><td>Mirial</td><td>2</td></tr><tr><td>Corellia</td><td>2</td></tr><tr><td>Skako</td><td>1</td></tr><tr><td>Eriadu</td><td>1</td></tr><tr><td>Utapau</td><td>1</td></tr><tr><td>Geonosis</td><td>1</td></tr><tr><td>Aleen Minor</td><td>1</td></tr><tr><td>Serenno</td><td>1</td></tr><tr><td>Shili</td><td>1</td></tr><tr><td>Umbara</td><td>1</td></tr><tr><td>Chandrila</td><td>1</td></tr><tr><td>Endor</td><td>1</td></tr><tr><td>Mon Cala</td><td>1</td></tr><tr><td>Champala</td><td>1</td></tr><tr><td>Muunilinst</td><td>1</td></tr><tr><td>Sullust</td><td>1</td></tr><tr><td>Iridonia</td><td>1</td></tr><tr><td>Iktotch</td><td>1</td></tr><tr><td>Haruun Kal</td><td>1</td></tr><tr><td>Dathomir</td><td>1</td></tr><tr><td>Cerea</td><td>1</td></tr><tr><td>Kalee</td><td>1</td></tr><tr><td>Cato Neimoidia</td><td>1</td></tr><tr><td>Glee Anselm</td><td>1</td></tr><tr><td>Trandosha</td><td>1</td></tr><tr><td>Toydaria</td><td>1</td></tr><tr><td>Tund</td><td>1</td></tr><tr><td>Zolan</td><td>1</td></tr><tr><td>Ojom</td><td>1</td></tr><tr><td>Rodia</td><td>1</td></tr><tr><td>Nal Hutta</td><td>1</td></tr><tr><td>Concord Dawn</td><td>1</td></tr><tr><td>Malastare</td><td>1</td></tr><tr><td>Bespin</td><td>1</td></tr><tr><td>Vulpter</td><td>1</td></tr><tr><td>Socorro</td><td>1</td></tr><tr><td>Stewjon</td><td>1</td></tr><tr><td>Bestine IV</td><td>1</td></tr><tr><td>Quermia</td><td>1</td></tr><tr><td>Dorin</td><td>1</td></tr><tr><td>Troiken</td><td>1</td></tr></tbody></table></div>"
      ]
     },
     "metadata": {
      "application/vnd.databricks.v1+output": {
       "addedWidgets": {},
       "aggData": [],
       "aggError": "",
       "aggOverflow": false,
       "aggSchema": [],
       "aggSeriesLimitReached": false,
       "aggType": "",
       "arguments": {},
       "columnCustomDisplayInfos": {},
       "data": [
        [
         "Naboo",
         11
        ],
        [
         "NA",
         10
        ],
        [
         "Tatooine",
         10
        ],
        [
         "Alderaan",
         3
        ],
        [
         "Coruscant",
         3
        ],
        [
         "Kamino",
         3
        ],
        [
         "Kashyyyk",
         2
        ],
        [
         "Ryloth",
         2
        ],
        [
         "Mirial",
         2
        ],
        [
         "Corellia",
         2
        ],
        [
         "Skako",
         1
        ],
        [
         "Eriadu",
         1
        ],
        [
         "Utapau",
         1
        ],
        [
         "Geonosis",
         1
        ],
        [
         "Aleen Minor",
         1
        ],
        [
         "Serenno",
         1
        ],
        [
         "Shili",
         1
        ],
        [
         "Umbara",
         1
        ],
        [
         "Chandrila",
         1
        ],
        [
         "Endor",
         1
        ],
        [
         "Mon Cala",
         1
        ],
        [
         "Champala",
         1
        ],
        [
         "Muunilinst",
         1
        ],
        [
         "Sullust",
         1
        ],
        [
         "Iridonia",
         1
        ],
        [
         "Iktotch",
         1
        ],
        [
         "Haruun Kal",
         1
        ],
        [
         "Dathomir",
         1
        ],
        [
         "Cerea",
         1
        ],
        [
         "Kalee",
         1
        ],
        [
         "Cato Neimoidia",
         1
        ],
        [
         "Glee Anselm",
         1
        ],
        [
         "Trandosha",
         1
        ],
        [
         "Toydaria",
         1
        ],
        [
         "Tund",
         1
        ],
        [
         "Zolan",
         1
        ],
        [
         "Ojom",
         1
        ],
        [
         "Rodia",
         1
        ],
        [
         "Nal Hutta",
         1
        ],
        [
         "Concord Dawn",
         1
        ],
        [
         "Malastare",
         1
        ],
        [
         "Bespin",
         1
        ],
        [
         "Vulpter",
         1
        ],
        [
         "Socorro",
         1
        ],
        [
         "Stewjon",
         1
        ],
        [
         "Bestine IV",
         1
        ],
        [
         "Quermia",
         1
        ],
        [
         "Dorin",
         1
        ],
        [
         "Troiken",
         1
        ]
       ],
       "datasetInfos": [],
       "dbfsResultPath": null,
       "isJsonSchema": true,
       "metadata": {},
       "overflow": false,
       "plotOptions": {
        "customPlotOptions": {},
        "displayType": "table",
        "pivotAggregation": null,
        "pivotColumns": null,
        "xColumns": null,
        "yColumns": null
       },
       "removedWidgets": [],
       "schema": [
        {
         "metadata": "{}",
         "name": "homeworld",
         "type": "\"string\""
        },
        {
         "metadata": "{}",
         "name": "count",
         "type": "\"long\""
        }
       ],
       "type": "table"
      }
     },
     "output_type": "display_data"
    }
   ],
   "source": [
    "#Count how many characters belong to each homeworld\n",
    "\n",
    "s8 = df.groupBy('homeworld').count().alias(\"Count\").orderBy(col(\"count\").desc()).display()"
   ]
  },
  {
   "cell_type": "code",
   "execution_count": 0,
   "metadata": {
    "application/vnd.databricks.v1+cell": {
     "cellMetadata": {
      "byteLimit": 2048000,
      "rowLimit": 10000
     },
     "inputWidgets": {},
     "nuid": "e813214b-c95d-4b23-8604-ed0411e697ac",
     "showTitle": false,
     "tableResultSettingsMap": {},
     "title": ""
    }
   },
   "outputs": [
    {
     "output_type": "display_data",
     "data": {
      "text/html": [
       "<style scoped>\n",
       "  .table-result-container {\n",
       "    max-height: 300px;\n",
       "    overflow: auto;\n",
       "  }\n",
       "  table, th, td {\n",
       "    border: 1px solid black;\n",
       "    border-collapse: collapse;\n",
       "  }\n",
       "  th, td {\n",
       "    padding: 5px;\n",
       "  }\n",
       "  th {\n",
       "    text-align: left;\n",
       "  }\n",
       "</style><div class='table-result-container'><table class='table-result'><thead style='background-color: white'><tr><th>eye_color</th><th>count</th></tr></thead><tbody><tr><td>brown</td><td>21</td></tr></tbody></table></div>"
      ]
     },
     "metadata": {
      "application/vnd.databricks.v1+output": {
       "addedWidgets": {},
       "aggData": [],
       "aggError": "",
       "aggOverflow": false,
       "aggSchema": [],
       "aggSeriesLimitReached": false,
       "aggType": "",
       "arguments": {},
       "columnCustomDisplayInfos": {},
       "data": [
        [
         "brown",
         21
        ]
       ],
       "datasetInfos": [],
       "dbfsResultPath": null,
       "isJsonSchema": true,
       "metadata": {},
       "overflow": false,
       "plotOptions": {
        "customPlotOptions": {},
        "displayType": "table",
        "pivotAggregation": null,
        "pivotColumns": null,
        "xColumns": null,
        "yColumns": null
       },
       "removedWidgets": [],
       "schema": [
        {
         "metadata": "{}",
         "name": "eye_color",
         "type": "\"string\""
        },
        {
         "metadata": "{}",
         "name": "count",
         "type": "\"long\""
        }
       ],
       "type": "table"
      }
     },
     "output_type": "display_data"
    }
   ],
   "source": [
    "#Identify the most common eye color among characters.\n",
    "s9 = df.groupBy(col('eye_color')).count().orderBy(col(\"count\").desc()).limit(1).display()"
   ]
  },
  {
   "cell_type": "code",
   "execution_count": 0,
   "metadata": {
    "application/vnd.databricks.v1+cell": {
     "cellMetadata": {
      "byteLimit": 2048000,
      "rowLimit": 10000
     },
     "inputWidgets": {},
     "nuid": "e53ee658-171e-4026-a41f-3de27151aee3",
     "showTitle": false,
     "tableResultSettingsMap": {},
     "title": ""
    }
   },
   "outputs": [
    {
     "output_type": "display_data",
     "data": {
      "text/html": [
       "<style scoped>\n",
       "  .table-result-container {\n",
       "    max-height: 300px;\n",
       "    overflow: auto;\n",
       "  }\n",
       "  table, th, td {\n",
       "    border: 1px solid black;\n",
       "    border-collapse: collapse;\n",
       "  }\n",
       "  th, td {\n",
       "    padding: 5px;\n",
       "  }\n",
       "  th {\n",
       "    text-align: left;\n",
       "  }\n",
       "</style><div class='table-result-container'><table class='table-result'><thead style='background-color: white'><tr><th>species</th><th>name</th><th>height</th><th>Rank</th></tr></thead><tbody><tr><td>Aleena</td><td>Ratts Tyerel</td><td>79</td><td>1</td></tr><tr><td>Besalisk</td><td>Dexter Jettster</td><td>198</td><td>1</td></tr><tr><td>Cerean</td><td>Ki-Adi-Mundi</td><td>198</td><td>1</td></tr><tr><td>Chagrian</td><td>Mas Amedda</td><td>196</td><td>1</td></tr><tr><td>Clawdite</td><td>Zam Wesell</td><td>168</td><td>1</td></tr><tr><td>Droid</td><td>IG-88</td><td>200</td><td>1</td></tr><tr><td>Droid</td><td>C-3PO</td><td>167</td><td>2</td></tr><tr><td>Droid</td><td>R5-D4</td><td>97</td><td>3</td></tr><tr><td>Droid</td><td>R2-D2</td><td>96</td><td>4</td></tr><tr><td>Droid</td><td>R4-P17</td><td>96</td><td>4</td></tr><tr><td>Dug</td><td>Sebulba</td><td>112</td><td>1</td></tr><tr><td>Ewok</td><td>Wicket Systri Warrick</td><td>88</td><td>1</td></tr><tr><td>Geonosian</td><td>Poggle the Lesser</td><td>183</td><td>1</td></tr><tr><td>Gungan</td><td>Roos Tarpals</td><td>224</td><td>1</td></tr><tr><td>Gungan</td><td>Rugor Nass</td><td>206</td><td>2</td></tr><tr><td>Gungan</td><td>Jar Jar Binks</td><td>196</td><td>3</td></tr><tr><td>Human</td><td>Darth Vader</td><td>202</td><td>1</td></tr><tr><td>Human</td><td>Qui-Gon Jinn</td><td>193</td><td>2</td></tr><tr><td>Human</td><td>Dooku</td><td>193</td><td>2</td></tr><tr><td>Human</td><td>Bail Prestor Organa</td><td>191</td><td>3</td></tr><tr><td>Human</td><td>Anakin Skywalker</td><td>188</td><td>4</td></tr><tr><td>Human</td><td>Mace Windu</td><td>188</td><td>4</td></tr><tr><td>Human</td><td>Raymus Antilles</td><td>188</td><td>4</td></tr><tr><td>Human</td><td>Padmé Amidala</td><td>185</td><td>5</td></tr><tr><td>Human</td><td>Biggs Darklighter</td><td>183</td><td>6</td></tr><tr><td>Human</td><td>Boba Fett</td><td>183</td><td>6</td></tr><tr><td>Human</td><td>Ric Olié</td><td>183</td><td>6</td></tr><tr><td>Human</td><td>Quarsh Panaka</td><td>183</td><td>6</td></tr><tr><td>Human</td><td>Cliegg Lars</td><td>183</td><td>6</td></tr><tr><td>Human</td><td>Jango Fett</td><td>183</td><td>6</td></tr><tr><td>Human</td><td>Obi-Wan Kenobi</td><td>182</td><td>7</td></tr><tr><td>Human</td><td>Wilhuff Tarkin</td><td>180</td><td>8</td></tr><tr><td>Human</td><td>Han Solo</td><td>180</td><td>8</td></tr><tr><td>Human</td><td>Owen Lars</td><td>178</td><td>9</td></tr><tr><td>Human</td><td>Lando Calrissian</td><td>177</td><td>10</td></tr><tr><td>Human</td><td>Lobot</td><td>175</td><td>11</td></tr><tr><td>Human</td><td>Luke Skywalker</td><td>172</td><td>12</td></tr><tr><td>Human</td><td>Wedge Antilles</td><td>170</td><td>13</td></tr><tr><td>Human</td><td>Palpatine</td><td>170</td><td>13</td></tr><tr><td>Human</td><td>Finis Valorum</td><td>170</td><td>13</td></tr><tr><td>Human</td><td>Jocasta Nu</td><td>167</td><td>14</td></tr><tr><td>Human</td><td>Beru Whitesun Lars</td><td>165</td><td>15</td></tr><tr><td>Human</td><td>Dormé</td><td>165</td><td>15</td></tr><tr><td>Human</td><td>Shmi Skywalker</td><td>163</td><td>16</td></tr><tr><td>Human</td><td>Leia Organa</td><td>150</td><td>17</td></tr><tr><td>Human</td><td>Mon Mothma</td><td>150</td><td>17</td></tr><tr><td>Hutt</td><td>Jabba Desilijic Tiure</td><td>175</td><td>1</td></tr><tr><td>Iktotchi</td><td>Saesee Tiin</td><td>188</td><td>1</td></tr><tr><td>Kaleesh</td><td>Grievous</td><td>216</td><td>1</td></tr><tr><td>Kaminoan</td><td>Lama Su</td><td>229</td><td>1</td></tr><tr><td>Kaminoan</td><td>Taun We</td><td>213</td><td>2</td></tr><tr><td>Kel Dor</td><td>Plo Koon</td><td>188</td><td>1</td></tr><tr><td>Mirialan</td><td>Luminara Unduli</td><td>170</td><td>1</td></tr><tr><td>Mirialan</td><td>Barriss Offee</td><td>166</td><td>2</td></tr><tr><td>Mon Calamari</td><td>Ackbar</td><td>180</td><td>1</td></tr><tr><td>Muun</td><td>San Hill</td><td>191</td><td>1</td></tr><tr><td>NA</td><td>Gregar Typho</td><td>185</td><td>1</td></tr><tr><td>NA</td><td>Jek Tono Porkins</td><td>180</td><td>2</td></tr><tr><td>NA</td><td>Sly Moore</td><td>178</td><td>3</td></tr><tr><td>NA</td><td>Cordé</td><td>157</td><td>4</td></tr><tr><td>Nautolan</td><td>Kit Fisto</td><td>196</td><td>1</td></tr><tr><td>Neimodian</td><td>Nute Gunray</td><td>191</td><td>1</td></tr><tr><td>Pau'an</td><td>Tion Medon</td><td>206</td><td>1</td></tr><tr><td>Quermian</td><td>Yarael Poof</td><td>264</td><td>1</td></tr><tr><td>Rodian</td><td>Greedo</td><td>173</td><td>1</td></tr><tr><td>Skakoan</td><td>Wat Tambor</td><td>193</td><td>1</td></tr><tr><td>Sullustan</td><td>Nien Nunb</td><td>160</td><td>1</td></tr><tr><td>Tholothian</td><td>Adi Gallia</td><td>184</td><td>1</td></tr><tr><td>Togruta</td><td>Shaak Ti</td><td>178</td><td>1</td></tr><tr><td>Toong</td><td>Ben Quadinaros</td><td>163</td><td>1</td></tr><tr><td>Toydarian</td><td>Watto</td><td>137</td><td>1</td></tr><tr><td>Trandoshan</td><td>Bossk</td><td>190</td><td>1</td></tr><tr><td>Twi'lek</td><td>Bib Fortuna</td><td>180</td><td>1</td></tr><tr><td>Twi'lek</td><td>Ayla Secura</td><td>178</td><td>2</td></tr><tr><td>Vulptereen</td><td>Dud Bolt</td><td>94</td><td>1</td></tr><tr><td>Wookiee</td><td>Tarfful</td><td>234</td><td>1</td></tr><tr><td>Wookiee</td><td>Chewbacca</td><td>228</td><td>2</td></tr><tr><td>Xexto</td><td>Gasgano</td><td>122</td><td>1</td></tr><tr><td>Yoda's species</td><td>Yoda</td><td>66</td><td>1</td></tr><tr><td>Zabrak</td><td>Darth Maul</td><td>175</td><td>1</td></tr><tr><td>Zabrak</td><td>Eeth Koth</td><td>171</td><td>2</td></tr></tbody></table></div>"
      ]
     },
     "metadata": {
      "application/vnd.databricks.v1+output": {
       "addedWidgets": {},
       "aggData": [],
       "aggError": "",
       "aggOverflow": false,
       "aggSchema": [],
       "aggSeriesLimitReached": false,
       "aggType": "",
       "arguments": {},
       "columnCustomDisplayInfos": {},
       "data": [
        [
         "Aleena",
         "Ratts Tyerel",
         79,
         1
        ],
        [
         "Besalisk",
         "Dexter Jettster",
         198,
         1
        ],
        [
         "Cerean",
         "Ki-Adi-Mundi",
         198,
         1
        ],
        [
         "Chagrian",
         "Mas Amedda",
         196,
         1
        ],
        [
         "Clawdite",
         "Zam Wesell",
         168,
         1
        ],
        [
         "Droid",
         "IG-88",
         200,
         1
        ],
        [
         "Droid",
         "C-3PO",
         167,
         2
        ],
        [
         "Droid",
         "R5-D4",
         97,
         3
        ],
        [
         "Droid",
         "R2-D2",
         96,
         4
        ],
        [
         "Droid",
         "R4-P17",
         96,
         4
        ],
        [
         "Dug",
         "Sebulba",
         112,
         1
        ],
        [
         "Ewok",
         "Wicket Systri Warrick",
         88,
         1
        ],
        [
         "Geonosian",
         "Poggle the Lesser",
         183,
         1
        ],
        [
         "Gungan",
         "Roos Tarpals",
         224,
         1
        ],
        [
         "Gungan",
         "Rugor Nass",
         206,
         2
        ],
        [
         "Gungan",
         "Jar Jar Binks",
         196,
         3
        ],
        [
         "Human",
         "Darth Vader",
         202,
         1
        ],
        [
         "Human",
         "Qui-Gon Jinn",
         193,
         2
        ],
        [
         "Human",
         "Dooku",
         193,
         2
        ],
        [
         "Human",
         "Bail Prestor Organa",
         191,
         3
        ],
        [
         "Human",
         "Anakin Skywalker",
         188,
         4
        ],
        [
         "Human",
         "Mace Windu",
         188,
         4
        ],
        [
         "Human",
         "Raymus Antilles",
         188,
         4
        ],
        [
         "Human",
         "Padmé Amidala",
         185,
         5
        ],
        [
         "Human",
         "Biggs Darklighter",
         183,
         6
        ],
        [
         "Human",
         "Boba Fett",
         183,
         6
        ],
        [
         "Human",
         "Ric Olié",
         183,
         6
        ],
        [
         "Human",
         "Quarsh Panaka",
         183,
         6
        ],
        [
         "Human",
         "Cliegg Lars",
         183,
         6
        ],
        [
         "Human",
         "Jango Fett",
         183,
         6
        ],
        [
         "Human",
         "Obi-Wan Kenobi",
         182,
         7
        ],
        [
         "Human",
         "Wilhuff Tarkin",
         180,
         8
        ],
        [
         "Human",
         "Han Solo",
         180,
         8
        ],
        [
         "Human",
         "Owen Lars",
         178,
         9
        ],
        [
         "Human",
         "Lando Calrissian",
         177,
         10
        ],
        [
         "Human",
         "Lobot",
         175,
         11
        ],
        [
         "Human",
         "Luke Skywalker",
         172,
         12
        ],
        [
         "Human",
         "Wedge Antilles",
         170,
         13
        ],
        [
         "Human",
         "Palpatine",
         170,
         13
        ],
        [
         "Human",
         "Finis Valorum",
         170,
         13
        ],
        [
         "Human",
         "Jocasta Nu",
         167,
         14
        ],
        [
         "Human",
         "Beru Whitesun Lars",
         165,
         15
        ],
        [
         "Human",
         "Dormé",
         165,
         15
        ],
        [
         "Human",
         "Shmi Skywalker",
         163,
         16
        ],
        [
         "Human",
         "Leia Organa",
         150,
         17
        ],
        [
         "Human",
         "Mon Mothma",
         150,
         17
        ],
        [
         "Hutt",
         "Jabba Desilijic Tiure",
         175,
         1
        ],
        [
         "Iktotchi",
         "Saesee Tiin",
         188,
         1
        ],
        [
         "Kaleesh",
         "Grievous",
         216,
         1
        ],
        [
         "Kaminoan",
         "Lama Su",
         229,
         1
        ],
        [
         "Kaminoan",
         "Taun We",
         213,
         2
        ],
        [
         "Kel Dor",
         "Plo Koon",
         188,
         1
        ],
        [
         "Mirialan",
         "Luminara Unduli",
         170,
         1
        ],
        [
         "Mirialan",
         "Barriss Offee",
         166,
         2
        ],
        [
         "Mon Calamari",
         "Ackbar",
         180,
         1
        ],
        [
         "Muun",
         "San Hill",
         191,
         1
        ],
        [
         "NA",
         "Gregar Typho",
         185,
         1
        ],
        [
         "NA",
         "Jek Tono Porkins",
         180,
         2
        ],
        [
         "NA",
         "Sly Moore",
         178,
         3
        ],
        [
         "NA",
         "Cordé",
         157,
         4
        ],
        [
         "Nautolan",
         "Kit Fisto",
         196,
         1
        ],
        [
         "Neimodian",
         "Nute Gunray",
         191,
         1
        ],
        [
         "Pau'an",
         "Tion Medon",
         206,
         1
        ],
        [
         "Quermian",
         "Yarael Poof",
         264,
         1
        ],
        [
         "Rodian",
         "Greedo",
         173,
         1
        ],
        [
         "Skakoan",
         "Wat Tambor",
         193,
         1
        ],
        [
         "Sullustan",
         "Nien Nunb",
         160,
         1
        ],
        [
         "Tholothian",
         "Adi Gallia",
         184,
         1
        ],
        [
         "Togruta",
         "Shaak Ti",
         178,
         1
        ],
        [
         "Toong",
         "Ben Quadinaros",
         163,
         1
        ],
        [
         "Toydarian",
         "Watto",
         137,
         1
        ],
        [
         "Trandoshan",
         "Bossk",
         190,
         1
        ],
        [
         "Twi'lek",
         "Bib Fortuna",
         180,
         1
        ],
        [
         "Twi'lek",
         "Ayla Secura",
         178,
         2
        ],
        [
         "Vulptereen",
         "Dud Bolt",
         94,
         1
        ],
        [
         "Wookiee",
         "Tarfful",
         234,
         1
        ],
        [
         "Wookiee",
         "Chewbacca",
         228,
         2
        ],
        [
         "Xexto",
         "Gasgano",
         122,
         1
        ],
        [
         "Yoda's species",
         "Yoda",
         66,
         1
        ],
        [
         "Zabrak",
         "Darth Maul",
         175,
         1
        ],
        [
         "Zabrak",
         "Eeth Koth",
         171,
         2
        ]
       ],
       "datasetInfos": [],
       "dbfsResultPath": null,
       "isJsonSchema": true,
       "metadata": {},
       "overflow": false,
       "plotOptions": {
        "customPlotOptions": {},
        "displayType": "table",
        "pivotAggregation": null,
        "pivotColumns": null,
        "xColumns": null,
        "yColumns": null
       },
       "removedWidgets": [],
       "schema": [
        {
         "metadata": "{}",
         "name": "species",
         "type": "\"string\""
        },
        {
         "metadata": "{}",
         "name": "name",
         "type": "\"string\""
        },
        {
         "metadata": "{}",
         "name": "height",
         "type": "\"integer\""
        },
        {
         "metadata": "{}",
         "name": "Rank",
         "type": "\"integer\""
        }
       ],
       "type": "table"
      }
     },
     "output_type": "display_data"
    }
   ],
   "source": [
    "#Window Functions & Complex Queries- Rank characters within each species by height using a window function.\n",
    "\n",
    "windowspec = Window.partitionBy(\"species\").orderBy(col(\"height\").desc())\n",
    "\n",
    "s9 = df.withColumn(\"Rank\", dense_rank().over(windowspec)).\n",
    "filter(col('height').isNotNull()).select(col(\"species\"), col(\"name\"), col('height'),col(\"Rank\")).display()\n"
   ]
  },
  {
   "cell_type": "code",
   "execution_count": 0,
   "metadata": {
    "application/vnd.databricks.v1+cell": {
     "cellMetadata": {},
     "inputWidgets": {},
     "nuid": "892b6df7-d921-4109-9570-606778fc86aa",
     "showTitle": false,
     "tableResultSettingsMap": {},
     "title": ""
    }
   },
   "outputs": [],
   "source": []
  }
 ],
 "metadata": {
  "application/vnd.databricks.v1+notebook": {
   "computePreferences": null,
   "dashboards": [],
   "environmentMetadata": null,
   "inputWidgetPreferences": null,
   "language": "python",
   "notebookMetadata": {
    "mostRecentlyExecutedCommandWithImplicitDF": {
     "commandId": 101054788629836,
     "dataframes": [
      "_sqldf"
     ]
    },
    "pythonIndentUnit": 4
   },
   "notebookName": "Star Wars",
   "widgets": {}
  }
 },
 "nbformat": 4,
 "nbformat_minor": 0
}